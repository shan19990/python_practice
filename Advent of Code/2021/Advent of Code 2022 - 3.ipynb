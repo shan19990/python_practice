{
 "cells": [
  {
   "cell_type": "code",
   "execution_count": 1,
   "id": "41919f70",
   "metadata": {},
   "outputs": [],
   "source": [
    "with open(\"Advent of Code 2022 - 3.txt\") as file:\n",
    "    data = file.read()"
   ]
  },
  {
   "cell_type": "code",
   "execution_count": 2,
   "id": "9f9c7c9b",
   "metadata": {},
   "outputs": [
    {
     "data": {
      "text/plain": [
       "'DMwrszrfMzSSCpLpfCCn\\nRMvhZhQqlvhMvRtbvbcPclPlncddppLTdppd\\ntVMQhFtjjWmsFJsmsW\\ntrRtvNhfJhSzzSTFVhQQZQhHGphP\\nCnLMBWLwDMgMcwwdngdHGPVTQGpTHZdGPGpd\\nLLDqcDgwqCMnLWqtvzrzbbtJqPjJ\\nwQQwHNQLmbWQbQRHwHNFBbwqPfjqlzRMGRqzpSfvPlzplM\\nnCtGCZZtsGsrtDMZpfMpSlMlvlZq\\ncJctJCgVJsCJnDTsCthGhGLwBWBbbQmLbgQLQQdWbbbQ\\nZWnNlTNTnhhQQlDNdmmpwrrrqBwjwjZd\\nGzvlVRSfvMVMvGlSpdCCdjmfpmBCdsqB\\nbzlFlLzJWLHHttLL\\nSmzFhVDzrmSrszVDVhSVbhZcCZdfZNcnMfMbZnNN\\nPTTRGqwqTqWRwLgTLTZGnCbZbNddZCCtMcNs\\nsgPqPqgJgWWqjjwgwLLVFBFSVmvmBBrmJJDSvp\\nCBccfSBhcSBddfgtlJmmmwmPRwmh\\nFpTzzGWHWprgDtJlDZDPFR\\nHbbTzWnTrnWtCbQBbQqQbSjf\\nfPHspCjgwZggSvZQ\\nRrNhzFZFcNzFLNLNwQlSlLnv\\nTRFrcDVrrRmrhFRZzVrczqhRpjqjsssCpfHjsCdpsPfpjCMC\\nZBnBTMVTSbGbTVTGbCPgqsgPtHtgCcPtBB\\nldDrmnnNrzhdhfgcsHqcsfCcsCHg\\nzFdrzNdzQNDDhFdWldDrJTbZTbLZJVVVpMVWVnLS\\npLnpQNhBbnWvbsWm\\nFrFwjlTPTdTqqrDZWbvmZbpSgmJWvbgS\\nRqDqRrdGFpGRFrFFdTNzCcHcHLHBzQCcNNGN\\nbvRCtbtCPfSGtCcvCbPNlglqgqlGZMzTgnlZnq\\nhrmWWFspsHWrzNwTnFlTMTwFFn\\nHpjJDWBQmmQdRffbPtSzdJ\\nGpHjFsjMFpCpMWjMGCqWmmqrWQtmthdbDbbD\\nfzgLTJwJPSgJgzSzPfhmqmQhQHzQtbQDrrmq\\nRNlBRwHfRJHLLfHTwLSBppNGvjNMFFCVpVFcvcFC\\nSfQnfSFHfnvMtQQSnHJtMffsdTlZtdZmtllmTlmlRRbBRLDb\\nhrwhWWwqzPrcCzwwzmPlRbdmlQDTPPBLDl\\nCpwCzrwGzNCWrJnMvpMvfJVFvQ\\nrCRPpgSggcpqrhPrCDDTLsMLDSDGLTMGVs\\nHdvzmRWmlHzwvWHvRHRvHJbDFsdMssQQVGMDTMDLVLLFLT\\nJBlBnnWBJlCqZRRqRBpr\\nGtZllZDlfDpGHZtZBGBZpDmzQzzCSVVFHmmmsPCQWWSS\\nJvFJJrwvNNcJTnbrTRNRSCzqwSsVPCPQqmCQszVm\\nJLMnTbLnMgBhDFDf\\nlffDhtgDJzCJNGGTzWTRRnRvBv\\nqpbpdwqZwqZSwMPSqdQcQmTRnWvnBnRBQBtVnTvWmB\\nSccbbwSbZbFPswpSZtgFlClLhgChhhNfJlFj\\nClmCjCJBjwBVwJGjlGNFJlVMHSrfpDpTfrHMcHTppQVrHp\\ndRLZWLvWSHmTccWW\\nggtqzmRZnmhghZhZghntdqsvBbjlbNFFBPwNNJNNCBlwPGBz\\nHZmsFZQpvZsWCZQvWrghGrhtgNzdHddHGh\\nfWSbqWDJVwcSccNzrNhcBtGcgG\\nVqVfTJnbWjqTSqbwDRfRvQvFpFLRpZsssQsCQZ\\nFpFZNfplSTJmbZzddGzhDrWh\\nLqLPPQjLLRMPqvjLLHQrLqrRWdzHnGhdthttGGbbDWhDDdWz\\nsMLMgvRLgscrLrRQvwmTNNfpNplglplfmp\\nMPVBmCmWGWRPPqRhLcnjcvjjcpjMvp\\ntzwrwsJlrldJsrsrTtrzrTtSNnLJSShnjcncvnvqnSFnqN\\nrswrzsbdwDHHbWZqVfWV\\ndVmmMTmBPTrCBRMCqFHSWFFHWzCvCz\\njNqfGsDqtsjGjQjDlcJFFFznFtzznvtFpFFp\\nfNNhgsDcfNflqchVRdgVrRPRdVTRRb\\nHJPLwgLvjttmgHJFjwHgtlsBbNbbNsPpblspTllThT\\nMzmcRRrdDMVTzbhNNSszhl\\nmCDDVqdVcdDrqfcCnrFwtGwvngwvtWJtFjWW\\ndFDpmttBlvNNgWlglNDBFttmTGHTcSSJJHHnMsJsGGSdqcJj\\nzLbwMLVQbQRwVsJsSHSsHcJqbj\\nwfVZLPzfZZmpMZZMBl\\nPZHZMJSTBWHNWSHzVnhhfnhThhpnpC\\njFdBBtrFjpfnjfnf\\nccGrbblbGRDQMlvmQBvmBl\\nPCCTsnbPbHDnlDfDNB\\nrMjQltgSqtvMjScQggjfVVzBzFHzGfVGDLGBqB\\nvdtrMSttcdwcpSQSdglMrtWRRPJZCpsRZJmWRRWChWPh\\npWzbsPCCPPpbptSMCJJwBQQGQt\\ncDDmcTTRRqzFRddVTSJwMShMtBwhwQMDwv\\nHldqVmVlZdLTcmRFdrngNNzrffjWpPLggP\\nJPqvjJmmqvSLmPtpZdcftdmtfdCC\\nswwhDRwBBHjFFBtBfZ\\nRRzNQDwznDsDwWJjLNlrSPLSTr\\nVQmdRLvDlmqZdFrBBJdW\\nCMstGsnHnHGGMrMZwMpwBSbW\\nGnsshssNfjtsnggnHCGhjtmfLQQczllvDRVTTQllQWlQ\\ndhbNbswbwVdNtVdstBtgbNQTBCCSFTmfmMFmfRqQmmQM\\nHFljLrvZfMQQQPvm\\nWrpznLZZrnplpWbgdFcFsNzszgst\\nLjddfTlMccnBfDQBtBQb\\nZRSNchHwhNNCHNSWPQFFFHDBBtnQDH\\nCNpZshSZgpwJmpdLMlplMc\\nbTmTFmqzgbBntRVsFvVwcv\\nCZfMrlZLLLMlfPZRLRHGstnjGwtvGcsSVwtcSGvn\\nClZpMLCRMZMrHMLmWpqQBpzpgQzmbg\\njDmSSGWDDdWdSqqDDqCqpJzqRRqpJnRsMRcMzM\\nlPgNPvPrrgNrPhNszFggnRzccbMJgz\\nZQTHQvQTZPrrQlBBrNvQZZGtTtGdsVCGsCTLLGDmLsjt\\nrbCfBrbsvQqRFZRNZC\\nHLSTcwqwZSQFFgRZ\\nwdDwjpMHqJDTMTdqjlfBvGBhsbfhbsnb\\nZhZcHHHlhgchHhlCZZhLCCbGdrsBBGPNBjGbsjNNjnJnPn\\nwtJqqwDqQQMQFqSqTzwzVTBnGdsjBdnMdPGBBsBdnrjr\\nRVzJzmSVZmLLWpCc\\ngdqjQQrlhhQlQrhsnjjhLgmmvmHBBmTmZRsHJzTBHRJv\\nNwNnGNbGPbmTGpJzppBG\\nnDnVDfMDrQqQStgM\\nMLbgbppMMgLmHgQttGQJgJrBShwNShWBBSNNrwNqNN\\nGnTFlzCVVwPRrVWhSw\\nGnDDdvdnZDTdnGMsHbbttZgttLbc\\nmdmPmjClrTzqttfm\\ncpFnSbcQQsqNNtqWJzHS\\nQFpcMMBcZtLpQBjVjZhlPjjVlwvw\\nspVsPjTZZMpZMVLDjmdSQJCLJSmLzdJQdl\\nHhRnNrqwMhNhnqnHwGNRFBNBrzSCSdQmQCdddbrQSSclSSbQ\\nnFNqGRvqBfjMvTssfZ\\nFjjzjnpFqqzFFqgFSZjBhHfHhnHRDDwfdTdLfD\\nMmCMGCsMWbtJrtCWCbmsmWWhdLGGwRBwdfdLhdTLhHHTBd\\nbJmtrRvRjgzFFvVq\\nRWwWmVQGMFGmMGVCVWRRZSBgDdSdJGlSJpcBGGSlpJ\\nHHhQThnjBDHfSBlS\\nbPhNjbsssQzFNQqWmz\\nFTDtrjqwwqGtDbGnfBlcnLcWBZwlWn\\nmMhRMvJsJvJnMHCvHmhLZLQlhWQBBfPfLPBZ\\nHRCCsdNdvNmCvggFStbzjbGSSjjn\\nsLGddsvvcZmLvrLMGcMsVnTTlqlHCsTHHVVgVt\\nwRbfJPbpNRffRJMBhpDntTCHFNVgqllFlqggHC\\nDpfbPhRDJPMJppJwzfpbbDGSjrGZvdccQdjGvQZdvrLz\\nwTwLNLVTqnLMsBwfMsJmCj\\nJhlGvcdJhSFvFvvvMfgBpCzjzdCfsMMs\\nDSlPPJSGWrDcFPhtFhWJZHQZLTQVnRWRbHbZHQQT\\nTmTgTrPDNLNVlDrmlbgNmrSSGbzjZGMvjpZjvvphWMzW\\nQtBfdfQcdfHtZcnZnGZzchnp\\nHQHwRBGfBCGBtsrCNPDTmTlNLr\\nbfNhjhNJDWhlWhlRRR\\nSsscnHgnSnZnltqqfWRWrzZv\\ncnfTMfmMnTnmFGsnTVLLLpQJbpbbjpdTdN\\nBqwZzqRQQRRPSlFRQDDwdfWwhJphnfgfnpMdJfdM\\nrcTLrcrvDDChWJhfpTgTJh\\nDHGbGNVCZStGqSqS\\ndlfdRNNfVdLwrRnwdwRmhLFsbsJJgLqbgCBWBCsW\\nPHDppMPMHHDPzmBBCmWJqCmbJD\\nHzzZHmZzQcNdRRdZwddr\\nwrlshslPsSRfvrQvwbrslCDghtDgCVhDhBVJCFHddt\\nmZnGpWpWzGTMqnFqDqJNDNFJVJqH\\nLjpzGcjMGcTzcmmznWSRsfRPfcrbFQcfrwcv\\nrWBmmmtNmmtBbtlwnhJJVZbw\\nFsRcjGdLdvFslZbQJZwQps\\nGHFGvMccFPjgDNbmWWBTTHNz\\nGhHzmhmwlpbltGBmBmsZsBZsfCWC\\nrgrcCCPdsWBgNVBD\\nRnRMdQPMCqndSdQdcQhblpLLwhJbbpzGzwpS\\nNNQtStFPpJwhRbRzRbqpZZ\\njLnmdJrrdDTdbgWbTbRW\\nJHvnMCmDnMnMljLCDmMLjHNFGGNBPVtQQFtSNFQtPQBv\\nBFbBRllFZJnPVJbV\\nGpGHwgzcLhDcwttwthzzhHcPTjZjMgMVZjgZTMmTnMZWJVJm\\nGccwhqcDtlrPqQrRNQ\\ngWHWLgHBHQdFhjGGThTQhR\\npZsSMpZMJJSzMszzzqclpfjvrvvcRGGTcTVhbVvRbTGTRG\\nlnMwsqZqsslpjlSMSsffZqqJBgHNNPNDWdLLgdDgdLHPWwCw\\nqfNvBCBfBqfNMBqCZZfcnmnvtwScpwFSpSsSwt\\nHzdVzLWPPGGDdnsswnztsRsnmn\\nQddWVQgJPPHJTJbjBtNTTq\\nDdRDDPRGGPGccfcbJwsbJWzsnznlLLWzWTLWhVVVVS\\nCvCrNCqgFqvmqNZFZqqZvpWlVrlVhlhnTLShlDWnzVBD\\njvqpvpvpQNCQQCZZmmNgZfdGddRjJDPRMHcHJDHPJf\\nttdtBtPPMqWMdgPPBbVGWfTGTTzSVLfVrzCS\\nZpDpvRpZDDcmmjmZfLSrwzRnSVSnwTTR\\nZvQmjFVHJFDcQjDlZcDVHdqMNtqNBPtPJtbhhbdbts\\ndGdwwLLpgwgssJpgssNhpJlnbfjnzFfcbfttGjzjlntf\\nVQvDvHVVQHrQHDCZVBChrHFtzffnfltFFtncnvFtllMl\\nVBShSqDVRVSTmppPwwsP\\nfTFDTLNNzlcNrmDcrMDTFPwCSsbCbPPsnCPwLSPvbs\\nttQqhJtBRRGnvgHGnlSnbl\\nhZBJlQBRjVRBRjhtRRMNFVmFmfDNrfWcFVmD\\nmcTZFBFmqBjmBgPtCtPprmssStCP\\nLWDQNqDJfQNJddnWfzhfsPRVppVVsSptftpVMS\\nNDGnJDDDbzddWdNbGNQQLQbqqFBBFcjlZBlHjlZHGBTvZB\\nPwDzvphPwVwWBqLLwnJWTq\\njdCGCgjmllCrmmlmjrbgmRdgJSSJJFLSSqJfLnqLLLbWffLB\\nmRdjcMHgDpZhDqMZ\\ncqLjhhrwZwJbBqZhMwbZZdGWdGSllWFvLFGQdnGFQG\\ngHHVzzppRVggcgpcGWRQRSvdSvvGWvll\\nHmNNHtVggHsHPtrhJsbjbwCrCqJc\\nzqPvzLVvzFFQZzWpRLlmHRDHmRCHDH\\ndNjnJGGrGdqqMprRlpqB\\nGsgtjhSsSvvSFqvP\\npVrfzzjrjWVWTWjrNZvnJSJZqnnqnpSZZS\\nbdQVQPRPDdcbRGPFddRVMVlZlMlBqSBBZSvSZwnwvJBS\\nbFbcFbCPPCbbVHCCdVgWfrzjmWfrWrNWgHfT\\nJgJqLjjjVGgdqGDZGzlGRStStT\\nPHrHccmrMrTSMVStRtRR\\nHWPWffNsrppfPWNsVFsmPNCJwwjdJdvdvnJwghBLJLpdLJ\\nHtHvcnDSDgDcDHtpLrvwjwjfZMjffw\\nCPWzdJdqVdWZpnLdwnrfdn\\nGNCNmTQnPVRRglSlHsSG\\nFJdhjTPbdPJjTPjTjPtSLsSBWWRcCvCvsBWztc\\nMfGgrHMDDpMnZGDLCRLScCsBlgWvzB\\nHnmpmNNHGZZpZZrnMPFFbNCNbFdTPVFFFN\\nTJrrrJQTqJqmTltfRrgfgtgFFg\\njLRzBvBjjcnFBNwWlgBZFt\\nRMjMCGpGzGznzhRmmPPDPsmMmPQmJs\\nBZqwQCQZGZcVBczqBHtfbbbWfTqNWfMfPNqW\\nLLpmFjpvpHrvRFSRDRMWbdbtfPWPbjtMgMtW\\nSDnrpDprDFnQhZCVnhcH\\nWTsBBQTfQQTTbJBbZbnfTsRFwFrjwjFlrRqvrrlqvWRV\\npGcShcGSLNJNHCLttlpllRFgpRFlRpgRrg\\nGzcMLScSGJGtCbsbQfbZbMBnBn\\nNGCLGjVjZjQwTGJRQdWM\\ncFTcvSrFmnnpSmndMswsRMJWRwMHps\\nrrrhhcTznqvzmcccvvmhgzqDgbgttlDtjjjlfVCfZCjZZV\\nccDMHddWNDnnNWMMzdHJJmSQhfQZfvQZflrZQfdVfLLZ\\nbgBFRTwFtgqCgpRGFpvpVllZlhjrrlVlvj\\nwtbBGPTPtRTgbCTBqFgGRwFnsWJnmDMsWMJJMzHPhDmJzP\\nzsbsMtMMdnffBbzNsBtCCWLpLrCrcNLVDWVVcD\\nTmPhJRvwmjmhFJwjjRPFPTvJGVCcCGBrDpccpDrCrWCVDVFZ\\nQvSTvBhqwjPmwddHgtqMnllzMl\\ngftDtqnpqzGZsFcthbtZ\\nVlNPrBrRNrLBmdRVFCcGCZTFCsTCsbLL\\nVdldlljlSNHBsSlqfgqMDDvzpHJHWg\\ntQDLvFLcDrWrcnsHffCGgGHG\\nZRPTPJqhMZJZVllRZJPVZPRHnhCnfdssnCznzGhdgfwCHn\\nqPqlPVlTlSqbZZVJplqlPDmrjWFtmLtFWgQvtmtFvp\\nzlZzdNRPgGGzsLGCDBBtCDCtSncScP\\nvWvHWbqjrFMbvrTWcVnQBBBSjLDcQJcL\\nwfLHwfFqLFbhHvWhMWqwbwwRspssmzgpzGgmmNfmzmRGRz\\nrPvLrQBvBLsLLdtrgssgZjwFwlnCFMtMFnlllnnb\\nmNmmzpWHlzjlJMJb\\nTVSVTWpqRWpSTqNbTVRBPDfLLPrSLrsfQrrvsf\\nnRjpQWnQnRQzMjRdrtvvPCfmvGtPfMcCtG\\nTDbrbhNZVbbbbwhDZDhbTTGfcftqcGVvmmcqcJCcCPmJ\\nNLhrSwgwgnsLsQWljW\\nJWqVSpGNPdNNzdZJJpMzHzwLgsMwzwQwMBgL\\nclrlcvrRfccCtFbHrBWLgwLHmMHsHg\\nDbfDFjcvRcvchWZVWdNpGZNqdh\\nsdfvFLfmtszQwLfddRpmtDDBjVNWGMNQVQNMJGWJMj\\nlccrncTZhqqcqhWggvrjMNMGrJMG\\nSblShnZCqSbPhhbcbTTSZFdFsFpmdRwPwzvmswLtmm\\nPGwwHpfnFSvVpWqWCQNNjCbbnW\\nlmddlhcDRBlLRchdmzbNjqqWTcbNPNWTzz\\nRBMrRdRhlDtPrJtfwFHpsvrHpFSrFw\\nhhwlglFFSQndLRFbmCbTTz\\nNczHMMqzpzPcpfBffcmTrdfGbbRbGrdGrLCL\\nqNzNPqMjcqNBWWccBHsZPDhJnllwnwvJvQnJhQsgvD\\nmbmvmvbbprZmlFmZbFgLffgQtFNHNhfqQtNQ\\nSJcdzjSJBzdBdJDzQhhLQfqzNQQHggRL\\njwDwcTTDThvTZPPW\\nFSVBBBvHvCpVVDDGcGwNNhhctwMvMc\\nfLLZsZVQmjfTfqQRmQhhtgbbJbGJRghtcGct\\nqTsTQdqjVfqdVdZZqVLpCpzSpdppBlSpCFdHSC\\nsQQhWsMmQshlhmMQZFDHDJFjgjzHZgcHdH\\nLnwnpNRrnrbCqqLpwnqfnLcvFHJFzNcHzJcgJJHgdDgN\\nwCbnpCfPCVqwwnrrbbPRGMMlSllmlTTmsThVMlsd\\npzrprfwgbwtwqzrCWbqCwqSMvddHdDSvtHRlDnRRDddD\\nzQLzQQjPBPFcLcQFTFsmNQzcMNdDdvnldHHvdvnDnRnlvRnJ\\ncTZGzzscLcPrqrfrZqqbVV\\nDcSdcTwDLmcwDwvWssGfJfcJQZPGnfcs\\nFlHFMgtgNggpsztMHMqpjgBBnCfPflfQnZCQBBCnRPZC\\ngpVjqNVrHFtjqqzSLDTSmTDwwrmhbs\\nMLMzJTsZzZMgMLgHMmVmdCVhCBlQwDwwhChD\\nvtPRQpbqCldwdtBC\\nbQqFbnQbcFfjPRFPQnTrMMgcJgJrssrzgrgS\\nmtdGJmQRFmdtQvdvtRtdHzHzqZqpHFzZnCzhZjjH\\nfPwVlllswMVNPfBDDlNVsMsfcBjchHncqzjZbpzjcqCnpHHn\\nrlsNPWNlhWTPMMNPfwNWTLQRvQLLmgvSJvRJgTRG\\nTwnqhqqgvQnGBGmBDp\\nSMjclJSjjVJgCzCzNgpmdBpmBGspRBmpDDVB\\nJjMCgMMHMMZNStllZSNHhPqFhFWfqPPqTqhLFqtL\\nlRQPtjPRlDdStDSlPmvllvLsCphFfCHLHggspgFmsFLH\\nqwpTNprcbNWVHLrfFssBgFCM\\nNTWTnzTTWGZZZVRSRRQGpdDtSQRp\\ngpwTPNPBPTdLLLLVGl\\njSHdjzZHMcDVtDvFjtCF\\nHqfZMHzbcqRRRWgdqPmBBBNmwW\\nPvSBtdFgvSmBPngFBTBjbSjwwpGjsppMjNpMjj\\nVZLfVQLzQQQhllpcNcwbssvwwwZj\\nvHWLVVqWTmTgttgq\\nCNRmNRFNRCWbWNCrlmfGlWqFLsDZQZBZzgwQZsBsDZZCzczB\\nMSjdVHvHnDDhHvdwBwssZVzwcgLcQg\\nHnMMTdttHSHSpHvDddpSHTjWlNWFlmRtRmRbqGfqGGNNfR\\nfBLTDppznrfTndfnfTzTLPvZvvHVbRbggjvzVbzvbV\\nmwmDGGlqDhMqthGqhJMWmlNVRZPHjgwjjRZbbHRgRHvv\\nDmhsJsshWGhSGlmlmrdcLLsTBBfcfnBppc\\nmbCGFFmGmcdTrCTQdh\\nMJHfJNLllJffPLRTdBqTRQNcqQGB\\nfPJHfSSSWfSLDMLWGHDMLDFmznmsjmvZwzvjZjbvbZ\\npPvpJSfZTTvCzNZczzQZchcj\\nsvbHWsqsvbsMFtVHgVtcRQcDlQRRRQLjlqjczj\\ntBsgvHVMFggbgFrgWnwSndfBmmBJfPSfpn\\njwbwfjSbwjVSjvZPzWSvhvhQlCsBFgLRLLgBLRClLLFQQw\\nGdNJHpmHTDnTNJqnFCgBLFLFzFtsQRCd\\nNpMJHpnMrDpJGTHqTTmJHTPjfcvbWfrffVzvZfVWSbjz\\nwFwpqWwwpqwtqqrbCFtptDmCcfNhNRzRBZRRJRChVNBZBJ\\nsvlvjHsQlvdlvMLdlvPSSLtzzczcNhJthfNtRcNMJNMc\\nHvvPLSHjgltjsvqwbbnmWmDpgwTT\\nzhCmPVwwChdCBtsWnNWswBWr\\nGJJSfSgFpjJjGgpfpgrcNNstvnBHNnHLtFHr\\njgDTfjpMgZMGMGJTMMJRhzZPCzbhVlPqdNCbhd\\nbDbQQmVDRpDNbRQlfQQZnfwTlllfsT\\nFChzzBWhVzrgMwffJwlnngnTlJ\\nMCvqvhFzcHCChjtpNNVLppGmbq\\nbZZzJnccqdzcLhrcQDLrDs\\nFfCfWVfjWTFClClfwjWCfGGwhZSDhSLsSSRpZprLph\\nmFmTMmFjMMWFfZtttflWjmWTngNHJHggJJHtzgnJvBtBgHdv'"
      ]
     },
     "execution_count": 2,
     "metadata": {},
     "output_type": "execute_result"
    }
   ],
   "source": [
    "data"
   ]
  },
  {
   "cell_type": "code",
   "execution_count": 3,
   "id": "62ad0b53",
   "metadata": {},
   "outputs": [],
   "source": [
    "data_array = data.split(\"\\n\")"
   ]
  },
  {
   "cell_type": "code",
   "execution_count": 4,
   "id": "40fb324e",
   "metadata": {},
   "outputs": [
    {
     "data": {
      "text/plain": [
       "['DMwrszrfMzSSCpLpfCCn',\n",
       " 'RMvhZhQqlvhMvRtbvbcPclPlncddppLTdppd',\n",
       " 'tVMQhFtjjWmsFJsmsW',\n",
       " 'trRtvNhfJhSzzSTFVhQQZQhHGphP',\n",
       " 'CnLMBWLwDMgMcwwdngdHGPVTQGpTHZdGPGpd',\n",
       " 'LLDqcDgwqCMnLWqtvzrzbbtJqPjJ',\n",
       " 'wQQwHNQLmbWQbQRHwHNFBbwqPfjqlzRMGRqzpSfvPlzplM',\n",
       " 'nCtGCZZtsGsrtDMZpfMpSlMlvlZq',\n",
       " 'cJctJCgVJsCJnDTsCthGhGLwBWBbbQmLbgQLQQdWbbbQ',\n",
       " 'ZWnNlTNTnhhQQlDNdmmpwrrrqBwjwjZd',\n",
       " 'GzvlVRSfvMVMvGlSpdCCdjmfpmBCdsqB',\n",
       " 'bzlFlLzJWLHHttLL',\n",
       " 'SmzFhVDzrmSrszVDVhSVbhZcCZdfZNcnMfMbZnNN',\n",
       " 'PTTRGqwqTqWRwLgTLTZGnCbZbNddZCCtMcNs',\n",
       " 'sgPqPqgJgWWqjjwgwLLVFBFSVmvmBBrmJJDSvp',\n",
       " 'CBccfSBhcSBddfgtlJmmmwmPRwmh',\n",
       " 'FpTzzGWHWprgDtJlDZDPFR',\n",
       " 'HbbTzWnTrnWtCbQBbQqQbSjf',\n",
       " 'fPHspCjgwZggSvZQ',\n",
       " 'RrNhzFZFcNzFLNLNwQlSlLnv',\n",
       " 'TRFrcDVrrRmrhFRZzVrczqhRpjqjsssCpfHjsCdpsPfpjCMC',\n",
       " 'ZBnBTMVTSbGbTVTGbCPgqsgPtHtgCcPtBB',\n",
       " 'ldDrmnnNrzhdhfgcsHqcsfCcsCHg',\n",
       " 'zFdrzNdzQNDDhFdWldDrJTbZTbLZJVVVpMVWVnLS',\n",
       " 'pLnpQNhBbnWvbsWm',\n",
       " 'FrFwjlTPTdTqqrDZWbvmZbpSgmJWvbgS',\n",
       " 'RqDqRrdGFpGRFrFFdTNzCcHcHLHBzQCcNNGN',\n",
       " 'bvRCtbtCPfSGtCcvCbPNlglqgqlGZMzTgnlZnq',\n",
       " 'hrmWWFspsHWrzNwTnFlTMTwFFn',\n",
       " 'HpjJDWBQmmQdRffbPtSzdJ',\n",
       " 'GpHjFsjMFpCpMWjMGCqWmmqrWQtmthdbDbbD',\n",
       " 'fzgLTJwJPSgJgzSzPfhmqmQhQHzQtbQDrrmq',\n",
       " 'RNlBRwHfRJHLLfHTwLSBppNGvjNMFFCVpVFcvcFC',\n",
       " 'SfQnfSFHfnvMtQQSnHJtMffsdTlZtdZmtllmTlmlRRbBRLDb',\n",
       " 'hrwhWWwqzPrcCzwwzmPlRbdmlQDTPPBLDl',\n",
       " 'CpwCzrwGzNCWrJnMvpMvfJVFvQ',\n",
       " 'rCRPpgSggcpqrhPrCDDTLsMLDSDGLTMGVs',\n",
       " 'HdvzmRWmlHzwvWHvRHRvHJbDFsdMssQQVGMDTMDLVLLFLT',\n",
       " 'JBlBnnWBJlCqZRRqRBpr',\n",
       " 'GtZllZDlfDpGHZtZBGBZpDmzQzzCSVVFHmmmsPCQWWSS',\n",
       " 'JvFJJrwvNNcJTnbrTRNRSCzqwSsVPCPQqmCQszVm',\n",
       " 'JLMnTbLnMgBhDFDf',\n",
       " 'lffDhtgDJzCJNGGTzWTRRnRvBv',\n",
       " 'qpbpdwqZwqZSwMPSqdQcQmTRnWvnBnRBQBtVnTvWmB',\n",
       " 'SccbbwSbZbFPswpSZtgFlClLhgChhhNfJlFj',\n",
       " 'ClmCjCJBjwBVwJGjlGNFJlVMHSrfpDpTfrHMcHTppQVrHp',\n",
       " 'dRLZWLvWSHmTccWW',\n",
       " 'ggtqzmRZnmhghZhZghntdqsvBbjlbNFFBPwNNJNNCBlwPGBz',\n",
       " 'HZmsFZQpvZsWCZQvWrghGrhtgNzdHddHGh',\n",
       " 'fWSbqWDJVwcSccNzrNhcBtGcgG',\n",
       " 'VqVfTJnbWjqTSqbwDRfRvQvFpFLRpZsssQsCQZ',\n",
       " 'FpFZNfplSTJmbZzddGzhDrWh',\n",
       " 'LqLPPQjLLRMPqvjLLHQrLqrRWdzHnGhdthttGGbbDWhDDdWz',\n",
       " 'sMLMgvRLgscrLrRQvwmTNNfpNplglplfmp',\n",
       " 'MPVBmCmWGWRPPqRhLcnjcvjjcpjMvp',\n",
       " 'tzwrwsJlrldJsrsrTtrzrTtSNnLJSShnjcncvnvqnSFnqN',\n",
       " 'rswrzsbdwDHHbWZqVfWV',\n",
       " 'dVmmMTmBPTrCBRMCqFHSWFFHWzCvCz',\n",
       " 'jNqfGsDqtsjGjQjDlcJFFFznFtzznvtFpFFp',\n",
       " 'fNNhgsDcfNflqchVRdgVrRPRdVTRRb',\n",
       " 'HJPLwgLvjttmgHJFjwHgtlsBbNbbNsPpblspTllThT',\n",
       " 'MzmcRRrdDMVTzbhNNSszhl',\n",
       " 'mCDDVqdVcdDrqfcCnrFwtGwvngwvtWJtFjWW',\n",
       " 'dFDpmttBlvNNgWlglNDBFttmTGHTcSSJJHHnMsJsGGSdqcJj',\n",
       " 'zLbwMLVQbQRwVsJsSHSsHcJqbj',\n",
       " 'wfVZLPzfZZmpMZZMBl',\n",
       " 'PZHZMJSTBWHNWSHzVnhhfnhThhpnpC',\n",
       " 'jFdBBtrFjpfnjfnf',\n",
       " 'ccGrbblbGRDQMlvmQBvmBl',\n",
       " 'PCCTsnbPbHDnlDfDNB',\n",
       " 'rMjQltgSqtvMjScQggjfVVzBzFHzGfVGDLGBqB',\n",
       " 'vdtrMSttcdwcpSQSdglMrtWRRPJZCpsRZJmWRRWChWPh',\n",
       " 'pWzbsPCCPPpbptSMCJJwBQQGQt',\n",
       " 'cDDmcTTRRqzFRddVTSJwMShMtBwhwQMDwv',\n",
       " 'HldqVmVlZdLTcmRFdrngNNzrffjWpPLggP',\n",
       " 'JPqvjJmmqvSLmPtpZdcftdmtfdCC',\n",
       " 'swwhDRwBBHjFFBtBfZ',\n",
       " 'RRzNQDwznDsDwWJjLNlrSPLSTr',\n",
       " 'VQmdRLvDlmqZdFrBBJdW',\n",
       " 'CMstGsnHnHGGMrMZwMpwBSbW',\n",
       " 'GnsshssNfjtsnggnHCGhjtmfLQQczllvDRVTTQllQWlQ',\n",
       " 'dhbNbswbwVdNtVdstBtgbNQTBCCSFTmfmMFmfRqQmmQM',\n",
       " 'HFljLrvZfMQQQPvm',\n",
       " 'WrpznLZZrnplpWbgdFcFsNzszgst',\n",
       " 'LjddfTlMccnBfDQBtBQb',\n",
       " 'ZRSNchHwhNNCHNSWPQFFFHDBBtnQDH',\n",
       " 'CNpZshSZgpwJmpdLMlplMc',\n",
       " 'bTmTFmqzgbBntRVsFvVwcv',\n",
       " 'CZfMrlZLLLMlfPZRLRHGstnjGwtvGcsSVwtcSGvn',\n",
       " 'ClZpMLCRMZMrHMLmWpqQBpzpgQzmbg',\n",
       " 'jDmSSGWDDdWdSqqDDqCqpJzqRRqpJnRsMRcMzM',\n",
       " 'lPgNPvPrrgNrPhNszFggnRzccbMJgz',\n",
       " 'ZQTHQvQTZPrrQlBBrNvQZZGtTtGdsVCGsCTLLGDmLsjt',\n",
       " 'rbCfBrbsvQqRFZRNZC',\n",
       " 'HLSTcwqwZSQFFgRZ',\n",
       " 'wdDwjpMHqJDTMTdqjlfBvGBhsbfhbsnb',\n",
       " 'ZhZcHHHlhgchHhlCZZhLCCbGdrsBBGPNBjGbsjNNjnJnPn',\n",
       " 'wtJqqwDqQQMQFqSqTzwzVTBnGdsjBdnMdPGBBsBdnrjr',\n",
       " 'RVzJzmSVZmLLWpCc',\n",
       " 'gdqjQQrlhhQlQrhsnjjhLgmmvmHBBmTmZRsHJzTBHRJv',\n",
       " 'NwNnGNbGPbmTGpJzppBG',\n",
       " 'nDnVDfMDrQqQStgM',\n",
       " 'MLbgbppMMgLmHgQttGQJgJrBShwNShWBBSNNrwNqNN',\n",
       " 'GnTFlzCVVwPRrVWhSw',\n",
       " 'GnDDdvdnZDTdnGMsHbbttZgttLbc',\n",
       " 'mdmPmjClrTzqttfm',\n",
       " 'cpFnSbcQQsqNNtqWJzHS',\n",
       " 'QFpcMMBcZtLpQBjVjZhlPjjVlwvw',\n",
       " 'spVsPjTZZMpZMVLDjmdSQJCLJSmLzdJQdl',\n",
       " 'HhRnNrqwMhNhnqnHwGNRFBNBrzSCSdQmQCdddbrQSSclSSbQ',\n",
       " 'nFNqGRvqBfjMvTssfZ',\n",
       " 'FjjzjnpFqqzFFqgFSZjBhHfHhnHRDDwfdTdLfD',\n",
       " 'MmCMGCsMWbtJrtCWCbmsmWWhdLGGwRBwdfdLhdTLhHHTBd',\n",
       " 'bJmtrRvRjgzFFvVq',\n",
       " 'RWwWmVQGMFGmMGVCVWRRZSBgDdSdJGlSJpcBGGSlpJ',\n",
       " 'HHhQThnjBDHfSBlS',\n",
       " 'bPhNjbsssQzFNQqWmz',\n",
       " 'FTDtrjqwwqGtDbGnfBlcnLcWBZwlWn',\n",
       " 'mMhRMvJsJvJnMHCvHmhLZLQlhWQBBfPfLPBZ',\n",
       " 'HRCCsdNdvNmCvggFStbzjbGSSjjn',\n",
       " 'sLGddsvvcZmLvrLMGcMsVnTTlqlHCsTHHVVgVt',\n",
       " 'wRbfJPbpNRffRJMBhpDntTCHFNVgqllFlqggHC',\n",
       " 'DpfbPhRDJPMJppJwzfpbbDGSjrGZvdccQdjGvQZdvrLz',\n",
       " 'wTwLNLVTqnLMsBwfMsJmCj',\n",
       " 'JhlGvcdJhSFvFvvvMfgBpCzjzdCfsMMs',\n",
       " 'DSlPPJSGWrDcFPhtFhWJZHQZLTQVnRWRbHbZHQQT',\n",
       " 'TmTgTrPDNLNVlDrmlbgNmrSSGbzjZGMvjpZjvvphWMzW',\n",
       " 'QtBfdfQcdfHtZcnZnGZzchnp',\n",
       " 'HQHwRBGfBCGBtsrCNPDTmTlNLr',\n",
       " 'bfNhjhNJDWhlWhlRRR',\n",
       " 'SsscnHgnSnZnltqqfWRWrzZv',\n",
       " 'cnfTMfmMnTnmFGsnTVLLLpQJbpbbjpdTdN',\n",
       " 'BqwZzqRQQRRPSlFRQDDwdfWwhJphnfgfnpMdJfdM',\n",
       " 'rcTLrcrvDDChWJhfpTgTJh',\n",
       " 'DHGbGNVCZStGqSqS',\n",
       " 'dlfdRNNfVdLwrRnwdwRmhLFsbsJJgLqbgCBWBCsW',\n",
       " 'PHDppMPMHHDPzmBBCmWJqCmbJD',\n",
       " 'HzzZHmZzQcNdRRdZwddr',\n",
       " 'wrlshslPsSRfvrQvwbrslCDghtDgCVhDhBVJCFHddt',\n",
       " 'mZnGpWpWzGTMqnFqDqJNDNFJVJqH',\n",
       " 'LjpzGcjMGcTzcmmznWSRsfRPfcrbFQcfrwcv',\n",
       " 'rWBmmmtNmmtBbtlwnhJJVZbw',\n",
       " 'FsRcjGdLdvFslZbQJZwQps',\n",
       " 'GHFGvMccFPjgDNbmWWBTTHNz',\n",
       " 'GhHzmhmwlpbltGBmBmsZsBZsfCWC',\n",
       " 'rgrcCCPdsWBgNVBD',\n",
       " 'RnRMdQPMCqndSdQdcQhblpLLwhJbbpzGzwpS',\n",
       " 'NNQtStFPpJwhRbRzRbqpZZ',\n",
       " 'jLnmdJrrdDTdbgWbTbRW',\n",
       " 'JHvnMCmDnMnMljLCDmMLjHNFGGNBPVtQQFtSNFQtPQBv',\n",
       " 'BFbBRllFZJnPVJbV',\n",
       " 'GpGHwgzcLhDcwttwthzzhHcPTjZjMgMVZjgZTMmTnMZWJVJm',\n",
       " 'GccwhqcDtlrPqQrRNQ',\n",
       " 'gWHWLgHBHQdFhjGGThTQhR',\n",
       " 'pZsSMpZMJJSzMszzzqclpfjvrvvcRGGTcTVhbVvRbTGTRG',\n",
       " 'lnMwsqZqsslpjlSMSsffZqqJBgHNNPNDWdLLgdDgdLHPWwCw',\n",
       " 'qfNvBCBfBqfNMBqCZZfcnmnvtwScpwFSpSsSwt',\n",
       " 'HzdVzLWPPGGDdnsswnztsRsnmn',\n",
       " 'QddWVQgJPPHJTJbjBtNTTq',\n",
       " 'DdRDDPRGGPGccfcbJwsbJWzsnznlLLWzWTLWhVVVVS',\n",
       " 'CvCrNCqgFqvmqNZFZqqZvpWlVrlVhlhnTLShlDWnzVBD',\n",
       " 'jvqpvpvpQNCQQCZZmmNgZfdGddRjJDPRMHcHJDHPJf',\n",
       " 'ttdtBtPPMqWMdgPPBbVGWfTGTTzSVLfVrzCS',\n",
       " 'ZpDpvRpZDDcmmjmZfLSrwzRnSVSnwTTR',\n",
       " 'ZvQmjFVHJFDcQjDlZcDVHdqMNtqNBPtPJtbhhbdbts',\n",
       " 'dGdwwLLpgwgssJpgssNhpJlnbfjnzFfcbfttGjzjlntf',\n",
       " 'VQvDvHVVQHrQHDCZVBChrHFtzffnfltFFtncnvFtllMl',\n",
       " 'VBShSqDVRVSTmppPwwsP',\n",
       " 'fTFDTLNNzlcNrmDcrMDTFPwCSsbCbPPsnCPwLSPvbs',\n",
       " 'ttQqhJtBRRGnvgHGnlSnbl',\n",
       " 'hZBJlQBRjVRBRjhtRRMNFVmFmfDNrfWcFVmD',\n",
       " 'mcTZFBFmqBjmBgPtCtPprmssStCP',\n",
       " 'LWDQNqDJfQNJddnWfzhfsPRVppVVsSptftpVMS',\n",
       " 'NDGnJDDDbzddWdNbGNQQLQbqqFBBFcjlZBlHjlZHGBTvZB',\n",
       " 'PwDzvphPwVwWBqLLwnJWTq',\n",
       " 'jdCGCgjmllCrmmlmjrbgmRdgJSSJJFLSSqJfLnqLLLbWffLB',\n",
       " 'mRdjcMHgDpZhDqMZ',\n",
       " 'cqLjhhrwZwJbBqZhMwbZZdGWdGSllWFvLFGQdnGFQG',\n",
       " 'gHHVzzppRVggcgpcGWRQRSvdSvvGWvll',\n",
       " 'HmNNHtVggHsHPtrhJsbjbwCrCqJc',\n",
       " 'zqPvzLVvzFFQZzWpRLlmHRDHmRCHDH',\n",
       " 'dNjnJGGrGdqqMprRlpqB',\n",
       " 'GsgtjhSsSvvSFqvP',\n",
       " 'pVrfzzjrjWVWTWjrNZvnJSJZqnnqnpSZZS',\n",
       " 'bdQVQPRPDdcbRGPFddRVMVlZlMlBqSBBZSvSZwnwvJBS',\n",
       " 'bFbcFbCPPCbbVHCCdVgWfrzjmWfrWrNWgHfT',\n",
       " 'JgJqLjjjVGgdqGDZGzlGRStStT',\n",
       " 'PHrHccmrMrTSMVStRtRR',\n",
       " 'HWPWffNsrppfPWNsVFsmPNCJwwjdJdvdvnJwghBLJLpdLJ',\n",
       " 'HtHvcnDSDgDcDHtpLrvwjwjfZMjffw',\n",
       " 'CPWzdJdqVdWZpnLdwnrfdn',\n",
       " 'GNCNmTQnPVRRglSlHsSG',\n",
       " 'FJdhjTPbdPJjTPjTjPtSLsSBWWRcCvCvsBWztc',\n",
       " 'MfGgrHMDDpMnZGDLCRLScCsBlgWvzB',\n",
       " 'HnmpmNNHGZZpZZrnMPFFbNCNbFdTPVFFFN',\n",
       " 'TJrrrJQTqJqmTltfRrgfgtgFFg',\n",
       " 'jLRzBvBjjcnFBNwWlgBZFt',\n",
       " 'RMjMCGpGzGznzhRmmPPDPsmMmPQmJs',\n",
       " 'BZqwQCQZGZcVBczqBHtfbbbWfTqNWfMfPNqW',\n",
       " 'LLpmFjpvpHrvRFSRDRMWbdbtfPWPbjtMgMtW',\n",
       " 'SDnrpDprDFnQhZCVnhcH',\n",
       " 'WTsBBQTfQQTTbJBbZbnfTsRFwFrjwjFlrRqvrrlqvWRV',\n",
       " 'pGcShcGSLNJNHCLttlpllRFgpRFlRpgRrg',\n",
       " 'GzcMLScSGJGtCbsbQfbZbMBnBn',\n",
       " 'NGCLGjVjZjQwTGJRQdWM',\n",
       " 'cFTcvSrFmnnpSmndMswsRMJWRwMHps',\n",
       " 'rrrhhcTznqvzmcccvvmhgzqDgbgttlDtjjjlfVCfZCjZZV',\n",
       " 'ccDMHddWNDnnNWMMzdHJJmSQhfQZfvQZflrZQfdVfLLZ',\n",
       " 'bgBFRTwFtgqCgpRGFpvpVllZlhjrrlVlvj',\n",
       " 'wtbBGPTPtRTgbCTBqFgGRwFnsWJnmDMsWMJJMzHPhDmJzP',\n",
       " 'zsbsMtMMdnffBbzNsBtCCWLpLrCrcNLVDWVVcD',\n",
       " 'TmPhJRvwmjmhFJwjjRPFPTvJGVCcCGBrDpccpDrCrWCVDVFZ',\n",
       " 'QvSTvBhqwjPmwddHgtqMnllzMl',\n",
       " 'gftDtqnpqzGZsFcthbtZ',\n",
       " 'VlNPrBrRNrLBmdRVFCcGCZTFCsTCsbLL',\n",
       " 'VdldlljlSNHBsSlqfgqMDDvzpHJHWg',\n",
       " 'tQDLvFLcDrWrcnsHffCGgGHG',\n",
       " 'ZRPTPJqhMZJZVllRZJPVZPRHnhCnfdssnCznzGhdgfwCHn',\n",
       " 'qPqlPVlTlSqbZZVJplqlPDmrjWFtmLtFWgQvtmtFvp',\n",
       " 'zlZzdNRPgGGzsLGCDBBtCDCtSncScP',\n",
       " 'vWvHWbqjrFMbvrTWcVnQBBBSjLDcQJcL',\n",
       " 'wfLHwfFqLFbhHvWhMWqwbwwRspssmzgpzGgmmNfmzmRGRz',\n",
       " 'rPvLrQBvBLsLLdtrgssgZjwFwlnCFMtMFnlllnnb',\n",
       " 'mNmmzpWHlzjlJMJb',\n",
       " 'TVSVTWpqRWpSTqNbTVRBPDfLLPrSLrsfQrrvsf',\n",
       " 'nRjpQWnQnRQzMjRdrtvvPCfmvGtPfMcCtG',\n",
       " 'TDbrbhNZVbbbbwhDZDhbTTGfcftqcGVvmmcqcJCcCPmJ',\n",
       " 'NLhrSwgwgnsLsQWljW',\n",
       " 'JWqVSpGNPdNNzdZJJpMzHzwLgsMwzwQwMBgL',\n",
       " 'clrlcvrRfccCtFbHrBWLgwLHmMHsHg',\n",
       " 'DbfDFjcvRcvchWZVWdNpGZNqdh',\n",
       " 'sdfvFLfmtszQwLfddRpmtDDBjVNWGMNQVQNMJGWJMj',\n",
       " 'lccrncTZhqqcqhWggvrjMNMGrJMG',\n",
       " 'SblShnZCqSbPhhbcbTTSZFdFsFpmdRwPwzvmswLtmm',\n",
       " 'PGwwHpfnFSvVpWqWCQNNjCbbnW',\n",
       " 'lmddlhcDRBlLRchdmzbNjqqWTcbNPNWTzz',\n",
       " 'RBMrRdRhlDtPrJtfwFHpsvrHpFSrFw',\n",
       " 'hhwlglFFSQndLRFbmCbTTz',\n",
       " 'NczHMMqzpzPcpfBffcmTrdfGbbRbGrdGrLCL',\n",
       " 'qNzNPqMjcqNBWWccBHsZPDhJnllwnwvJvQnJhQsgvD',\n",
       " 'mbmvmvbbprZmlFmZbFgLffgQtFNHNhfqQtNQ',\n",
       " 'SJcdzjSJBzdBdJDzQhhLQfqzNQQHggRL',\n",
       " 'jwDwcTTDThvTZPPW',\n",
       " 'FSVBBBvHvCpVVDDGcGwNNhhctwMvMc',\n",
       " 'fLLZsZVQmjfTfqQRmQhhtgbbJbGJRghtcGct',\n",
       " 'qTsTQdqjVfqdVdZZqVLpCpzSpdppBlSpCFdHSC',\n",
       " 'sQQhWsMmQshlhmMQZFDHDJFjgjzHZgcHdH',\n",
       " 'LnwnpNRrnrbCqqLpwnqfnLcvFHJFzNcHzJcgJJHgdDgN',\n",
       " 'wCbnpCfPCVqwwnrrbbPRGMMlSllmlTTmsThVMlsd',\n",
       " 'pzrprfwgbwtwqzrCWbqCwqSMvddHdDSvtHRlDnRRDddD',\n",
       " 'zQLzQQjPBPFcLcQFTFsmNQzcMNdDdvnldHHvdvnDnRnlvRnJ',\n",
       " 'cTZGzzscLcPrqrfrZqqbVV',\n",
       " 'DcSdcTwDLmcwDwvWssGfJfcJQZPGnfcs',\n",
       " 'FlHFMgtgNggpsztMHMqpjgBBnCfPflfQnZCQBBCnRPZC',\n",
       " 'gpVjqNVrHFtjqqzSLDTSmTDwwrmhbs',\n",
       " 'MLMzJTsZzZMgMLgHMmVmdCVhCBlQwDwwhChD',\n",
       " 'vtPRQpbqCldwdtBC',\n",
       " 'bQqFbnQbcFfjPRFPQnTrMMgcJgJrssrzgrgS',\n",
       " 'mtdGJmQRFmdtQvdvtRtdHzHzqZqpHFzZnCzhZjjH',\n",
       " 'fPwVlllswMVNPfBDDlNVsMsfcBjchHncqzjZbpzjcqCnpHHn',\n",
       " 'rlsNPWNlhWTPMMNPfwNWTLQRvQLLmgvSJvRJgTRG',\n",
       " 'TwnqhqqgvQnGBGmBDp',\n",
       " 'SMjclJSjjVJgCzCzNgpmdBpmBGspRBmpDDVB',\n",
       " 'JjMCgMMHMMZNStllZSNHhPqFhFWfqPPqTqhLFqtL',\n",
       " 'lRQPtjPRlDdStDSlPmvllvLsCphFfCHLHggspgFmsFLH',\n",
       " 'qwpTNprcbNWVHLrfFssBgFCM',\n",
       " 'NTWTnzTTWGZZZVRSRRQGpdDtSQRp',\n",
       " 'gpwTPNPBPTdLLLLVGl',\n",
       " 'jSHdjzZHMcDVtDvFjtCF',\n",
       " 'HqfZMHzbcqRRRWgdqPmBBBNmwW',\n",
       " 'PvSBtdFgvSmBPngFBTBjbSjwwpGjsppMjNpMjj',\n",
       " 'VZLfVQLzQQQhllpcNcwbssvwwwZj',\n",
       " 'vHWLVVqWTmTgttgq',\n",
       " 'CNRmNRFNRCWbWNCrlmfGlWqFLsDZQZBZzgwQZsBsDZZCzczB',\n",
       " 'MSjdVHvHnDDhHvdwBwssZVzwcgLcQg',\n",
       " 'HnMMTdttHSHSpHvDddpSHTjWlNWFlmRtRmRbqGfqGGNNfR',\n",
       " 'fBLTDppznrfTndfnfTzTLPvZvvHVbRbggjvzVbzvbV',\n",
       " 'mwmDGGlqDhMqthGqhJMWmlNVRZPHjgwjjRZbbHRgRHvv',\n",
       " 'DmhsJsshWGhSGlmlmrdcLLsTBBfcfnBppc',\n",
       " 'mbCGFFmGmcdTrCTQdh',\n",
       " 'MJHfJNLllJffPLRTdBqTRQNcqQGB',\n",
       " 'fPJHfSSSWfSLDMLWGHDMLDFmznmsjmvZwzvjZjbvbZ',\n",
       " 'pPvpJSfZTTvCzNZczzQZchcj',\n",
       " 'svbHWsqsvbsMFtVHgVtcRQcDlQRRRQLjlqjczj',\n",
       " 'tBsgvHVMFggbgFrgWnwSndfBmmBJfPSfpn',\n",
       " 'jwbwfjSbwjVSjvZPzWSvhvhQlCsBFgLRLLgBLRClLLFQQw',\n",
       " 'GdNJHpmHTDnTNJqnFCgBLFLFzFtsQRCd',\n",
       " 'NpMJHpnMrDpJGTHqTTmJHTPjfcvbWfrffVzvZfVWSbjz',\n",
       " 'wFwpqWwwpqwtqqrbCFtptDmCcfNhNRzRBZRRJRChVNBZBJ',\n",
       " 'svlvjHsQlvdlvMLdlvPSSLtzzczcNhJthfNtRcNMJNMc',\n",
       " 'HvvPLSHjgltjsvqwbbnmWmDpgwTT',\n",
       " 'zhCmPVwwChdCBtsWnNWswBWr',\n",
       " 'GJJSfSgFpjJjGgpfpgrcNNstvnBHNnHLtFHr',\n",
       " 'jgDTfjpMgZMGMGJTMMJRhzZPCzbhVlPqdNCbhd',\n",
       " 'bDbQQmVDRpDNbRQlfQQZnfwTlllfsT',\n",
       " 'FChzzBWhVzrgMwffJwlnngnTlJ',\n",
       " 'MCvqvhFzcHCChjtpNNVLppGmbq',\n",
       " 'bZZzJnccqdzcLhrcQDLrDs',\n",
       " 'FfCfWVfjWTFClClfwjWCfGGwhZSDhSLsSSRpZprLph',\n",
       " 'mFmTMmFjMMWFfZtttflWjmWTngNHJHggJJHtzgnJvBtBgHdv']"
      ]
     },
     "execution_count": 4,
     "metadata": {},
     "output_type": "execute_result"
    }
   ],
   "source": [
    "data_array"
   ]
  },
  {
   "cell_type": "code",
   "execution_count": 5,
   "id": "f845910d",
   "metadata": {},
   "outputs": [
    {
     "data": {
      "text/plain": [
       "'DMwrszrfMzSSCpLpfCCn'"
      ]
     },
     "execution_count": 5,
     "metadata": {},
     "output_type": "execute_result"
    }
   ],
   "source": [
    "data_array[0]"
   ]
  },
  {
   "cell_type": "code",
   "execution_count": 6,
   "id": "ca911401",
   "metadata": {},
   "outputs": [
    {
     "name": "stdout",
     "output_type": "stream",
     "text": [
      "[['f'], ['l'], ['F'], ['h'], ['d'], ['q'], ['R'], ['Z'], ['g'], ['Z'], ['f'], ['L'], ['h'], ['G'], ['J'], ['h'], ['F'], ['b'], ['g'], ['N'], ['q'], ['B'], ['f'], ['W'], ['n'], ['Z'], ['G'], ['G'], ['F'], ['J'], ['W'], ['z'], ['N'], ['t'], ['P'], ['p'], ['S'], ['d'], ['B'], ['H'], ['w'], ['M'], ['z'], ['Q'], ['F'], ['V'], ['W'], ['z'], ['H'], ['c'], ['R'], ['Z'], ['H'], ['g'], ['M'], ['J'], ['b'], ['C'], ['t'], ['g'], ['P'], ['z'], ['n'], ['d'], ['b'], ['Z'], ['T'], ['j'], ['l'], ['n'], ['q'], ['p'], ['C'], ['D'], ['L'], ['m'], ['B'], ['N'], ['d'], ['M'], ['f'], ['B'], ['v'], ['z'], ['f'], ['H'], ['p'], ['F'], ['G'], ['p'], ['q'], ['g'], ['T'], ['C'], ['S'], ['j'], ['b'], ['M'], ['m'], ['s'], ['G'], ['M'], ['J'], ['V'], ['Z'], ['m'], ['S'], ['Z'], ['L'], ['r'], ['v'], ['n'], ['G'], ['v'], ['G'], ['H'], ['N'], ['w'], ['h'], ['g'], ['s'], ['N'], ['z'], ['w'], ['d'], ['W'], ['b'], ['c'], ['C'], ['h'], ['Z'], ['T'], ['w'], ['T'], ['G'], ['L'], ['D'], ['Z'], ['h'], ['q'], ['c'], ['t'], ['s'], ['H'], ['m'], ['g'], ['S'], ['p'], ['d'], ['v'], ['b'], ['g'], ['q'], ['Q'], ['c'], ['w'], ['v'], ['z'], ['J'], ['s'], ['r'], ['j'], ['W'], ['R'], ['J'], ['G'], ['v'], ['S'], ['L'], ['G'], ['V'], ['m'], ['f'], ['G'], ['w'], ['b'], ['M'], ['L'], ['R'], ['s'], ['L'], ['r'], ['S'], ['p'], ['M'], ['H'], ['G'], ['M'], ['p'], ['v'], ['d'], ['G'], ['t'], ['g'], ['N'], ['r'], ['B'], ['M'], ['q'], ['j'], ['n'], ['W'], ['p'], ['M'], ['G'], ['p'], ['g'], ['d'], ['p'], ['P'], ['N'], ['F'], ['q'], ['t'], ['L'], ['H'], ['c'], ['h'], ['p'], ['P'], ['j'], ['f'], ['t'], ['z'], ['S'], ['M'], ['V'], ['L'], ['z'], ['r'], ['h'], ['Q'], ['r'], ['P'], ['n'], ['c'], ['r'], ['F'], ['f'], ['s'], ['F'], ['z'], ['T'], ['v'], ['R'], ['d'], ['Z'], ['N'], ['V'], ['t'], ['N'], ['Z'], ['c'], ['l'], ['r'], ['m'], ['t'], ['c'], ['F'], ['B'], ['T'], ['n'], ['V'], ['t'], ['m'], ['r'], ['G'], ['T'], ['j'], ['q'], ['S'], ['Z'], ['q'], ['C'], ['V'], ['t'], ['z'], ['w'], ['s'], ['C'], ['N'], ['D'], ['Z'], ['q'], ['B'], ['w'], ['d'], ['r'], ['C'], ['M'], ['g'], ['w'], ['F'], ['Z'], ['Q'], ['g'], ['q'], ['c'], ['w'], ['t']]\n"
     ]
    }
   ],
   "source": [
    "answer_array = []\n",
    "final_array = []\n",
    "for data in data_array:\n",
    "    \n",
    "    first_array = [data[item] for item in range(len(data)//2)]\n",
    "    second_array = [data[item] for item in range(len(data)//2,len(data))]\n",
    "    for char in first_array:\n",
    "        if char in second_array:\n",
    "            answer_array.append(char)\n",
    "    final_array.append(list(set(answer_array)))\n",
    "    answer_array = []\n",
    "print(final_array)"
   ]
  },
  {
   "cell_type": "code",
   "execution_count": 7,
   "id": "1b4cca93",
   "metadata": {},
   "outputs": [
    {
     "name": "stdout",
     "output_type": "stream",
     "text": [
      "{'a': 1, 'b': 2, 'c': 3, 'd': 4, 'e': 5, 'f': 6, 'g': 7, 'h': 8, 'i': 9, 'j': 10, 'k': 11, 'l': 12, 'm': 13, 'n': 14, 'o': 15, 'p': 16, 'q': 17, 'r': 18, 's': 19, 't': 20, 'u': 21, 'v': 22, 'w': 23, 'x': 24, 'y': 25, 'z': 26, 'A': 27, 'B': 28, 'C': 29, 'D': 30, 'E': 31, 'F': 32, 'G': 33, 'H': 34, 'I': 35, 'J': 36, 'K': 37, 'L': 38, 'M': 39, 'N': 40, 'O': 41, 'P': 42, 'Q': 43, 'R': 44, 'S': 45, 'T': 46, 'U': 47, 'V': 48, 'W': 49, 'X': 50, 'Y': 51, 'Z': 52}\n"
     ]
    }
   ],
   "source": [
    "priority_dictionary = {}\n",
    "\n",
    "# Lowercase item types a through z have priorities 1 through 26\n",
    "for i in range(26):\n",
    "    item_type = chr(ord('a') + i)\n",
    "    priority = i + 1\n",
    "    priority_dictionary[item_type] = priority\n",
    "\n",
    "# Uppercase item types A through Z have priorities 27 through 52\n",
    "for i in range(26):\n",
    "    item_type = chr(ord('A') + i)\n",
    "    priority = i + 27\n",
    "    priority_dictionary[item_type] = priority\n",
    "\n",
    "# Example usage:\n",
    "print(priority_dictionary)\n"
   ]
  },
  {
   "cell_type": "code",
   "execution_count": 8,
   "id": "31551129",
   "metadata": {},
   "outputs": [
    {
     "name": "stdout",
     "output_type": "stream",
     "text": [
      "f l F h d q R Z g Z f L h G J h F b g N q B f W n Z G G F J W z N t P p S d B H w M z Q F V W z H c R Z H g M J b C t g P z n d b Z T j l n q p C D L m B N d M f B v z f H p F G p q g T C S j b M m s G M J V Z m S Z L r v n G v G H N w h g s N z w d W b c C h Z T w T G L D Z h q c t s H m g S p d v b g q Q c w v z J s r j W R J G v S L G V m f G w b M L R s L r S p M H G M p v d G t g N r B M q j n W p M G p g d p P N F q t L H c h p P j f t z S M V L z r h Q r P n c r F f s F z T v R d Z N V t N Z c l r m t c F B T n V t m r G T j q S Z q C V t z w s C N D Z q B w d r C M g w F Z Q g q c w t\n"
     ]
    }
   ],
   "source": [
    "flattened_list = [item for sublist in final_array for item in sublist]\n",
    "\n",
    "# Join the elements of the flattened list into a single string with space as the separator\n",
    "final_string = \" \".join(flattened_list)\n",
    "\n",
    "print(final_string)\n"
   ]
  },
  {
   "cell_type": "code",
   "execution_count": 9,
   "id": "731b145d",
   "metadata": {
    "scrolled": true
   },
   "outputs": [
    {
     "data": {
      "text/plain": [
       "599"
      ]
     },
     "execution_count": 9,
     "metadata": {},
     "output_type": "execute_result"
    }
   ],
   "source": [
    "len(final_string)"
   ]
  },
  {
   "cell_type": "code",
   "execution_count": 10,
   "id": "5afb99b7",
   "metadata": {},
   "outputs": [
    {
     "data": {
      "text/plain": [
       "str"
      ]
     },
     "execution_count": 10,
     "metadata": {},
     "output_type": "execute_result"
    }
   ],
   "source": [
    "type(final_string[1])"
   ]
  },
  {
   "cell_type": "code",
   "execution_count": 11,
   "id": "ffaa026a",
   "metadata": {},
   "outputs": [],
   "source": [
    "final_string = final_string.replace(\" \", \"\")"
   ]
  },
  {
   "cell_type": "code",
   "execution_count": 12,
   "id": "76e27ec1",
   "metadata": {},
   "outputs": [
    {
     "data": {
      "text/plain": [
       "'flFhdqRZgZfLhGJhFbgNqBfWnZGGFJWzNtPpSdBHwMzQFVWzHcRZHgMJbCtgPzndbZTjlnqpCDLmBNdMfBvzfHpFGpqgTCSjbMmsGMJVZmSZLrvnGvGHNwhgsNzwdWbcChZTwTGLDZhqctsHmgSpdvbgqQcwvzJsrjWRJGvSLGVmfGwbMLRsLrSpMHGMpvdGtgNrBMqjnWpMGpgdpPNFqtLHchpPjftzSMVLzrhQrPncrFfsFzTvRdZNVtNZclrmtcFBTnVtmrGTjqSZqCVtzwsCNDZqBwdrCMgwFZQgqcwt'"
      ]
     },
     "execution_count": 12,
     "metadata": {},
     "output_type": "execute_result"
    }
   ],
   "source": [
    "final_string"
   ]
  },
  {
   "cell_type": "code",
   "execution_count": 13,
   "id": "b8491dae",
   "metadata": {},
   "outputs": [
    {
     "name": "stdout",
     "output_type": "stream",
     "text": [
      "7811\n"
     ]
    }
   ],
   "source": [
    "total = 0\n",
    "for i in range(len(final_string)):\n",
    "    total += priority_dictionary[final_string[i]]\n",
    "print(total)"
   ]
  },
  {
   "cell_type": "code",
   "execution_count": 14,
   "id": "3163b68d",
   "metadata": {},
   "outputs": [
    {
     "name": "stdout",
     "output_type": "stream",
     "text": [
      "DMwrszrfMzSSCpLpfCCn\n",
      "RMvhZhQqlvhMvRtbvbcPclPlncddppLTdppd\n",
      "tVMQhFtjjWmsFJsmsW\n",
      "trRtvNhfJhSzzSTFVhQQZQhHGphP\n",
      "CnLMBWLwDMgMcwwdngdHGPVTQGpTHZdGPGpd\n",
      "LLDqcDgwqCMnLWqtvzrzbbtJqPjJ\n",
      "wQQwHNQLmbWQbQRHwHNFBbwqPfjqlzRMGRqzpSfvPlzplM\n",
      "nCtGCZZtsGsrtDMZpfMpSlMlvlZq\n",
      "cJctJCgVJsCJnDTsCthGhGLwBWBbbQmLbgQLQQdWbbbQ\n",
      "ZWnNlTNTnhhQQlDNdmmpwrrrqBwjwjZd\n",
      "GzvlVRSfvMVMvGlSpdCCdjmfpmBCdsqB\n",
      "bzlFlLzJWLHHttLL\n",
      "SmzFhVDzrmSrszVDVhSVbhZcCZdfZNcnMfMbZnNN\n",
      "PTTRGqwqTqWRwLgTLTZGnCbZbNddZCCtMcNs\n",
      "sgPqPqgJgWWqjjwgwLLVFBFSVmvmBBrmJJDSvp\n",
      "CBccfSBhcSBddfgtlJmmmwmPRwmh\n",
      "FpTzzGWHWprgDtJlDZDPFR\n",
      "HbbTzWnTrnWtCbQBbQqQbSjf\n",
      "fPHspCjgwZggSvZQ\n",
      "RrNhzFZFcNzFLNLNwQlSlLnv\n",
      "TRFrcDVrrRmrhFRZzVrczqhRpjqjsssCpfHjsCdpsPfpjCMC\n",
      "ZBnBTMVTSbGbTVTGbCPgqsgPtHtgCcPtBB\n",
      "ldDrmnnNrzhdhfgcsHqcsfCcsCHg\n",
      "zFdrzNdzQNDDhFdWldDrJTbZTbLZJVVVpMVWVnLS\n",
      "pLnpQNhBbnWvbsWm\n",
      "FrFwjlTPTdTqqrDZWbvmZbpSgmJWvbgS\n",
      "RqDqRrdGFpGRFrFFdTNzCcHcHLHBzQCcNNGN\n",
      "bvRCtbtCPfSGtCcvCbPNlglqgqlGZMzTgnlZnq\n",
      "hrmWWFspsHWrzNwTnFlTMTwFFn\n",
      "HpjJDWBQmmQdRffbPtSzdJ\n",
      "GpHjFsjMFpCpMWjMGCqWmmqrWQtmthdbDbbD\n",
      "fzgLTJwJPSgJgzSzPfhmqmQhQHzQtbQDrrmq\n",
      "RNlBRwHfRJHLLfHTwLSBppNGvjNMFFCVpVFcvcFC\n",
      "SfQnfSFHfnvMtQQSnHJtMffsdTlZtdZmtllmTlmlRRbBRLDb\n",
      "hrwhWWwqzPrcCzwwzmPlRbdmlQDTPPBLDl\n",
      "CpwCzrwGzNCWrJnMvpMvfJVFvQ\n",
      "rCRPpgSggcpqrhPrCDDTLsMLDSDGLTMGVs\n",
      "HdvzmRWmlHzwvWHvRHRvHJbDFsdMssQQVGMDTMDLVLLFLT\n",
      "JBlBnnWBJlCqZRRqRBpr\n",
      "GtZllZDlfDpGHZtZBGBZpDmzQzzCSVVFHmmmsPCQWWSS\n",
      "JvFJJrwvNNcJTnbrTRNRSCzqwSsVPCPQqmCQszVm\n",
      "JLMnTbLnMgBhDFDf\n",
      "lffDhtgDJzCJNGGTzWTRRnRvBv\n",
      "qpbpdwqZwqZSwMPSqdQcQmTRnWvnBnRBQBtVnTvWmB\n",
      "SccbbwSbZbFPswpSZtgFlClLhgChhhNfJlFj\n",
      "ClmCjCJBjwBVwJGjlGNFJlVMHSrfpDpTfrHMcHTppQVrHp\n",
      "dRLZWLvWSHmTccWW\n",
      "ggtqzmRZnmhghZhZghntdqsvBbjlbNFFBPwNNJNNCBlwPGBz\n",
      "HZmsFZQpvZsWCZQvWrghGrhtgNzdHddHGh\n",
      "fWSbqWDJVwcSccNzrNhcBtGcgG\n",
      "VqVfTJnbWjqTSqbwDRfRvQvFpFLRpZsssQsCQZ\n",
      "FpFZNfplSTJmbZzddGzhDrWh\n",
      "LqLPPQjLLRMPqvjLLHQrLqrRWdzHnGhdthttGGbbDWhDDdWz\n",
      "sMLMgvRLgscrLrRQvwmTNNfpNplglplfmp\n",
      "MPVBmCmWGWRPPqRhLcnjcvjjcpjMvp\n",
      "tzwrwsJlrldJsrsrTtrzrTtSNnLJSShnjcncvnvqnSFnqN\n",
      "rswrzsbdwDHHbWZqVfWV\n",
      "dVmmMTmBPTrCBRMCqFHSWFFHWzCvCz\n",
      "jNqfGsDqtsjGjQjDlcJFFFznFtzznvtFpFFp\n",
      "fNNhgsDcfNflqchVRdgVrRPRdVTRRb\n",
      "HJPLwgLvjttmgHJFjwHgtlsBbNbbNsPpblspTllThT\n",
      "MzmcRRrdDMVTzbhNNSszhl\n",
      "mCDDVqdVcdDrqfcCnrFwtGwvngwvtWJtFjWW\n",
      "dFDpmttBlvNNgWlglNDBFttmTGHTcSSJJHHnMsJsGGSdqcJj\n",
      "zLbwMLVQbQRwVsJsSHSsHcJqbj\n",
      "wfVZLPzfZZmpMZZMBl\n",
      "PZHZMJSTBWHNWSHzVnhhfnhThhpnpC\n",
      "jFdBBtrFjpfnjfnf\n",
      "ccGrbblbGRDQMlvmQBvmBl\n",
      "PCCTsnbPbHDnlDfDNB\n",
      "rMjQltgSqtvMjScQggjfVVzBzFHzGfVGDLGBqB\n",
      "vdtrMSttcdwcpSQSdglMrtWRRPJZCpsRZJmWRRWChWPh\n",
      "pWzbsPCCPPpbptSMCJJwBQQGQt\n",
      "cDDmcTTRRqzFRddVTSJwMShMtBwhwQMDwv\n",
      "HldqVmVlZdLTcmRFdrngNNzrffjWpPLggP\n",
      "JPqvjJmmqvSLmPtpZdcftdmtfdCC\n",
      "swwhDRwBBHjFFBtBfZ\n",
      "RRzNQDwznDsDwWJjLNlrSPLSTr\n",
      "VQmdRLvDlmqZdFrBBJdW\n",
      "CMstGsnHnHGGMrMZwMpwBSbW\n",
      "GnsshssNfjtsnggnHCGhjtmfLQQczllvDRVTTQllQWlQ\n",
      "dhbNbswbwVdNtVdstBtgbNQTBCCSFTmfmMFmfRqQmmQM\n",
      "HFljLrvZfMQQQPvm\n",
      "WrpznLZZrnplpWbgdFcFsNzszgst\n",
      "LjddfTlMccnBfDQBtBQb\n",
      "ZRSNchHwhNNCHNSWPQFFFHDBBtnQDH\n",
      "CNpZshSZgpwJmpdLMlplMc\n",
      "bTmTFmqzgbBntRVsFvVwcv\n",
      "CZfMrlZLLLMlfPZRLRHGstnjGwtvGcsSVwtcSGvn\n",
      "ClZpMLCRMZMrHMLmWpqQBpzpgQzmbg\n",
      "jDmSSGWDDdWdSqqDDqCqpJzqRRqpJnRsMRcMzM\n",
      "lPgNPvPrrgNrPhNszFggnRzccbMJgz\n",
      "ZQTHQvQTZPrrQlBBrNvQZZGtTtGdsVCGsCTLLGDmLsjt\n",
      "rbCfBrbsvQqRFZRNZC\n",
      "HLSTcwqwZSQFFgRZ\n",
      "wdDwjpMHqJDTMTdqjlfBvGBhsbfhbsnb\n",
      "ZhZcHHHlhgchHhlCZZhLCCbGdrsBBGPNBjGbsjNNjnJnPn\n",
      "wtJqqwDqQQMQFqSqTzwzVTBnGdsjBdnMdPGBBsBdnrjr\n",
      "RVzJzmSVZmLLWpCc\n",
      "gdqjQQrlhhQlQrhsnjjhLgmmvmHBBmTmZRsHJzTBHRJv\n",
      "NwNnGNbGPbmTGpJzppBG\n",
      "nDnVDfMDrQqQStgM\n",
      "MLbgbppMMgLmHgQttGQJgJrBShwNShWBBSNNrwNqNN\n",
      "GnTFlzCVVwPRrVWhSw\n",
      "GnDDdvdnZDTdnGMsHbbttZgttLbc\n",
      "mdmPmjClrTzqttfm\n",
      "cpFnSbcQQsqNNtqWJzHS\n",
      "QFpcMMBcZtLpQBjVjZhlPjjVlwvw\n",
      "spVsPjTZZMpZMVLDjmdSQJCLJSmLzdJQdl\n",
      "HhRnNrqwMhNhnqnHwGNRFBNBrzSCSdQmQCdddbrQSSclSSbQ\n",
      "nFNqGRvqBfjMvTssfZ\n",
      "FjjzjnpFqqzFFqgFSZjBhHfHhnHRDDwfdTdLfD\n",
      "MmCMGCsMWbtJrtCWCbmsmWWhdLGGwRBwdfdLhdTLhHHTBd\n",
      "bJmtrRvRjgzFFvVq\n",
      "RWwWmVQGMFGmMGVCVWRRZSBgDdSdJGlSJpcBGGSlpJ\n",
      "HHhQThnjBDHfSBlS\n",
      "bPhNjbsssQzFNQqWmz\n",
      "FTDtrjqwwqGtDbGnfBlcnLcWBZwlWn\n",
      "mMhRMvJsJvJnMHCvHmhLZLQlhWQBBfPfLPBZ\n",
      "HRCCsdNdvNmCvggFStbzjbGSSjjn\n",
      "sLGddsvvcZmLvrLMGcMsVnTTlqlHCsTHHVVgVt\n",
      "wRbfJPbpNRffRJMBhpDntTCHFNVgqllFlqggHC\n",
      "DpfbPhRDJPMJppJwzfpbbDGSjrGZvdccQdjGvQZdvrLz\n",
      "wTwLNLVTqnLMsBwfMsJmCj\n",
      "JhlGvcdJhSFvFvvvMfgBpCzjzdCfsMMs\n",
      "DSlPPJSGWrDcFPhtFhWJZHQZLTQVnRWRbHbZHQQT\n",
      "TmTgTrPDNLNVlDrmlbgNmrSSGbzjZGMvjpZjvvphWMzW\n",
      "QtBfdfQcdfHtZcnZnGZzchnp\n",
      "HQHwRBGfBCGBtsrCNPDTmTlNLr\n",
      "bfNhjhNJDWhlWhlRRR\n",
      "SsscnHgnSnZnltqqfWRWrzZv\n",
      "cnfTMfmMnTnmFGsnTVLLLpQJbpbbjpdTdN\n",
      "BqwZzqRQQRRPSlFRQDDwdfWwhJphnfgfnpMdJfdM\n",
      "rcTLrcrvDDChWJhfpTgTJh\n",
      "DHGbGNVCZStGqSqS\n",
      "dlfdRNNfVdLwrRnwdwRmhLFsbsJJgLqbgCBWBCsW\n",
      "PHDppMPMHHDPzmBBCmWJqCmbJD\n",
      "HzzZHmZzQcNdRRdZwddr\n",
      "wrlshslPsSRfvrQvwbrslCDghtDgCVhDhBVJCFHddt\n",
      "mZnGpWpWzGTMqnFqDqJNDNFJVJqH\n",
      "LjpzGcjMGcTzcmmznWSRsfRPfcrbFQcfrwcv\n",
      "rWBmmmtNmmtBbtlwnhJJVZbw\n",
      "FsRcjGdLdvFslZbQJZwQps\n",
      "GHFGvMccFPjgDNbmWWBTTHNz\n",
      "GhHzmhmwlpbltGBmBmsZsBZsfCWC\n",
      "rgrcCCPdsWBgNVBD\n",
      "RnRMdQPMCqndSdQdcQhblpLLwhJbbpzGzwpS\n",
      "NNQtStFPpJwhRbRzRbqpZZ\n",
      "jLnmdJrrdDTdbgWbTbRW\n",
      "JHvnMCmDnMnMljLCDmMLjHNFGGNBPVtQQFtSNFQtPQBv\n",
      "BFbBRllFZJnPVJbV\n",
      "GpGHwgzcLhDcwttwthzzhHcPTjZjMgMVZjgZTMmTnMZWJVJm\n",
      "GccwhqcDtlrPqQrRNQ\n",
      "gWHWLgHBHQdFhjGGThTQhR\n",
      "pZsSMpZMJJSzMszzzqclpfjvrvvcRGGTcTVhbVvRbTGTRG\n",
      "lnMwsqZqsslpjlSMSsffZqqJBgHNNPNDWdLLgdDgdLHPWwCw\n",
      "qfNvBCBfBqfNMBqCZZfcnmnvtwScpwFSpSsSwt\n",
      "HzdVzLWPPGGDdnsswnztsRsnmn\n",
      "QddWVQgJPPHJTJbjBtNTTq\n",
      "DdRDDPRGGPGccfcbJwsbJWzsnznlLLWzWTLWhVVVVS\n",
      "CvCrNCqgFqvmqNZFZqqZvpWlVrlVhlhnTLShlDWnzVBD\n",
      "jvqpvpvpQNCQQCZZmmNgZfdGddRjJDPRMHcHJDHPJf\n",
      "ttdtBtPPMqWMdgPPBbVGWfTGTTzSVLfVrzCS\n",
      "ZpDpvRpZDDcmmjmZfLSrwzRnSVSnwTTR\n",
      "ZvQmjFVHJFDcQjDlZcDVHdqMNtqNBPtPJtbhhbdbts\n",
      "dGdwwLLpgwgssJpgssNhpJlnbfjnzFfcbfttGjzjlntf\n",
      "VQvDvHVVQHrQHDCZVBChrHFtzffnfltFFtncnvFtllMl\n",
      "VBShSqDVRVSTmppPwwsP\n",
      "fTFDTLNNzlcNrmDcrMDTFPwCSsbCbPPsnCPwLSPvbs\n",
      "ttQqhJtBRRGnvgHGnlSnbl\n",
      "hZBJlQBRjVRBRjhtRRMNFVmFmfDNrfWcFVmD\n",
      "mcTZFBFmqBjmBgPtCtPprmssStCP\n",
      "LWDQNqDJfQNJddnWfzhfsPRVppVVsSptftpVMS\n",
      "NDGnJDDDbzddWdNbGNQQLQbqqFBBFcjlZBlHjlZHGBTvZB\n",
      "PwDzvphPwVwWBqLLwnJWTq\n",
      "jdCGCgjmllCrmmlmjrbgmRdgJSSJJFLSSqJfLnqLLLbWffLB\n",
      "mRdjcMHgDpZhDqMZ\n",
      "cqLjhhrwZwJbBqZhMwbZZdGWdGSllWFvLFGQdnGFQG\n",
      "gHHVzzppRVggcgpcGWRQRSvdSvvGWvll\n",
      "HmNNHtVggHsHPtrhJsbjbwCrCqJc\n",
      "zqPvzLVvzFFQZzWpRLlmHRDHmRCHDH\n",
      "dNjnJGGrGdqqMprRlpqB\n",
      "GsgtjhSsSvvSFqvP\n",
      "pVrfzzjrjWVWTWjrNZvnJSJZqnnqnpSZZS\n",
      "bdQVQPRPDdcbRGPFddRVMVlZlMlBqSBBZSvSZwnwvJBS\n",
      "bFbcFbCPPCbbVHCCdVgWfrzjmWfrWrNWgHfT\n",
      "JgJqLjjjVGgdqGDZGzlGRStStT\n",
      "PHrHccmrMrTSMVStRtRR\n",
      "HWPWffNsrppfPWNsVFsmPNCJwwjdJdvdvnJwghBLJLpdLJ\n",
      "HtHvcnDSDgDcDHtpLrvwjwjfZMjffw\n",
      "CPWzdJdqVdWZpnLdwnrfdn\n",
      "GNCNmTQnPVRRglSlHsSG\n",
      "FJdhjTPbdPJjTPjTjPtSLsSBWWRcCvCvsBWztc\n",
      "MfGgrHMDDpMnZGDLCRLScCsBlgWvzB\n",
      "HnmpmNNHGZZpZZrnMPFFbNCNbFdTPVFFFN\n",
      "TJrrrJQTqJqmTltfRrgfgtgFFg\n",
      "jLRzBvBjjcnFBNwWlgBZFt\n",
      "RMjMCGpGzGznzhRmmPPDPsmMmPQmJs\n",
      "BZqwQCQZGZcVBczqBHtfbbbWfTqNWfMfPNqW\n",
      "LLpmFjpvpHrvRFSRDRMWbdbtfPWPbjtMgMtW\n",
      "SDnrpDprDFnQhZCVnhcH\n",
      "WTsBBQTfQQTTbJBbZbnfTsRFwFrjwjFlrRqvrrlqvWRV\n",
      "pGcShcGSLNJNHCLttlpllRFgpRFlRpgRrg\n",
      "GzcMLScSGJGtCbsbQfbZbMBnBn\n",
      "NGCLGjVjZjQwTGJRQdWM\n",
      "cFTcvSrFmnnpSmndMswsRMJWRwMHps\n",
      "rrrhhcTznqvzmcccvvmhgzqDgbgttlDtjjjlfVCfZCjZZV\n",
      "ccDMHddWNDnnNWMMzdHJJmSQhfQZfvQZflrZQfdVfLLZ\n",
      "bgBFRTwFtgqCgpRGFpvpVllZlhjrrlVlvj\n",
      "wtbBGPTPtRTgbCTBqFgGRwFnsWJnmDMsWMJJMzHPhDmJzP\n",
      "zsbsMtMMdnffBbzNsBtCCWLpLrCrcNLVDWVVcD\n",
      "TmPhJRvwmjmhFJwjjRPFPTvJGVCcCGBrDpccpDrCrWCVDVFZ\n",
      "QvSTvBhqwjPmwddHgtqMnllzMl\n",
      "gftDtqnpqzGZsFcthbtZ\n",
      "VlNPrBrRNrLBmdRVFCcGCZTFCsTCsbLL\n",
      "VdldlljlSNHBsSlqfgqMDDvzpHJHWg\n",
      "tQDLvFLcDrWrcnsHffCGgGHG\n",
      "ZRPTPJqhMZJZVllRZJPVZPRHnhCnfdssnCznzGhdgfwCHn\n",
      "qPqlPVlTlSqbZZVJplqlPDmrjWFtmLtFWgQvtmtFvp\n",
      "zlZzdNRPgGGzsLGCDBBtCDCtSncScP\n",
      "vWvHWbqjrFMbvrTWcVnQBBBSjLDcQJcL\n",
      "wfLHwfFqLFbhHvWhMWqwbwwRspssmzgpzGgmmNfmzmRGRz\n",
      "rPvLrQBvBLsLLdtrgssgZjwFwlnCFMtMFnlllnnb\n",
      "mNmmzpWHlzjlJMJb\n",
      "TVSVTWpqRWpSTqNbTVRBPDfLLPrSLrsfQrrvsf\n",
      "nRjpQWnQnRQzMjRdrtvvPCfmvGtPfMcCtG\n",
      "TDbrbhNZVbbbbwhDZDhbTTGfcftqcGVvmmcqcJCcCPmJ\n",
      "NLhrSwgwgnsLsQWljW\n",
      "JWqVSpGNPdNNzdZJJpMzHzwLgsMwzwQwMBgL\n",
      "clrlcvrRfccCtFbHrBWLgwLHmMHsHg\n",
      "DbfDFjcvRcvchWZVWdNpGZNqdh\n",
      "sdfvFLfmtszQwLfddRpmtDDBjVNWGMNQVQNMJGWJMj\n",
      "lccrncTZhqqcqhWggvrjMNMGrJMG\n",
      "SblShnZCqSbPhhbcbTTSZFdFsFpmdRwPwzvmswLtmm\n",
      "PGwwHpfnFSvVpWqWCQNNjCbbnW\n",
      "lmddlhcDRBlLRchdmzbNjqqWTcbNPNWTzz\n",
      "RBMrRdRhlDtPrJtfwFHpsvrHpFSrFw\n",
      "hhwlglFFSQndLRFbmCbTTz\n",
      "NczHMMqzpzPcpfBffcmTrdfGbbRbGrdGrLCL\n",
      "qNzNPqMjcqNBWWccBHsZPDhJnllwnwvJvQnJhQsgvD\n",
      "mbmvmvbbprZmlFmZbFgLffgQtFNHNhfqQtNQ\n",
      "SJcdzjSJBzdBdJDzQhhLQfqzNQQHggRL\n",
      "jwDwcTTDThvTZPPW\n",
      "FSVBBBvHvCpVVDDGcGwNNhhctwMvMc\n",
      "fLLZsZVQmjfTfqQRmQhhtgbbJbGJRghtcGct\n",
      "qTsTQdqjVfqdVdZZqVLpCpzSpdppBlSpCFdHSC\n",
      "sQQhWsMmQshlhmMQZFDHDJFjgjzHZgcHdH\n",
      "LnwnpNRrnrbCqqLpwnqfnLcvFHJFzNcHzJcgJJHgdDgN\n",
      "wCbnpCfPCVqwwnrrbbPRGMMlSllmlTTmsThVMlsd\n",
      "pzrprfwgbwtwqzrCWbqCwqSMvddHdDSvtHRlDnRRDddD\n",
      "zQLzQQjPBPFcLcQFTFsmNQzcMNdDdvnldHHvdvnDnRnlvRnJ\n",
      "cTZGzzscLcPrqrfrZqqbVV\n",
      "DcSdcTwDLmcwDwvWssGfJfcJQZPGnfcs\n",
      "FlHFMgtgNggpsztMHMqpjgBBnCfPflfQnZCQBBCnRPZC\n",
      "gpVjqNVrHFtjqqzSLDTSmTDwwrmhbs\n",
      "MLMzJTsZzZMgMLgHMmVmdCVhCBlQwDwwhChD\n",
      "vtPRQpbqCldwdtBC\n",
      "bQqFbnQbcFfjPRFPQnTrMMgcJgJrssrzgrgS\n",
      "mtdGJmQRFmdtQvdvtRtdHzHzqZqpHFzZnCzhZjjH\n",
      "fPwVlllswMVNPfBDDlNVsMsfcBjchHncqzjZbpzjcqCnpHHn\n",
      "rlsNPWNlhWTPMMNPfwNWTLQRvQLLmgvSJvRJgTRG\n",
      "TwnqhqqgvQnGBGmBDp\n",
      "SMjclJSjjVJgCzCzNgpmdBpmBGspRBmpDDVB\n",
      "JjMCgMMHMMZNStllZSNHhPqFhFWfqPPqTqhLFqtL\n",
      "lRQPtjPRlDdStDSlPmvllvLsCphFfCHLHggspgFmsFLH\n",
      "qwpTNprcbNWVHLrfFssBgFCM\n",
      "NTWTnzTTWGZZZVRSRRQGpdDtSQRp\n",
      "gpwTPNPBPTdLLLLVGl\n",
      "jSHdjzZHMcDVtDvFjtCF\n",
      "HqfZMHzbcqRRRWgdqPmBBBNmwW\n",
      "PvSBtdFgvSmBPngFBTBjbSjwwpGjsppMjNpMjj\n",
      "VZLfVQLzQQQhllpcNcwbssvwwwZj\n",
      "vHWLVVqWTmTgttgq\n",
      "CNRmNRFNRCWbWNCrlmfGlWqFLsDZQZBZzgwQZsBsDZZCzczB\n",
      "MSjdVHvHnDDhHvdwBwssZVzwcgLcQg\n",
      "HnMMTdttHSHSpHvDddpSHTjWlNWFlmRtRmRbqGfqGGNNfR\n",
      "fBLTDppznrfTndfnfTzTLPvZvvHVbRbggjvzVbzvbV\n",
      "mwmDGGlqDhMqthGqhJMWmlNVRZPHjgwjjRZbbHRgRHvv\n",
      "DmhsJsshWGhSGlmlmrdcLLsTBBfcfnBppc\n",
      "mbCGFFmGmcdTrCTQdh\n",
      "MJHfJNLllJffPLRTdBqTRQNcqQGB\n",
      "fPJHfSSSWfSLDMLWGHDMLDFmznmsjmvZwzvjZjbvbZ\n",
      "pPvpJSfZTTvCzNZczzQZchcj\n",
      "svbHWsqsvbsMFtVHgVtcRQcDlQRRRQLjlqjczj\n",
      "tBsgvHVMFggbgFrgWnwSndfBmmBJfPSfpn\n",
      "jwbwfjSbwjVSjvZPzWSvhvhQlCsBFgLRLLgBLRClLLFQQw\n",
      "GdNJHpmHTDnTNJqnFCgBLFLFzFtsQRCd\n",
      "NpMJHpnMrDpJGTHqTTmJHTPjfcvbWfrffVzvZfVWSbjz\n",
      "wFwpqWwwpqwtqqrbCFtptDmCcfNhNRzRBZRRJRChVNBZBJ\n",
      "svlvjHsQlvdlvMLdlvPSSLtzzczcNhJthfNtRcNMJNMc\n",
      "HvvPLSHjgltjsvqwbbnmWmDpgwTT\n",
      "zhCmPVwwChdCBtsWnNWswBWr\n",
      "GJJSfSgFpjJjGgpfpgrcNNstvnBHNnHLtFHr\n",
      "jgDTfjpMgZMGMGJTMMJRhzZPCzbhVlPqdNCbhd\n",
      "bDbQQmVDRpDNbRQlfQQZnfwTlllfsT\n",
      "FChzzBWhVzrgMwffJwlnngnTlJ\n",
      "MCvqvhFzcHCChjtpNNVLppGmbq\n",
      "bZZzJnccqdzcLhrcQDLrDs\n",
      "FfCfWVfjWTFClClfwjWCfGGwhZSDhSLsSSRpZprLph\n",
      "mFmTMmFjMMWFfZtttflWjmWTngNHJHggJJHtzgnJvBtBgHdv\n"
     ]
    }
   ],
   "source": [
    "for i in range(len(data_array)):\n",
    "    print(data_array[i])"
   ]
  },
  {
   "cell_type": "code",
   "execution_count": 15,
   "id": "8876a18c",
   "metadata": {},
   "outputs": [
    {
     "data": {
      "text/plain": [
       "int"
      ]
     },
     "execution_count": 15,
     "metadata": {},
     "output_type": "execute_result"
    }
   ],
   "source": [
    "type(i)"
   ]
  },
  {
   "cell_type": "code",
   "execution_count": 31,
   "id": "5cd932f5",
   "metadata": {},
   "outputs": [
    {
     "name": "stdout",
     "output_type": "stream",
     "text": [
      "[['M'], ['P'], ['G'], ['l'], ['s'], ['t'], ['Z'], ['n'], ['p'], ['z'], ['H'], ['Q'], ['R'], ['F'], ['t'], ['m'], ['W'], ['r'], ['q'], ['q'], ['m'], ['M'], ['B'], ['l'], ['z'], ['j'], ['W'], ['F'], ['c'], ['R'], ['s'], ['q'], ['J'], ['n'], ['G'], ['t'], ['M'], ['R'], ['Q'], ['n'], ['M'], ['J'], ['G'], ['f'], ['D'], ['m'], ['F'], ['b'], ['C'], ['J'], ['P'], ['j'], ['t'], ['D'], ['V'], ['h'], ['l'], ['q'], ['q'], ['c'], ['q'], ['V'], ['V'], ['n'], ['C'], ['R'], ['H'], ['J'], ['T'], ['h'], ['B'], ['s'], ['g'], ['L'], ['b'], ['r'], ['W'], ['v'], ['P'], ['z'], ['h'], ['V'], ['d'], ['z'], ['s'], ['Q'], ['h'], ['g'], ['p'], ['d'], ['v'], ['D'], ['D'], ['G'], ['v'], ['z'], ['t'], ['N'], ['V'], ['Z']]\n"
     ]
    }
   ],
   "source": [
    "answer_first_array = []\n",
    "array = []\n",
    "final_array = []\n",
    "for i in range(0, len(data_array), 3):\n",
    "    group_of_three = data_array[i:i+3]\n",
    "    #print(group_of_three)\n",
    "    for i in range(len(group_of_three[0])):\n",
    "        if group_of_three[0][i] in group_of_three[1]:\n",
    "            answer_first_array.append(group_of_three[0][i])\n",
    "    #print(answer_first_array)\n",
    "    for i in answer_first_array:\n",
    "        if i in group_of_three[2]:\n",
    "            array.append(i)\n",
    "    #print(array)\n",
    "    final_array.append(list(set(array)))\n",
    "    array =[]\n",
    "    answer_first_array=[]\n",
    "print(final_array)"
   ]
  },
  {
   "cell_type": "code",
   "execution_count": 32,
   "id": "ede0b1ae",
   "metadata": {},
   "outputs": [
    {
     "name": "stdout",
     "output_type": "stream",
     "text": [
      "M P G l s t Z n p z H Q R F t m W r q q m M B l z j W F c R s q J n G t M R Q n M J G f D m F b C J P j t D V h l q q c q V V n C R H J T h B s g L b r W v P z h V d z s Q h g p d v D D G v z t N V Z\n"
     ]
    }
   ],
   "source": [
    "flattened_list = [item for sublist in final_array for item in sublist]\n",
    "\n",
    "# Join the elements of the flattened list into a single string with space as the separator\n",
    "final_string = \" \".join(flattened_list)\n",
    "\n",
    "print(final_string)\n"
   ]
  },
  {
   "cell_type": "code",
   "execution_count": 33,
   "id": "153c13c9",
   "metadata": {},
   "outputs": [
    {
     "data": {
      "text/plain": [
       "'MPGlstZnpzHQRFtmWrqqmMBlzjWFcRsqJnGtMRQnMJGfDmFbCJPjtDVhlqqcqVVnCRHJThBsgLbrWvPzhVdzsQhgpdvDDGvztNVZ'"
      ]
     },
     "execution_count": 33,
     "metadata": {},
     "output_type": "execute_result"
    }
   ],
   "source": [
    "final_string = final_string.replace(\" \", \"\")\n",
    "final_string"
   ]
  },
  {
   "cell_type": "code",
   "execution_count": 34,
   "id": "aaf84d45",
   "metadata": {},
   "outputs": [],
   "source": [
    "total = 0\n",
    "for f in final_string:\n",
    "    total += priority_dictionary[f]"
   ]
  },
  {
   "cell_type": "code",
   "execution_count": 35,
   "id": "856f0d22",
   "metadata": {},
   "outputs": [
    {
     "data": {
      "text/plain": [
       "2639"
      ]
     },
     "execution_count": 35,
     "metadata": {},
     "output_type": "execute_result"
    }
   ],
   "source": [
    "total"
   ]
  },
  {
   "cell_type": "code",
   "execution_count": null,
   "id": "24eaf081",
   "metadata": {},
   "outputs": [],
   "source": []
  }
 ],
 "metadata": {
  "kernelspec": {
   "display_name": "Python 3 (ipykernel)",
   "language": "python",
   "name": "python3"
  },
  "language_info": {
   "codemirror_mode": {
    "name": "ipython",
    "version": 3
   },
   "file_extension": ".py",
   "mimetype": "text/x-python",
   "name": "python",
   "nbconvert_exporter": "python",
   "pygments_lexer": "ipython3",
   "version": "3.10.13"
  }
 },
 "nbformat": 4,
 "nbformat_minor": 5
}
