{
 "cells": [
  {
   "cell_type": "code",
   "execution_count": 18,
   "id": "9ed43bb7",
   "metadata": {},
   "outputs": [],
   "source": [
    "with open(\"Advent of Code 2023 - 6.txt\") as file:\n",
    "    data = file.read()"
   ]
  },
  {
   "cell_type": "code",
   "execution_count": 19,
   "id": "583e0fa5",
   "metadata": {},
   "outputs": [
    {
     "data": {
      "text/plain": [
       "'Time:        48     93     85     95\\nDistance:   296   1928   1236   1391'"
      ]
     },
     "execution_count": 19,
     "metadata": {},
     "output_type": "execute_result"
    }
   ],
   "source": [
    "data"
   ]
  },
  {
   "cell_type": "code",
   "execution_count": 20,
   "id": "71fa05ae",
   "metadata": {},
   "outputs": [],
   "source": [
    "data_array = data.split(\"\\n\")"
   ]
  },
  {
   "cell_type": "code",
   "execution_count": 21,
   "id": "165adc9e",
   "metadata": {},
   "outputs": [
    {
     "data": {
      "text/plain": [
       "['Time:        48     93     85     95',\n",
       " 'Distance:   296   1928   1236   1391']"
      ]
     },
     "execution_count": 21,
     "metadata": {},
     "output_type": "execute_result"
    }
   ],
   "source": [
    "data_array"
   ]
  },
  {
   "cell_type": "code",
   "execution_count": 22,
   "id": "0eb23618",
   "metadata": {},
   "outputs": [
    {
     "name": "stdout",
     "output_type": "stream",
     "text": [
      "Time:        48     93     85     95\n",
      "Distance:   296   1928   1236   1391\n"
     ]
    }
   ],
   "source": [
    "for i in range(len(data_array)):\n",
    "    print(data_array[i])"
   ]
  },
  {
   "cell_type": "code",
   "execution_count": 23,
   "id": "88778aa3",
   "metadata": {},
   "outputs": [],
   "source": [
    "time = 15\n",
    "distance = 40"
   ]
  },
  {
   "cell_type": "code",
   "execution_count": 27,
   "id": "5dfdc8c4",
   "metadata": {},
   "outputs": [],
   "source": [
    "def number_of_winning(time,distance):\n",
    "    count = 0\n",
    "    for i in range(time):\n",
    "        if i * (time-i) >= distance:\n",
    "            count+= 1 \n",
    "    return count"
   ]
  },
  {
   "cell_type": "code",
   "execution_count": 29,
   "id": "9553c3f1",
   "metadata": {},
   "outputs": [
    {
     "data": {
      "text/plain": [
       "2756160"
      ]
     },
     "execution_count": 29,
     "metadata": {},
     "output_type": "execute_result"
    }
   ],
   "source": [
    "result = number_of_winning(48,296) * number_of_winning(93,1928) * number_of_winning(85,1236) * number_of_winning(95,1391)\n",
    "result"
   ]
  },
  {
   "cell_type": "code",
   "execution_count": 30,
   "id": "881f5b2d",
   "metadata": {},
   "outputs": [
    {
     "data": {
      "text/plain": [
       "34788142"
      ]
     },
     "execution_count": 30,
     "metadata": {},
     "output_type": "execute_result"
    }
   ],
   "source": [
    "result = number_of_winning(48938595,296192812361391) \n",
    "result"
   ]
  },
  {
   "cell_type": "code",
   "execution_count": null,
   "id": "9b71ec59",
   "metadata": {},
   "outputs": [],
   "source": []
  }
 ],
 "metadata": {
  "kernelspec": {
   "display_name": "Python 3 (ipykernel)",
   "language": "python",
   "name": "python3"
  },
  "language_info": {
   "codemirror_mode": {
    "name": "ipython",
    "version": 3
   },
   "file_extension": ".py",
   "mimetype": "text/x-python",
   "name": "python",
   "nbconvert_exporter": "python",
   "pygments_lexer": "ipython3",
   "version": "3.10.13"
  }
 },
 "nbformat": 4,
 "nbformat_minor": 5
}
