{
 "cells": [
  {
   "cell_type": "code",
   "execution_count": 6,
   "id": "92cae4fd",
   "metadata": {},
   "outputs": [
    {
     "name": "stdout",
     "output_type": "stream",
     "text": [
      "first: 12\n",
      "second: 16\n",
      "The HFC is :  4\n"
     ]
    }
   ],
   "source": [
    "#HCF\n",
    "a= int(input(\"first: \"))\n",
    "b= int(input(\"second: \"))\n",
    "\n",
    "def hcf(a,b):\n",
    "    while a!=0 and b!=0:\n",
    "        if a>b:\n",
    "            a = a%b\n",
    "        else:\n",
    "            b= b%a\n",
    "    return a+b\n",
    "print(\"The HFC is : \", hcf(a,b))"
   ]
  },
  {
   "cell_type": "code",
   "execution_count": 10,
   "id": "0e157bdb",
   "metadata": {},
   "outputs": [
    {
     "name": "stdout",
     "output_type": "stream",
     "text": [
      "first: 50\n",
      "second: 15\n",
      "The LCM is :  150.0\n"
     ]
    }
   ],
   "source": [
    "#LCM\n",
    "a= int(input(\"first: \"))\n",
    "b= int(input(\"second: \"))\n",
    "\n",
    "def lcm(a,b):\n",
    "    lcm_val = (a*b) / hcf(a,b)\n",
    "    return lcm_val\n",
    "print(\"The LCM is : \", lcm(a,b))"
   ]
  },
  {
   "cell_type": "code",
   "execution_count": 5,
   "id": "e7ae3c22",
   "metadata": {},
   "outputs": [
    {
     "name": "stdout",
     "output_type": "stream",
     "text": [
      "first: 27\n",
      "second: 3\n",
      "3\n"
     ]
    }
   ],
   "source": [
    "#root\n",
    "a= int(input(\"first: \"))\n",
    "b= int(input(\"second: \"))\n",
    "\n",
    "def root(a,b):\n",
    "    root = 0\n",
    "    for i in range(1,a+1):\n",
    "        if (i**b) == a:\n",
    "            root = i\n",
    "    return root\n",
    "print(root(a,b))"
   ]
  },
  {
   "cell_type": "code",
   "execution_count": null,
   "id": "2f1cd54a",
   "metadata": {},
   "outputs": [],
   "source": []
  }
 ],
 "metadata": {
  "kernelspec": {
   "display_name": "Python 3 (ipykernel)",
   "language": "python",
   "name": "python3"
  },
  "language_info": {
   "codemirror_mode": {
    "name": "ipython",
    "version": 3
   },
   "file_extension": ".py",
   "mimetype": "text/x-python",
   "name": "python",
   "nbconvert_exporter": "python",
   "pygments_lexer": "ipython3",
   "version": "3.11.5"
  }
 },
 "nbformat": 4,
 "nbformat_minor": 5
}
