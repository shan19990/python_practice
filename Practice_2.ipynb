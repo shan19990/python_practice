{
 "cells": [
  {
   "cell_type": "code",
   "execution_count": 6,
   "id": "92cae4fd",
   "metadata": {},
   "outputs": [
    {
     "name": "stdout",
     "output_type": "stream",
     "text": [
      "first: 12\n",
      "second: 16\n",
      "The HFC is :  4\n"
     ]
    }
   ],
   "source": [
    "#HCF\n",
    "a= int(input(\"first: \"))\n",
    "b= int(input(\"second: \"))\n",
    "\n",
    "def hcf(a,b):\n",
    "    while a!=0 and b!=0:\n",
    "        if a>b:\n",
    "            a = a%b\n",
    "        else:\n",
    "            b= b%a\n",
    "    return a+b\n",
    "print(\"The HFC is : \", hcf(a,b))"
   ]
  },
  {
   "cell_type": "code",
   "execution_count": 10,
   "id": "0e157bdb",
   "metadata": {},
   "outputs": [
    {
     "name": "stdout",
     "output_type": "stream",
     "text": [
      "first: 50\n",
      "second: 15\n",
      "The LCM is :  150.0\n"
     ]
    }
   ],
   "source": [
    "#LCM\n",
    "a= int(input(\"first: \"))\n",
    "b= int(input(\"second: \"))\n",
    "\n",
    "def lcm(a,b):\n",
    "    lcm_val = (a*b) / hcf(a,b)\n",
    "    return lcm_val\n",
    "print(\"The LCM is : \", lcm(a,b))"
   ]
  },
  {
   "cell_type": "code",
   "execution_count": 5,
   "id": "e7ae3c22",
   "metadata": {},
   "outputs": [
    {
     "name": "stdout",
     "output_type": "stream",
     "text": [
      "first: 27\n",
      "second: 3\n",
      "3\n"
     ]
    }
   ],
   "source": [
    "#root\n",
    "a= int(input(\"first: \"))\n",
    "b= int(input(\"second: \"))\n",
    "\n",
    "def root(a,b):\n",
    "    root = 0\n",
    "    for i in range(1,a+1):\n",
    "        if (i**b) == a:\n",
    "            root = i\n",
    "    return root\n",
    "print(root(a,b))"
   ]
  },
  {
   "cell_type": "code",
   "execution_count": 2,
   "id": "2f1cd54a",
   "metadata": {},
   "outputs": [
    {
     "name": "stdout",
     "output_type": "stream",
     "text": [
      "Thank you for choosing Python Pizza Deliveries!\n",
      "L\n",
      "Y\n",
      "N\n",
      "28\n"
     ]
    }
   ],
   "source": [
    "print(\"Thank you for choosing Python Pizza Deliveries!\")\n",
    "size = input() # What size pizza do you want? S, M, or L\n",
    "add_pepperoni = input() # Do you want pepperoni? Y or N\n",
    "extra_cheese = input() # Do you want extra cheese? Y or N\n",
    "# 🚨 Don't change the code above 👆\n",
    "# Write your code below this line 👇\n",
    "total = 0\n",
    "\n",
    "match size:\n",
    "  case \"S\":\n",
    "    total += 15\n",
    "  case \"M\":\n",
    "    total += 20\n",
    "  case \"L\":\n",
    "    total +=25\n",
    "\n",
    "match add_pepperoni:\n",
    "  case \"Y\":\n",
    "    if(size == \"S\" or size == \"M\"):\n",
    "      total+=2\n",
    "    else:\n",
    "      total +=3\n",
    "      \n",
    "match extra_cheese:\n",
    "  case \"Y\":\n",
    "    total +=1\n",
    "print(total)"
   ]
  },
  {
   "cell_type": "code",
   "execution_count": 20,
   "id": "c2320ca9",
   "metadata": {},
   "outputs": [
    {
     "name": "stdout",
     "output_type": "stream",
     "text": [
      "The Love Calculator is calculating your score...\n",
      "Jack Bauer\n",
      "Angela Yu\n",
      "53\n"
     ]
    }
   ],
   "source": [
    "print(\"The Love Calculator is calculating your score...\")\n",
    "name1 = input() # What is your name?\n",
    "name2 = input() # What is their name?\n",
    "# 🚨 Don't change the code above 👆\n",
    "# Write your code below this line 👇\n",
    "name = name1+name2\n",
    "t=0\n",
    "r=0\n",
    "u=0\n",
    "e=0\n",
    "l=0\n",
    "o=0\n",
    "v=0\n",
    "e=0\n",
    "for i in range(len(name)):\n",
    "    match name[i]:\n",
    "        case \"t\"|\"T\":\n",
    "            t+=1\n",
    "        case \"r\"|\"R\":\n",
    "            r+=1\n",
    "        case \"u\"|\"U\":\n",
    "            u+=1\n",
    "        case \"e\"|\"E\":\n",
    "            e+=1\n",
    "        case \"l\"|\"L\":\n",
    "            l+=1\n",
    "        case \"o\"|\"O\":\n",
    "            o+=1\n",
    "        case \"v\"|\"V\":\n",
    "            v+=1\n",
    "\n",
    "true = t+r+u+e\n",
    "love = l+o+v+e\n",
    "total = true*10 + love\n",
    "print(total)"
   ]
  },
  {
   "cell_type": "code",
   "execution_count": 38,
   "id": "9eddfa4c",
   "metadata": {},
   "outputs": [
    {
     "name": "stdout",
     "output_type": "stream",
     "text": [
      "Tails\n"
     ]
    }
   ],
   "source": [
    "# Write your code below this line 👇\n",
    "# Hint: Remember to import the random module first. 🎲\n",
    "import random\n",
    "\n",
    "toss = round(random.random())\n",
    "if toss == 0:\n",
    "    print(\"Heads\")\n",
    "else:\n",
    "    print(\"Tails\")\n"
   ]
  },
  {
   "cell_type": "code",
   "execution_count": 46,
   "id": "e9cb6735",
   "metadata": {},
   "outputs": [
    {
     "name": "stdout",
     "output_type": "stream",
     "text": [
      "Alice\n"
     ]
    }
   ],
   "source": [
    "names_string = \"John, Jane, Bob, Alice\"\n",
    "names = names_string.split(\", \")\n",
    "\n",
    "import random\n",
    "\n",
    "ran_val = random.randint(0,len(names)-1)\n",
    "print(names[ran_val])"
   ]
  },
  {
   "cell_type": "code",
   "execution_count": 60,
   "id": "53aca0df",
   "metadata": {},
   "outputs": [
    {
     "name": "stdout",
     "output_type": "stream",
     "text": [
      "Hiding your treasure! X marks the spot.\n",
      "b1\n",
      "['⬜️', 'X', '️⬜️']\n",
      "['⬜️', '⬜️', '️⬜️']\n",
      "['⬜️️', '⬜️️', '⬜️️']\n"
     ]
    }
   ],
   "source": [
    "line1 = [\"⬜️\",\"️⬜️\",\"️⬜️\"]\n",
    "line2 = [\"⬜️\",\"⬜️\",\"️⬜️\"]\n",
    "line3 = [\"⬜️️\",\"⬜️️\",\"⬜️️\"]\n",
    "map = [line1, line2, line3]\n",
    "print(\"Hiding your treasure! X marks the spot.\")\n",
    "position = input() # Where do you want to put the treasure?\n",
    "# 🚨 Don't change the code above 👆\n",
    "# Write your code below this row 👇\n",
    "match position[0]:\n",
    "    case \"a\":\n",
    "        map[int(position[1])-1][0] = \"X\"\n",
    "    case \"b\":\n",
    "        map[int(position[1])-1][1] = \"X\"\n",
    "    case \"c\":\n",
    "        map[int(position[1])-1][2] = \"X\"\n",
    "    \n",
    "\n",
    "# Write your code above this row 👆\n",
    "# 🚨 Don't change the code below 👇\n",
    "print(f\"{line1}\\n{line2}\\n{line3}\")"
   ]
  },
  {
   "cell_type": "code",
   "execution_count": 72,
   "id": "946b7196",
   "metadata": {},
   "outputs": [
    {
     "name": "stdout",
     "output_type": "stream",
     "text": [
      "123 156\n",
      "The average height is 140\n"
     ]
    }
   ],
   "source": [
    "# Input a Python list of student heights\n",
    "student_heights = input().split()\n",
    "for n in range(0, len(student_heights)):\n",
    "    student_heights[n] = int(student_heights[n])\n",
    "# 🚨 Don't change the code above 👆\n",
    "# Write your code below this row 👇\n",
    "total = 0\n",
    "for n in range(0, len(student_heights)):\n",
    "    total += student_heights[n]\n",
    "avg = total/len(student_heights)\n",
    "print(\"The average height is {}\".format(round(avg)))"
   ]
  },
  {
   "cell_type": "markdown",
   "id": "94b21f7c",
   "metadata": {},
   "source": []
  },
  {
   "cell_type": "code",
   "execution_count": 19,
   "id": "543428c8",
   "metadata": {},
   "outputs": [
    {
     "name": "stdout",
     "output_type": "stream",
     "text": [
      "10 20 30 40 50\n",
      "The max score is : 50\n"
     ]
    }
   ],
   "source": [
    "# Input a list of student scores\n",
    "student_scores = input().split()\n",
    "for n in range(0, len(student_scores)):\n",
    "    student_scores[n] = int(student_scores[n])\n",
    "\n",
    "# Write your code below this row 👇\n",
    "max = 0\n",
    "for n in range(0, len(student_scores)):\n",
    "    if max < student_scores[n]:\n",
    "        max = student_scores[n]\n",
    "print(\"The max score is : {}\".format(max))"
   ]
  },
  {
   "cell_type": "code",
   "execution_count": 74,
   "id": "1ef1a7cb",
   "metadata": {},
   "outputs": [
    {
     "name": "stdout",
     "output_type": "stream",
     "text": [
      "100\n",
      "2550\n"
     ]
    }
   ],
   "source": [
    "target = int(input()) # Enter a number between 0 and 1000\n",
    "# 🚨 Do not change the code above ☝️\n",
    "\n",
    "# Write your code here 👇\n",
    "sum = 0\n",
    "for i in range(target+1):\n",
    "    if i%2 == 0:\n",
    "        sum+=i\n",
    "print(sum)"
   ]
  },
  {
   "cell_type": "code",
   "execution_count": 1,
   "id": "de98d8c9",
   "metadata": {},
   "outputs": [
    {
     "name": "stdout",
     "output_type": "stream",
     "text": [
      "Enter series length: 50\n",
      "1\n",
      "2\n",
      "Fizz\n",
      "4\n",
      "Buzz\n",
      "Fizz\n",
      "7\n",
      "8\n",
      "Fizz\n",
      "Buzz\n",
      "11\n",
      "Fizz\n",
      "13\n",
      "14\n",
      "FizzBuzz\n",
      "16\n",
      "17\n",
      "Fizz\n",
      "19\n",
      "Buzz\n",
      "Fizz\n",
      "22\n",
      "23\n",
      "Fizz\n",
      "Buzz\n",
      "26\n",
      "Fizz\n",
      "28\n",
      "29\n",
      "FizzBuzz\n",
      "31\n",
      "32\n",
      "Fizz\n",
      "34\n",
      "Buzz\n",
      "Fizz\n",
      "37\n",
      "38\n",
      "Fizz\n",
      "Buzz\n",
      "41\n",
      "Fizz\n",
      "43\n",
      "44\n",
      "FizzBuzz\n",
      "46\n",
      "47\n",
      "Fizz\n",
      "49\n",
      "Buzz\n"
     ]
    }
   ],
   "source": [
    "# Write your code here 👇\n",
    "#fizzbuzz game\n",
    "n = int(input(\"Enter series length: \"))\n",
    "for i in range(1,n+1):\n",
    "    if i%3 == 0 and i%5 == 0 :\n",
    "        print(\"FizzBuzz\")\n",
    "    elif i%5 == 0:\n",
    "        print(\"Buzz\")\n",
    "    elif i%3 == 0:\n",
    "        print(\"Fizz\")\n",
    "    else:\n",
    "        print(i)"
   ]
  },
  {
   "cell_type": "code",
   "execution_count": 83,
   "id": "bc603b2f",
   "metadata": {},
   "outputs": [
    {
     "name": "stdout",
     "output_type": "stream",
     "text": [
      "4\n",
      "5\n",
      "You'll need 4 cans of paint.\n"
     ]
    }
   ],
   "source": [
    "# Write your code below this line 👇\n",
    "import math\n",
    "def paint_calc(height,width,cover):\n",
    "    cans = math.ceil((height*width)/cover)\n",
    "    print(\"You'll need {} cans of paint.\".format(cans))\n",
    "\n",
    "\n",
    "\n",
    "# Write your code above this line 👆\n",
    "# Define a function called paint_calc() so the code below works.   \n",
    "\n",
    "# 🚨 Don't change the code below 👇\n",
    "test_h = int(input()) # Height of wall (m)\n",
    "test_w = int(input()) # Width of wall (m)\n",
    "coverage = 5\n",
    "paint_calc(height=test_h, width=test_w, cover=coverage)\n"
   ]
  },
  {
   "cell_type": "code",
   "execution_count": 80,
   "id": "23bcb1b0",
   "metadata": {},
   "outputs": [],
   "source": [
    "import math"
   ]
  },
  {
   "cell_type": "code",
   "execution_count": 94,
   "id": "6493565d",
   "metadata": {},
   "outputs": [
    {
     "name": "stdout",
     "output_type": "stream",
     "text": [
      "4\n",
      "Prime Number\n"
     ]
    }
   ],
   "source": [
    "# Write your code below this line 👇\n",
    "\n",
    "def prime_checker(number):\n",
    "    count = 0\n",
    "    for i in range(2,(number//2)+1):\n",
    "        if number%i == 0:\n",
    "            count +=1\n",
    "    if count>1:\n",
    "        print(\"Not a Prime Number\")\n",
    "    else:\n",
    "        print(\"Prime Number\")\n",
    "\n",
    "# Write your code above this line 👆\n",
    "    \n",
    "#Do NOT change any of the code below👇\n",
    "n = int(input()) # Check this number\n",
    "prime_checker(number=n)"
   ]
  },
  {
   "cell_type": "code",
   "execution_count": null,
   "id": "6a861160",
   "metadata": {},
   "outputs": [],
   "source": [
    "student_scores = {\n",
    "  \"Harry\": 81,\n",
    "  \"Ron\": 78,\n",
    "  \"Hermione\": 99, \n",
    "  \"Draco\": 74,\n",
    "  \"Neville\": 62,\n",
    "}\n",
    "# 🚨 Don't change the code above 👆\n",
    "# TODO-1: Create an empty dictionary called student_grades.\n",
    "\n",
    "\n",
    "# TODO-2: Write your code below to add the grades to student_grades.👇\n",
    "\n",
    "\n",
    "# 🚨 Don't change the code below 👇\n",
    "print(student_grades)"
   ]
  },
  {
   "cell_type": "code",
   "execution_count": 3,
   "id": "e21cab61",
   "metadata": {},
   "outputs": [
    {
     "name": "stdout",
     "output_type": "stream",
     "text": [
      "Type r for 'Rock', p for 'Paper', s for 'Scissor' : r\n",
      "Player generated r\n",
      "Computer generated r\n",
      "You Lost\n"
     ]
    }
   ],
   "source": [
    "#ROCK PAPER SCISSOR\n",
    "import random\n",
    "inp = input(\"Type r for 'Rock', p for 'Paper', s for 'Scissor' : \")\n",
    "inputs = ['r','p','s']\n",
    "input_index = inputs.index(inp)\n",
    "print(\"Player picked {}\".format(inputs[input_index]))\n",
    "com_gen = random.randint(0,2)\n",
    "print(\"Computer generated {}\".format(inputs[com_gen]))\n",
    "if inputs[input_index] == inputs[com_gen]:\n",
    "    print(\"You Lost\")\n",
    "else:\n",
    "    print(\"You Won\")"
   ]
  },
  {
   "cell_type": "code",
   "execution_count": 6,
   "id": "9a539e95",
   "metadata": {},
   "outputs": [
    {
     "name": "stdout",
     "output_type": "stream",
     "text": [
      "How long do you need a password : 15\n",
      "How many letters : 5\n",
      "How many digits : 5\n",
      "How many punctuations : 5\n",
      "Your secure password is : `5[LRx.8u]1b&35\n"
     ]
    }
   ],
   "source": [
    "#PASSWORD GENERATOR\n",
    "import string\n",
    "import random\n",
    "str = string.ascii_letters\n",
    "num = string.digits\n",
    "punc = string.punctuation\n",
    "password = \"\"\n",
    "total = int(input(\"How long do you need a password : \"))\n",
    "letters = int(input(\"How many letters : \"))\n",
    "digits = int(input(\"How many digits : \"))\n",
    "punctuations = int(input(\"How many punctuations : \"))\n",
    "if total != letters + digits + punctuations :\n",
    "    print(\"Password Characters dont match\")\n",
    "else:\n",
    "    while total>0:\n",
    "        random_var = random.randint(1,3)\n",
    "        match random_var:\n",
    "            case 1:\n",
    "                if letters>0:\n",
    "                    password= password + (str[random.randint(1,52)])\n",
    "                    letters -= 1\n",
    "                    total -= 1\n",
    "            case 2:\n",
    "                if digits>0:\n",
    "                    password = password + (num[random.randint(1,9)])\n",
    "                    digits -= 1\n",
    "                    total -= 1\n",
    "                \n",
    "            case 3:\n",
    "                if punctuations>0:\n",
    "                    password = password + (punc[random.randint(1,32)])\n",
    "                    punctuations -= 1\n",
    "                    total -= 1\n",
    "                \n",
    "    print(\"Your secure password is : {}\".format(password))\n",
    "    "
   ]
  },
  {
   "cell_type": "markdown",
   "id": "ba321814",
   "metadata": {},
   "source": []
  },
  {
   "cell_type": "code",
   "execution_count": null,
   "id": "ba98b31b",
   "metadata": {},
   "outputs": [],
   "source": []
  }
 ],
 "metadata": {
  "kernelspec": {
   "display_name": "Python 3 (ipykernel)",
   "language": "python",
   "name": "python3"
  },
  "language_info": {
   "codemirror_mode": {
    "name": "ipython",
    "version": 3
   },
   "file_extension": ".py",
   "mimetype": "text/x-python",
   "name": "python",
   "nbconvert_exporter": "python",
   "pygments_lexer": "ipython3",
   "version": "3.11.5"
  }
 },
 "nbformat": 4,
 "nbformat_minor": 5
}
