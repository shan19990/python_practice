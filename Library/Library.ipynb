{
 "cells": [
  {
   "cell_type": "code",
   "execution_count": 1,
   "id": "70c117ca",
   "metadata": {},
   "outputs": [],
   "source": [
    "from book_data import books_data\n",
    "from books import Books\n",
    "from user import User\n",
    "from admin import Admin"
   ]
  },
  {
   "cell_type": "code",
   "execution_count": 2,
   "id": "80032010",
   "metadata": {},
   "outputs": [],
   "source": [
    "def create_library():\n",
    "    book_list = []\n",
    "    for b in range(len(books_data)):\n",
    "        book = Books(b,books_data[b]['title'],books_data[b]['author'],books_data[b]['published_year'],books_data[b]['is_borrowed'])\n",
    "        book_list.append(book)"
   ]
  },
  {
   "cell_type": "code",
   "execution_count": 3,
   "id": "704bc87f",
   "metadata": {},
   "outputs": [],
   "source": [
    "create_library()"
   ]
  },
  {
   "cell_type": "code",
   "execution_count": 4,
   "id": "583e99df",
   "metadata": {},
   "outputs": [],
   "source": [
    "admin = Admin()"
   ]
  },
  {
   "cell_type": "code",
   "execution_count": 5,
   "id": "2e2ac943",
   "metadata": {
    "scrolled": true
   },
   "outputs": [
    {
     "ename": "NameError",
     "evalue": "name 'Books' is not defined",
     "output_type": "error",
     "traceback": [
      "\u001b[1;31m---------------------------------------------------------------------------\u001b[0m",
      "\u001b[1;31mNameError\u001b[0m                                 Traceback (most recent call last)",
      "Cell \u001b[1;32mIn[5], line 1\u001b[0m\n\u001b[1;32m----> 1\u001b[0m admin\u001b[38;5;241m.\u001b[39mshow_books()\n",
      "File \u001b[1;32m~\\100 days of coding\\Library\\admin.py:28\u001b[0m, in \u001b[0;36mAdmin.show_books\u001b[1;34m(self)\u001b[0m\n\u001b[0;32m     27\u001b[0m \u001b[38;5;28;01mdef\u001b[39;00m \u001b[38;5;21mshow_books\u001b[39m(\u001b[38;5;28mself\u001b[39m):\n\u001b[1;32m---> 28\u001b[0m     Books\u001b[38;5;241m.\u001b[39mbook_list()\n",
      "\u001b[1;31mNameError\u001b[0m: name 'Books' is not defined"
     ]
    }
   ],
   "source": [
    "admin.show_books()"
   ]
  },
  {
   "cell_type": "code",
   "execution_count": null,
   "id": "4857ff8e",
   "metadata": {
    "scrolled": true
   },
   "outputs": [],
   "source": [
    "admin.create_user()"
   ]
  },
  {
   "cell_type": "code",
   "execution_count": null,
   "id": "73138b6a",
   "metadata": {},
   "outputs": [],
   "source": [
    "admin.show_user()"
   ]
  },
  {
   "cell_type": "code",
   "execution_count": null,
   "id": "917bd1a5",
   "metadata": {},
   "outputs": [],
   "source": [
    "def login():\n",
    "    name = input(\"Enter the you want to login: \")\n",
    "    user = admin.user_login(name)\n",
    "    if user:\n",
    "        print(user.user)\n",
    "    else:\n",
    "        print(\"User Not found\")\n",
    "    return user"
   ]
  },
  {
   "cell_type": "code",
   "execution_count": null,
   "id": "b29d99e3",
   "metadata": {},
   "outputs": [],
   "source": [
    "user = login()"
   ]
  },
  {
   "cell_type": "code",
   "execution_count": null,
   "id": "d1ea2eb8",
   "metadata": {},
   "outputs": [],
   "source": [
    "Books.book_list()"
   ]
  },
  {
   "cell_type": "code",
   "execution_count": null,
   "id": "84d933fe",
   "metadata": {},
   "outputs": [],
   "source": [
    "user.borrow_book()"
   ]
  },
  {
   "cell_type": "code",
   "execution_count": null,
   "id": "46d94685",
   "metadata": {
    "scrolled": true
   },
   "outputs": [],
   "source": [
    "for u in range(len(user.book)):\n",
    "    print(user.book[u].title)"
   ]
  },
  {
   "cell_type": "code",
   "execution_count": null,
   "id": "f1c976af",
   "metadata": {
    "scrolled": true
   },
   "outputs": [],
   "source": [
    "user.return_book()"
   ]
  },
  {
   "cell_type": "code",
   "execution_count": null,
   "id": "38d2422c",
   "metadata": {},
   "outputs": [],
   "source": [
    "for u in range(len(user.book)):\n",
    "    print(user.book[u].title)"
   ]
  },
  {
   "cell_type": "code",
   "execution_count": null,
   "id": "5abbe3ee",
   "metadata": {},
   "outputs": [],
   "source": []
  }
 ],
 "metadata": {
  "kernelspec": {
   "display_name": "Python 3 (ipykernel)",
   "language": "python",
   "name": "python3"
  },
  "language_info": {
   "codemirror_mode": {
    "name": "ipython",
    "version": 3
   },
   "file_extension": ".py",
   "mimetype": "text/x-python",
   "name": "python",
   "nbconvert_exporter": "python",
   "pygments_lexer": "ipython3",
   "version": "3.11.5"
  }
 },
 "nbformat": 4,
 "nbformat_minor": 5
}
