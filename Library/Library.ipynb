{
 "cells": [
  {
   "cell_type": "code",
   "execution_count": 1,
   "id": "70c117ca",
   "metadata": {},
   "outputs": [],
   "source": [
    "from book_data import books_data\n",
    "from books import Books\n",
    "from user import User\n",
    "from admin import Admin"
   ]
  },
  {
   "cell_type": "code",
   "execution_count": 2,
   "id": "80032010",
   "metadata": {},
   "outputs": [],
   "source": [
    "def create_library():\n",
    "    book_list = []\n",
    "    for b in range(len(books_data)):\n",
    "        book = Books(b,books_data[b]['title'],books_data[b]['author'],books_data[b]['published_year'],books_data[b]['is_borrowed'])\n",
    "        book_list.append(book)"
   ]
  },
  {
   "cell_type": "code",
   "execution_count": 3,
   "id": "60563095",
   "metadata": {},
   "outputs": [],
   "source": [
    "def create_admin():\n",
    "    admin = Admin(\"admin\", \"pass\")\n"
   ]
  },
  {
   "cell_type": "code",
   "execution_count": 4,
   "id": "a4a0f1ce",
   "metadata": {},
   "outputs": [],
   "source": [
    "def login():\n",
    "    name = input(\"Enter the you want to login: \")\n",
    "    user = admin.user_login(name)\n",
    "    if user:\n",
    "        return user\n",
    "    else:\n",
    "        print(\"User Not found\")"
   ]
  },
  {
   "cell_type": "code",
   "execution_count": 5,
   "id": "9d2fe88c",
   "metadata": {},
   "outputs": [],
   "source": [
    "create_library()\n",
    "def start_library():\n",
    "    login_method = input(\"Hi welcome to Duke's Library: For Admin Login(Press 1), For User Login(Press 2)\")\n",
    "    match login_method:\n",
    "        case \"1\":\n",
    "            while True:\n",
    "                admin_choice = input(\"Do you want to login / quit : \")\n",
    "                match admin_choice:\n",
    "                    case \"login\":\n",
    "                        admin = Admin(\"admin\", \"pass\") #change this with create_admin\n",
    "                        user = input(\"Enter username: \")\n",
    "                        password = input(\"Enter password\")\n",
    "                        if not admin.check_if_correct_login(user,password):\n",
    "                            print(\"In Correct Login\")\n",
    "                        else:\n",
    "                            print(\"Logging in Admin\")\n",
    "                            print(f\"Logged Into {admin.user}\")\n",
    "                            print(\"====================================================================\")\n",
    "                            while True:\n",
    "                                choice = input(f\"Options 1:Show All Users 2:List All Books 3:Add more Users 4.Logout : \")\n",
    "                                match choice:\n",
    "                                    case \"1\":\n",
    "                                        admin.show_user()\n",
    "                                    case \"2\":\n",
    "                                        print(\"Add list\")\n",
    "                                    case \"3\":\n",
    "                                        admin.create_user()\n",
    "                                    case \"4\":\n",
    "                                        break\n",
    "                                    \n",
    "                    case \"main\":\n",
    "                        start_library()\n",
    "                    case \"quit\":\n",
    "                        break\n",
    "        case \"2\":\n",
    "            user = login()\n",
    "            print(user)"
   ]
  },
  {
   "cell_type": "code",
   "execution_count": 6,
   "id": "bed72585",
   "metadata": {},
   "outputs": [
    {
     "name": "stdout",
     "output_type": "stream",
     "text": [
      "Hi welcome to Duke's Library: For Admin Login(Press 1), For User Login(Press 2)1\n",
      "Do you want to login / quit : login\n",
      "Enter username: admin\n",
      "Enter passwordpass\n",
      "Logging in Admin\n",
      "Logged Into admin\n",
      "====================================================================\n",
      "Options 1:Show All Users 2:List All Books 3:Add more Users 4.Logout : 3\n",
      "Enter the number of users in the Library: 1\n",
      "Enter the your name: shan\n",
      "Options 1:Show All Users 2:List All Books 3:Add more Users 4.Logout : 1\n",
      "The users are :\n",
      "User:shan, Books borrowed:[]\n",
      "Options 1:Show All Users 2:List All Books 3:Add more Users 4.Logout : 4\n",
      "Do you want to login / quit : main\n",
      "Hi welcome to Duke's Library: For Admin Login(Press 1), For User Login(Press 2)1\n",
      "Do you want to login / quit : login\n",
      "Enter username: admin\n",
      "Enter passwordpass\n",
      "Logging in Admin\n",
      "Logged Into admin\n",
      "====================================================================\n",
      "Options 1:Show All Users 2:List All Books 3:Add more Users 4.Logout : 1\n",
      "The users are :\n",
      "Options 1:Show All Users 2:List All Books 3:Add more Users 4.Logout : 4\n",
      "Do you want to login / quit : quit\n",
      "Do you want to login / quit : quit\n"
     ]
    }
   ],
   "source": [
    "start_library()"
   ]
  },
  {
   "cell_type": "code",
   "execution_count": 7,
   "id": "c398ec70",
   "metadata": {},
   "outputs": [
    {
     "ename": "NameError",
     "evalue": "name 'admin' is not defined",
     "output_type": "error",
     "traceback": [
      "\u001b[1;31m---------------------------------------------------------------------------\u001b[0m",
      "\u001b[1;31mNameError\u001b[0m                                 Traceback (most recent call last)",
      "Cell \u001b[1;32mIn[7], line 1\u001b[0m\n\u001b[1;32m----> 1\u001b[0m admin\u001b[38;5;241m.\u001b[39muser\n",
      "\u001b[1;31mNameError\u001b[0m: name 'admin' is not defined"
     ]
    }
   ],
   "source": [
    "admin.user"
   ]
  },
  {
   "cell_type": "code",
   "execution_count": null,
   "id": "b29d99e3",
   "metadata": {},
   "outputs": [],
   "source": [
    "user = login()"
   ]
  },
  {
   "cell_type": "code",
   "execution_count": null,
   "id": "d1ea2eb8",
   "metadata": {},
   "outputs": [],
   "source": [
    "Books.book_list()"
   ]
  },
  {
   "cell_type": "code",
   "execution_count": null,
   "id": "84d933fe",
   "metadata": {},
   "outputs": [],
   "source": [
    "user.borrow_book()"
   ]
  },
  {
   "cell_type": "code",
   "execution_count": null,
   "id": "46d94685",
   "metadata": {
    "scrolled": true
   },
   "outputs": [],
   "source": [
    "for u in range(len(user.book)):\n",
    "    print(user.book[u].title)"
   ]
  },
  {
   "cell_type": "code",
   "execution_count": null,
   "id": "f1c976af",
   "metadata": {
    "scrolled": true
   },
   "outputs": [],
   "source": [
    "user.return_book()"
   ]
  },
  {
   "cell_type": "code",
   "execution_count": null,
   "id": "38d2422c",
   "metadata": {},
   "outputs": [],
   "source": [
    "for u in range(len(user.book)):\n",
    "    print(user.book[u].title)"
   ]
  },
  {
   "cell_type": "code",
   "execution_count": null,
   "id": "5abbe3ee",
   "metadata": {},
   "outputs": [],
   "source": []
  }
 ],
 "metadata": {
  "kernelspec": {
   "display_name": "Python 3 (ipykernel)",
   "language": "python",
   "name": "python3"
  },
  "language_info": {
   "codemirror_mode": {
    "name": "ipython",
    "version": 3
   },
   "file_extension": ".py",
   "mimetype": "text/x-python",
   "name": "python",
   "nbconvert_exporter": "python",
   "pygments_lexer": "ipython3",
   "version": "3.11.5"
  }
 },
 "nbformat": 4,
 "nbformat_minor": 5
}
