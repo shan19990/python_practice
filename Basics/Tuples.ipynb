{
 "cells": [
  {
   "cell_type": "code",
   "execution_count": 2,
   "id": "14def1ba",
   "metadata": {},
   "outputs": [],
   "source": [
    "myTuple = (\"max\",28,\"hello\")"
   ]
  },
  {
   "cell_type": "code",
   "execution_count": 3,
   "id": "5ac4f28d",
   "metadata": {},
   "outputs": [
    {
     "data": {
      "text/plain": [
       "'max'"
      ]
     },
     "execution_count": 3,
     "metadata": {},
     "output_type": "execute_result"
    }
   ],
   "source": [
    "myTuple[0]"
   ]
  },
  {
   "cell_type": "code",
   "execution_count": 4,
   "id": "2a3a0012",
   "metadata": {},
   "outputs": [
    {
     "data": {
      "text/plain": [
       "tuple"
      ]
     },
     "execution_count": 4,
     "metadata": {},
     "output_type": "execute_result"
    }
   ],
   "source": [
    "type(myTuple)"
   ]
  },
  {
   "cell_type": "code",
   "execution_count": 7,
   "id": "b569a32f",
   "metadata": {},
   "outputs": [],
   "source": [
    "myTuple_paren = {\"max\",28,\"hello\",}"
   ]
  },
  {
   "cell_type": "code",
   "execution_count": 8,
   "id": "b52b27c5",
   "metadata": {},
   "outputs": [
    {
     "data": {
      "text/plain": [
       "set"
      ]
     },
     "execution_count": 8,
     "metadata": {},
     "output_type": "execute_result"
    }
   ],
   "source": [
    "type(myTuple_paren)"
   ]
  },
  {
   "cell_type": "code",
   "execution_count": 9,
   "id": "5dd02465",
   "metadata": {},
   "outputs": [],
   "source": [
    "myTyple_string = (\"max\")"
   ]
  },
  {
   "cell_type": "code",
   "execution_count": 10,
   "id": "cc368ab6",
   "metadata": {},
   "outputs": [
    {
     "data": {
      "text/plain": [
       "str"
      ]
     },
     "execution_count": 10,
     "metadata": {},
     "output_type": "execute_result"
    }
   ],
   "source": [
    "type(myTyple_string)"
   ]
  },
  {
   "cell_type": "code",
   "execution_count": 11,
   "id": "e7672c44",
   "metadata": {},
   "outputs": [
    {
     "data": {
      "text/plain": [
       "tuple"
      ]
     },
     "execution_count": 11,
     "metadata": {},
     "output_type": "execute_result"
    }
   ],
   "source": [
    "myTyple_string = (\"max\",)\n",
    "type(myTyple_string)"
   ]
  },
  {
   "cell_type": "code",
   "execution_count": 14,
   "id": "1a0a3a11",
   "metadata": {},
   "outputs": [],
   "source": [
    "iterable = [\"duke\",24,\"ghosh\",\"1999\"]"
   ]
  },
  {
   "cell_type": "code",
   "execution_count": 15,
   "id": "0817dc1c",
   "metadata": {},
   "outputs": [
    {
     "data": {
      "text/plain": [
       "tuple"
      ]
     },
     "execution_count": 15,
     "metadata": {},
     "output_type": "execute_result"
    }
   ],
   "source": [
    "myTuple = tuple(iterable)\n",
    "type(myTuple)"
   ]
  },
  {
   "cell_type": "code",
   "execution_count": 16,
   "id": "8c24c815",
   "metadata": {},
   "outputs": [
    {
     "data": {
      "text/plain": [
       "('duke', 24, 'ghosh', '1999')"
      ]
     },
     "execution_count": 16,
     "metadata": {},
     "output_type": "execute_result"
    }
   ],
   "source": [
    "myTuple"
   ]
  },
  {
   "cell_type": "code",
   "execution_count": 17,
   "id": "b81b9ca9",
   "metadata": {},
   "outputs": [
    {
     "data": {
      "text/plain": [
       "'duke'"
      ]
     },
     "execution_count": 17,
     "metadata": {},
     "output_type": "execute_result"
    }
   ],
   "source": [
    "myTuple[0]"
   ]
  },
  {
   "cell_type": "code",
   "execution_count": 18,
   "id": "fb9c2b47",
   "metadata": {},
   "outputs": [
    {
     "ename": "TypeError",
     "evalue": "'tuple' object does not support item assignment",
     "output_type": "error",
     "traceback": [
      "\u001b[1;31m---------------------------------------------------------------------------\u001b[0m",
      "\u001b[1;31mTypeError\u001b[0m                                 Traceback (most recent call last)",
      "Cell \u001b[1;32mIn[18], line 1\u001b[0m\n\u001b[1;32m----> 1\u001b[0m myTuple[\u001b[38;5;241m0\u001b[39m] \u001b[38;5;241m=\u001b[39m \u001b[38;5;124m\"\u001b[39m\u001b[38;5;124mrocky\u001b[39m\u001b[38;5;124m\"\u001b[39m\n",
      "\u001b[1;31mTypeError\u001b[0m: 'tuple' object does not support item assignment"
     ]
    }
   ],
   "source": [
    "myTuple[0] = \"rocky\""
   ]
  },
  {
   "cell_type": "code",
   "execution_count": 19,
   "id": "3e6ed29c",
   "metadata": {},
   "outputs": [
    {
     "name": "stdout",
     "output_type": "stream",
     "text": [
      "duke\n",
      "24\n",
      "ghosh\n",
      "1999\n"
     ]
    }
   ],
   "source": [
    "for i in myTuple:\n",
    "    print(i)"
   ]
  },
  {
   "cell_type": "code",
   "execution_count": 23,
   "id": "a9198eac",
   "metadata": {},
   "outputs": [],
   "source": [
    "letter_tuple = tuple([\"a\",\"b\",\"c\",\"a\",\"d\",\"w\",\"e\",\"t\",\"g\",\"a\",\"c\"])"
   ]
  },
  {
   "cell_type": "code",
   "execution_count": 24,
   "id": "a4662aa2",
   "metadata": {},
   "outputs": [
    {
     "name": "stdout",
     "output_type": "stream",
     "text": [
      "3\n"
     ]
    }
   ],
   "source": [
    "print(letter_tuple.count(\"a\"))"
   ]
  },
  {
   "cell_type": "code",
   "execution_count": 25,
   "id": "c97a629b",
   "metadata": {},
   "outputs": [
    {
     "name": "stdout",
     "output_type": "stream",
     "text": [
      "4\n"
     ]
    }
   ],
   "source": [
    "print(letter_tuple.index(\"d\"))"
   ]
  },
  {
   "cell_type": "code",
   "execution_count": 26,
   "id": "1b3fd615",
   "metadata": {},
   "outputs": [
    {
     "name": "stdout",
     "output_type": "stream",
     "text": [
      "0\n"
     ]
    }
   ],
   "source": [
    "print(letter_tuple.index(\"a\"))"
   ]
  },
  {
   "cell_type": "code",
   "execution_count": 27,
   "id": "2d491a55",
   "metadata": {},
   "outputs": [
    {
     "data": {
      "text/plain": [
       "('c', 'a', 'd')"
      ]
     },
     "execution_count": 27,
     "metadata": {},
     "output_type": "execute_result"
    }
   ],
   "source": [
    "letter_tuple[2:5]"
   ]
  },
  {
   "cell_type": "code",
   "execution_count": 28,
   "id": "a3985ee4",
   "metadata": {},
   "outputs": [],
   "source": [
    "name , age , surname , YOB = myTuple"
   ]
  },
  {
   "cell_type": "code",
   "execution_count": 29,
   "id": "cf9a3954",
   "metadata": {},
   "outputs": [
    {
     "data": {
      "text/plain": [
       "'duke'"
      ]
     },
     "execution_count": 29,
     "metadata": {},
     "output_type": "execute_result"
    }
   ],
   "source": [
    "name"
   ]
  },
  {
   "cell_type": "code",
   "execution_count": 30,
   "id": "6d3e380e",
   "metadata": {},
   "outputs": [
    {
     "data": {
      "text/plain": [
       "24"
      ]
     },
     "execution_count": 30,
     "metadata": {},
     "output_type": "execute_result"
    }
   ],
   "source": [
    "age"
   ]
  },
  {
   "cell_type": "code",
   "execution_count": 31,
   "id": "996f86ad",
   "metadata": {},
   "outputs": [
    {
     "data": {
      "text/plain": [
       "'ghosh'"
      ]
     },
     "execution_count": 31,
     "metadata": {},
     "output_type": "execute_result"
    }
   ],
   "source": [
    "surname"
   ]
  },
  {
   "cell_type": "code",
   "execution_count": 32,
   "id": "07899ea6",
   "metadata": {},
   "outputs": [
    {
     "data": {
      "text/plain": [
       "'1999'"
      ]
     },
     "execution_count": 32,
     "metadata": {},
     "output_type": "execute_result"
    }
   ],
   "source": [
    "YOB"
   ]
  },
  {
   "cell_type": "code",
   "execution_count": 33,
   "id": "98fead2a",
   "metadata": {},
   "outputs": [],
   "source": [
    "import timeit"
   ]
  },
  {
   "cell_type": "code",
   "execution_count": 39,
   "id": "7d2f1742",
   "metadata": {},
   "outputs": [
    {
     "name": "stdout",
     "output_type": "stream",
     "text": [
      "372.7398854000494\n"
     ]
    }
   ],
   "source": [
    "print(timeit.timeit(stmt=\"[1,2,3,4]\", number = 10000000000))"
   ]
  },
  {
   "cell_type": "code",
   "execution_count": 40,
   "id": "deee9146",
   "metadata": {},
   "outputs": [
    {
     "name": "stdout",
     "output_type": "stream",
     "text": [
      "88.8493192999158\n"
     ]
    }
   ],
   "source": [
    "print(timeit.timeit(stmt=\"(1,2,3,4)\", number = 10000000000))"
   ]
  },
  {
   "cell_type": "code",
   "execution_count": null,
   "id": "90981291",
   "metadata": {},
   "outputs": [],
   "source": []
  }
 ],
 "metadata": {
  "kernelspec": {
   "display_name": "Python 3 (ipykernel)",
   "language": "python",
   "name": "python3"
  },
  "language_info": {
   "codemirror_mode": {
    "name": "ipython",
    "version": 3
   },
   "file_extension": ".py",
   "mimetype": "text/x-python",
   "name": "python",
   "nbconvert_exporter": "python",
   "pygments_lexer": "ipython3",
   "version": "3.11.5"
  }
 },
 "nbformat": 4,
 "nbformat_minor": 5
}
