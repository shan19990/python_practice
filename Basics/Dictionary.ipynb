{
 "cells": [
  {
   "cell_type": "code",
   "execution_count": 8,
   "id": "3f0a0d71",
   "metadata": {},
   "outputs": [],
   "source": [
    "myDict = {\"name\":\"Max\",\"age\":28,\"city\":\"New York\"}"
   ]
  },
  {
   "cell_type": "code",
   "execution_count": 2,
   "id": "421b72ef",
   "metadata": {},
   "outputs": [
    {
     "data": {
      "text/plain": [
       "{'name': 'Max', 'age': 28, 'city': 'New York'}"
      ]
     },
     "execution_count": 2,
     "metadata": {},
     "output_type": "execute_result"
    }
   ],
   "source": [
    "myDict"
   ]
  },
  {
   "cell_type": "code",
   "execution_count": 9,
   "id": "85dff51c",
   "metadata": {},
   "outputs": [
    {
     "data": {
      "text/plain": [
       "{'name': 'duke', 'age': 24, 'city': 'Kolkata'}"
      ]
     },
     "execution_count": 9,
     "metadata": {},
     "output_type": "execute_result"
    }
   ],
   "source": [
    "myDict = dict(name=\"duke\",age=24,city=\"Kolkata\")\n",
    "myDict"
   ]
  },
  {
   "cell_type": "code",
   "execution_count": 4,
   "id": "92ae38c9",
   "metadata": {},
   "outputs": [
    {
     "data": {
      "text/plain": [
       "'duke'"
      ]
     },
     "execution_count": 4,
     "metadata": {},
     "output_type": "execute_result"
    }
   ],
   "source": [
    "myDict['name']"
   ]
  },
  {
   "cell_type": "code",
   "execution_count": 5,
   "id": "ead2dba8",
   "metadata": {},
   "outputs": [
    {
     "data": {
      "text/plain": [
       "'rocky'"
      ]
     },
     "execution_count": 5,
     "metadata": {},
     "output_type": "execute_result"
    }
   ],
   "source": [
    "myDict['name'] = 'rocky'\n",
    "myDict['name']"
   ]
  },
  {
   "cell_type": "code",
   "execution_count": 6,
   "id": "28fe8833",
   "metadata": {},
   "outputs": [],
   "source": [
    "del myDict['name']"
   ]
  },
  {
   "cell_type": "code",
   "execution_count": 7,
   "id": "2731b385",
   "metadata": {},
   "outputs": [
    {
     "data": {
      "text/plain": [
       "{'age': 24, 'city': 'Kolkata'}"
      ]
     },
     "execution_count": 7,
     "metadata": {},
     "output_type": "execute_result"
    }
   ],
   "source": [
    "myDict"
   ]
  },
  {
   "cell_type": "code",
   "execution_count": 10,
   "id": "0c85990f",
   "metadata": {},
   "outputs": [
    {
     "data": {
      "text/plain": [
       "{'shankhanil': 10, 'rockky': 6, 'duke': 4, 'sampa': 5, 'subhankar': 9}"
      ]
     },
     "execution_count": 10,
     "metadata": {},
     "output_type": "execute_result"
    }
   ],
   "source": [
    "iterable = [\"shankhanil\",\"rockky\",\"duke\",\"sampa\",\"subhankar\"]\n",
    "dict_compre = {item:len(item) for item in iterable}\n",
    "dict_compre"
   ]
  },
  {
   "cell_type": "code",
   "execution_count": null,
   "id": "06f8b2f3",
   "metadata": {},
   "outputs": [],
   "source": []
  }
 ],
 "metadata": {
  "kernelspec": {
   "display_name": "Python 3 (ipykernel)",
   "language": "python",
   "name": "python3"
  },
  "language_info": {
   "codemirror_mode": {
    "name": "ipython",
    "version": 3
   },
   "file_extension": ".py",
   "mimetype": "text/x-python",
   "name": "python",
   "nbconvert_exporter": "python",
   "pygments_lexer": "ipython3",
   "version": "3.11.5"
  }
 },
 "nbformat": 4,
 "nbformat_minor": 5
}
