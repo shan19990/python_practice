{
 "cells": [
  {
   "cell_type": "code",
   "execution_count": 1,
   "id": "6ae5b68d",
   "metadata": {},
   "outputs": [],
   "source": [
    "from itertools import product"
   ]
  },
  {
   "cell_type": "code",
   "execution_count": 4,
   "id": "41878845",
   "metadata": {},
   "outputs": [
    {
     "name": "stdout",
     "output_type": "stream",
     "text": [
      "(1, 3, 1, 3)\n",
      "(1, 3, 1, 4)\n",
      "(1, 3, 2, 3)\n",
      "(1, 3, 2, 4)\n",
      "(1, 4, 1, 3)\n",
      "(1, 4, 1, 4)\n",
      "(1, 4, 2, 3)\n",
      "(1, 4, 2, 4)\n",
      "(2, 3, 1, 3)\n",
      "(2, 3, 1, 4)\n",
      "(2, 3, 2, 3)\n",
      "(2, 3, 2, 4)\n",
      "(2, 4, 1, 3)\n",
      "(2, 4, 1, 4)\n",
      "(2, 4, 2, 3)\n",
      "(2, 4, 2, 4)\n"
     ]
    }
   ],
   "source": [
    "a = [1,2]\n",
    "b = [3,4]\n",
    "prod = product(a,b, repeat = 2)\n",
    "for i in prod:\n",
    "    print(i)"
   ]
  },
  {
   "cell_type": "code",
   "execution_count": 5,
   "id": "63ffca66",
   "metadata": {},
   "outputs": [],
   "source": [
    "from itertools import permutations"
   ]
  },
  {
   "cell_type": "code",
   "execution_count": 17,
   "id": "b12b9f2d",
   "metadata": {},
   "outputs": [
    {
     "data": {
      "text/plain": [
       "[(1, 2, 3), (1, 3, 2), (2, 1, 3), (2, 3, 1), (3, 1, 2), (3, 2, 1)]"
      ]
     },
     "execution_count": 17,
     "metadata": {},
     "output_type": "execute_result"
    }
   ],
   "source": [
    "a = [1,2,3]\n",
    "perm = permutations(a,3)\n",
    "list(perm)"
   ]
  },
  {
   "cell_type": "code",
   "execution_count": 8,
   "id": "3da492f3",
   "metadata": {},
   "outputs": [],
   "source": [
    "from itertools import combinations"
   ]
  },
  {
   "cell_type": "code",
   "execution_count": 13,
   "id": "47877a45",
   "metadata": {},
   "outputs": [
    {
     "data": {
      "text/plain": [
       "[(1, 2), (1, 3), (2, 3)]"
      ]
     },
     "execution_count": 13,
     "metadata": {},
     "output_type": "execute_result"
    }
   ],
   "source": [
    "a = [1,2,3]\n",
    "comb = combinations(a,2)\n",
    "list(comb)"
   ]
  },
  {
   "cell_type": "code",
   "execution_count": 30,
   "id": "c4ababb4",
   "metadata": {},
   "outputs": [],
   "source": [
    "from itertools import accumulate\n",
    "import operator"
   ]
  },
  {
   "cell_type": "code",
   "execution_count": 31,
   "id": "502f51fd",
   "metadata": {},
   "outputs": [
    {
     "data": {
      "text/plain": [
       "[1, 2, 6, 24]"
      ]
     },
     "execution_count": 31,
     "metadata": {},
     "output_type": "execute_result"
    }
   ],
   "source": [
    "a = [1,2,3,4]\n",
    "accu = accumulate(a, func = operator.mul)\n",
    "list(accu)"
   ]
  },
  {
   "cell_type": "code",
   "execution_count": 33,
   "id": "0b1263ba",
   "metadata": {},
   "outputs": [
    {
     "data": {
      "text/plain": [
       "[1, 2, 6, 6, 6]"
      ]
     },
     "execution_count": 33,
     "metadata": {},
     "output_type": "execute_result"
    }
   ],
   "source": [
    "a = [1,2,6,3,4]\n",
    "accu = accumulate(a, func = max)\n",
    "list(accu)"
   ]
  },
  {
   "cell_type": "code",
   "execution_count": 34,
   "id": "731b37f7",
   "metadata": {},
   "outputs": [],
   "source": [
    "from itertools import groupby"
   ]
  },
  {
   "cell_type": "code",
   "execution_count": 35,
   "id": "bb15aab7",
   "metadata": {},
   "outputs": [],
   "source": [
    "def smaller_than_3(x):\n",
    "    return x<3"
   ]
  },
  {
   "cell_type": "code",
   "execution_count": 37,
   "id": "3e989c01",
   "metadata": {},
   "outputs": [
    {
     "name": "stdout",
     "output_type": "stream",
     "text": [
      "True   [1, 2]\n",
      "False   [6, 3, 4]\n"
     ]
    }
   ],
   "source": [
    "a = [1,2,6,3,4]\n",
    "group_obj = groupby(a, key=smaller_than_3)\n",
    "for key,value in group_obj:\n",
    "    print(key,\" \",list(value))"
   ]
  },
  {
   "cell_type": "code",
   "execution_count": null,
   "id": "3cbe284b",
   "metadata": {},
   "outputs": [],
   "source": []
  }
 ],
 "metadata": {
  "kernelspec": {
   "display_name": "Python 3 (ipykernel)",
   "language": "python",
   "name": "python3"
  },
  "language_info": {
   "codemirror_mode": {
    "name": "ipython",
    "version": 3
   },
   "file_extension": ".py",
   "mimetype": "text/x-python",
   "name": "python",
   "nbconvert_exporter": "python",
   "pygments_lexer": "ipython3",
   "version": "3.11.5"
  }
 },
 "nbformat": 4,
 "nbformat_minor": 5
}
