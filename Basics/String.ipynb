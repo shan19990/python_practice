{
 "cells": [
  {
   "cell_type": "code",
   "execution_count": 1,
   "id": "3da3a4aa",
   "metadata": {},
   "outputs": [],
   "source": [
    "myString = \"Hello World\""
   ]
  },
  {
   "cell_type": "code",
   "execution_count": 2,
   "id": "09603579",
   "metadata": {},
   "outputs": [],
   "source": [
    "myString = 'Hello World!'"
   ]
  },
  {
   "cell_type": "code",
   "execution_count": 5,
   "id": "4f6a5b53",
   "metadata": {},
   "outputs": [
    {
     "data": {
      "text/plain": [
       "\"I'm a programmer\""
      ]
     },
     "execution_count": 5,
     "metadata": {},
     "output_type": "execute_result"
    }
   ],
   "source": [
    "myString = 'I\\'m a programmer'\n",
    "myString"
   ]
  },
  {
   "cell_type": "code",
   "execution_count": 7,
   "id": "7c32c0f7",
   "metadata": {},
   "outputs": [
    {
     "data": {
      "text/plain": [
       "\"\\nHello World!\\nI'm a programmer\\n\""
      ]
     },
     "execution_count": 7,
     "metadata": {},
     "output_type": "execute_result"
    }
   ],
   "source": [
    "myString = \"\"\"\n",
    "Hello World!\n",
    "I'm a programmer\n",
    "\"\"\"\n",
    "myString"
   ]
  },
  {
   "cell_type": "code",
   "execution_count": 8,
   "id": "7c227247",
   "metadata": {},
   "outputs": [
    {
     "data": {
      "text/plain": [
       "'H'"
      ]
     },
     "execution_count": 8,
     "metadata": {},
     "output_type": "execute_result"
    }
   ],
   "source": [
    "myString = \"Hello World\"\n",
    "char = myString[0]\n",
    "char"
   ]
  },
  {
   "cell_type": "code",
   "execution_count": 9,
   "id": "7a19cffa",
   "metadata": {},
   "outputs": [
    {
     "data": {
      "text/plain": [
       "'d'"
      ]
     },
     "execution_count": 9,
     "metadata": {},
     "output_type": "execute_result"
    }
   ],
   "source": [
    "myString = \"Hello World\"\n",
    "char = myString[-1]\n",
    "char"
   ]
  },
  {
   "cell_type": "code",
   "execution_count": 10,
   "id": "fde20663",
   "metadata": {},
   "outputs": [
    {
     "data": {
      "text/plain": [
       "'llo '"
      ]
     },
     "execution_count": 10,
     "metadata": {},
     "output_type": "execute_result"
    }
   ],
   "source": [
    "myString = \"Hello World\"\n",
    "char = myString[2:6]\n",
    "char"
   ]
  },
  {
   "cell_type": "code",
   "execution_count": 12,
   "id": "426be139",
   "metadata": {},
   "outputs": [
    {
     "data": {
      "text/plain": [
       "'HloWrd'"
      ]
     },
     "execution_count": 12,
     "metadata": {},
     "output_type": "execute_result"
    }
   ],
   "source": [
    "myString = \"Hello World\"\n",
    "char = myString[::2]\n",
    "char"
   ]
  },
  {
   "cell_type": "code",
   "execution_count": 13,
   "id": "250956cf",
   "metadata": {},
   "outputs": [
    {
     "data": {
      "text/plain": [
       "'dlroW olleH'"
      ]
     },
     "execution_count": 13,
     "metadata": {},
     "output_type": "execute_result"
    }
   ],
   "source": [
    "myString = \"Hello World\"\n",
    "char = myString[::-1]\n",
    "char"
   ]
  },
  {
   "cell_type": "code",
   "execution_count": 11,
   "id": "42ca85c0",
   "metadata": {},
   "outputs": [
    {
     "ename": "TypeError",
     "evalue": "'str' object does not support item assignment",
     "output_type": "error",
     "traceback": [
      "\u001b[1;31m---------------------------------------------------------------------------\u001b[0m",
      "\u001b[1;31mTypeError\u001b[0m                                 Traceback (most recent call last)",
      "Cell \u001b[1;32mIn[11], line 2\u001b[0m\n\u001b[0;32m      1\u001b[0m myString \u001b[38;5;241m=\u001b[39m \u001b[38;5;124m\"\u001b[39m\u001b[38;5;124mHello World\u001b[39m\u001b[38;5;124m\"\u001b[39m\n\u001b[1;32m----> 2\u001b[0m myString[\u001b[38;5;241m0\u001b[39m] \u001b[38;5;241m=\u001b[39m \u001b[38;5;124m\"\u001b[39m\u001b[38;5;124mh\u001b[39m\u001b[38;5;124m\"\u001b[39m\n\u001b[0;32m      3\u001b[0m myString\n",
      "\u001b[1;31mTypeError\u001b[0m: 'str' object does not support item assignment"
     ]
    }
   ],
   "source": [
    "myString = \"Hello World\"\n",
    "myString[0] = \"h\"\n",
    "myString"
   ]
  },
  {
   "cell_type": "code",
   "execution_count": 15,
   "id": "a035caf5",
   "metadata": {},
   "outputs": [
    {
     "data": {
      "text/plain": [
       "'Tom Brady'"
      ]
     },
     "execution_count": 15,
     "metadata": {},
     "output_type": "execute_result"
    }
   ],
   "source": [
    "first = \"Tom\"\n",
    "second = \"Brady\"\n",
    "fullname = first+\" \"+second\n",
    "fullname"
   ]
  },
  {
   "cell_type": "code",
   "execution_count": 16,
   "id": "ba069ceb",
   "metadata": {},
   "outputs": [
    {
     "name": "stdout",
     "output_type": "stream",
     "text": [
      "T\n",
      "o\n",
      "m\n",
      " \n",
      "B\n",
      "r\n",
      "a\n",
      "d\n",
      "y\n"
     ]
    }
   ],
   "source": [
    "for i in fullname:\n",
    "    print(i)"
   ]
  },
  {
   "cell_type": "code",
   "execution_count": 18,
   "id": "74d8750f",
   "metadata": {},
   "outputs": [
    {
     "name": "stdout",
     "output_type": "stream",
     "text": [
      "yes\n"
     ]
    }
   ],
   "source": [
    "if \"o\" in fullname:\n",
    "    print(\"yes\")\n",
    "else:\n",
    "    print(\"no\")"
   ]
  },
  {
   "cell_type": "code",
   "execution_count": 19,
   "id": "bf08346c",
   "metadata": {},
   "outputs": [
    {
     "name": "stdout",
     "output_type": "stream",
     "text": [
      "no\n"
     ]
    }
   ],
   "source": [
    "if \"g\" in fullname:\n",
    "    print(\"yes\")\n",
    "else:\n",
    "    print(\"no\")"
   ]
  },
  {
   "cell_type": "code",
   "execution_count": 20,
   "id": "3b950d96",
   "metadata": {},
   "outputs": [
    {
     "data": {
      "text/plain": [
       "'     Hello World         '"
      ]
     },
     "execution_count": 20,
     "metadata": {},
     "output_type": "execute_result"
    }
   ],
   "source": [
    "myString = \"     Hello World         \"\n",
    "myString"
   ]
  },
  {
   "cell_type": "code",
   "execution_count": 22,
   "id": "75cda0d1",
   "metadata": {},
   "outputs": [
    {
     "data": {
      "text/plain": [
       "'Hello World'"
      ]
     },
     "execution_count": 22,
     "metadata": {},
     "output_type": "execute_result"
    }
   ],
   "source": [
    "myString = myString.strip()\n",
    "myString"
   ]
  },
  {
   "cell_type": "code",
   "execution_count": 23,
   "id": "c3382815",
   "metadata": {},
   "outputs": [
    {
     "data": {
      "text/plain": [
       "'HELLO WORLD'"
      ]
     },
     "execution_count": 23,
     "metadata": {},
     "output_type": "execute_result"
    }
   ],
   "source": [
    "myString = myString.upper()\n",
    "myString"
   ]
  },
  {
   "cell_type": "code",
   "execution_count": 24,
   "id": "2589fc32",
   "metadata": {},
   "outputs": [
    {
     "data": {
      "text/plain": [
       "'hello world'"
      ]
     },
     "execution_count": 24,
     "metadata": {},
     "output_type": "execute_result"
    }
   ],
   "source": [
    "myString = myString.lower()\n",
    "myString"
   ]
  },
  {
   "cell_type": "code",
   "execution_count": 26,
   "id": "ce5022ae",
   "metadata": {},
   "outputs": [
    {
     "name": "stdout",
     "output_type": "stream",
     "text": [
      "False\n"
     ]
    }
   ],
   "source": [
    "print(myString.startswith(\"u\"))"
   ]
  },
  {
   "cell_type": "code",
   "execution_count": 27,
   "id": "7ed7a85d",
   "metadata": {},
   "outputs": [
    {
     "name": "stdout",
     "output_type": "stream",
     "text": [
      "True\n"
     ]
    }
   ],
   "source": [
    "print(myString.startswith(\"h\"))"
   ]
  },
  {
   "cell_type": "code",
   "execution_count": 29,
   "id": "09add633",
   "metadata": {},
   "outputs": [
    {
     "name": "stdout",
     "output_type": "stream",
     "text": [
      "False\n"
     ]
    }
   ],
   "source": [
    "print(myString.endswith(\"h\"))"
   ]
  },
  {
   "cell_type": "code",
   "execution_count": 31,
   "id": "f81838b3",
   "metadata": {},
   "outputs": [
    {
     "name": "stdout",
     "output_type": "stream",
     "text": [
      "True\n"
     ]
    }
   ],
   "source": [
    "print(myString.endswith(\"world\"))"
   ]
  },
  {
   "cell_type": "code",
   "execution_count": 34,
   "id": "0323c2ac",
   "metadata": {},
   "outputs": [
    {
     "data": {
      "text/plain": [
       "3"
      ]
     },
     "execution_count": 34,
     "metadata": {},
     "output_type": "execute_result"
    }
   ],
   "source": [
    "myString.index(\"lo\")"
   ]
  },
  {
   "cell_type": "code",
   "execution_count": 35,
   "id": "55b6a9f2",
   "metadata": {},
   "outputs": [
    {
     "data": {
      "text/plain": [
       "3"
      ]
     },
     "execution_count": 35,
     "metadata": {},
     "output_type": "execute_result"
    }
   ],
   "source": [
    "myString.find(\"lo\")"
   ]
  },
  {
   "cell_type": "code",
   "execution_count": 36,
   "id": "724a20c0",
   "metadata": {},
   "outputs": [
    {
     "data": {
      "text/plain": [
       "-1"
      ]
     },
     "execution_count": 36,
     "metadata": {},
     "output_type": "execute_result"
    }
   ],
   "source": [
    "myString.find(\"loq\")"
   ]
  },
  {
   "cell_type": "code",
   "execution_count": 38,
   "id": "d7f5a518",
   "metadata": {},
   "outputs": [
    {
     "data": {
      "text/plain": [
       "2"
      ]
     },
     "execution_count": 38,
     "metadata": {},
     "output_type": "execute_result"
    }
   ],
   "source": [
    "myString.count(\"o\")"
   ]
  },
  {
   "cell_type": "code",
   "execution_count": 39,
   "id": "4c44f2a7",
   "metadata": {},
   "outputs": [
    {
     "data": {
      "text/plain": [
       "'hello programmers'"
      ]
     },
     "execution_count": 39,
     "metadata": {},
     "output_type": "execute_result"
    }
   ],
   "source": [
    "myString = myString.replace(\"world\",\"programmers\")\n",
    "myString"
   ]
  },
  {
   "cell_type": "code",
   "execution_count": 40,
   "id": "89ffe940",
   "metadata": {},
   "outputs": [
    {
     "data": {
      "text/plain": [
       "['Hello', 'my', 'name', 'is', 'Duke']"
      ]
     },
     "execution_count": 40,
     "metadata": {},
     "output_type": "execute_result"
    }
   ],
   "source": [
    "myString = \"Hello my name is Duke\"\n",
    "split = myString.split()\n",
    "split"
   ]
  },
  {
   "cell_type": "code",
   "execution_count": 42,
   "id": "4a22c9b3",
   "metadata": {},
   "outputs": [
    {
     "data": {
      "text/plain": [
       "['Hello', 'my', 'name', 'is', 'Duke']"
      ]
     },
     "execution_count": 42,
     "metadata": {},
     "output_type": "execute_result"
    }
   ],
   "source": [
    "myString = \"Hello,my,name,is,Duke\"\n",
    "split = myString.split(\",\")\n",
    "split"
   ]
  },
  {
   "cell_type": "code",
   "execution_count": 44,
   "id": "a9105b9f",
   "metadata": {},
   "outputs": [
    {
     "data": {
      "text/plain": [
       "'Hello my name is Duke'"
      ]
     },
     "execution_count": 44,
     "metadata": {},
     "output_type": "execute_result"
    }
   ],
   "source": [
    "fullString = \" \".join(split)\n",
    "fullString"
   ]
  },
  {
   "cell_type": "code",
   "execution_count": 50,
   "id": "4ceb38e2",
   "metadata": {},
   "outputs": [
    {
     "name": "stdout",
     "output_type": "stream",
     "text": [
      "Hi my name is duke\n"
     ]
    }
   ],
   "source": [
    "var = \"duke\"\n",
    "print(\"Hi my name is %s\" %var)"
   ]
  },
  {
   "cell_type": "code",
   "execution_count": 51,
   "id": "5a2ada72",
   "metadata": {},
   "outputs": [
    {
     "name": "stdout",
     "output_type": "stream",
     "text": [
      "Hi my name is duke\n"
     ]
    }
   ],
   "source": [
    "var = \"duke\"\n",
    "print(\"Hi my name is {}\".format(var))"
   ]
  },
  {
   "cell_type": "code",
   "execution_count": 52,
   "id": "8fcf9e1e",
   "metadata": {},
   "outputs": [
    {
     "name": "stdout",
     "output_type": "stream",
     "text": [
      "Hi my name is duke\n"
     ]
    }
   ],
   "source": [
    "var = \"duke\"\n",
    "print(f\"Hi my name is {var}\")"
   ]
  },
  {
   "cell_type": "code",
   "execution_count": null,
   "id": "2f8e3aff",
   "metadata": {},
   "outputs": [],
   "source": []
  }
 ],
 "metadata": {
  "kernelspec": {
   "display_name": "Python 3 (ipykernel)",
   "language": "python",
   "name": "python3"
  },
  "language_info": {
   "codemirror_mode": {
    "name": "ipython",
    "version": 3
   },
   "file_extension": ".py",
   "mimetype": "text/x-python",
   "name": "python",
   "nbconvert_exporter": "python",
   "pygments_lexer": "ipython3",
   "version": "3.11.5"
  }
 },
 "nbformat": 4,
 "nbformat_minor": 5
}
