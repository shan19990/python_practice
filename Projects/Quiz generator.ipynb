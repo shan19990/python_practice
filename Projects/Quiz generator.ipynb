{
 "cells": [
  {
   "cell_type": "code",
   "execution_count": 1,
   "id": "9695f2aa",
   "metadata": {},
   "outputs": [],
   "source": [
    "import requests"
   ]
  },
  {
   "cell_type": "code",
   "execution_count": 2,
   "id": "e8bb859f",
   "metadata": {},
   "outputs": [],
   "source": [
    "response = requests.get(\"https://opentdb.com/api.php?amount=50&type=multiple\")"
   ]
  },
  {
   "cell_type": "code",
   "execution_count": 3,
   "id": "12096794",
   "metadata": {},
   "outputs": [],
   "source": [
    "if response.status_code == 200:\n",
    "    data = response.json()"
   ]
  },
  {
   "cell_type": "code",
   "execution_count": 4,
   "id": "ebba90ad",
   "metadata": {},
   "outputs": [
    {
     "data": {
      "text/plain": [
       "{'type': 'multiple',\n",
       " 'difficulty': 'medium',\n",
       " 'category': 'History',\n",
       " 'question': 'When was the United States National Security Agency established?',\n",
       " 'correct_answer': 'November 4, 1952',\n",
       " 'incorrect_answers': ['July 26, 1908', ' July 1, 1973', ' November 25, 2002']}"
      ]
     },
     "execution_count": 4,
     "metadata": {},
     "output_type": "execute_result"
    }
   ],
   "source": [
    "data['results'][0]"
   ]
  },
  {
   "cell_type": "code",
   "execution_count": 5,
   "id": "b4f3e3bb",
   "metadata": {},
   "outputs": [
    {
     "data": {
      "text/plain": [
       "50"
      ]
     },
     "execution_count": 5,
     "metadata": {},
     "output_type": "execute_result"
    }
   ],
   "source": [
    "length = len(data['results'])\n",
    "length"
   ]
  },
  {
   "cell_type": "code",
   "execution_count": 6,
   "id": "bb31afc8",
   "metadata": {},
   "outputs": [],
   "source": [
    "import random"
   ]
  },
  {
   "cell_type": "code",
   "execution_count": 7,
   "id": "14f4b9ea",
   "metadata": {},
   "outputs": [
    {
     "name": "stdout",
     "output_type": "stream",
     "text": [
      "Which American-owned brewery led the country in sales by volume in 2015?\n",
      "Your options are :\n",
      "1. Miller Coors\n",
      "2. Anheuser Busch\n",
      "3. Boston Beer Company\n",
      "4. D. G. Yuengling and Son, Inc\n",
      "Your Answer is: 1\n",
      "Wrong Answer!! 4 chances left\n",
      "When was the United States National Security Agency established?\n",
      "Your options are :\n",
      "1.  July 1, 1973\n",
      "2.  November 25, 2002\n",
      "3. July 26, 1908\n",
      "4. November 4, 1952\n",
      "Your Answer is: 1\n",
      "Wrong Answer!! 3 chances left\n",
      "In Macbeth, the eyes of what animals were used in the Witches&#039; cauldron?\n",
      "Your options are :\n",
      "1. Humans\n",
      "2. Squids\n",
      "3. Newts\n",
      "4. Sharks\n",
      "Your Answer is: 1\n",
      "Wrong Answer!! 2 chances left\n",
      "What North American tourist attraction is served by the &quot;Maid of the Mist&quot; tour company?\n",
      "Your options are :\n",
      "1. Niagara Falls\n",
      "2. Whistler, British Columbia\n",
      "3. Yosemite National Park\n",
      "4. Disney World\n",
      "Your Answer is: 1\n",
      "Correct Answer!! 1 point\n",
      "Current score = 1\n",
      "When was the Declaration of Independence approved by the Second Continental Congress?\n",
      "Your options are :\n",
      "1. July 4, 1776\n",
      "2. May 4, 1776\n",
      "3. July 2, 1776\n",
      "4. June 4, 1776\n",
      "Your Answer is: 1\n",
      "Correct Answer!! 1 point\n",
      "Current score = 2\n",
      "Who won the 2018 Monaco Grand Prix?\n",
      "Your options are :\n",
      "1. Kimi Raikkonen\n",
      "2. Daniel Ricciardo\n",
      "3. Lewis Hamilton\n",
      "4. Sebastian Vettel\n",
      "Your Answer is: 1\n",
      "Wrong Answer!! 1 chances left\n",
      "Which former boy-band star released hit solo single &quot;Angels&quot; in 1997?\n",
      "Your options are :\n",
      "1. Justin Timberlake\n",
      "2. Harry Styles\n",
      "3. Gary Barlow\n",
      "4. Robbie Williams\n",
      "Your Answer is: 1\n",
      "Wrong Answer!! 0 chances left\n",
      "END OF QUIZ\n",
      "Score 2 out of 10\n"
     ]
    }
   ],
   "source": [
    "chances = 0\n",
    "score = 0\n",
    "while chances < 5 and score <= 10:\n",
    "    random_question_number = random.randint(0,49)\n",
    "    print(data['results'][random_question_number]['question'])\n",
    "    options = data['results'][random_question_number]['incorrect_answers']\n",
    "    options.append(data['results'][random_question_number]['correct_answer'])\n",
    "    random.shuffle(options)\n",
    "    print(\"Your options are :\")\n",
    "    for o in range(len(options)):\n",
    "        print(f\"{o+1}. {options[o]}\")\n",
    "    answer = int(input(\"Your Answer is: \"))\n",
    "    answer_value = options[answer-1]\n",
    "    if data['results'][random_question_number]['correct_answer'] == answer_value:\n",
    "        print(\"Correct Answer!! 1 point\")\n",
    "        score += 1\n",
    "        print(f\"Current score = {score}\")\n",
    "    else:\n",
    "        chances += 1\n",
    "        chances_left = 5 - chances\n",
    "        print(f\"Wrong Answer!! {chances_left} chances left\")\n",
    "print(\"END OF QUIZ\")\n",
    "print(f\"Score {score} out of 10\")"
   ]
  },
  {
   "cell_type": "code",
   "execution_count": null,
   "id": "d2a1f64b",
   "metadata": {},
   "outputs": [],
   "source": []
  }
 ],
 "metadata": {
  "kernelspec": {
   "display_name": "Python 3 (ipykernel)",
   "language": "python",
   "name": "python3"
  },
  "language_info": {
   "codemirror_mode": {
    "name": "ipython",
    "version": 3
   },
   "file_extension": ".py",
   "mimetype": "text/x-python",
   "name": "python",
   "nbconvert_exporter": "python",
   "pygments_lexer": "ipython3",
   "version": "3.11.5"
  }
 },
 "nbformat": 4,
 "nbformat_minor": 5
}
