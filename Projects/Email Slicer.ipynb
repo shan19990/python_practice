{
 "cells": [
  {
   "cell_type": "code",
   "execution_count": 43,
   "id": "bbd0fc3e",
   "metadata": {},
   "outputs": [],
   "source": [
    "def email_slicer(email):\n",
    "    username = email.split(\"@\")[0]\n",
    "    email = email.split(\"@\")[1]\n",
    "    domain = email.split(\".\")[0]\n",
    "    email = email.split(\".\")[1]\n",
    "    extention = email\n",
    "    return username,domain,extention"
   ]
  },
  {
   "cell_type": "code",
   "execution_count": 44,
   "id": "8c057ee2",
   "metadata": {},
   "outputs": [
    {
     "name": "stdout",
     "output_type": "stream",
     "text": [
      "('shankhanil.ghosh', 'gmail', 'com')\n"
     ]
    }
   ],
   "source": [
    "print(email_slicer(\"shankhanil.ghosh@gmail.com\"))"
   ]
  },
  {
   "cell_type": "code",
   "execution_count": null,
   "id": "11d872dd",
   "metadata": {},
   "outputs": [],
   "source": []
  }
 ],
 "metadata": {
  "kernelspec": {
   "display_name": "Python 3 (ipykernel)",
   "language": "python",
   "name": "python3"
  },
  "language_info": {
   "codemirror_mode": {
    "name": "ipython",
    "version": 3
   },
   "file_extension": ".py",
   "mimetype": "text/x-python",
   "name": "python",
   "nbconvert_exporter": "python",
   "pygments_lexer": "ipython3",
   "version": "3.11.5"
  }
 },
 "nbformat": 4,
 "nbformat_minor": 5
}
