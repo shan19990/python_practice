{
 "cells": [
  {
   "cell_type": "code",
   "execution_count": 12,
   "id": "60c1e919",
   "metadata": {},
   "outputs": [],
   "source": [
    "def binary(arr,target):\n",
    "    num = ''\n",
    "    first = 0\n",
    "    last = len(arr)\n",
    "    while num!= target:\n",
    "        middle_index = (last+first)//2\n",
    "        middle_value = arr[middle_index]\n",
    "        if middle_value > target:\n",
    "            last = middle_index-1\n",
    "        elif middle_value < target:\n",
    "            first = middle_index + 1\n",
    "        else:\n",
    "            num = middle_value\n",
    "    return middle_index+1"
   ]
  },
  {
   "cell_type": "code",
   "execution_count": 13,
   "id": "45c7616f",
   "metadata": {},
   "outputs": [],
   "source": [
    "arr = [1,2,3,4,5,6,7,8]\n",
    "target = 7"
   ]
  },
  {
   "cell_type": "code",
   "execution_count": 14,
   "id": "ea29c0dc",
   "metadata": {},
   "outputs": [
    {
     "name": "stdout",
     "output_type": "stream",
     "text": [
      "7\n"
     ]
    }
   ],
   "source": [
    "print(binary(arr,target))"
   ]
  },
  {
   "cell_type": "code",
   "execution_count": null,
   "id": "791b4082",
   "metadata": {},
   "outputs": [],
   "source": []
  }
 ],
 "metadata": {
  "kernelspec": {
   "display_name": "Python 3 (ipykernel)",
   "language": "python",
   "name": "python3"
  },
  "language_info": {
   "codemirror_mode": {
    "name": "ipython",
    "version": 3
   },
   "file_extension": ".py",
   "mimetype": "text/x-python",
   "name": "python",
   "nbconvert_exporter": "python",
   "pygments_lexer": "ipython3",
   "version": "3.11.5"
  }
 },
 "nbformat": 4,
 "nbformat_minor": 5
}
