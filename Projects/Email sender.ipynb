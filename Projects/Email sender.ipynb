{
 "cells": [
  {
   "cell_type": "code",
   "execution_count": 1,
   "id": "a11f60fe",
   "metadata": {},
   "outputs": [],
   "source": [
    "from email.message import EmailMessage"
   ]
  },
  {
   "cell_type": "code",
   "execution_count": 2,
   "id": "1ec6d164",
   "metadata": {},
   "outputs": [],
   "source": [
    "email_sender = \"pythonemailsender1999@gmail.com\""
   ]
  },
  {
   "cell_type": "code",
   "execution_count": 3,
   "id": "fbb919fa",
   "metadata": {},
   "outputs": [],
   "source": [
    "email_password = \"yytd wsqw otle uoab\""
   ]
  },
  {
   "cell_type": "code",
   "execution_count": 4,
   "id": "3147636c",
   "metadata": {},
   "outputs": [],
   "source": [
    "email_receiver = 'wacep52846@usoplay.com'"
   ]
  },
  {
   "cell_type": "code",
   "execution_count": 5,
   "id": "900b9a6a",
   "metadata": {},
   "outputs": [],
   "source": [
    "subject = \"Python Email Sender\""
   ]
  },
  {
   "cell_type": "code",
   "execution_count": 6,
   "id": "0dc2ea3f",
   "metadata": {},
   "outputs": [],
   "source": [
    "body = \"\"\"\n",
    "Hello! I am sending you a mail from Python\n",
    "Make sure to check it out\n",
    "\"\"\""
   ]
  },
  {
   "cell_type": "code",
   "execution_count": 7,
   "id": "b0b32acc",
   "metadata": {},
   "outputs": [],
   "source": [
    "em = EmailMessage()"
   ]
  },
  {
   "cell_type": "code",
   "execution_count": 8,
   "id": "1577f50c",
   "metadata": {},
   "outputs": [],
   "source": [
    "em[\"From\"] = email_sender"
   ]
  },
  {
   "cell_type": "code",
   "execution_count": 9,
   "id": "ac7f9b6b",
   "metadata": {},
   "outputs": [],
   "source": [
    "em[\"To\"] = email_receiver"
   ]
  },
  {
   "cell_type": "code",
   "execution_count": 10,
   "id": "522b24c4",
   "metadata": {},
   "outputs": [],
   "source": [
    "em['subject'] = subject"
   ]
  },
  {
   "cell_type": "code",
   "execution_count": 11,
   "id": "58694f70",
   "metadata": {},
   "outputs": [],
   "source": [
    "em.set_content(body)"
   ]
  },
  {
   "cell_type": "code",
   "execution_count": 12,
   "id": "2423cd0f",
   "metadata": {},
   "outputs": [],
   "source": [
    "import ssl"
   ]
  },
  {
   "cell_type": "code",
   "execution_count": 13,
   "id": "d9c34746",
   "metadata": {},
   "outputs": [],
   "source": [
    "import smtplib"
   ]
  },
  {
   "cell_type": "code",
   "execution_count": 14,
   "id": "11d378e2",
   "metadata": {},
   "outputs": [],
   "source": [
    "context = ssl.create_default_context"
   ]
  },
  {
   "cell_type": "code",
   "execution_count": null,
   "id": "fb8c5449",
   "metadata": {},
   "outputs": [],
   "source": [
    "with smtplib.SMTP_SSL('smtp.gmail.com', 456, context = context) as smtp:\n",
    "    smtp.login(email_sender, email_password)\n",
    "    smtp.sendmail(email_sender, email_receiver, em.as_string())"
   ]
  }
 ],
 "metadata": {
  "kernelspec": {
   "display_name": "Python 3 (ipykernel)",
   "language": "python",
   "name": "python3"
  },
  "language_info": {
   "codemirror_mode": {
    "name": "ipython",
    "version": 3
   },
   "file_extension": ".py",
   "mimetype": "text/x-python",
   "name": "python",
   "nbconvert_exporter": "python",
   "pygments_lexer": "ipython3",
   "version": "3.11.5"
  }
 },
 "nbformat": 4,
 "nbformat_minor": 5
}
