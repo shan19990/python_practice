{
 "cells": [
  {
   "cell_type": "markdown",
   "id": "c33ee1eb",
   "metadata": {},
   "source": [
    "!pip install beautifulsoup4"
   ]
  },
  {
   "cell_type": "markdown",
   "id": "7b448106",
   "metadata": {},
   "source": [
    "!pip install lxml"
   ]
  },
  {
   "cell_type": "markdown",
   "id": "1ce14d99",
   "metadata": {},
   "source": [
    "!pip install xlsxwriter"
   ]
  },
  {
   "cell_type": "code",
   "execution_count": 1,
   "id": "48586ae9",
   "metadata": {},
   "outputs": [],
   "source": [
    "import requests\n",
    "from bs4 import BeautifulSoup\n",
    "import json"
   ]
  },
  {
   "cell_type": "code",
   "execution_count": 2,
   "id": "cbf3f861",
   "metadata": {},
   "outputs": [],
   "source": [
    "url = \"https://www.moneycontrol.com/stocks/marketinfo/marketcap/bse/index.html\"\n",
    "response = requests.get(url)\n",
    "html = response.content\n",
    "\n",
    "soup = BeautifulSoup(html, 'html.parser')\n"
   ]
  },
  {
   "cell_type": "code",
   "execution_count": 3,
   "id": "3ebb5efa",
   "metadata": {},
   "outputs": [
    {
     "data": {
      "text/plain": [
       "'Top  Companies in India, Top  Stocks in India by Market Capitalisation, List of Top  Stocks in India {2023} - BSE'"
      ]
     },
     "execution_count": 3,
     "metadata": {},
     "output_type": "execute_result"
    }
   ],
   "source": [
    "soup.title.text"
   ]
  },
  {
   "cell_type": "code",
   "execution_count": 4,
   "id": "5e9dfdbe",
   "metadata": {},
   "outputs": [
    {
     "data": {
      "text/plain": [
       "<link href=\"https://www.moneycontrol.com/manifest.json?v=2\" rel=\"manifest\"/>"
      ]
     },
     "execution_count": 4,
     "metadata": {},
     "output_type": "execute_result"
    }
   ],
   "source": [
    "soup.link"
   ]
  },
  {
   "cell_type": "code",
   "execution_count": 5,
   "id": "e7d9fd2c",
   "metadata": {},
   "outputs": [],
   "source": [
    "next_data_script = soup.find('script', id='__NEXT_DATA__', type='application/json')\n",
    "\n",
    "if next_data_script:\n",
    "    next_data_json = next_data_script.string\n",
    "    data_dict = json.loads(next_data_json)"
   ]
  },
  {
   "cell_type": "code",
   "execution_count": 6,
   "id": "d88cb6b6",
   "metadata": {},
   "outputs": [],
   "source": [
    "data_dict = data_dict['props']\n",
    "data_dict = data_dict['pageProps']\n",
    "data_dict = data_dict['data']\n",
    "data_dict = data_dict['marketInfo']\n",
    "data_dict = data_dict['body']\n",
    "data = data_dict['dataList']"
   ]
  },
  {
   "cell_type": "code",
   "execution_count": 7,
   "id": "50e07aa7",
   "metadata": {},
   "outputs": [],
   "source": [
    "import pandas as pd"
   ]
  },
  {
   "cell_type": "code",
   "execution_count": 8,
   "id": "4c091957",
   "metadata": {},
   "outputs": [],
   "source": [
    "df = pd.DataFrame(data, columns=['Company','link','Company Full Name', 'Last Price', '%Change','52 week high', '52 low high', 'Market Cap (Rs. cr)'])"
   ]
  },
  {
   "cell_type": "code",
   "execution_count": 9,
   "id": "f2085282",
   "metadata": {},
   "outputs": [
    {
     "data": {
      "text/html": [
       "<div>\n",
       "<style scoped>\n",
       "    .dataframe tbody tr th:only-of-type {\n",
       "        vertical-align: middle;\n",
       "    }\n",
       "\n",
       "    .dataframe tbody tr th {\n",
       "        vertical-align: top;\n",
       "    }\n",
       "\n",
       "    .dataframe thead th {\n",
       "        text-align: right;\n",
       "    }\n",
       "</style>\n",
       "<table border=\"1\" class=\"dataframe\">\n",
       "  <thead>\n",
       "    <tr style=\"text-align: right;\">\n",
       "      <th></th>\n",
       "      <th>Company Full Name</th>\n",
       "      <th>Last Price</th>\n",
       "      <th>%Change</th>\n",
       "      <th>52 week high</th>\n",
       "      <th>52 low high</th>\n",
       "      <th>Market Cap (Rs. cr)</th>\n",
       "    </tr>\n",
       "  </thead>\n",
       "  <tbody>\n",
       "    <tr>\n",
       "      <th>0</th>\n",
       "      <td>Reliance</td>\n",
       "      <td>2583.00</td>\n",
       "      <td>0.21</td>\n",
       "      <td>2855.00</td>\n",
       "      <td>2180.00</td>\n",
       "      <td>1.747631e+06</td>\n",
       "    </tr>\n",
       "    <tr>\n",
       "      <th>1</th>\n",
       "      <td>TCS</td>\n",
       "      <td>3782.00</td>\n",
       "      <td>-0.33</td>\n",
       "      <td>3928.95</td>\n",
       "      <td>3070.30</td>\n",
       "      <td>1.383853e+06</td>\n",
       "    </tr>\n",
       "    <tr>\n",
       "      <th>2</th>\n",
       "      <td>HDFC Bank</td>\n",
       "      <td>1696.00</td>\n",
       "      <td>0.77</td>\n",
       "      <td>1757.80</td>\n",
       "      <td>1460.55</td>\n",
       "      <td>1.287609e+06</td>\n",
       "    </tr>\n",
       "    <tr>\n",
       "      <th>3</th>\n",
       "      <td>ICICI Bank</td>\n",
       "      <td>996.15</td>\n",
       "      <td>0.11</td>\n",
       "      <td>1042.65</td>\n",
       "      <td>796.10</td>\n",
       "      <td>6.987478e+05</td>\n",
       "    </tr>\n",
       "    <tr>\n",
       "      <th>4</th>\n",
       "      <td>Infosys</td>\n",
       "      <td>1554.00</td>\n",
       "      <td>0.62</td>\n",
       "      <td>1620.00</td>\n",
       "      <td>1215.45</td>\n",
       "      <td>6.449795e+05</td>\n",
       "    </tr>\n",
       "    <tr>\n",
       "      <th>...</th>\n",
       "      <td>...</td>\n",
       "      <td>...</td>\n",
       "      <td>...</td>\n",
       "      <td>...</td>\n",
       "      <td>...</td>\n",
       "      <td>...</td>\n",
       "    </tr>\n",
       "    <tr>\n",
       "      <th>95</th>\n",
       "      <td>SRF</td>\n",
       "      <td>2465.00</td>\n",
       "      <td>-1.03</td>\n",
       "      <td>2636.65</td>\n",
       "      <td>2050.00</td>\n",
       "      <td>7.306872e+04</td>\n",
       "    </tr>\n",
       "    <tr>\n",
       "      <th>96</th>\n",
       "      <td>SBI Card</td>\n",
       "      <td>765.50</td>\n",
       "      <td>-0.40</td>\n",
       "      <td>932.35</td>\n",
       "      <td>690.90</td>\n",
       "      <td>7.278047e+04</td>\n",
       "    </tr>\n",
       "    <tr>\n",
       "      <th>97</th>\n",
       "      <td>Tube Investment</td>\n",
       "      <td>3662.00</td>\n",
       "      <td>1.62</td>\n",
       "      <td>4046.90</td>\n",
       "      <td>2375.05</td>\n",
       "      <td>7.081299e+04</td>\n",
       "    </tr>\n",
       "    <tr>\n",
       "      <th>98</th>\n",
       "      <td>IDBI Bank</td>\n",
       "      <td>65.85</td>\n",
       "      <td>0.50</td>\n",
       "      <td>74.75</td>\n",
       "      <td>42.88</td>\n",
       "      <td>7.080457e+04</td>\n",
       "    </tr>\n",
       "    <tr>\n",
       "      <th>99</th>\n",
       "      <td>CG Power</td>\n",
       "      <td>458.25</td>\n",
       "      <td>-1.47</td>\n",
       "      <td>501.75</td>\n",
       "      <td>254.70</td>\n",
       "      <td>6.998777e+04</td>\n",
       "    </tr>\n",
       "  </tbody>\n",
       "</table>\n",
       "<p>100 rows × 6 columns</p>\n",
       "</div>"
      ],
      "text/plain": [
       "   Company Full Name  Last Price  %Change  52 week high  52 low high  \\\n",
       "0           Reliance     2583.00     0.21       2855.00      2180.00   \n",
       "1                TCS     3782.00    -0.33       3928.95      3070.30   \n",
       "2          HDFC Bank     1696.00     0.77       1757.80      1460.55   \n",
       "3         ICICI Bank      996.15     0.11       1042.65       796.10   \n",
       "4            Infosys     1554.00     0.62       1620.00      1215.45   \n",
       "..               ...         ...      ...           ...          ...   \n",
       "95               SRF     2465.00    -1.03       2636.65      2050.00   \n",
       "96          SBI Card      765.50    -0.40        932.35       690.90   \n",
       "97   Tube Investment     3662.00     1.62       4046.90      2375.05   \n",
       "98         IDBI Bank       65.85     0.50         74.75        42.88   \n",
       "99         CG Power       458.25    -1.47        501.75       254.70   \n",
       "\n",
       "    Market Cap (Rs. cr)  \n",
       "0          1.747631e+06  \n",
       "1          1.383853e+06  \n",
       "2          1.287609e+06  \n",
       "3          6.987478e+05  \n",
       "4          6.449795e+05  \n",
       "..                  ...  \n",
       "95         7.306872e+04  \n",
       "96         7.278047e+04  \n",
       "97         7.081299e+04  \n",
       "98         7.080457e+04  \n",
       "99         6.998777e+04  \n",
       "\n",
       "[100 rows x 6 columns]"
      ]
     },
     "execution_count": 9,
     "metadata": {},
     "output_type": "execute_result"
    }
   ],
   "source": [
    "df.drop('link', axis=1,inplace=True)\n",
    "df.drop('Company', axis=1,inplace=True)\n",
    "df"
   ]
  },
  {
   "cell_type": "code",
   "execution_count": 10,
   "id": "ff2ff1c7",
   "metadata": {},
   "outputs": [],
   "source": [
    "with pd.ExcelWriter('top_100_stock.xlsx', engine='xlsxwriter') as writer:\n",
    "    df.to_excel(writer, sheet_name='Sheet1', index=False)"
   ]
  },
  {
   "cell_type": "code",
   "execution_count": null,
   "id": "420e80f0",
   "metadata": {},
   "outputs": [],
   "source": []
  }
 ],
 "metadata": {
  "kernelspec": {
   "display_name": "Python 3 (ipykernel)",
   "language": "python",
   "name": "python3"
  },
  "language_info": {
   "codemirror_mode": {
    "name": "ipython",
    "version": 3
   },
   "file_extension": ".py",
   "mimetype": "text/x-python",
   "name": "python",
   "nbconvert_exporter": "python",
   "pygments_lexer": "ipython3",
   "version": "3.11.5"
  }
 },
 "nbformat": 4,
 "nbformat_minor": 5
}
