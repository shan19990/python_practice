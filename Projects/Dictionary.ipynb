{
 "cells": [
  {
   "cell_type": "code",
   "execution_count": 1,
   "id": "9e32c5c9",
   "metadata": {},
   "outputs": [],
   "source": [
    "import requests"
   ]
  },
  {
   "cell_type": "code",
   "execution_count": 33,
   "id": "5cd561d8",
   "metadata": {},
   "outputs": [],
   "source": [
    "def dictionary():\n",
    "    word = input(\"Enter the word you want the meaning for: \")\n",
    "    url = \"https://api.dictionaryapi.dev/api/v2/entries/en/\"+word\n",
    "    response = requests.get(url)\n",
    "    data = response.json()\n",
    "    meanings = data[0][\"meanings\"]\n",
    "\n",
    "    for meaning in meanings:\n",
    "        part_of_speech = meaning[\"partOfSpeech\"]\n",
    "\n",
    "        definitions = meaning[\"definitions\"]\n",
    "\n",
    "        print(f\"\\nPart of Speech: {part_of_speech}\")\n",
    "\n",
    "        for definition in definitions:\n",
    "            definition_text = definition[\"definition\"]\n",
    "            example = definition.get(\"example\", \"No example provided\")\n",
    "\n",
    "            print(f\"  Definition: {definition_text}\")\n",
    "            print(f\"  Example: {example}\\n\")"
   ]
  },
  {
   "cell_type": "code",
   "execution_count": 34,
   "id": "46b697e3",
   "metadata": {},
   "outputs": [
    {
     "name": "stdout",
     "output_type": "stream",
     "text": [
      "Enter the word you want the meaning for: hello\n",
      "\n",
      "Part of Speech: noun\n",
      "  Definition: \"Hello!\" or an equivalent greeting.\n",
      "  Example: No example provided\n",
      "\n",
      "\n",
      "Part of Speech: verb\n",
      "  Definition: To greet with \"hello\".\n",
      "  Example: No example provided\n",
      "\n",
      "\n",
      "Part of Speech: interjection\n",
      "  Definition: A greeting (salutation) said when meeting someone or acknowledging someone’s arrival or presence.\n",
      "  Example: Hello, everyone.\n",
      "\n",
      "  Definition: A greeting used when answering the telephone.\n",
      "  Example: Hello? How may I help you?\n",
      "\n",
      "  Definition: A call for response if it is not clear if anyone is present or listening, or if a telephone conversation may have been disconnected.\n",
      "  Example: Hello? Is anyone there?\n",
      "\n",
      "  Definition: Used sarcastically to imply that the person addressed or referred to has done something the speaker or writer considers to be foolish.\n",
      "  Example: You just tried to start your car with your cell phone. Hello?\n",
      "\n",
      "  Definition: An expression of puzzlement or discovery.\n",
      "  Example: Hello! What’s going on here?\n",
      "\n"
     ]
    }
   ],
   "source": [
    "dictionary()"
   ]
  },
  {
   "cell_type": "code",
   "execution_count": null,
   "id": "adeb7073",
   "metadata": {},
   "outputs": [],
   "source": []
  }
 ],
 "metadata": {
  "kernelspec": {
   "display_name": "Python 3 (ipykernel)",
   "language": "python",
   "name": "python3"
  },
  "language_info": {
   "codemirror_mode": {
    "name": "ipython",
    "version": 3
   },
   "file_extension": ".py",
   "mimetype": "text/x-python",
   "name": "python",
   "nbconvert_exporter": "python",
   "pygments_lexer": "ipython3",
   "version": "3.11.5"
  }
 },
 "nbformat": 4,
 "nbformat_minor": 5
}
