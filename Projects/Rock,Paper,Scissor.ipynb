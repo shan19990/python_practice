{
 "cells": [
  {
   "cell_type": "code",
   "execution_count": 1,
   "id": "f632358e",
   "metadata": {},
   "outputs": [],
   "source": [
    "import random"
   ]
  },
  {
   "cell_type": "code",
   "execution_count": 3,
   "id": "0f792852",
   "metadata": {},
   "outputs": [
    {
     "name": "stdout",
     "output_type": "stream",
     "text": [
      "Your turn to pick: rock\n",
      "You choose rock, Computer choose scissor\n",
      "WIN!! 1 point\n",
      "Your turn to pick: paper\n",
      "You choose paper, Computer choose scissor\n",
      "LOSS!! GAME OVER\n",
      "Your total score is 1\n"
     ]
    }
   ],
   "source": [
    "choices = ['rock','paper',\"scissor\"]\n",
    "flag = True\n",
    "score = 0\n",
    "while flag == True:\n",
    "    player_choice = input(\"Your turn to pick: \").lower()\n",
    "    computer_choice = random.choice(choices)\n",
    "    print(f\"You choose {player_choice}, Computer choose {computer_choice}\")\n",
    "    if player_choice == computer_choice:\n",
    "        print(\"DRAW\")\n",
    "    elif player_choice == 'rock' and computer_choice == 'scissor':\n",
    "        print(\"WIN!! 1 point\")\n",
    "        score += 1\n",
    "    elif player_choice == 'rock' and computer_choice == 'paper':\n",
    "        print(\"LOSS!! GAME OVER\")\n",
    "        flag = False\n",
    "    elif player_choice == 'paper' and computer_choice == 'rock':\n",
    "        print(\"WIN!! 1 point\")\n",
    "        score += 1\n",
    "    elif player_choice == 'paper' and computer_choice == 'scissor':\n",
    "        print(\"LOSS!! GAME OVER\")\n",
    "        flag = False\n",
    "    elif player_choice == 'scissor' and computer_choice == 'paper':\n",
    "        print(\"WIN!! 1 point\")\n",
    "        score += 1\n",
    "    elif player_choice == 'scissor' and computer_choice == 'rock':\n",
    "        print(\"LOSS!! GAME OVER\")\n",
    "        flag = False\n",
    "    else:\n",
    "        print(\"enter a valid command\")\n",
    "print(f'Your total score is {score}')"
   ]
  },
  {
   "cell_type": "code",
   "execution_count": null,
   "id": "d3863c27",
   "metadata": {},
   "outputs": [],
   "source": []
  }
 ],
 "metadata": {
  "kernelspec": {
   "display_name": "Python 3 (ipykernel)",
   "language": "python",
   "name": "python3"
  },
  "language_info": {
   "codemirror_mode": {
    "name": "ipython",
    "version": 3
   },
   "file_extension": ".py",
   "mimetype": "text/x-python",
   "name": "python",
   "nbconvert_exporter": "python",
   "pygments_lexer": "ipython3",
   "version": "3.11.5"
  }
 },
 "nbformat": 4,
 "nbformat_minor": 5
}
