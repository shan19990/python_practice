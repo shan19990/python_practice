{
 "cells": [
  {
   "cell_type": "code",
   "execution_count": 1,
   "id": "34f8283c",
   "metadata": {},
   "outputs": [],
   "source": [
    "import requests"
   ]
  },
  {
   "cell_type": "code",
   "execution_count": 2,
   "id": "f2e426b7",
   "metadata": {},
   "outputs": [],
   "source": [
    "def url_check(url):\n",
    "    response = requests.get(url)\n",
    "    if response.status_code == 200:\n",
    "        return \"Connection Successfull\"\n",
    "    else:\n",
    "        return \"Connection Unsuccessfull\""
   ]
  },
  {
   "cell_type": "code",
   "execution_count": 5,
   "id": "b3ed81d8",
   "metadata": {},
   "outputs": [
    {
     "data": {
      "text/plain": [
       "'Connection Successfull'"
      ]
     },
     "execution_count": 5,
     "metadata": {},
     "output_type": "execute_result"
    }
   ],
   "source": [
    "url_check(\"https://www.hotstar.com/in/shows/the-freelancer/1260147428/the-freelancer/1260148375/watch?filters=content_type%3Depisode\")"
   ]
  }
 ],
 "metadata": {
  "kernelspec": {
   "display_name": "Python 3 (ipykernel)",
   "language": "python",
   "name": "python3"
  },
  "language_info": {
   "codemirror_mode": {
    "name": "ipython",
    "version": 3
   },
   "file_extension": ".py",
   "mimetype": "text/x-python",
   "name": "python",
   "nbconvert_exporter": "python",
   "pygments_lexer": "ipython3",
   "version": "3.11.5"
  }
 },
 "nbformat": 4,
 "nbformat_minor": 5
}
