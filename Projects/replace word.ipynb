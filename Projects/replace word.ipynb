{
 "cells": [
  {
   "cell_type": "code",
   "execution_count": 3,
   "id": "0cb5291a",
   "metadata": {},
   "outputs": [],
   "source": [
    "def replace_string(string,replace_to,replace_with):\n",
    "    string = string.replace(replace_to,replace_with)\n",
    "    return string"
   ]
  },
  {
   "cell_type": "code",
   "execution_count": 4,
   "id": "8a6209e3",
   "metadata": {},
   "outputs": [
    {
     "name": "stdout",
     "output_type": "stream",
     "text": [
      "Enter your string:The clear blue sky complemented the deep blue ocean, creating a serene and breathtaking vie\n",
      "Enter your string to replace:blue\n",
      "Enter your string to replace with:red\n",
      "The clear red sky complemented the deep red ocean, creating a serene and breathtaking vie\n"
     ]
    }
   ],
   "source": [
    "string = input(\"Enter your string:\")\n",
    "replace_to = input(\"Enter your string to replace:\")\n",
    "replace_with = input(\"Enter your string to replace with:\")\n",
    "print(replace_string(string,replace_to,replace_with))"
   ]
  },
  {
   "cell_type": "code",
   "execution_count": null,
   "id": "1d7afbbc",
   "metadata": {},
   "outputs": [],
   "source": []
  }
 ],
 "metadata": {
  "kernelspec": {
   "display_name": "Python 3 (ipykernel)",
   "language": "python",
   "name": "python3"
  },
  "language_info": {
   "codemirror_mode": {
    "name": "ipython",
    "version": 3
   },
   "file_extension": ".py",
   "mimetype": "text/x-python",
   "name": "python",
   "nbconvert_exporter": "python",
   "pygments_lexer": "ipython3",
   "version": "3.11.5"
  }
 },
 "nbformat": 4,
 "nbformat_minor": 5
}
