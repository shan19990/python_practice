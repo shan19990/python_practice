{
 "cells": [
  {
   "cell_type": "code",
   "execution_count": 1,
   "id": "5c79211d",
   "metadata": {},
   "outputs": [],
   "source": [
    "import string"
   ]
  },
  {
   "cell_type": "code",
   "execution_count": 2,
   "id": "99dc654c",
   "metadata": {},
   "outputs": [],
   "source": [
    "import random"
   ]
  },
  {
   "cell_type": "code",
   "execution_count": 3,
   "id": "610d7be6",
   "metadata": {},
   "outputs": [],
   "source": [
    "characters = list(string.ascii_letters + string.digits + string.punctuation)"
   ]
  },
  {
   "cell_type": "code",
   "execution_count": 4,
   "id": "005b847d",
   "metadata": {},
   "outputs": [],
   "source": [
    "def passoword_generator(length):\n",
    "    password = \"\"\n",
    "    for i in range(length):\n",
    "        password += random.choice(characters)\n",
    "    return password"
   ]
  },
  {
   "cell_type": "code",
   "execution_count": 5,
   "id": "1176ba56",
   "metadata": {},
   "outputs": [
    {
     "name": "stdout",
     "output_type": "stream",
     "text": [
      "Do you want to generate a passowrd: yes\n",
      "Length of the passoword: 100\n",
      "3vp''})o>DuH5#`&g5PSIfoOB6qDE'cAG\\i(H^!dG9XTy&Km8TvBB?L;ha.!gw;M\"4E[ztbd'+!Z>-S.*9#bD\"8q*jIL\"{c)R]V,\n",
      "Do you want to generate a passowrd: NO\n"
     ]
    }
   ],
   "source": [
    "answer = input(\"Do you want to generate a passowrd: \")\n",
    "while answer != 'no':\n",
    "    length = int(input(\"Length of the passoword: \"))\n",
    "    print(passoword_generator(length))\n",
    "    answer = input(\"Do you want to generate a passowrd: \").lower()\n",
    "exit()"
   ]
  },
  {
   "cell_type": "code",
   "execution_count": null,
   "id": "bd418779",
   "metadata": {},
   "outputs": [],
   "source": []
  }
 ],
 "metadata": {
  "kernelspec": {
   "display_name": "Python 3 (ipykernel)",
   "language": "python",
   "name": "python3"
  },
  "language_info": {
   "codemirror_mode": {
    "name": "ipython",
    "version": 3
   },
   "file_extension": ".py",
   "mimetype": "text/x-python",
   "name": "python",
   "nbconvert_exporter": "python",
   "pygments_lexer": "ipython3",
   "version": "3.11.5"
  }
 },
 "nbformat": 4,
 "nbformat_minor": 5
}
