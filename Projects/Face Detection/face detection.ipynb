{
 "cells": [
  {
   "cell_type": "code",
   "execution_count": 2,
   "id": "a1cd8f17",
   "metadata": {},
   "outputs": [
    {
     "name": "stdout",
     "output_type": "stream",
     "text": [
      "Collecting opencv-python\n",
      "  Obtaining dependency information for opencv-python from https://files.pythonhosted.org/packages/38/d2/3e8c13ffc37ca5ebc6f382b242b44acb43eb489042e1728407ac3904e72f/opencv_python-4.8.1.78-cp37-abi3-win_amd64.whl.metadata\n",
      "  Downloading opencv_python-4.8.1.78-cp37-abi3-win_amd64.whl.metadata (20 kB)\n",
      "Requirement already satisfied: numpy>=1.21.2 in c:\\users\\shank\\anaconda3\\lib\\site-packages (from opencv-python) (1.24.3)\n",
      "Downloading opencv_python-4.8.1.78-cp37-abi3-win_amd64.whl (38.1 MB)\n",
      "   ---------------------------------------- 0.0/38.1 MB ? eta -:--:--\n",
      "   ---------------------------------------- 0.0/38.1 MB ? eta -:--:--\n",
      "   ---------------------------------------- 0.1/38.1 MB 1.3 MB/s eta 0:00:29\n",
      "   ---------------------------------------- 0.2/38.1 MB 2.2 MB/s eta 0:00:18\n",
      "   ---------------------------------------- 0.4/38.1 MB 2.4 MB/s eta 0:00:16\n",
      "    --------------------------------------- 0.8/38.1 MB 3.7 MB/s eta 0:00:10\n",
      "   - -------------------------------------- 1.5/38.1 MB 5.9 MB/s eta 0:00:07\n",
      "   -- ------------------------------------- 2.2/38.1 MB 7.5 MB/s eta 0:00:05\n",
      "   -- ------------------------------------- 2.8/38.1 MB 8.3 MB/s eta 0:00:05\n",
      "   --- ------------------------------------ 3.6/38.1 MB 9.2 MB/s eta 0:00:04\n",
      "   ---- ----------------------------------- 4.5/38.1 MB 10.2 MB/s eta 0:00:04\n",
      "   ----- ---------------------------------- 5.4/38.1 MB 11.5 MB/s eta 0:00:03\n",
      "   ------ --------------------------------- 6.2/38.1 MB 12.0 MB/s eta 0:00:03\n",
      "   ------- -------------------------------- 7.3/38.1 MB 13.0 MB/s eta 0:00:03\n",
      "   -------- ------------------------------- 8.4/38.1 MB 13.8 MB/s eta 0:00:03\n",
      "   --------- ------------------------------ 9.4/38.1 MB 14.3 MB/s eta 0:00:02\n",
      "   ----------- ---------------------------- 10.6/38.1 MB 18.2 MB/s eta 0:00:02\n",
      "   ------------ --------------------------- 11.7/38.1 MB 20.5 MB/s eta 0:00:02\n",
      "   ------------- -------------------------- 13.0/38.1 MB 21.9 MB/s eta 0:00:02\n",
      "   -------------- ------------------------- 14.0/38.1 MB 22.6 MB/s eta 0:00:02\n",
      "   ---------------- ----------------------- 15.3/38.1 MB 24.2 MB/s eta 0:00:01\n",
      "   ----------------- ---------------------- 16.3/38.1 MB 24.2 MB/s eta 0:00:01\n",
      "   ------------------ --------------------- 17.2/38.1 MB 23.4 MB/s eta 0:00:01\n",
      "   ------------------ --------------------- 18.1/38.1 MB 23.4 MB/s eta 0:00:01\n",
      "   ------------------- -------------------- 18.9/38.1 MB 22.6 MB/s eta 0:00:01\n",
      "   -------------------- ------------------- 19.6/38.1 MB 21.8 MB/s eta 0:00:01\n",
      "   --------------------- ------------------ 20.7/38.1 MB 21.9 MB/s eta 0:00:01\n",
      "   ---------------------- ----------------- 21.6/38.1 MB 21.1 MB/s eta 0:00:01\n",
      "   ----------------------- ---------------- 22.4/38.1 MB 20.5 MB/s eta 0:00:01\n",
      "   ------------------------ --------------- 23.2/38.1 MB 19.8 MB/s eta 0:00:01\n",
      "   ------------------------- -------------- 24.4/38.1 MB 20.5 MB/s eta 0:00:01\n",
      "   -------------------------- ------------- 25.3/38.1 MB 19.8 MB/s eta 0:00:01\n",
      "   --------------------------- ------------ 26.2/38.1 MB 19.8 MB/s eta 0:00:01\n",
      "   ---------------------------- ----------- 27.1/38.1 MB 19.2 MB/s eta 0:00:01\n",
      "   ----------------------------- ---------- 28.0/38.1 MB 19.3 MB/s eta 0:00:01\n",
      "   ------------------------------ --------- 28.9/38.1 MB 19.3 MB/s eta 0:00:01\n",
      "   ------------------------------- -------- 29.8/38.1 MB 20.5 MB/s eta 0:00:01\n",
      "   -------------------------------- ------- 30.7/38.1 MB 19.8 MB/s eta 0:00:01\n",
      "   --------------------------------- ------ 31.6/38.1 MB 19.3 MB/s eta 0:00:01\n",
      "   ---------------------------------- ----- 32.5/38.1 MB 19.8 MB/s eta 0:00:01\n",
      "   ----------------------------------- ---- 33.4/38.1 MB 19.8 MB/s eta 0:00:01\n",
      "   ------------------------------------ --- 34.3/38.1 MB 19.2 MB/s eta 0:00:01\n",
      "   ------------------------------------- -- 35.2/38.1 MB 19.3 MB/s eta 0:00:01\n",
      "   ------------------------------------- -- 36.2/38.1 MB 19.3 MB/s eta 0:00:01\n",
      "   -------------------------------------- - 36.5/38.1 MB 19.3 MB/s eta 0:00:01\n",
      "   -------------------------------------- - 36.5/38.1 MB 19.3 MB/s eta 0:00:01\n",
      "   ---------------------------------------  38.1/38.1 MB 19.3 MB/s eta 0:00:01\n",
      "   ---------------------------------------  38.1/38.1 MB 19.3 MB/s eta 0:00:01\n",
      "   ---------------------------------------- 38.1/38.1 MB 16.0 MB/s eta 0:00:00\n",
      "Installing collected packages: opencv-python\n",
      "Successfully installed opencv-python-4.8.1.78\n"
     ]
    }
   ],
   "source": [
    "!pip install opencv-python"
   ]
  },
  {
   "cell_type": "code",
   "execution_count": 3,
   "id": "369d2b27",
   "metadata": {},
   "outputs": [],
   "source": [
    "import cv2"
   ]
  },
  {
   "cell_type": "code",
   "execution_count": 5,
   "id": "27ab6fc0",
   "metadata": {},
   "outputs": [],
   "source": [
    "face_cascade = cv2.CascadeClassifier(\"haarcascade_frontalface_default.xml\")"
   ]
  },
  {
   "cell_type": "code",
   "execution_count": 11,
   "id": "abdd8b42",
   "metadata": {},
   "outputs": [],
   "source": [
    "img = cv2.imread(\"test.jpg\")"
   ]
  },
  {
   "cell_type": "code",
   "execution_count": 12,
   "id": "634d8414",
   "metadata": {},
   "outputs": [],
   "source": [
    "gray = cv2.cvtColor(img, cv2.COLOR_BGR2GRAY)"
   ]
  },
  {
   "cell_type": "code",
   "execution_count": 13,
   "id": "51a8a7fb",
   "metadata": {},
   "outputs": [],
   "source": [
    "faces = face_cascade.detectMultiScale(gray, 1.1, 4)"
   ]
  },
  {
   "cell_type": "code",
   "execution_count": 14,
   "id": "dfd062af",
   "metadata": {},
   "outputs": [],
   "source": [
    "for (x,y,w,h) in faces:\n",
    "    cv2.rectangle(img,(x,y), (x+w , y+h), (225,0,0), 2)"
   ]
  },
  {
   "cell_type": "code",
   "execution_count": 17,
   "id": "61556333",
   "metadata": {},
   "outputs": [
    {
     "data": {
      "text/plain": [
       "-1"
      ]
     },
     "execution_count": 17,
     "metadata": {},
     "output_type": "execute_result"
    }
   ],
   "source": [
    "cv2.imshow(\"img\", img)\n",
    "cv2.waitKey()"
   ]
  },
  {
   "cell_type": "code",
   "execution_count": 18,
   "id": "9f8fa7e3",
   "metadata": {},
   "outputs": [
    {
     "data": {
      "text/plain": [
       "True"
      ]
     },
     "execution_count": 18,
     "metadata": {},
     "output_type": "execute_result"
    }
   ],
   "source": [
    "cv2.imwrite(\"face-detected.jpg\", img)"
   ]
  },
  {
   "cell_type": "code",
   "execution_count": null,
   "id": "cea953ac",
   "metadata": {},
   "outputs": [],
   "source": []
  }
 ],
 "metadata": {
  "kernelspec": {
   "display_name": "Python 3 (ipykernel)",
   "language": "python",
   "name": "python3"
  },
  "language_info": {
   "codemirror_mode": {
    "name": "ipython",
    "version": 3
   },
   "file_extension": ".py",
   "mimetype": "text/x-python",
   "name": "python",
   "nbconvert_exporter": "python",
   "pygments_lexer": "ipython3",
   "version": "3.11.5"
  }
 },
 "nbformat": 4,
 "nbformat_minor": 5
}
