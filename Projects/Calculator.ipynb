{
 "cells": [
  {
   "cell_type": "code",
   "execution_count": 1,
   "id": "5e70b1f1",
   "metadata": {},
   "outputs": [],
   "source": [
    "def add(x,y):\n",
    "    return x+y"
   ]
  },
  {
   "cell_type": "code",
   "execution_count": 2,
   "id": "342dc6fb",
   "metadata": {},
   "outputs": [],
   "source": [
    "def sub(x,y):\n",
    "    return x-y"
   ]
  },
  {
   "cell_type": "code",
   "execution_count": 3,
   "id": "0c1e95c9",
   "metadata": {},
   "outputs": [],
   "source": [
    "def mul(x,y):\n",
    "    return x*y"
   ]
  },
  {
   "cell_type": "code",
   "execution_count": 4,
   "id": "0df348eb",
   "metadata": {},
   "outputs": [],
   "source": [
    "def div(x,y):\n",
    "    return x/y"
   ]
  },
  {
   "cell_type": "code",
   "execution_count": 6,
   "id": "ada7fcd3",
   "metadata": {},
   "outputs": [
    {
     "name": "stdout",
     "output_type": "stream",
     "text": [
      "Enter first number:10\n",
      "Enter second number:5\n",
      "Enter operation :+\n",
      "15\n",
      "Enter first number:10\n",
      "Enter second number:2\n",
      "Enter operation :*\n",
      "20\n",
      "Enter first number:10\n",
      "Enter second number:5\n",
      "Enter operation :-\n",
      "5\n",
      "Enter first number:10\n",
      "Enter second number:5\n",
      "Enter operation :/\n",
      "2.0\n",
      "Enter first number:10\n",
      "Enter second number:5\n",
      "Enter operation :exit\n"
     ]
    }
   ],
   "source": [
    "operator = \"\"\n",
    "while operator != 'exit':\n",
    "    x = int(input(\"Enter first number:\"))\n",
    "    y = int(input(\"Enter second number:\"))\n",
    "    operator = input(\"Enter operation :\")\n",
    "    match operator:\n",
    "        case \"+\":\n",
    "            print(add(x,y))\n",
    "        case \"-\":\n",
    "            print(sub(x,y))\n",
    "        case \"*\":\n",
    "            print(mul(x,y))\n",
    "        case \"/\":\n",
    "            print(div(x,y))\n",
    "        case \"exit\":\n",
    "            quit()"
   ]
  },
  {
   "cell_type": "code",
   "execution_count": null,
   "id": "1f120d7c",
   "metadata": {},
   "outputs": [],
   "source": []
  }
 ],
 "metadata": {
  "kernelspec": {
   "display_name": "Python 3 (ipykernel)",
   "language": "python",
   "name": "python3"
  },
  "language_info": {
   "codemirror_mode": {
    "name": "ipython",
    "version": 3
   },
   "file_extension": ".py",
   "mimetype": "text/x-python",
   "name": "python",
   "nbconvert_exporter": "python",
   "pygments_lexer": "ipython3",
   "version": "3.11.5"
  }
 },
 "nbformat": 4,
 "nbformat_minor": 5
}
