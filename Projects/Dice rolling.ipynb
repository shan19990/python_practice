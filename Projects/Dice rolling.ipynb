{
 "cells": [
  {
   "cell_type": "code",
   "execution_count": 7,
   "id": "07f807b8",
   "metadata": {},
   "outputs": [],
   "source": [
    "import random"
   ]
  },
  {
   "cell_type": "code",
   "execution_count": 8,
   "id": "134aa50a",
   "metadata": {},
   "outputs": [],
   "source": [
    "def dice_roll():\n",
    "    answer = 'yes'\n",
    "    while answer.lower() == \"Yes\".lower():\n",
    "        answer = input(\"Do you want to roll dices(Yes/No): \")\n",
    "        dice1 = random.randint(1,6)\n",
    "        dice2 = random.randint(1,6)\n",
    "        \n",
    "        return dice1+dice2"
   ]
  },
  {
   "cell_type": "code",
   "execution_count": 9,
   "id": "c0222051",
   "metadata": {},
   "outputs": [
    {
     "name": "stdout",
     "output_type": "stream",
     "text": [
      "Do you want to roll dices(Yes/No): no\n"
     ]
    },
    {
     "data": {
      "text/plain": [
       "9"
      ]
     },
     "execution_count": 9,
     "metadata": {},
     "output_type": "execute_result"
    }
   ],
   "source": [
    "dice_roll()"
   ]
  },
  {
   "cell_type": "code",
   "execution_count": null,
   "id": "693ee736",
   "metadata": {},
   "outputs": [],
   "source": []
  }
 ],
 "metadata": {
  "kernelspec": {
   "display_name": "Python 3 (ipykernel)",
   "language": "python",
   "name": "python3"
  },
  "language_info": {
   "codemirror_mode": {
    "name": "ipython",
    "version": 3
   },
   "file_extension": ".py",
   "mimetype": "text/x-python",
   "name": "python",
   "nbconvert_exporter": "python",
   "pygments_lexer": "ipython3",
   "version": "3.11.5"
  }
 },
 "nbformat": 4,
 "nbformat_minor": 5
}
