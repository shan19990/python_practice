{
 "cells": [
  {
   "cell_type": "code",
   "execution_count": 1,
   "id": "341512ed",
   "metadata": {},
   "outputs": [],
   "source": [
    "import math"
   ]
  },
  {
   "cell_type": "code",
   "execution_count": 2,
   "id": "cc28b978",
   "metadata": {},
   "outputs": [],
   "source": [
    "def simple_interest(prin,rate,year):\n",
    "    SI = (prin * rate * year) / 100\n",
    "    return SI"
   ]
  },
  {
   "cell_type": "code",
   "execution_count": 8,
   "id": "f3fdc0fc",
   "metadata": {},
   "outputs": [],
   "source": [
    "def compound_interest(prin,rate,year):\n",
    "    A = prin * pow(1+(rate/100),year)\n",
    "    return A"
   ]
  },
  {
   "cell_type": "code",
   "execution_count": 9,
   "id": "ab5e68e3",
   "metadata": {},
   "outputs": [
    {
     "name": "stdout",
     "output_type": "stream",
     "text": [
      "Principle amount:1000000\n",
      "rate of interest:10\n",
      "Time in years:5\n",
      "Which type of interest you want to calculate(SI/CI):CI\n",
      "1610510.0000000005\n"
     ]
    }
   ],
   "source": [
    "prin = int(input(\"Principle amount:\"))\n",
    "rate = int(input(\"rate of interest:\"))\n",
    "year = int(input(\"Time in years:\"))\n",
    "interest = input(\"Which type of interest you want to calculate(SI/CI):\")\n",
    "match interest:\n",
    "    case \"SI\":\n",
    "        print(simple_interest(prin,rate,year))\n",
    "    case \"CI\":\n",
    "        print(compound_interest(prin,rate,year))\n",
    "    case _:\n",
    "        print(\"Enter valid command\")"
   ]
  },
  {
   "cell_type": "code",
   "execution_count": null,
   "id": "b1e20007",
   "metadata": {},
   "outputs": [],
   "source": []
  }
 ],
 "metadata": {
  "kernelspec": {
   "display_name": "Python 3 (ipykernel)",
   "language": "python",
   "name": "python3"
  },
  "language_info": {
   "codemirror_mode": {
    "name": "ipython",
    "version": 3
   },
   "file_extension": ".py",
   "mimetype": "text/x-python",
   "name": "python",
   "nbconvert_exporter": "python",
   "pygments_lexer": "ipython3",
   "version": "3.11.5"
  }
 },
 "nbformat": 4,
 "nbformat_minor": 5
}
