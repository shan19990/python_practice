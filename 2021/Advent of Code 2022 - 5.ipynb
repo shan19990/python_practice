{
 "cells": [
  {
   "cell_type": "code",
   "execution_count": 317,
   "id": "9f1390dd",
   "metadata": {},
   "outputs": [],
   "source": [
    "with open(\"Advent of Code 2022 - 5.txt\") as file:\n",
    "    data = file.read()"
   ]
  },
  {
   "cell_type": "code",
   "execution_count": 318,
   "id": "92ac7bda",
   "metadata": {},
   "outputs": [
    {
     "data": {
      "text/plain": [
       "'move 8 from 3 to 2\\nmove 1 from 9 to 5\\nmove 5 from 4 to 7\\nmove 6 from 1 to 4\\nmove 8 from 6 to 8\\nmove 8 from 4 to 5\\nmove 4 from 9 to 5\\nmove 4 from 7 to 9\\nmove 7 from 7 to 2\\nmove 4 from 5 to 2\\nmove 11 from 8 to 3\\nmove 3 from 9 to 7\\nmove 11 from 2 to 8\\nmove 13 from 8 to 4\\nmove 11 from 5 to 6\\nmove 8 from 2 to 4\\nmove 1 from 5 to 4\\nmove 1 from 3 to 2\\nmove 2 from 2 to 1\\nmove 2 from 8 to 5\\nmove 3 from 7 to 5\\nmove 1 from 4 to 7\\nmove 9 from 6 to 7\\nmove 1 from 6 to 5\\nmove 1 from 1 to 4\\nmove 3 from 1 to 9\\nmove 15 from 4 to 3\\nmove 2 from 4 to 1\\nmove 1 from 1 to 9\\nmove 3 from 4 to 5\\nmove 1 from 4 to 1\\nmove 1 from 7 to 2\\nmove 1 from 6 to 3\\nmove 5 from 7 to 1\\nmove 19 from 3 to 9\\nmove 7 from 1 to 2\\nmove 24 from 9 to 7\\nmove 23 from 7 to 1\\nmove 1 from 4 to 6\\nmove 3 from 7 to 3\\nmove 1 from 6 to 1\\nmove 6 from 2 to 1\\nmove 21 from 1 to 9\\nmove 5 from 3 to 8\\nmove 2 from 2 to 5\\nmove 10 from 9 to 5\\nmove 1 from 2 to 1\\nmove 5 from 1 to 3\\nmove 6 from 3 to 4\\nmove 1 from 2 to 8\\nmove 3 from 5 to 2\\nmove 4 from 9 to 3\\nmove 13 from 5 to 9\\nmove 2 from 7 to 2\\nmove 3 from 4 to 7\\nmove 1 from 7 to 8\\nmove 5 from 1 to 3\\nmove 1 from 7 to 5\\nmove 1 from 8 to 1\\nmove 2 from 2 to 7\\nmove 19 from 9 to 2\\nmove 5 from 2 to 3\\nmove 7 from 5 to 9\\nmove 1 from 1 to 9\\nmove 5 from 9 to 2\\nmove 4 from 9 to 3\\nmove 20 from 3 to 9\\nmove 1 from 3 to 9\\nmove 3 from 7 to 3\\nmove 16 from 2 to 3\\nmove 12 from 3 to 4\\nmove 2 from 2 to 5\\nmove 1 from 2 to 4\\nmove 2 from 4 to 1\\nmove 4 from 8 to 1\\nmove 15 from 9 to 3\\nmove 2 from 5 to 3\\nmove 3 from 2 to 8\\nmove 5 from 8 to 5\\nmove 7 from 3 to 4\\nmove 2 from 9 to 6\\nmove 15 from 3 to 1\\nmove 3 from 1 to 8\\nmove 3 from 9 to 5\\nmove 9 from 4 to 1\\nmove 3 from 3 to 5\\nmove 2 from 6 to 5\\nmove 9 from 1 to 3\\nmove 1 from 9 to 4\\nmove 1 from 5 to 2\\nmove 3 from 8 to 5\\nmove 10 from 1 to 6\\nmove 12 from 4 to 8\\nmove 1 from 2 to 7\\nmove 2 from 5 to 6\\nmove 1 from 1 to 4\\nmove 7 from 3 to 6\\nmove 1 from 7 to 2\\nmove 2 from 4 to 9\\nmove 3 from 1 to 7\\nmove 1 from 9 to 8\\nmove 1 from 2 to 3\\nmove 3 from 1 to 7\\nmove 5 from 8 to 2\\nmove 5 from 7 to 1\\nmove 9 from 6 to 8\\nmove 6 from 6 to 9\\nmove 8 from 8 to 6\\nmove 1 from 7 to 4\\nmove 5 from 2 to 4\\nmove 7 from 5 to 1\\nmove 5 from 8 to 9\\nmove 11 from 6 to 7\\nmove 9 from 9 to 1\\nmove 2 from 7 to 5\\nmove 1 from 9 to 5\\nmove 1 from 3 to 6\\nmove 3 from 4 to 6\\nmove 1 from 8 to 2\\nmove 2 from 3 to 6\\nmove 6 from 5 to 2\\nmove 3 from 5 to 9\\nmove 3 from 2 to 1\\nmove 1 from 4 to 3\\nmove 3 from 2 to 7\\nmove 1 from 8 to 9\\nmove 1 from 2 to 8\\nmove 8 from 7 to 5\\nmove 1 from 7 to 8\\nmove 3 from 5 to 6\\nmove 5 from 5 to 2\\nmove 1 from 4 to 1\\nmove 1 from 3 to 2\\nmove 4 from 1 to 5\\nmove 4 from 2 to 6\\nmove 6 from 1 to 2\\nmove 5 from 9 to 3\\nmove 2 from 5 to 3\\nmove 3 from 3 to 6\\nmove 10 from 6 to 4\\nmove 4 from 8 to 5\\nmove 5 from 5 to 1\\nmove 21 from 1 to 7\\nmove 3 from 2 to 9\\nmove 1 from 5 to 2\\nmove 4 from 2 to 9\\nmove 8 from 4 to 8\\nmove 1 from 2 to 1\\nmove 7 from 8 to 2\\nmove 2 from 6 to 1\\nmove 2 from 1 to 5\\nmove 1 from 1 to 5\\nmove 4 from 3 to 7\\nmove 1 from 9 to 3\\nmove 4 from 6 to 3\\nmove 1 from 3 to 8\\nmove 1 from 3 to 4\\nmove 2 from 2 to 6\\nmove 2 from 9 to 7\\nmove 14 from 7 to 8\\nmove 10 from 8 to 7\\nmove 3 from 4 to 6\\nmove 5 from 2 to 3\\nmove 3 from 9 to 8\\nmove 3 from 3 to 4\\nmove 1 from 2 to 4\\nmove 1 from 9 to 4\\nmove 1 from 9 to 5\\nmove 1 from 5 to 2\\nmove 3 from 5 to 7\\nmove 1 from 4 to 6\\nmove 5 from 3 to 8\\nmove 1 from 6 to 8\\nmove 5 from 7 to 6\\nmove 14 from 8 to 5\\nmove 2 from 6 to 7\\nmove 18 from 7 to 2\\nmove 3 from 6 to 1\\nmove 5 from 5 to 4\\nmove 5 from 6 to 2\\nmove 7 from 2 to 1\\nmove 1 from 8 to 4\\nmove 1 from 5 to 1\\nmove 8 from 1 to 9\\nmove 10 from 4 to 3\\nmove 8 from 5 to 3\\nmove 1 from 4 to 3\\nmove 2 from 1 to 5\\nmove 1 from 5 to 3\\nmove 5 from 3 to 1\\nmove 1 from 1 to 3\\nmove 5 from 1 to 6\\nmove 13 from 3 to 1\\nmove 3 from 9 to 4\\nmove 2 from 9 to 6\\nmove 5 from 6 to 5\\nmove 6 from 5 to 1\\nmove 7 from 7 to 9\\nmove 7 from 9 to 6\\nmove 1 from 9 to 3\\nmove 1 from 7 to 9\\nmove 3 from 9 to 1\\nmove 12 from 2 to 7\\nmove 7 from 6 to 2\\nmove 22 from 1 to 7\\nmove 1 from 6 to 5\\nmove 4 from 7 to 6\\nmove 1 from 5 to 6\\nmove 2 from 4 to 1\\nmove 1 from 4 to 1\\nmove 23 from 7 to 9\\nmove 4 from 6 to 2\\nmove 4 from 7 to 3\\nmove 1 from 1 to 9\\nmove 6 from 2 to 1\\nmove 1 from 7 to 2\\nmove 7 from 2 to 8\\nmove 2 from 3 to 8\\nmove 3 from 1 to 9\\nmove 1 from 2 to 8\\nmove 5 from 8 to 3\\nmove 3 from 2 to 1\\nmove 2 from 7 to 8\\nmove 10 from 9 to 8\\nmove 4 from 1 to 3\\nmove 14 from 3 to 4\\nmove 7 from 4 to 5\\nmove 1 from 6 to 9\\nmove 5 from 5 to 8\\nmove 1 from 6 to 4\\nmove 6 from 9 to 4\\nmove 3 from 8 to 4\\nmove 1 from 5 to 1\\nmove 3 from 4 to 3\\nmove 9 from 4 to 3\\nmove 5 from 3 to 6\\nmove 5 from 1 to 5\\nmove 4 from 6 to 2\\nmove 8 from 9 to 2\\nmove 2 from 6 to 5\\nmove 3 from 4 to 7\\nmove 2 from 2 to 7\\nmove 2 from 5 to 4\\nmove 3 from 5 to 9\\nmove 3 from 4 to 2\\nmove 10 from 2 to 5\\nmove 1 from 9 to 8\\nmove 2 from 2 to 9\\nmove 3 from 7 to 2\\nmove 1 from 2 to 9\\nmove 13 from 5 to 1\\nmove 2 from 2 to 7\\nmove 8 from 9 to 2\\nmove 1 from 4 to 6\\nmove 1 from 9 to 5\\nmove 14 from 8 to 4\\nmove 7 from 4 to 5\\nmove 4 from 7 to 5\\nmove 2 from 3 to 8\\nmove 4 from 1 to 5\\nmove 2 from 5 to 4\\nmove 6 from 5 to 6\\nmove 7 from 2 to 5\\nmove 1 from 2 to 6\\nmove 1 from 5 to 2\\nmove 2 from 2 to 8\\nmove 2 from 1 to 3\\nmove 8 from 4 to 7\\nmove 1 from 4 to 3\\nmove 6 from 1 to 6\\nmove 7 from 3 to 9\\nmove 3 from 7 to 1\\nmove 2 from 8 to 7\\nmove 7 from 6 to 9\\nmove 2 from 3 to 6\\nmove 6 from 8 to 3\\nmove 9 from 5 to 3\\nmove 2 from 7 to 8\\nmove 2 from 6 to 4\\nmove 7 from 6 to 9\\nmove 5 from 3 to 8\\nmove 10 from 9 to 1\\nmove 11 from 1 to 8\\nmove 1 from 3 to 2\\nmove 4 from 5 to 6\\nmove 2 from 6 to 2\\nmove 2 from 7 to 9\\nmove 3 from 1 to 7\\nmove 6 from 3 to 9\\nmove 2 from 7 to 2\\nmove 2 from 6 to 9\\nmove 1 from 5 to 9\\nmove 11 from 9 to 8\\nmove 1 from 4 to 5\\nmove 6 from 9 to 8\\nmove 31 from 8 to 9\\nmove 1 from 3 to 6\\nmove 1 from 7 to 1\\nmove 1 from 4 to 3\\nmove 1 from 5 to 2\\nmove 1 from 1 to 8\\nmove 1 from 8 to 9\\nmove 1 from 7 to 3\\nmove 11 from 9 to 6\\nmove 2 from 3 to 1\\nmove 2 from 3 to 5\\nmove 1 from 5 to 4\\nmove 1 from 4 to 1\\nmove 6 from 8 to 3\\nmove 1 from 1 to 4\\nmove 1 from 4 to 6\\nmove 2 from 3 to 6\\nmove 17 from 9 to 2\\nmove 23 from 2 to 9\\nmove 14 from 9 to 4\\nmove 1 from 1 to 7\\nmove 1 from 5 to 6\\nmove 8 from 6 to 2\\nmove 1 from 3 to 2\\nmove 4 from 9 to 8\\nmove 5 from 4 to 7\\nmove 3 from 7 to 2\\nmove 1 from 1 to 2\\nmove 2 from 9 to 4\\nmove 3 from 6 to 9\\nmove 8 from 4 to 9\\nmove 2 from 4 to 2\\nmove 4 from 7 to 2\\nmove 1 from 7 to 9\\nmove 4 from 6 to 2\\nmove 16 from 2 to 1\\nmove 2 from 3 to 2\\nmove 18 from 9 to 8\\nmove 1 from 4 to 2\\nmove 1 from 6 to 8\\nmove 1 from 3 to 9\\nmove 3 from 9 to 5\\nmove 4 from 9 to 8\\nmove 6 from 2 to 8\\nmove 1 from 5 to 1\\nmove 4 from 2 to 8\\nmove 1 from 5 to 1\\nmove 17 from 1 to 4\\nmove 1 from 5 to 8\\nmove 10 from 4 to 3\\nmove 10 from 3 to 1\\nmove 4 from 4 to 9\\nmove 1 from 4 to 6\\nmove 1 from 4 to 8\\nmove 38 from 8 to 1\\nmove 27 from 1 to 5\\nmove 1 from 8 to 2\\nmove 1 from 6 to 3\\nmove 1 from 4 to 8\\nmove 1 from 8 to 4\\nmove 14 from 1 to 9\\nmove 1 from 3 to 1\\nmove 1 from 5 to 1\\nmove 1 from 2 to 5\\nmove 2 from 5 to 4\\nmove 17 from 5 to 8\\nmove 3 from 4 to 9\\nmove 2 from 9 to 1\\nmove 3 from 5 to 7\\nmove 3 from 7 to 4\\nmove 2 from 4 to 7\\nmove 12 from 1 to 4\\nmove 1 from 7 to 4\\nmove 1 from 7 to 6\\nmove 1 from 6 to 9\\nmove 11 from 4 to 3\\nmove 1 from 5 to 3\\nmove 11 from 3 to 9\\nmove 1 from 3 to 2\\nmove 3 from 5 to 4\\nmove 1 from 2 to 4\\nmove 1 from 5 to 8\\nmove 13 from 9 to 3\\nmove 16 from 9 to 1\\nmove 4 from 8 to 9\\nmove 2 from 1 to 4\\nmove 1 from 9 to 1\\nmove 1 from 9 to 7\\nmove 1 from 7 to 2\\nmove 6 from 8 to 3\\nmove 8 from 4 to 2\\nmove 4 from 9 to 6\\nmove 3 from 2 to 3\\nmove 3 from 6 to 1\\nmove 3 from 8 to 6\\nmove 1 from 6 to 8\\nmove 3 from 6 to 4\\nmove 11 from 3 to 5\\nmove 4 from 8 to 2\\nmove 6 from 3 to 5\\nmove 3 from 5 to 1\\nmove 2 from 8 to 3\\nmove 14 from 5 to 3\\nmove 4 from 3 to 4\\nmove 6 from 3 to 5\\nmove 3 from 2 to 9\\nmove 4 from 1 to 8\\nmove 3 from 9 to 6\\nmove 2 from 6 to 9\\nmove 6 from 4 to 3\\nmove 15 from 1 to 4\\nmove 1 from 6 to 7\\nmove 5 from 5 to 1\\nmove 11 from 3 to 1\\nmove 2 from 9 to 7\\nmove 1 from 5 to 6\\nmove 2 from 1 to 3\\nmove 7 from 2 to 6\\nmove 4 from 8 to 1\\nmove 8 from 4 to 2\\nmove 3 from 6 to 4\\nmove 5 from 1 to 4\\nmove 17 from 4 to 8\\nmove 3 from 3 to 7\\nmove 4 from 3 to 4\\nmove 4 from 4 to 2\\nmove 9 from 8 to 7\\nmove 1 from 3 to 8\\nmove 10 from 2 to 4\\nmove 1 from 6 to 2\\nmove 2 from 8 to 4\\nmove 2 from 6 to 9\\nmove 2 from 6 to 2\\nmove 1 from 2 to 3\\nmove 3 from 1 to 4\\nmove 1 from 3 to 2\\nmove 1 from 9 to 3\\nmove 1 from 9 to 7\\nmove 4 from 8 to 4\\nmove 10 from 4 to 8\\nmove 5 from 4 to 3\\nmove 1 from 2 to 8\\nmove 5 from 3 to 7\\nmove 3 from 7 to 8\\nmove 3 from 4 to 3\\nmove 8 from 7 to 2\\nmove 8 from 7 to 8\\nmove 1 from 3 to 2\\nmove 3 from 2 to 8\\nmove 9 from 2 to 5\\nmove 12 from 1 to 7\\nmove 21 from 8 to 3\\nmove 5 from 8 to 6\\nmove 8 from 7 to 5\\nmove 6 from 7 to 4\\nmove 12 from 5 to 7\\nmove 1 from 8 to 5\\nmove 2 from 4 to 2\\nmove 1 from 7 to 6\\nmove 14 from 3 to 8\\nmove 5 from 6 to 2\\nmove 7 from 2 to 6\\nmove 6 from 8 to 4\\nmove 11 from 7 to 4\\nmove 8 from 3 to 7\\nmove 4 from 5 to 7\\nmove 9 from 8 to 2\\nmove 6 from 4 to 1\\nmove 2 from 5 to 2\\nmove 1 from 7 to 2\\nmove 11 from 2 to 3\\nmove 1 from 2 to 1\\nmove 7 from 4 to 1\\nmove 5 from 6 to 8\\nmove 1 from 2 to 3\\nmove 2 from 8 to 7\\nmove 14 from 3 to 7\\nmove 15 from 7 to 6\\nmove 4 from 4 to 6\\nmove 2 from 8 to 3\\nmove 12 from 1 to 3\\nmove 1 from 8 to 2\\nmove 1 from 2 to 3\\nmove 1 from 3 to 9\\nmove 1 from 9 to 7\\nmove 1 from 1 to 4\\nmove 18 from 6 to 8\\nmove 3 from 3 to 2\\nmove 17 from 8 to 3\\nmove 3 from 7 to 6\\nmove 3 from 2 to 6\\nmove 25 from 3 to 7\\nmove 2 from 4 to 1\\nmove 9 from 6 to 5\\nmove 2 from 3 to 1\\nmove 1 from 3 to 9\\nmove 5 from 5 to 2\\nmove 1 from 8 to 3\\nmove 2 from 4 to 7\\nmove 1 from 9 to 4\\nmove 1 from 6 to 7\\nmove 2 from 5 to 2\\nmove 2 from 4 to 8\\nmove 2 from 5 to 8\\nmove 5 from 7 to 9\\nmove 27 from 7 to 5\\nmove 2 from 9 to 6'"
      ]
     },
     "execution_count": 318,
     "metadata": {},
     "output_type": "execute_result"
    }
   ],
   "source": [
    "data"
   ]
  },
  {
   "cell_type": "code",
   "execution_count": 319,
   "id": "7da7f34d",
   "metadata": {},
   "outputs": [],
   "source": [
    "data_array = data.split(\"\\n\")"
   ]
  },
  {
   "cell_type": "code",
   "execution_count": 320,
   "id": "04e03245",
   "metadata": {},
   "outputs": [
    {
     "data": {
      "text/plain": [
       "['move 8 from 3 to 2',\n",
       " 'move 1 from 9 to 5',\n",
       " 'move 5 from 4 to 7',\n",
       " 'move 6 from 1 to 4',\n",
       " 'move 8 from 6 to 8',\n",
       " 'move 8 from 4 to 5',\n",
       " 'move 4 from 9 to 5',\n",
       " 'move 4 from 7 to 9',\n",
       " 'move 7 from 7 to 2',\n",
       " 'move 4 from 5 to 2',\n",
       " 'move 11 from 8 to 3',\n",
       " 'move 3 from 9 to 7',\n",
       " 'move 11 from 2 to 8',\n",
       " 'move 13 from 8 to 4',\n",
       " 'move 11 from 5 to 6',\n",
       " 'move 8 from 2 to 4',\n",
       " 'move 1 from 5 to 4',\n",
       " 'move 1 from 3 to 2',\n",
       " 'move 2 from 2 to 1',\n",
       " 'move 2 from 8 to 5',\n",
       " 'move 3 from 7 to 5',\n",
       " 'move 1 from 4 to 7',\n",
       " 'move 9 from 6 to 7',\n",
       " 'move 1 from 6 to 5',\n",
       " 'move 1 from 1 to 4',\n",
       " 'move 3 from 1 to 9',\n",
       " 'move 15 from 4 to 3',\n",
       " 'move 2 from 4 to 1',\n",
       " 'move 1 from 1 to 9',\n",
       " 'move 3 from 4 to 5',\n",
       " 'move 1 from 4 to 1',\n",
       " 'move 1 from 7 to 2',\n",
       " 'move 1 from 6 to 3',\n",
       " 'move 5 from 7 to 1',\n",
       " 'move 19 from 3 to 9',\n",
       " 'move 7 from 1 to 2',\n",
       " 'move 24 from 9 to 7',\n",
       " 'move 23 from 7 to 1',\n",
       " 'move 1 from 4 to 6',\n",
       " 'move 3 from 7 to 3',\n",
       " 'move 1 from 6 to 1',\n",
       " 'move 6 from 2 to 1',\n",
       " 'move 21 from 1 to 9',\n",
       " 'move 5 from 3 to 8',\n",
       " 'move 2 from 2 to 5',\n",
       " 'move 10 from 9 to 5',\n",
       " 'move 1 from 2 to 1',\n",
       " 'move 5 from 1 to 3',\n",
       " 'move 6 from 3 to 4',\n",
       " 'move 1 from 2 to 8',\n",
       " 'move 3 from 5 to 2',\n",
       " 'move 4 from 9 to 3',\n",
       " 'move 13 from 5 to 9',\n",
       " 'move 2 from 7 to 2',\n",
       " 'move 3 from 4 to 7',\n",
       " 'move 1 from 7 to 8',\n",
       " 'move 5 from 1 to 3',\n",
       " 'move 1 from 7 to 5',\n",
       " 'move 1 from 8 to 1',\n",
       " 'move 2 from 2 to 7',\n",
       " 'move 19 from 9 to 2',\n",
       " 'move 5 from 2 to 3',\n",
       " 'move 7 from 5 to 9',\n",
       " 'move 1 from 1 to 9',\n",
       " 'move 5 from 9 to 2',\n",
       " 'move 4 from 9 to 3',\n",
       " 'move 20 from 3 to 9',\n",
       " 'move 1 from 3 to 9',\n",
       " 'move 3 from 7 to 3',\n",
       " 'move 16 from 2 to 3',\n",
       " 'move 12 from 3 to 4',\n",
       " 'move 2 from 2 to 5',\n",
       " 'move 1 from 2 to 4',\n",
       " 'move 2 from 4 to 1',\n",
       " 'move 4 from 8 to 1',\n",
       " 'move 15 from 9 to 3',\n",
       " 'move 2 from 5 to 3',\n",
       " 'move 3 from 2 to 8',\n",
       " 'move 5 from 8 to 5',\n",
       " 'move 7 from 3 to 4',\n",
       " 'move 2 from 9 to 6',\n",
       " 'move 15 from 3 to 1',\n",
       " 'move 3 from 1 to 8',\n",
       " 'move 3 from 9 to 5',\n",
       " 'move 9 from 4 to 1',\n",
       " 'move 3 from 3 to 5',\n",
       " 'move 2 from 6 to 5',\n",
       " 'move 9 from 1 to 3',\n",
       " 'move 1 from 9 to 4',\n",
       " 'move 1 from 5 to 2',\n",
       " 'move 3 from 8 to 5',\n",
       " 'move 10 from 1 to 6',\n",
       " 'move 12 from 4 to 8',\n",
       " 'move 1 from 2 to 7',\n",
       " 'move 2 from 5 to 6',\n",
       " 'move 1 from 1 to 4',\n",
       " 'move 7 from 3 to 6',\n",
       " 'move 1 from 7 to 2',\n",
       " 'move 2 from 4 to 9',\n",
       " 'move 3 from 1 to 7',\n",
       " 'move 1 from 9 to 8',\n",
       " 'move 1 from 2 to 3',\n",
       " 'move 3 from 1 to 7',\n",
       " 'move 5 from 8 to 2',\n",
       " 'move 5 from 7 to 1',\n",
       " 'move 9 from 6 to 8',\n",
       " 'move 6 from 6 to 9',\n",
       " 'move 8 from 8 to 6',\n",
       " 'move 1 from 7 to 4',\n",
       " 'move 5 from 2 to 4',\n",
       " 'move 7 from 5 to 1',\n",
       " 'move 5 from 8 to 9',\n",
       " 'move 11 from 6 to 7',\n",
       " 'move 9 from 9 to 1',\n",
       " 'move 2 from 7 to 5',\n",
       " 'move 1 from 9 to 5',\n",
       " 'move 1 from 3 to 6',\n",
       " 'move 3 from 4 to 6',\n",
       " 'move 1 from 8 to 2',\n",
       " 'move 2 from 3 to 6',\n",
       " 'move 6 from 5 to 2',\n",
       " 'move 3 from 5 to 9',\n",
       " 'move 3 from 2 to 1',\n",
       " 'move 1 from 4 to 3',\n",
       " 'move 3 from 2 to 7',\n",
       " 'move 1 from 8 to 9',\n",
       " 'move 1 from 2 to 8',\n",
       " 'move 8 from 7 to 5',\n",
       " 'move 1 from 7 to 8',\n",
       " 'move 3 from 5 to 6',\n",
       " 'move 5 from 5 to 2',\n",
       " 'move 1 from 4 to 1',\n",
       " 'move 1 from 3 to 2',\n",
       " 'move 4 from 1 to 5',\n",
       " 'move 4 from 2 to 6',\n",
       " 'move 6 from 1 to 2',\n",
       " 'move 5 from 9 to 3',\n",
       " 'move 2 from 5 to 3',\n",
       " 'move 3 from 3 to 6',\n",
       " 'move 10 from 6 to 4',\n",
       " 'move 4 from 8 to 5',\n",
       " 'move 5 from 5 to 1',\n",
       " 'move 21 from 1 to 7',\n",
       " 'move 3 from 2 to 9',\n",
       " 'move 1 from 5 to 2',\n",
       " 'move 4 from 2 to 9',\n",
       " 'move 8 from 4 to 8',\n",
       " 'move 1 from 2 to 1',\n",
       " 'move 7 from 8 to 2',\n",
       " 'move 2 from 6 to 1',\n",
       " 'move 2 from 1 to 5',\n",
       " 'move 1 from 1 to 5',\n",
       " 'move 4 from 3 to 7',\n",
       " 'move 1 from 9 to 3',\n",
       " 'move 4 from 6 to 3',\n",
       " 'move 1 from 3 to 8',\n",
       " 'move 1 from 3 to 4',\n",
       " 'move 2 from 2 to 6',\n",
       " 'move 2 from 9 to 7',\n",
       " 'move 14 from 7 to 8',\n",
       " 'move 10 from 8 to 7',\n",
       " 'move 3 from 4 to 6',\n",
       " 'move 5 from 2 to 3',\n",
       " 'move 3 from 9 to 8',\n",
       " 'move 3 from 3 to 4',\n",
       " 'move 1 from 2 to 4',\n",
       " 'move 1 from 9 to 4',\n",
       " 'move 1 from 9 to 5',\n",
       " 'move 1 from 5 to 2',\n",
       " 'move 3 from 5 to 7',\n",
       " 'move 1 from 4 to 6',\n",
       " 'move 5 from 3 to 8',\n",
       " 'move 1 from 6 to 8',\n",
       " 'move 5 from 7 to 6',\n",
       " 'move 14 from 8 to 5',\n",
       " 'move 2 from 6 to 7',\n",
       " 'move 18 from 7 to 2',\n",
       " 'move 3 from 6 to 1',\n",
       " 'move 5 from 5 to 4',\n",
       " 'move 5 from 6 to 2',\n",
       " 'move 7 from 2 to 1',\n",
       " 'move 1 from 8 to 4',\n",
       " 'move 1 from 5 to 1',\n",
       " 'move 8 from 1 to 9',\n",
       " 'move 10 from 4 to 3',\n",
       " 'move 8 from 5 to 3',\n",
       " 'move 1 from 4 to 3',\n",
       " 'move 2 from 1 to 5',\n",
       " 'move 1 from 5 to 3',\n",
       " 'move 5 from 3 to 1',\n",
       " 'move 1 from 1 to 3',\n",
       " 'move 5 from 1 to 6',\n",
       " 'move 13 from 3 to 1',\n",
       " 'move 3 from 9 to 4',\n",
       " 'move 2 from 9 to 6',\n",
       " 'move 5 from 6 to 5',\n",
       " 'move 6 from 5 to 1',\n",
       " 'move 7 from 7 to 9',\n",
       " 'move 7 from 9 to 6',\n",
       " 'move 1 from 9 to 3',\n",
       " 'move 1 from 7 to 9',\n",
       " 'move 3 from 9 to 1',\n",
       " 'move 12 from 2 to 7',\n",
       " 'move 7 from 6 to 2',\n",
       " 'move 22 from 1 to 7',\n",
       " 'move 1 from 6 to 5',\n",
       " 'move 4 from 7 to 6',\n",
       " 'move 1 from 5 to 6',\n",
       " 'move 2 from 4 to 1',\n",
       " 'move 1 from 4 to 1',\n",
       " 'move 23 from 7 to 9',\n",
       " 'move 4 from 6 to 2',\n",
       " 'move 4 from 7 to 3',\n",
       " 'move 1 from 1 to 9',\n",
       " 'move 6 from 2 to 1',\n",
       " 'move 1 from 7 to 2',\n",
       " 'move 7 from 2 to 8',\n",
       " 'move 2 from 3 to 8',\n",
       " 'move 3 from 1 to 9',\n",
       " 'move 1 from 2 to 8',\n",
       " 'move 5 from 8 to 3',\n",
       " 'move 3 from 2 to 1',\n",
       " 'move 2 from 7 to 8',\n",
       " 'move 10 from 9 to 8',\n",
       " 'move 4 from 1 to 3',\n",
       " 'move 14 from 3 to 4',\n",
       " 'move 7 from 4 to 5',\n",
       " 'move 1 from 6 to 9',\n",
       " 'move 5 from 5 to 8',\n",
       " 'move 1 from 6 to 4',\n",
       " 'move 6 from 9 to 4',\n",
       " 'move 3 from 8 to 4',\n",
       " 'move 1 from 5 to 1',\n",
       " 'move 3 from 4 to 3',\n",
       " 'move 9 from 4 to 3',\n",
       " 'move 5 from 3 to 6',\n",
       " 'move 5 from 1 to 5',\n",
       " 'move 4 from 6 to 2',\n",
       " 'move 8 from 9 to 2',\n",
       " 'move 2 from 6 to 5',\n",
       " 'move 3 from 4 to 7',\n",
       " 'move 2 from 2 to 7',\n",
       " 'move 2 from 5 to 4',\n",
       " 'move 3 from 5 to 9',\n",
       " 'move 3 from 4 to 2',\n",
       " 'move 10 from 2 to 5',\n",
       " 'move 1 from 9 to 8',\n",
       " 'move 2 from 2 to 9',\n",
       " 'move 3 from 7 to 2',\n",
       " 'move 1 from 2 to 9',\n",
       " 'move 13 from 5 to 1',\n",
       " 'move 2 from 2 to 7',\n",
       " 'move 8 from 9 to 2',\n",
       " 'move 1 from 4 to 6',\n",
       " 'move 1 from 9 to 5',\n",
       " 'move 14 from 8 to 4',\n",
       " 'move 7 from 4 to 5',\n",
       " 'move 4 from 7 to 5',\n",
       " 'move 2 from 3 to 8',\n",
       " 'move 4 from 1 to 5',\n",
       " 'move 2 from 5 to 4',\n",
       " 'move 6 from 5 to 6',\n",
       " 'move 7 from 2 to 5',\n",
       " 'move 1 from 2 to 6',\n",
       " 'move 1 from 5 to 2',\n",
       " 'move 2 from 2 to 8',\n",
       " 'move 2 from 1 to 3',\n",
       " 'move 8 from 4 to 7',\n",
       " 'move 1 from 4 to 3',\n",
       " 'move 6 from 1 to 6',\n",
       " 'move 7 from 3 to 9',\n",
       " 'move 3 from 7 to 1',\n",
       " 'move 2 from 8 to 7',\n",
       " 'move 7 from 6 to 9',\n",
       " 'move 2 from 3 to 6',\n",
       " 'move 6 from 8 to 3',\n",
       " 'move 9 from 5 to 3',\n",
       " 'move 2 from 7 to 8',\n",
       " 'move 2 from 6 to 4',\n",
       " 'move 7 from 6 to 9',\n",
       " 'move 5 from 3 to 8',\n",
       " 'move 10 from 9 to 1',\n",
       " 'move 11 from 1 to 8',\n",
       " 'move 1 from 3 to 2',\n",
       " 'move 4 from 5 to 6',\n",
       " 'move 2 from 6 to 2',\n",
       " 'move 2 from 7 to 9',\n",
       " 'move 3 from 1 to 7',\n",
       " 'move 6 from 3 to 9',\n",
       " 'move 2 from 7 to 2',\n",
       " 'move 2 from 6 to 9',\n",
       " 'move 1 from 5 to 9',\n",
       " 'move 11 from 9 to 8',\n",
       " 'move 1 from 4 to 5',\n",
       " 'move 6 from 9 to 8',\n",
       " 'move 31 from 8 to 9',\n",
       " 'move 1 from 3 to 6',\n",
       " 'move 1 from 7 to 1',\n",
       " 'move 1 from 4 to 3',\n",
       " 'move 1 from 5 to 2',\n",
       " 'move 1 from 1 to 8',\n",
       " 'move 1 from 8 to 9',\n",
       " 'move 1 from 7 to 3',\n",
       " 'move 11 from 9 to 6',\n",
       " 'move 2 from 3 to 1',\n",
       " 'move 2 from 3 to 5',\n",
       " 'move 1 from 5 to 4',\n",
       " 'move 1 from 4 to 1',\n",
       " 'move 6 from 8 to 3',\n",
       " 'move 1 from 1 to 4',\n",
       " 'move 1 from 4 to 6',\n",
       " 'move 2 from 3 to 6',\n",
       " 'move 17 from 9 to 2',\n",
       " 'move 23 from 2 to 9',\n",
       " 'move 14 from 9 to 4',\n",
       " 'move 1 from 1 to 7',\n",
       " 'move 1 from 5 to 6',\n",
       " 'move 8 from 6 to 2',\n",
       " 'move 1 from 3 to 2',\n",
       " 'move 4 from 9 to 8',\n",
       " 'move 5 from 4 to 7',\n",
       " 'move 3 from 7 to 2',\n",
       " 'move 1 from 1 to 2',\n",
       " 'move 2 from 9 to 4',\n",
       " 'move 3 from 6 to 9',\n",
       " 'move 8 from 4 to 9',\n",
       " 'move 2 from 4 to 2',\n",
       " 'move 4 from 7 to 2',\n",
       " 'move 1 from 7 to 9',\n",
       " 'move 4 from 6 to 2',\n",
       " 'move 16 from 2 to 1',\n",
       " 'move 2 from 3 to 2',\n",
       " 'move 18 from 9 to 8',\n",
       " 'move 1 from 4 to 2',\n",
       " 'move 1 from 6 to 8',\n",
       " 'move 1 from 3 to 9',\n",
       " 'move 3 from 9 to 5',\n",
       " 'move 4 from 9 to 8',\n",
       " 'move 6 from 2 to 8',\n",
       " 'move 1 from 5 to 1',\n",
       " 'move 4 from 2 to 8',\n",
       " 'move 1 from 5 to 1',\n",
       " 'move 17 from 1 to 4',\n",
       " 'move 1 from 5 to 8',\n",
       " 'move 10 from 4 to 3',\n",
       " 'move 10 from 3 to 1',\n",
       " 'move 4 from 4 to 9',\n",
       " 'move 1 from 4 to 6',\n",
       " 'move 1 from 4 to 8',\n",
       " 'move 38 from 8 to 1',\n",
       " 'move 27 from 1 to 5',\n",
       " 'move 1 from 8 to 2',\n",
       " 'move 1 from 6 to 3',\n",
       " 'move 1 from 4 to 8',\n",
       " 'move 1 from 8 to 4',\n",
       " 'move 14 from 1 to 9',\n",
       " 'move 1 from 3 to 1',\n",
       " 'move 1 from 5 to 1',\n",
       " 'move 1 from 2 to 5',\n",
       " 'move 2 from 5 to 4',\n",
       " 'move 17 from 5 to 8',\n",
       " 'move 3 from 4 to 9',\n",
       " 'move 2 from 9 to 1',\n",
       " 'move 3 from 5 to 7',\n",
       " 'move 3 from 7 to 4',\n",
       " 'move 2 from 4 to 7',\n",
       " 'move 12 from 1 to 4',\n",
       " 'move 1 from 7 to 4',\n",
       " 'move 1 from 7 to 6',\n",
       " 'move 1 from 6 to 9',\n",
       " 'move 11 from 4 to 3',\n",
       " 'move 1 from 5 to 3',\n",
       " 'move 11 from 3 to 9',\n",
       " 'move 1 from 3 to 2',\n",
       " 'move 3 from 5 to 4',\n",
       " 'move 1 from 2 to 4',\n",
       " 'move 1 from 5 to 8',\n",
       " 'move 13 from 9 to 3',\n",
       " 'move 16 from 9 to 1',\n",
       " 'move 4 from 8 to 9',\n",
       " 'move 2 from 1 to 4',\n",
       " 'move 1 from 9 to 1',\n",
       " 'move 1 from 9 to 7',\n",
       " 'move 1 from 7 to 2',\n",
       " 'move 6 from 8 to 3',\n",
       " 'move 8 from 4 to 2',\n",
       " 'move 4 from 9 to 6',\n",
       " 'move 3 from 2 to 3',\n",
       " 'move 3 from 6 to 1',\n",
       " 'move 3 from 8 to 6',\n",
       " 'move 1 from 6 to 8',\n",
       " 'move 3 from 6 to 4',\n",
       " 'move 11 from 3 to 5',\n",
       " 'move 4 from 8 to 2',\n",
       " 'move 6 from 3 to 5',\n",
       " 'move 3 from 5 to 1',\n",
       " 'move 2 from 8 to 3',\n",
       " 'move 14 from 5 to 3',\n",
       " 'move 4 from 3 to 4',\n",
       " 'move 6 from 3 to 5',\n",
       " 'move 3 from 2 to 9',\n",
       " 'move 4 from 1 to 8',\n",
       " 'move 3 from 9 to 6',\n",
       " 'move 2 from 6 to 9',\n",
       " 'move 6 from 4 to 3',\n",
       " 'move 15 from 1 to 4',\n",
       " 'move 1 from 6 to 7',\n",
       " 'move 5 from 5 to 1',\n",
       " 'move 11 from 3 to 1',\n",
       " 'move 2 from 9 to 7',\n",
       " 'move 1 from 5 to 6',\n",
       " 'move 2 from 1 to 3',\n",
       " 'move 7 from 2 to 6',\n",
       " 'move 4 from 8 to 1',\n",
       " 'move 8 from 4 to 2',\n",
       " 'move 3 from 6 to 4',\n",
       " 'move 5 from 1 to 4',\n",
       " 'move 17 from 4 to 8',\n",
       " 'move 3 from 3 to 7',\n",
       " 'move 4 from 3 to 4',\n",
       " 'move 4 from 4 to 2',\n",
       " 'move 9 from 8 to 7',\n",
       " 'move 1 from 3 to 8',\n",
       " 'move 10 from 2 to 4',\n",
       " 'move 1 from 6 to 2',\n",
       " 'move 2 from 8 to 4',\n",
       " 'move 2 from 6 to 9',\n",
       " 'move 2 from 6 to 2',\n",
       " 'move 1 from 2 to 3',\n",
       " 'move 3 from 1 to 4',\n",
       " 'move 1 from 3 to 2',\n",
       " 'move 1 from 9 to 3',\n",
       " 'move 1 from 9 to 7',\n",
       " 'move 4 from 8 to 4',\n",
       " 'move 10 from 4 to 8',\n",
       " 'move 5 from 4 to 3',\n",
       " 'move 1 from 2 to 8',\n",
       " 'move 5 from 3 to 7',\n",
       " 'move 3 from 7 to 8',\n",
       " 'move 3 from 4 to 3',\n",
       " 'move 8 from 7 to 2',\n",
       " 'move 8 from 7 to 8',\n",
       " 'move 1 from 3 to 2',\n",
       " 'move 3 from 2 to 8',\n",
       " 'move 9 from 2 to 5',\n",
       " 'move 12 from 1 to 7',\n",
       " 'move 21 from 8 to 3',\n",
       " 'move 5 from 8 to 6',\n",
       " 'move 8 from 7 to 5',\n",
       " 'move 6 from 7 to 4',\n",
       " 'move 12 from 5 to 7',\n",
       " 'move 1 from 8 to 5',\n",
       " 'move 2 from 4 to 2',\n",
       " 'move 1 from 7 to 6',\n",
       " 'move 14 from 3 to 8',\n",
       " 'move 5 from 6 to 2',\n",
       " 'move 7 from 2 to 6',\n",
       " 'move 6 from 8 to 4',\n",
       " 'move 11 from 7 to 4',\n",
       " 'move 8 from 3 to 7',\n",
       " 'move 4 from 5 to 7',\n",
       " 'move 9 from 8 to 2',\n",
       " 'move 6 from 4 to 1',\n",
       " 'move 2 from 5 to 2',\n",
       " 'move 1 from 7 to 2',\n",
       " 'move 11 from 2 to 3',\n",
       " 'move 1 from 2 to 1',\n",
       " 'move 7 from 4 to 1',\n",
       " 'move 5 from 6 to 8',\n",
       " 'move 1 from 2 to 3',\n",
       " 'move 2 from 8 to 7',\n",
       " 'move 14 from 3 to 7',\n",
       " 'move 15 from 7 to 6',\n",
       " 'move 4 from 4 to 6',\n",
       " 'move 2 from 8 to 3',\n",
       " 'move 12 from 1 to 3',\n",
       " 'move 1 from 8 to 2',\n",
       " 'move 1 from 2 to 3',\n",
       " 'move 1 from 3 to 9',\n",
       " 'move 1 from 9 to 7',\n",
       " 'move 1 from 1 to 4',\n",
       " 'move 18 from 6 to 8',\n",
       " 'move 3 from 3 to 2',\n",
       " 'move 17 from 8 to 3',\n",
       " 'move 3 from 7 to 6',\n",
       " 'move 3 from 2 to 6',\n",
       " 'move 25 from 3 to 7',\n",
       " 'move 2 from 4 to 1',\n",
       " 'move 9 from 6 to 5',\n",
       " 'move 2 from 3 to 1',\n",
       " 'move 1 from 3 to 9',\n",
       " 'move 5 from 5 to 2',\n",
       " 'move 1 from 8 to 3',\n",
       " 'move 2 from 4 to 7',\n",
       " 'move 1 from 9 to 4',\n",
       " 'move 1 from 6 to 7',\n",
       " 'move 2 from 5 to 2',\n",
       " 'move 2 from 4 to 8',\n",
       " 'move 2 from 5 to 8',\n",
       " 'move 5 from 7 to 9',\n",
       " 'move 27 from 7 to 5',\n",
       " 'move 2 from 9 to 6']"
      ]
     },
     "execution_count": 320,
     "metadata": {},
     "output_type": "execute_result"
    }
   ],
   "source": [
    "data_array"
   ]
  },
  {
   "cell_type": "markdown",
   "id": "34c3cd7e",
   "metadata": {},
   "source": [
    "[P]     [L]         [T]            \n",
    "[L]     [M] [G]     [G]     [S]    \n",
    "[M]     [Q] [W]     [H] [R] [G]    \n",
    "[N]     [F] [M]     [D] [V] [R] [N]\n",
    "[W]     [G] [Q] [P] [J] [F] [M] [C]\n",
    "[V] [H] [B] [F] [H] [M] [B] [H] [B]\n",
    "[B] [Q] [D] [T] [T] [B] [N] [L] [D]\n",
    "[H] [M] [N] [Z] [M] [C] [M] [P] [P]\n",
    " 1   2   3   4   5   6   7   8   9 \n"
   ]
  },
  {
   "cell_type": "code",
   "execution_count": 151,
   "id": "c6492b4f",
   "metadata": {},
   "outputs": [],
   "source": [
    "a1 = ['H','B','V','W','N','M','L','P']\n",
    "a2 = ['M','Q','H']\n",
    "a3 = ['N','D','B','G','F','Q','M','L']\n",
    "a4 = ['Z','T','F','Q','M','W','G']\n",
    "a5 = ['M','T','H','P']\n",
    "a6 = ['C','B','M','J','D','H','G','T']\n",
    "a7 = ['M','N','B','F','V','R']\n",
    "a8 = ['P','L','H','M','R','G','S']\n",
    "a9 = ['P','D','B','C','N']"
   ]
  },
  {
   "cell_type": "code",
   "execution_count": 96,
   "id": "7c10daae",
   "metadata": {},
   "outputs": [
    {
     "data": {
      "text/plain": [
       "'move 1 from 2 to 1'"
      ]
     },
     "execution_count": 96,
     "metadata": {},
     "output_type": "execute_result"
    }
   ],
   "source": [
    "data_array[0]"
   ]
  },
  {
   "cell_type": "code",
   "execution_count": 121,
   "id": "536f06f3",
   "metadata": {},
   "outputs": [
    {
     "data": {
      "text/plain": [
       "8"
      ]
     },
     "execution_count": 121,
     "metadata": {},
     "output_type": "execute_result"
    }
   ],
   "source": [
    "move = data_array[0][5] + data_array[0][6]\n",
    "move = int(move)\n",
    "move"
   ]
  },
  {
   "cell_type": "code",
   "execution_count": 122,
   "id": "3f5407c2",
   "metadata": {},
   "outputs": [
    {
     "data": {
      "text/plain": [
       "3"
      ]
     },
     "execution_count": 122,
     "metadata": {},
     "output_type": "execute_result"
    }
   ],
   "source": [
    "from_col = data_array[0][12]\n",
    "from_col = int(from_col)\n",
    "from_col"
   ]
  },
  {
   "cell_type": "code",
   "execution_count": 123,
   "id": "6ae3de35",
   "metadata": {},
   "outputs": [
    {
     "data": {
      "text/plain": [
       "2"
      ]
     },
     "execution_count": 123,
     "metadata": {},
     "output_type": "execute_result"
    }
   ],
   "source": [
    "to_col = data_array[0][17]\n",
    "to_col = int(to_col)\n",
    "to_col"
   ]
  },
  {
   "cell_type": "code",
   "execution_count": 152,
   "id": "4d0ab2a1",
   "metadata": {},
   "outputs": [],
   "source": [
    "array_dict = {\"1\":a1,\"2\":a2,\"3\":a3,\"4\":a4,\"5\":a5,\"6\":a6,\"7\":a7,\"8\":a8,\"9\":a9}"
   ]
  },
  {
   "cell_type": "code",
   "execution_count": 153,
   "id": "45afb087",
   "metadata": {},
   "outputs": [
    {
     "data": {
      "text/plain": [
       "['P', 'D', 'B', 'C', 'N']"
      ]
     },
     "execution_count": 153,
     "metadata": {},
     "output_type": "execute_result"
    }
   ],
   "source": [
    "array_dict[\"9\"]"
   ]
  },
  {
   "cell_type": "code",
   "execution_count": 154,
   "id": "8629e03d",
   "metadata": {},
   "outputs": [
    {
     "data": {
      "text/plain": [
       "{'1': ['H', 'B', 'V', 'W', 'N', 'M', 'L', 'P'],\n",
       " '2': ['M', 'Q', 'H'],\n",
       " '3': ['N', 'D', 'B', 'G', 'F', 'Q', 'M', 'L'],\n",
       " '4': ['Z', 'T', 'F', 'Q', 'M', 'W', 'G'],\n",
       " '5': ['M', 'T', 'H', 'P'],\n",
       " '6': ['C', 'B', 'M', 'J', 'D', 'H', 'G', 'T'],\n",
       " '7': ['M', 'N', 'B', 'F', 'V', 'R'],\n",
       " '8': ['P', 'L', 'H', 'M', 'R', 'G', 'S'],\n",
       " '9': ['P', 'D', 'B', 'C', 'N']}"
      ]
     },
     "execution_count": 154,
     "metadata": {},
     "output_type": "execute_result"
    }
   ],
   "source": [
    "array_dict"
   ]
  },
  {
   "cell_type": "code",
   "execution_count": 155,
   "id": "67f4a4ee",
   "metadata": {},
   "outputs": [],
   "source": [
    "for i,data in zip(range(len(data_array)),data_array):\n",
    "    move = data_array[i][5] + data_array[i][6]\n",
    "    move = int(move)\n",
    "    from_col = data_array[i][12] + data_array[i][13]\n",
    "    from_col = from_col\n",
    "    to_col = data_array[i][len(data)-1]\n",
    "    to_col = to_col\n",
    "    for i in range(move):\n",
    "        array_dict[to_col.strip()].append(array_dict[from_col.strip()][len(array_dict[from_col.strip()])-1])\n",
    "        array_dict[from_col.strip()].pop()"
   ]
  },
  {
   "cell_type": "code",
   "execution_count": 108,
   "id": "eaf1e218",
   "metadata": {},
   "outputs": [
    {
     "data": {
      "text/plain": [
       "str"
      ]
     },
     "execution_count": 108,
     "metadata": {},
     "output_type": "execute_result"
    }
   ],
   "source": [
    "type(to_col)"
   ]
  },
  {
   "cell_type": "code",
   "execution_count": 109,
   "id": "807f36e0",
   "metadata": {},
   "outputs": [
    {
     "data": {
      "text/plain": [
       "'1'"
      ]
     },
     "execution_count": 109,
     "metadata": {},
     "output_type": "execute_result"
    }
   ],
   "source": [
    "to_col"
   ]
  },
  {
   "cell_type": "code",
   "execution_count": 113,
   "id": "1d9ea064",
   "metadata": {},
   "outputs": [
    {
     "data": {
      "text/plain": [
       "['M', 'Q', 'H']"
      ]
     },
     "execution_count": 113,
     "metadata": {},
     "output_type": "execute_result"
    }
   ],
   "source": [
    "array_dict[from_col.strip()]"
   ]
  },
  {
   "cell_type": "code",
   "execution_count": 112,
   "id": "6f5a5ea2",
   "metadata": {},
   "outputs": [
    {
     "data": {
      "text/plain": [
       "'2 '"
      ]
     },
     "execution_count": 112,
     "metadata": {},
     "output_type": "execute_result"
    }
   ],
   "source": [
    "from_col"
   ]
  },
  {
   "cell_type": "code",
   "execution_count": 156,
   "id": "60f8e71a",
   "metadata": {},
   "outputs": [
    {
     "data": {
      "text/plain": [
       "{'1': ['B', 'Q', 'N', 'Q', 'W'],\n",
       " '2': ['V', 'F', 'Q', 'M', 'F', 'G', 'H'],\n",
       " '3': ['T'],\n",
       " '4': ['L'],\n",
       " '5': ['C',\n",
       "  'N',\n",
       "  'P',\n",
       "  'J',\n",
       "  'B',\n",
       "  'P',\n",
       "  'G',\n",
       "  'H',\n",
       "  'M',\n",
       "  'B',\n",
       "  'M',\n",
       "  'H',\n",
       "  'M',\n",
       "  'T',\n",
       "  'S',\n",
       "  'H',\n",
       "  'P',\n",
       "  'M',\n",
       "  'T',\n",
       "  'B',\n",
       "  'M',\n",
       "  'F',\n",
       "  'G',\n",
       "  'W',\n",
       "  'N',\n",
       "  'P',\n",
       "  'R'],\n",
       " '6': ['M', 'M'],\n",
       " '7': ['L', 'B', 'D', 'N', 'H', 'Z'],\n",
       " '8': ['G', 'D', 'L', 'R'],\n",
       " '9': ['D', 'V', 'C']}"
      ]
     },
     "execution_count": 156,
     "metadata": {},
     "output_type": "execute_result"
    }
   ],
   "source": [
    "array_dict"
   ]
  },
  {
   "cell_type": "code",
   "execution_count": null,
   "id": "edc809e1",
   "metadata": {},
   "outputs": [],
   "source": [
    "WHTLRMZRC"
   ]
  },
  {
   "cell_type": "code",
   "execution_count": 135,
   "id": "20b3ad29",
   "metadata": {},
   "outputs": [],
   "source": [
    "a1 = ['Z','N']\n",
    "a2 = ['M','C','D']\n",
    "a3 = ['P']"
   ]
  },
  {
   "cell_type": "code",
   "execution_count": 136,
   "id": "28e55100",
   "metadata": {},
   "outputs": [],
   "source": [
    "array_dict = {\"1\":a1,\"2\":a2,\"3\":a3}"
   ]
  },
  {
   "cell_type": "code",
   "execution_count": 139,
   "id": "dd75cff8",
   "metadata": {},
   "outputs": [
    {
     "data": {
      "text/plain": [
       "{'1': ['Z', 'N'], '2': ['M', 'C', 'D', 'P'], '3': []}"
      ]
     },
     "execution_count": 139,
     "metadata": {},
     "output_type": "execute_result"
    }
   ],
   "source": [
    "array_dict"
   ]
  },
  {
   "cell_type": "code",
   "execution_count": 138,
   "id": "1288105e",
   "metadata": {},
   "outputs": [
    {
     "ename": "IndexError",
     "evalue": "list index out of range",
     "output_type": "error",
     "traceback": [
      "\u001b[1;31m---------------------------------------------------------------------------\u001b[0m",
      "\u001b[1;31mIndexError\u001b[0m                                Traceback (most recent call last)",
      "Cell \u001b[1;32mIn[138], line 9\u001b[0m\n\u001b[0;32m      7\u001b[0m to_col \u001b[38;5;241m=\u001b[39m to_col\n\u001b[0;32m      8\u001b[0m \u001b[38;5;28;01mfor\u001b[39;00m i \u001b[38;5;129;01min\u001b[39;00m \u001b[38;5;28mrange\u001b[39m(move):\n\u001b[1;32m----> 9\u001b[0m     array_dict[to_col\u001b[38;5;241m.\u001b[39mstrip()]\u001b[38;5;241m.\u001b[39mappend(\u001b[43marray_dict\u001b[49m\u001b[43m[\u001b[49m\u001b[43mfrom_col\u001b[49m\u001b[38;5;241;43m.\u001b[39;49m\u001b[43mstrip\u001b[49m\u001b[43m(\u001b[49m\u001b[43m)\u001b[49m\u001b[43m]\u001b[49m\u001b[43m[\u001b[49m\u001b[38;5;28;43mlen\u001b[39;49m\u001b[43m(\u001b[49m\u001b[43marray_dict\u001b[49m\u001b[43m[\u001b[49m\u001b[43mfrom_col\u001b[49m\u001b[38;5;241;43m.\u001b[39;49m\u001b[43mstrip\u001b[49m\u001b[43m(\u001b[49m\u001b[43m)\u001b[49m\u001b[43m]\u001b[49m\u001b[43m)\u001b[49m\u001b[38;5;241;43m-\u001b[39;49m\u001b[38;5;241;43m1\u001b[39;49m\u001b[43m]\u001b[49m)\n\u001b[0;32m     10\u001b[0m     array_dict[from_col\u001b[38;5;241m.\u001b[39mstrip()]\u001b[38;5;241m.\u001b[39mpop()\n",
      "\u001b[1;31mIndexError\u001b[0m: list index out of range"
     ]
    }
   ],
   "source": [
    "for i,data in zip(range(len(data_array)),data_array):\n",
    "    move = data_array[i][5] + data_array[i][6]\n",
    "    move = int(move)\n",
    "    from_col = data_array[i][12] + data_array[i][13]\n",
    "    from_col = from_col\n",
    "    to_col = data_array[i][len(data)-1]\n",
    "    to_col = to_col\n",
    "    for i in range(move):\n",
    "        array_dict[to_col.strip()].append(array_dict[from_col.strip()][len(array_dict[from_col.strip()])-1])\n",
    "        array_dict[from_col.strip()].pop()\n",
    "        "
   ]
  },
  {
   "cell_type": "code",
   "execution_count": 335,
   "id": "01d670c9",
   "metadata": {},
   "outputs": [],
   "source": [
    "a1 = ['H','B','V','W','N','M','L','P']\n",
    "a2 = ['M','Q','H']\n",
    "a3 = ['N','D','B','G','F','Q','M','L']\n",
    "a4 = ['Z','T','F','Q','M','W','G']\n",
    "a5 = ['M','T','H','P']\n",
    "a6 = ['C','B','M','J','D','H','G','T']\n",
    "a7 = ['M','N','B','F','V','R']\n",
    "a8 = ['P','L','H','M','R','G','S']\n",
    "a9 = ['P','D','B','C','N']"
   ]
  },
  {
   "cell_type": "code",
   "execution_count": 336,
   "id": "6f7edcd2",
   "metadata": {},
   "outputs": [],
   "source": [
    "array_dict = {\"1\":a1,\"2\":a2,\"3\":a3,\"4\":a4,\"5\":a5,\"6\":a6,\"7\":a7,\"8\":a8,\"9\":a9}"
   ]
  },
  {
   "cell_type": "code",
   "execution_count": 337,
   "id": "ef284444",
   "metadata": {},
   "outputs": [
    {
     "data": {
      "text/plain": [
       "{'1': ['H', 'B', 'V', 'W', 'N', 'M', 'L', 'P'],\n",
       " '2': ['M', 'Q', 'H'],\n",
       " '3': ['N', 'D', 'B', 'G', 'F', 'Q', 'M', 'L'],\n",
       " '4': ['Z', 'T', 'F', 'Q', 'M', 'W', 'G'],\n",
       " '5': ['M', 'T', 'H', 'P'],\n",
       " '6': ['C', 'B', 'M', 'J', 'D', 'H', 'G', 'T'],\n",
       " '7': ['M', 'N', 'B', 'F', 'V', 'R'],\n",
       " '8': ['P', 'L', 'H', 'M', 'R', 'G', 'S'],\n",
       " '9': ['P', 'D', 'B', 'C', 'N']}"
      ]
     },
     "execution_count": 337,
     "metadata": {},
     "output_type": "execute_result"
    }
   ],
   "source": [
    "array_dict"
   ]
  },
  {
   "cell_type": "code",
   "execution_count": 338,
   "id": "0c001a87",
   "metadata": {},
   "outputs": [],
   "source": [
    "for i,data in zip(range(len(data_array)),data_array):\n",
    "    move_array = []\n",
    "    move = data_array[i][5] + data_array[i][6]\n",
    "    move = int(move)\n",
    "    from_col = data_array[i][12] + data_array[i][13]\n",
    "    from_col = from_col\n",
    "    to_col = data_array[i][len(data)-1]\n",
    "    to_col = to_col\n",
    "    for i in range(len(array_dict[from_col.strip()])-move,len(array_dict[from_col.strip()])):\n",
    "        move_array.append(array_dict[from_col.strip()][i])\n",
    "    for i in range(len(array_dict[from_col.strip()])-move,len(array_dict[from_col.strip()])):  \n",
    "        array_dict[from_col.strip()].pop()\n",
    "    move_array = \" \".join(move_array)    \n",
    "    array_dict[to_col.strip()].append(move_array)\n",
    "    split_string = array_dict[to_col.strip()][len(array_dict[to_col.strip()])-1].split(\" \")\n",
    "    array_dict[to_col.strip()].pop()\n",
    "    array_dict[to_col.strip()] = array_dict[to_col.strip()] + split_string"
   ]
  },
  {
   "cell_type": "code",
   "execution_count": 339,
   "id": "cb69ed2e",
   "metadata": {
    "scrolled": true
   },
   "outputs": [
    {
     "data": {
      "text/plain": [
       "{'1': ['V', 'M', 'P', 'C', 'G'],\n",
       " '2': ['N', 'N', 'B', 'H', 'S', 'D', 'M'],\n",
       " '3': ['P'],\n",
       " '4': ['M'],\n",
       " '5': ['P',\n",
       "  'G',\n",
       "  'P',\n",
       "  'L',\n",
       "  'T',\n",
       "  'M',\n",
       "  'J',\n",
       "  'H',\n",
       "  'B',\n",
       "  'B',\n",
       "  'N',\n",
       "  'W',\n",
       "  'B',\n",
       "  'Q',\n",
       "  'R',\n",
       "  'B',\n",
       "  'Q',\n",
       "  'D',\n",
       "  'M',\n",
       "  'F',\n",
       "  'H',\n",
       "  'V',\n",
       "  'H',\n",
       "  'F',\n",
       "  'C',\n",
       "  'F',\n",
       "  'L'],\n",
       " '6': ['H', 'W'],\n",
       " '7': ['L', 'Q', 'T', 'R', 'Z', 'N'],\n",
       " '8': ['T', 'M', 'D', 'M'],\n",
       " '9': ['M', 'G', 'G']}"
      ]
     },
     "execution_count": 339,
     "metadata": {},
     "output_type": "execute_result"
    }
   ],
   "source": [
    "array_dict"
   ]
  },
  {
   "cell_type": "code",
   "execution_count": null,
   "id": "3a1917cc",
   "metadata": {},
   "outputs": [],
   "source": [
    "D"
   ]
  },
  {
   "cell_type": "code",
   "execution_count": 283,
   "id": "55a104db",
   "metadata": {},
   "outputs": [
    {
     "data": {
      "text/plain": [
       "'C N'"
      ]
     },
     "execution_count": 283,
     "metadata": {},
     "output_type": "execute_result"
    }
   ],
   "source": [
    "move_array"
   ]
  },
  {
   "cell_type": "code",
   "execution_count": 255,
   "id": "2cd43905",
   "metadata": {},
   "outputs": [],
   "source": [
    "move_array = \" \".join(move_array)"
   ]
  },
  {
   "cell_type": "code",
   "execution_count": 284,
   "id": "240f2aa4",
   "metadata": {},
   "outputs": [
    {
     "data": {
      "text/plain": [
       "'C N'"
      ]
     },
     "execution_count": 284,
     "metadata": {},
     "output_type": "execute_result"
    }
   ],
   "source": [
    "move_array"
   ]
  },
  {
   "cell_type": "code",
   "execution_count": 301,
   "id": "8e6f44e2",
   "metadata": {},
   "outputs": [],
   "source": [
    "split_string = array_dict['6'][len(array_dict['6'])-1].split(\" \")\n",
    "array_dict['6'].pop()\n",
    "array_dict['6'] = array_dict['6'] + split_string"
   ]
  },
  {
   "cell_type": "code",
   "execution_count": 224,
   "id": "adf8a528",
   "metadata": {},
   "outputs": [
    {
     "data": {
      "text/plain": [
       "'9 '"
      ]
     },
     "execution_count": 224,
     "metadata": {},
     "output_type": "execute_result"
    }
   ],
   "source": [
    "from_col"
   ]
  },
  {
   "cell_type": "code",
   "execution_count": 334,
   "id": "57451fd2",
   "metadata": {},
   "outputs": [
    {
     "data": {
      "text/plain": [
       "{'1': ['H', 'B', 'V', 'W', 'N', 'M', 'L', 'P'],\n",
       " '2': ['M', 'Q', 'H'],\n",
       " '3': ['N', 'D', 'B', 'G', 'F', 'Q', 'M', 'L'],\n",
       " '4': ['Z', 'T', 'F', 'Q', 'M', 'W', 'G'],\n",
       " '5': ['M', 'T', 'H', 'P'],\n",
       " '6': ['C', 'B', 'M', 'J', 'D', 'H', 'G', 'T', 'C', 'N', 'D', 'B'],\n",
       " '7': ['M', 'N', 'B', 'F', 'V', 'R'],\n",
       " '8': ['P', 'L', 'H', 'M', 'R', 'G', 'S'],\n",
       " '9': []}"
      ]
     },
     "execution_count": 334,
     "metadata": {},
     "output_type": "execute_result"
    }
   ],
   "source": [
    "array_dict"
   ]
  },
  {
   "cell_type": "code",
   "execution_count": null,
   "id": "c46a404a",
   "metadata": {},
   "outputs": [],
   "source": []
  }
 ],
 "metadata": {
  "kernelspec": {
   "display_name": "Python 3 (ipykernel)",
   "language": "python",
   "name": "python3"
  },
  "language_info": {
   "codemirror_mode": {
    "name": "ipython",
    "version": 3
   },
   "file_extension": ".py",
   "mimetype": "text/x-python",
   "name": "python",
   "nbconvert_exporter": "python",
   "pygments_lexer": "ipython3",
   "version": "3.10.13"
  }
 },
 "nbformat": 4,
 "nbformat_minor": 5
}
