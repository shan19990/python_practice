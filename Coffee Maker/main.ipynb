{
 "cells": [
  {
   "cell_type": "code",
   "execution_count": 7,
   "id": "160a1d85",
   "metadata": {},
   "outputs": [],
   "source": [
    "from menu import Menu, MenuItem\n",
    "from coffee_maker import CoffeeMaker\n",
    "from money_machine import MoneyMachine"
   ]
  },
  {
   "cell_type": "code",
   "execution_count": 28,
   "id": "de6d1d7a",
   "metadata": {},
   "outputs": [],
   "source": []
  },
  {
   "cell_type": "code",
   "execution_count": null,
   "id": "ab03afdf",
   "metadata": {},
   "outputs": [
    {
     "name": "stdout",
     "output_type": "stream",
     "text": [
      "What drink would you like to get latte/espresso/cappuccino/report\n",
      "Water: 300ml\n",
      "Milk: 200ml\n",
      "Coffee: 100g\n",
      "Money: $0\n",
      "What drink would you like to get latte/espresso/cappuccino/latte\n",
      "Please insert coins.\n",
      "How many quarters?: 12\n",
      "How many dimes?: 12\n",
      "How many nickles?: 12\n",
      "How many pennies?: 12\n",
      "Here is $2.42 in change.\n",
      "Here is your latte ☕️. Enjoy!\n",
      "What drink would you like to get latte/espresso/cappuccino/report\n",
      "Water: 100ml\n",
      "Milk: 50ml\n",
      "Coffee: 76g\n",
      "Money: $2.5\n"
     ]
    }
   ],
   "source": [
    "coffee_maker = CoffeeMaker()\n",
    "money_machine = MoneyMachine()\n",
    "menu = Menu()\n",
    "is_on = True\n",
    "\n",
    "while is_on :\n",
    "    options = menu.get_items()\n",
    "    choice = input(f\"What drink would you like to get {options}\")\n",
    "    if choice == \"off\":\n",
    "        is_on = False\n",
    "    elif choice == \"report\":\n",
    "        coffee_maker.report()\n",
    "        money_machine.report()\n",
    "    else:\n",
    "        drink = menu.find_drink(choice)\n",
    "        if coffee_maker.is_resource_sufficient(drink):\n",
    "            if money_machine.make_payment(drink.cost):\n",
    "                coffee_maker.make_coffee(drink)"
   ]
  },
  {
   "cell_type": "code",
   "execution_count": null,
   "id": "5df5dfc8",
   "metadata": {},
   "outputs": [],
   "source": []
  }
 ],
 "metadata": {
  "kernelspec": {
   "display_name": "Python 3 (ipykernel)",
   "language": "python",
   "name": "python3"
  },
  "language_info": {
   "codemirror_mode": {
    "name": "ipython",
    "version": 3
   },
   "file_extension": ".py",
   "mimetype": "text/x-python",
   "name": "python",
   "nbconvert_exporter": "python",
   "pygments_lexer": "ipython3",
   "version": "3.10.13"
  }
 },
 "nbformat": 4,
 "nbformat_minor": 5
}
