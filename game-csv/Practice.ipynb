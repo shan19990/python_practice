{
 "cells": [
  {
   "cell_type": "code",
   "execution_count": 1,
   "id": "d18037e3",
   "metadata": {},
   "outputs": [],
   "source": [
    "with open(\"weather_data.csv\") as file:\n",
    "    line = file.readlines()"
   ]
  },
  {
   "cell_type": "code",
   "execution_count": 2,
   "id": "0795c9e8",
   "metadata": {},
   "outputs": [
    {
     "data": {
      "text/plain": [
       "['day,temp,condition\\n',\n",
       " 'Monday,12,Sunny\\n',\n",
       " 'Tuesday,14,Rain\\n',\n",
       " 'Wednesday,15,Rain\\n',\n",
       " 'Thursday,14,Cloudy\\n',\n",
       " 'Friday,21,Sunny\\n',\n",
       " 'Saturday,22,Sunny\\n',\n",
       " 'Sunday,24,Sunny']"
      ]
     },
     "execution_count": 2,
     "metadata": {},
     "output_type": "execute_result"
    }
   ],
   "source": [
    "line"
   ]
  },
  {
   "cell_type": "code",
   "execution_count": 3,
   "id": "a74aed04",
   "metadata": {},
   "outputs": [],
   "source": [
    "import csv"
   ]
  },
  {
   "cell_type": "code",
   "execution_count": 4,
   "id": "a65d826c",
   "metadata": {},
   "outputs": [],
   "source": [
    "temperature = []"
   ]
  },
  {
   "cell_type": "code",
   "execution_count": 5,
   "id": "b05e6e22",
   "metadata": {},
   "outputs": [],
   "source": [
    "with open(\"weather_data.csv\") as file:\n",
    "    data = csv.reader(file)\n",
    "    for row in data:\n",
    "        if row[1]!='temp':\n",
    "            temperature.append(int(row[1]))"
   ]
  },
  {
   "cell_type": "code",
   "execution_count": 6,
   "id": "84408c3c",
   "metadata": {},
   "outputs": [
    {
     "data": {
      "text/plain": [
       "<_csv.reader at 0x1a236dab0a0>"
      ]
     },
     "execution_count": 6,
     "metadata": {},
     "output_type": "execute_result"
    }
   ],
   "source": [
    "data"
   ]
  },
  {
   "cell_type": "code",
   "execution_count": 7,
   "id": "186e0a64",
   "metadata": {},
   "outputs": [
    {
     "data": {
      "text/plain": [
       "[12, 14, 15, 14, 21, 22, 24]"
      ]
     },
     "execution_count": 7,
     "metadata": {},
     "output_type": "execute_result"
    }
   ],
   "source": [
    "temperature"
   ]
  },
  {
   "cell_type": "code",
   "execution_count": 6,
   "id": "caf341e4",
   "metadata": {},
   "outputs": [],
   "source": [
    "import pandas as pd"
   ]
  },
  {
   "cell_type": "code",
   "execution_count": 9,
   "id": "0443922a",
   "metadata": {},
   "outputs": [],
   "source": [
    "data = pd.read_csv(\"weather_data.csv\")"
   ]
  },
  {
   "cell_type": "code",
   "execution_count": 10,
   "id": "38d379fe",
   "metadata": {},
   "outputs": [],
   "source": [
    "temperature = data[\"temp\"]"
   ]
  },
  {
   "cell_type": "code",
   "execution_count": 11,
   "id": "559289c5",
   "metadata": {},
   "outputs": [
    {
     "data": {
      "text/plain": [
       "0    12\n",
       "1    14\n",
       "2    15\n",
       "3    14\n",
       "4    21\n",
       "5    22\n",
       "6    24\n",
       "Name: temp, dtype: int64"
      ]
     },
     "execution_count": 11,
     "metadata": {},
     "output_type": "execute_result"
    }
   ],
   "source": [
    "temperature"
   ]
  },
  {
   "cell_type": "code",
   "execution_count": 12,
   "id": "ab00af29",
   "metadata": {},
   "outputs": [],
   "source": [
    "dict = data.to_dict()"
   ]
  },
  {
   "cell_type": "code",
   "execution_count": 13,
   "id": "fb9aee69",
   "metadata": {},
   "outputs": [
    {
     "data": {
      "text/plain": [
       "{'day': {0: 'Monday',\n",
       "  1: 'Tuesday',\n",
       "  2: 'Wednesday',\n",
       "  3: 'Thursday',\n",
       "  4: 'Friday',\n",
       "  5: 'Saturday',\n",
       "  6: 'Sunday'},\n",
       " 'temp': {0: 12, 1: 14, 2: 15, 3: 14, 4: 21, 5: 22, 6: 24},\n",
       " 'condition': {0: 'Sunny',\n",
       "  1: 'Rain',\n",
       "  2: 'Rain',\n",
       "  3: 'Cloudy',\n",
       "  4: 'Sunny',\n",
       "  5: 'Sunny',\n",
       "  6: 'Sunny'}}"
      ]
     },
     "execution_count": 13,
     "metadata": {},
     "output_type": "execute_result"
    }
   ],
   "source": [
    "dict"
   ]
  },
  {
   "cell_type": "code",
   "execution_count": 14,
   "id": "fb39289f",
   "metadata": {},
   "outputs": [],
   "source": [
    "temperature_list = data[\"temp\"].to_list()"
   ]
  },
  {
   "cell_type": "code",
   "execution_count": 15,
   "id": "f69f169e",
   "metadata": {},
   "outputs": [
    {
     "data": {
      "text/plain": [
       "[12, 14, 15, 14, 21, 22, 24]"
      ]
     },
     "execution_count": 15,
     "metadata": {},
     "output_type": "execute_result"
    }
   ],
   "source": [
    "temperature_list"
   ]
  },
  {
   "cell_type": "code",
   "execution_count": 17,
   "id": "cde570c8",
   "metadata": {},
   "outputs": [],
   "source": [
    "avg = sum(temperature_list)/len(temperature_list)"
   ]
  },
  {
   "cell_type": "code",
   "execution_count": 18,
   "id": "ccc1f159",
   "metadata": {},
   "outputs": [
    {
     "data": {
      "text/plain": [
       "17.428571428571427"
      ]
     },
     "execution_count": 18,
     "metadata": {},
     "output_type": "execute_result"
    }
   ],
   "source": [
    "avg"
   ]
  },
  {
   "cell_type": "code",
   "execution_count": 20,
   "id": "7c189924",
   "metadata": {},
   "outputs": [
    {
     "data": {
      "text/plain": [
       "17.428571428571427"
      ]
     },
     "execution_count": 20,
     "metadata": {},
     "output_type": "execute_result"
    }
   ],
   "source": [
    "data[\"temp\"].mean()"
   ]
  },
  {
   "cell_type": "code",
   "execution_count": 21,
   "id": "f9d4b9fe",
   "metadata": {
    "scrolled": true
   },
   "outputs": [
    {
     "data": {
      "text/plain": [
       "24"
      ]
     },
     "execution_count": 21,
     "metadata": {},
     "output_type": "execute_result"
    }
   ],
   "source": [
    "data[\"temp\"].max()"
   ]
  },
  {
   "cell_type": "code",
   "execution_count": 31,
   "id": "2365d756",
   "metadata": {},
   "outputs": [],
   "source": [
    "data['temp'] = (data['temp'] *(9/5)) + 32"
   ]
  },
  {
   "cell_type": "code",
   "execution_count": 32,
   "id": "1777cf3f",
   "metadata": {},
   "outputs": [
    {
     "data": {
      "text/html": [
       "<div>\n",
       "<style scoped>\n",
       "    .dataframe tbody tr th:only-of-type {\n",
       "        vertical-align: middle;\n",
       "    }\n",
       "\n",
       "    .dataframe tbody tr th {\n",
       "        vertical-align: top;\n",
       "    }\n",
       "\n",
       "    .dataframe thead th {\n",
       "        text-align: right;\n",
       "    }\n",
       "</style>\n",
       "<table border=\"1\" class=\"dataframe\">\n",
       "  <thead>\n",
       "    <tr style=\"text-align: right;\">\n",
       "      <th></th>\n",
       "      <th>day</th>\n",
       "      <th>temp</th>\n",
       "      <th>condition</th>\n",
       "    </tr>\n",
       "  </thead>\n",
       "  <tbody>\n",
       "    <tr>\n",
       "      <th>0</th>\n",
       "      <td>Monday</td>\n",
       "      <td>53.6</td>\n",
       "      <td>Sunny</td>\n",
       "    </tr>\n",
       "    <tr>\n",
       "      <th>1</th>\n",
       "      <td>Tuesday</td>\n",
       "      <td>57.2</td>\n",
       "      <td>Rain</td>\n",
       "    </tr>\n",
       "    <tr>\n",
       "      <th>2</th>\n",
       "      <td>Wednesday</td>\n",
       "      <td>59.0</td>\n",
       "      <td>Rain</td>\n",
       "    </tr>\n",
       "    <tr>\n",
       "      <th>3</th>\n",
       "      <td>Thursday</td>\n",
       "      <td>57.2</td>\n",
       "      <td>Cloudy</td>\n",
       "    </tr>\n",
       "    <tr>\n",
       "      <th>4</th>\n",
       "      <td>Friday</td>\n",
       "      <td>69.8</td>\n",
       "      <td>Sunny</td>\n",
       "    </tr>\n",
       "    <tr>\n",
       "      <th>5</th>\n",
       "      <td>Saturday</td>\n",
       "      <td>71.6</td>\n",
       "      <td>Sunny</td>\n",
       "    </tr>\n",
       "    <tr>\n",
       "      <th>6</th>\n",
       "      <td>Sunday</td>\n",
       "      <td>75.2</td>\n",
       "      <td>Sunny</td>\n",
       "    </tr>\n",
       "  </tbody>\n",
       "</table>\n",
       "</div>"
      ],
      "text/plain": [
       "         day  temp condition\n",
       "0     Monday  53.6     Sunny\n",
       "1    Tuesday  57.2      Rain\n",
       "2  Wednesday  59.0      Rain\n",
       "3   Thursday  57.2    Cloudy\n",
       "4     Friday  69.8     Sunny\n",
       "5   Saturday  71.6     Sunny\n",
       "6     Sunday  75.2     Sunny"
      ]
     },
     "execution_count": 32,
     "metadata": {},
     "output_type": "execute_result"
    }
   ],
   "source": [
    "data"
   ]
  },
  {
   "cell_type": "code",
   "execution_count": 7,
   "id": "aa1209d9",
   "metadata": {},
   "outputs": [],
   "source": [
    "squirrel_df = pd.read_csv(\"2018_Central_Park_Squirrel_Census_-_Squirrel_Data.csv\")"
   ]
  },
  {
   "cell_type": "code",
   "execution_count": 8,
   "id": "a140061a",
   "metadata": {},
   "outputs": [
    {
     "data": {
      "text/html": [
       "<div>\n",
       "<style scoped>\n",
       "    .dataframe tbody tr th:only-of-type {\n",
       "        vertical-align: middle;\n",
       "    }\n",
       "\n",
       "    .dataframe tbody tr th {\n",
       "        vertical-align: top;\n",
       "    }\n",
       "\n",
       "    .dataframe thead th {\n",
       "        text-align: right;\n",
       "    }\n",
       "</style>\n",
       "<table border=\"1\" class=\"dataframe\">\n",
       "  <thead>\n",
       "    <tr style=\"text-align: right;\">\n",
       "      <th></th>\n",
       "      <th>X</th>\n",
       "      <th>Y</th>\n",
       "      <th>Unique Squirrel ID</th>\n",
       "      <th>Hectare</th>\n",
       "      <th>Shift</th>\n",
       "      <th>Date</th>\n",
       "      <th>Hectare Squirrel Number</th>\n",
       "      <th>Age</th>\n",
       "      <th>Primary Fur Color</th>\n",
       "      <th>Highlight Fur Color</th>\n",
       "      <th>...</th>\n",
       "      <th>Kuks</th>\n",
       "      <th>Quaas</th>\n",
       "      <th>Moans</th>\n",
       "      <th>Tail flags</th>\n",
       "      <th>Tail twitches</th>\n",
       "      <th>Approaches</th>\n",
       "      <th>Indifferent</th>\n",
       "      <th>Runs from</th>\n",
       "      <th>Other Interactions</th>\n",
       "      <th>Lat/Long</th>\n",
       "    </tr>\n",
       "  </thead>\n",
       "  <tbody>\n",
       "    <tr>\n",
       "      <th>0</th>\n",
       "      <td>-73.956134</td>\n",
       "      <td>40.794082</td>\n",
       "      <td>37F-PM-1014-03</td>\n",
       "      <td>37F</td>\n",
       "      <td>PM</td>\n",
       "      <td>10142018</td>\n",
       "      <td>3</td>\n",
       "      <td>NaN</td>\n",
       "      <td>NaN</td>\n",
       "      <td>NaN</td>\n",
       "      <td>...</td>\n",
       "      <td>False</td>\n",
       "      <td>False</td>\n",
       "      <td>False</td>\n",
       "      <td>False</td>\n",
       "      <td>False</td>\n",
       "      <td>False</td>\n",
       "      <td>False</td>\n",
       "      <td>False</td>\n",
       "      <td>NaN</td>\n",
       "      <td>POINT (-73.9561344937861 40.7940823884086)</td>\n",
       "    </tr>\n",
       "    <tr>\n",
       "      <th>1</th>\n",
       "      <td>-73.957044</td>\n",
       "      <td>40.794851</td>\n",
       "      <td>37E-PM-1006-03</td>\n",
       "      <td>37E</td>\n",
       "      <td>PM</td>\n",
       "      <td>10062018</td>\n",
       "      <td>3</td>\n",
       "      <td>Adult</td>\n",
       "      <td>Gray</td>\n",
       "      <td>Cinnamon</td>\n",
       "      <td>...</td>\n",
       "      <td>False</td>\n",
       "      <td>False</td>\n",
       "      <td>False</td>\n",
       "      <td>False</td>\n",
       "      <td>False</td>\n",
       "      <td>False</td>\n",
       "      <td>False</td>\n",
       "      <td>True</td>\n",
       "      <td>me</td>\n",
       "      <td>POINT (-73.9570437717691 40.794850940803904)</td>\n",
       "    </tr>\n",
       "    <tr>\n",
       "      <th>2</th>\n",
       "      <td>-73.976831</td>\n",
       "      <td>40.766718</td>\n",
       "      <td>2E-AM-1010-03</td>\n",
       "      <td>02E</td>\n",
       "      <td>AM</td>\n",
       "      <td>10102018</td>\n",
       "      <td>3</td>\n",
       "      <td>Adult</td>\n",
       "      <td>Cinnamon</td>\n",
       "      <td>NaN</td>\n",
       "      <td>...</td>\n",
       "      <td>False</td>\n",
       "      <td>False</td>\n",
       "      <td>False</td>\n",
       "      <td>False</td>\n",
       "      <td>False</td>\n",
       "      <td>False</td>\n",
       "      <td>True</td>\n",
       "      <td>False</td>\n",
       "      <td>NaN</td>\n",
       "      <td>POINT (-73.9768311751004 40.76671780725581)</td>\n",
       "    </tr>\n",
       "    <tr>\n",
       "      <th>3</th>\n",
       "      <td>-73.975725</td>\n",
       "      <td>40.769703</td>\n",
       "      <td>5D-PM-1018-05</td>\n",
       "      <td>05D</td>\n",
       "      <td>PM</td>\n",
       "      <td>10182018</td>\n",
       "      <td>5</td>\n",
       "      <td>Juvenile</td>\n",
       "      <td>Gray</td>\n",
       "      <td>NaN</td>\n",
       "      <td>...</td>\n",
       "      <td>False</td>\n",
       "      <td>False</td>\n",
       "      <td>False</td>\n",
       "      <td>False</td>\n",
       "      <td>False</td>\n",
       "      <td>False</td>\n",
       "      <td>False</td>\n",
       "      <td>True</td>\n",
       "      <td>NaN</td>\n",
       "      <td>POINT (-73.9757249834141 40.7697032606755)</td>\n",
       "    </tr>\n",
       "    <tr>\n",
       "      <th>4</th>\n",
       "      <td>-73.959313</td>\n",
       "      <td>40.797533</td>\n",
       "      <td>39B-AM-1018-01</td>\n",
       "      <td>39B</td>\n",
       "      <td>AM</td>\n",
       "      <td>10182018</td>\n",
       "      <td>1</td>\n",
       "      <td>NaN</td>\n",
       "      <td>NaN</td>\n",
       "      <td>NaN</td>\n",
       "      <td>...</td>\n",
       "      <td>True</td>\n",
       "      <td>False</td>\n",
       "      <td>False</td>\n",
       "      <td>False</td>\n",
       "      <td>False</td>\n",
       "      <td>False</td>\n",
       "      <td>False</td>\n",
       "      <td>False</td>\n",
       "      <td>NaN</td>\n",
       "      <td>POINT (-73.9593126695714 40.797533370163)</td>\n",
       "    </tr>\n",
       "    <tr>\n",
       "      <th>...</th>\n",
       "      <td>...</td>\n",
       "      <td>...</td>\n",
       "      <td>...</td>\n",
       "      <td>...</td>\n",
       "      <td>...</td>\n",
       "      <td>...</td>\n",
       "      <td>...</td>\n",
       "      <td>...</td>\n",
       "      <td>...</td>\n",
       "      <td>...</td>\n",
       "      <td>...</td>\n",
       "      <td>...</td>\n",
       "      <td>...</td>\n",
       "      <td>...</td>\n",
       "      <td>...</td>\n",
       "      <td>...</td>\n",
       "      <td>...</td>\n",
       "      <td>...</td>\n",
       "      <td>...</td>\n",
       "      <td>...</td>\n",
       "      <td>...</td>\n",
       "    </tr>\n",
       "    <tr>\n",
       "      <th>3018</th>\n",
       "      <td>-73.963943</td>\n",
       "      <td>40.790868</td>\n",
       "      <td>30B-AM-1007-04</td>\n",
       "      <td>30B</td>\n",
       "      <td>AM</td>\n",
       "      <td>10072018</td>\n",
       "      <td>4</td>\n",
       "      <td>Adult</td>\n",
       "      <td>Gray</td>\n",
       "      <td>NaN</td>\n",
       "      <td>...</td>\n",
       "      <td>False</td>\n",
       "      <td>False</td>\n",
       "      <td>False</td>\n",
       "      <td>False</td>\n",
       "      <td>False</td>\n",
       "      <td>False</td>\n",
       "      <td>False</td>\n",
       "      <td>True</td>\n",
       "      <td>NaN</td>\n",
       "      <td>POINT (-73.9639431360458 40.7908677445466)</td>\n",
       "    </tr>\n",
       "    <tr>\n",
       "      <th>3019</th>\n",
       "      <td>-73.970402</td>\n",
       "      <td>40.782560</td>\n",
       "      <td>19A-PM-1013-05</td>\n",
       "      <td>19A</td>\n",
       "      <td>PM</td>\n",
       "      <td>10132018</td>\n",
       "      <td>5</td>\n",
       "      <td>Adult</td>\n",
       "      <td>Gray</td>\n",
       "      <td>White</td>\n",
       "      <td>...</td>\n",
       "      <td>False</td>\n",
       "      <td>False</td>\n",
       "      <td>False</td>\n",
       "      <td>False</td>\n",
       "      <td>False</td>\n",
       "      <td>False</td>\n",
       "      <td>True</td>\n",
       "      <td>False</td>\n",
       "      <td>NaN</td>\n",
       "      <td>POINT (-73.9704015859639 40.7825600069973)</td>\n",
       "    </tr>\n",
       "    <tr>\n",
       "      <th>3020</th>\n",
       "      <td>-73.966587</td>\n",
       "      <td>40.783678</td>\n",
       "      <td>22D-PM-1012-07</td>\n",
       "      <td>22D</td>\n",
       "      <td>PM</td>\n",
       "      <td>10122018</td>\n",
       "      <td>7</td>\n",
       "      <td>Adult</td>\n",
       "      <td>Gray</td>\n",
       "      <td>Black, Cinnamon, White</td>\n",
       "      <td>...</td>\n",
       "      <td>False</td>\n",
       "      <td>False</td>\n",
       "      <td>False</td>\n",
       "      <td>False</td>\n",
       "      <td>False</td>\n",
       "      <td>False</td>\n",
       "      <td>True</td>\n",
       "      <td>False</td>\n",
       "      <td>NaN</td>\n",
       "      <td>POINT (-73.9665871993517 40.7836775064883)</td>\n",
       "    </tr>\n",
       "    <tr>\n",
       "      <th>3021</th>\n",
       "      <td>-73.963994</td>\n",
       "      <td>40.789915</td>\n",
       "      <td>29B-PM-1010-02</td>\n",
       "      <td>29B</td>\n",
       "      <td>PM</td>\n",
       "      <td>10102018</td>\n",
       "      <td>2</td>\n",
       "      <td>NaN</td>\n",
       "      <td>Gray</td>\n",
       "      <td>Cinnamon, White</td>\n",
       "      <td>...</td>\n",
       "      <td>False</td>\n",
       "      <td>False</td>\n",
       "      <td>False</td>\n",
       "      <td>False</td>\n",
       "      <td>False</td>\n",
       "      <td>False</td>\n",
       "      <td>True</td>\n",
       "      <td>False</td>\n",
       "      <td>NaN</td>\n",
       "      <td>POINT (-73.9639941227864 40.7899152327912)</td>\n",
       "    </tr>\n",
       "    <tr>\n",
       "      <th>3022</th>\n",
       "      <td>-73.975479</td>\n",
       "      <td>40.769640</td>\n",
       "      <td>5E-PM-1012-01</td>\n",
       "      <td>05E</td>\n",
       "      <td>PM</td>\n",
       "      <td>10122018</td>\n",
       "      <td>1</td>\n",
       "      <td>Adult</td>\n",
       "      <td>Cinnamon</td>\n",
       "      <td>Gray, White</td>\n",
       "      <td>...</td>\n",
       "      <td>False</td>\n",
       "      <td>False</td>\n",
       "      <td>False</td>\n",
       "      <td>False</td>\n",
       "      <td>False</td>\n",
       "      <td>True</td>\n",
       "      <td>False</td>\n",
       "      <td>False</td>\n",
       "      <td>NaN</td>\n",
       "      <td>POINT (-73.9754794191553 40.7696404489025)</td>\n",
       "    </tr>\n",
       "  </tbody>\n",
       "</table>\n",
       "<p>3023 rows × 31 columns</p>\n",
       "</div>"
      ],
      "text/plain": [
       "              X          Y Unique Squirrel ID Hectare Shift      Date  \\\n",
       "0    -73.956134  40.794082     37F-PM-1014-03     37F    PM  10142018   \n",
       "1    -73.957044  40.794851     37E-PM-1006-03     37E    PM  10062018   \n",
       "2    -73.976831  40.766718      2E-AM-1010-03     02E    AM  10102018   \n",
       "3    -73.975725  40.769703      5D-PM-1018-05     05D    PM  10182018   \n",
       "4    -73.959313  40.797533     39B-AM-1018-01     39B    AM  10182018   \n",
       "...         ...        ...                ...     ...   ...       ...   \n",
       "3018 -73.963943  40.790868     30B-AM-1007-04     30B    AM  10072018   \n",
       "3019 -73.970402  40.782560     19A-PM-1013-05     19A    PM  10132018   \n",
       "3020 -73.966587  40.783678     22D-PM-1012-07     22D    PM  10122018   \n",
       "3021 -73.963994  40.789915     29B-PM-1010-02     29B    PM  10102018   \n",
       "3022 -73.975479  40.769640      5E-PM-1012-01     05E    PM  10122018   \n",
       "\n",
       "      Hectare Squirrel Number       Age Primary Fur Color  \\\n",
       "0                           3       NaN               NaN   \n",
       "1                           3     Adult              Gray   \n",
       "2                           3     Adult          Cinnamon   \n",
       "3                           5  Juvenile              Gray   \n",
       "4                           1       NaN               NaN   \n",
       "...                       ...       ...               ...   \n",
       "3018                        4     Adult              Gray   \n",
       "3019                        5     Adult              Gray   \n",
       "3020                        7     Adult              Gray   \n",
       "3021                        2       NaN              Gray   \n",
       "3022                        1     Adult          Cinnamon   \n",
       "\n",
       "         Highlight Fur Color  ...   Kuks  Quaas  Moans Tail flags  \\\n",
       "0                        NaN  ...  False  False  False      False   \n",
       "1                   Cinnamon  ...  False  False  False      False   \n",
       "2                        NaN  ...  False  False  False      False   \n",
       "3                        NaN  ...  False  False  False      False   \n",
       "4                        NaN  ...   True  False  False      False   \n",
       "...                      ...  ...    ...    ...    ...        ...   \n",
       "3018                     NaN  ...  False  False  False      False   \n",
       "3019                   White  ...  False  False  False      False   \n",
       "3020  Black, Cinnamon, White  ...  False  False  False      False   \n",
       "3021         Cinnamon, White  ...  False  False  False      False   \n",
       "3022             Gray, White  ...  False  False  False      False   \n",
       "\n",
       "     Tail twitches  Approaches  Indifferent  Runs from  Other Interactions  \\\n",
       "0            False       False        False      False                 NaN   \n",
       "1            False       False        False       True                  me   \n",
       "2            False       False         True      False                 NaN   \n",
       "3            False       False        False       True                 NaN   \n",
       "4            False       False        False      False                 NaN   \n",
       "...            ...         ...          ...        ...                 ...   \n",
       "3018         False       False        False       True                 NaN   \n",
       "3019         False       False         True      False                 NaN   \n",
       "3020         False       False         True      False                 NaN   \n",
       "3021         False       False         True      False                 NaN   \n",
       "3022         False        True        False      False                 NaN   \n",
       "\n",
       "                                          Lat/Long  \n",
       "0       POINT (-73.9561344937861 40.7940823884086)  \n",
       "1     POINT (-73.9570437717691 40.794850940803904)  \n",
       "2      POINT (-73.9768311751004 40.76671780725581)  \n",
       "3       POINT (-73.9757249834141 40.7697032606755)  \n",
       "4        POINT (-73.9593126695714 40.797533370163)  \n",
       "...                                            ...  \n",
       "3018    POINT (-73.9639431360458 40.7908677445466)  \n",
       "3019    POINT (-73.9704015859639 40.7825600069973)  \n",
       "3020    POINT (-73.9665871993517 40.7836775064883)  \n",
       "3021    POINT (-73.9639941227864 40.7899152327912)  \n",
       "3022    POINT (-73.9754794191553 40.7696404489025)  \n",
       "\n",
       "[3023 rows x 31 columns]"
      ]
     },
     "execution_count": 8,
     "metadata": {},
     "output_type": "execute_result"
    }
   ],
   "source": [
    "squirrel_df"
   ]
  },
  {
   "cell_type": "code",
   "execution_count": 9,
   "id": "bee0b962",
   "metadata": {},
   "outputs": [],
   "source": [
    "squirrel_data = []"
   ]
  },
  {
   "cell_type": "code",
   "execution_count": 10,
   "id": "2ba65ece",
   "metadata": {},
   "outputs": [
    {
     "data": {
      "text/plain": [
       "2473"
      ]
     },
     "execution_count": 10,
     "metadata": {},
     "output_type": "execute_result"
    }
   ],
   "source": [
    "sum_gray = sum(squirrel_df[\"Primary Fur Color\"] == \"Gray\")\n",
    "sum_gray"
   ]
  },
  {
   "cell_type": "code",
   "execution_count": 28,
   "id": "b769acd8",
   "metadata": {},
   "outputs": [
    {
     "data": {
      "text/plain": [
       "392"
      ]
     },
     "execution_count": 28,
     "metadata": {},
     "output_type": "execute_result"
    }
   ],
   "source": [
    "sum_red = sum(squirrel_df[\"Primary Fur Color\"] == \"Cinnamon\")\n",
    "sum_red"
   ]
  },
  {
   "cell_type": "code",
   "execution_count": 18,
   "id": "946572f0",
   "metadata": {},
   "outputs": [
    {
     "data": {
      "text/plain": [
       "103"
      ]
     },
     "execution_count": 18,
     "metadata": {},
     "output_type": "execute_result"
    }
   ],
   "source": [
    "sum_black = sum(squirrel_df[\"Primary Fur Color\"] == \"Black\")\n",
    "sum_black"
   ]
  },
  {
   "cell_type": "code",
   "execution_count": 29,
   "id": "54b72fa0",
   "metadata": {},
   "outputs": [],
   "source": [
    "fur_colour = [\"Gray\",\"Red\",\"Black\"]\n",
    "count = [sum_gray,sum_red,sum_black]\n",
    "data_dict = {\"fur\":fur_colour, \"count\":count}"
   ]
  },
  {
   "cell_type": "code",
   "execution_count": 30,
   "id": "a5606567",
   "metadata": {},
   "outputs": [],
   "source": [
    "data_df = pd.DataFrame(data_dict)"
   ]
  },
  {
   "cell_type": "code",
   "execution_count": 31,
   "id": "3d424083",
   "metadata": {},
   "outputs": [
    {
     "data": {
      "text/html": [
       "<div>\n",
       "<style scoped>\n",
       "    .dataframe tbody tr th:only-of-type {\n",
       "        vertical-align: middle;\n",
       "    }\n",
       "\n",
       "    .dataframe tbody tr th {\n",
       "        vertical-align: top;\n",
       "    }\n",
       "\n",
       "    .dataframe thead th {\n",
       "        text-align: right;\n",
       "    }\n",
       "</style>\n",
       "<table border=\"1\" class=\"dataframe\">\n",
       "  <thead>\n",
       "    <tr style=\"text-align: right;\">\n",
       "      <th></th>\n",
       "      <th>fur</th>\n",
       "      <th>count</th>\n",
       "    </tr>\n",
       "  </thead>\n",
       "  <tbody>\n",
       "    <tr>\n",
       "      <th>0</th>\n",
       "      <td>Gray</td>\n",
       "      <td>2473</td>\n",
       "    </tr>\n",
       "    <tr>\n",
       "      <th>1</th>\n",
       "      <td>Red</td>\n",
       "      <td>392</td>\n",
       "    </tr>\n",
       "    <tr>\n",
       "      <th>2</th>\n",
       "      <td>Black</td>\n",
       "      <td>103</td>\n",
       "    </tr>\n",
       "  </tbody>\n",
       "</table>\n",
       "</div>"
      ],
      "text/plain": [
       "     fur  count\n",
       "0   Gray   2473\n",
       "1    Red    392\n",
       "2  Black    103"
      ]
     },
     "execution_count": 31,
     "metadata": {},
     "output_type": "execute_result"
    }
   ],
   "source": [
    "data_df"
   ]
  },
  {
   "cell_type": "code",
   "execution_count": 32,
   "id": "93e6c0b5",
   "metadata": {},
   "outputs": [],
   "source": [
    "data_df.to_csv(\"fur-count.csv\")"
   ]
  },
  {
   "cell_type": "code",
   "execution_count": null,
   "id": "ff1a3789",
   "metadata": {},
   "outputs": [],
   "source": []
  }
 ],
 "metadata": {
  "kernelspec": {
   "display_name": "Python 3 (ipykernel)",
   "language": "python",
   "name": "python3"
  },
  "language_info": {
   "codemirror_mode": {
    "name": "ipython",
    "version": 3
   },
   "file_extension": ".py",
   "mimetype": "text/x-python",
   "name": "python",
   "nbconvert_exporter": "python",
   "pygments_lexer": "ipython3",
   "version": "3.10.13"
  }
 },
 "nbformat": 4,
 "nbformat_minor": 5
}
