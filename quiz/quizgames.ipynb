{
 "cells": [
  {
   "cell_type": "code",
   "execution_count": 10,
   "id": "0980aaf0",
   "metadata": {},
   "outputs": [],
   "source": [
    "from question_model import Question\n",
    "from data import question_data\n",
    "import random\n",
    "from quiz_brain import QuizBrain\n"
   ]
  },
  {
   "cell_type": "code",
   "execution_count": 13,
   "id": "ce3d3860",
   "metadata": {},
   "outputs": [],
   "source": [
    "import requests"
   ]
  },
  {
   "cell_type": "code",
   "execution_count": 2,
   "id": "8b8e464b",
   "metadata": {
    "scrolled": true
   },
   "outputs": [],
   "source": [
    "question_bank = []\n",
    "for question in question_data:\n",
    "    question_text = question[\"text\"]\n",
    "    question_answer = question[\"answer\"]\n",
    "    new_question = Question(question_text,question_answer)\n",
    "    question_bank.append(new_question)\n",
    "\n"
   ]
  },
  {
   "cell_type": "code",
   "execution_count": 3,
   "id": "73389b35",
   "metadata": {},
   "outputs": [
    {
     "name": "stdout",
     "output_type": "stream",
     "text": [
      "-------------------------------------------------------------\n",
      "Q.1 A slug's blood is green.: True or False? False\n",
      "Your score is : 0/1\n",
      "The correct answer is True\n",
      "-------------------------------------------------------------\n",
      "Q.2 The loudest animal is the African Elephant.: True or False? True\n",
      "Your score is : 0/2\n",
      "The correct answer is False\n",
      "-------------------------------------------------------------\n",
      "Q.3 Approximately one quarter of human bones are in the feet.: True or False? False\n",
      "Your score is : 0/3\n",
      "The correct answer is True\n",
      "-------------------------------------------------------------\n",
      "Q.4 The total surface area of a human lungs is the size of a football pitch.: True or False? true\n",
      "Your score is : 1/4\n",
      "The correct answer is True\n",
      "-------------------------------------------------------------\n",
      "Q.5 In West Virginia, USA, if you accidentally hit an animal with your car, you are free to take it home to eat.: True or False? false\n",
      "Your score is : 1/5\n",
      "The correct answer is True\n",
      "-------------------------------------------------------------\n",
      "Q.6 In London, UK, if you happen to die in the House of Parliament, you are entitled to a state funeral.: True or False? true\n",
      "Your score is : 1/6\n",
      "The correct answer is False\n",
      "-------------------------------------------------------------\n",
      "Q.7 It is illegal to pee in the Ocean in Portugal.: True or False? false\n",
      "Your score is : 1/7\n",
      "The correct answer is True\n",
      "-------------------------------------------------------------\n",
      "Q.8 You can lead a cow down stairs but not up stairs.: True or False? true\n",
      "Your score is : 1/8\n",
      "The correct answer is False\n",
      "-------------------------------------------------------------\n",
      "Q.9 Google was originally called 'Backrub'.: True or False? false\n",
      "Your score is : 1/9\n",
      "The correct answer is True\n",
      "-------------------------------------------------------------\n",
      "Q.10 Buzz Aldrin's mother's maiden name was 'Moon'.: True or False? true\n",
      "Your score is : 2/10\n",
      "The correct answer is True\n",
      "-------------------------------------------------------------\n",
      "Q.11 No piece of square dry paper can be folded in half more than 7 times.: True or False? false\n",
      "Your score is : 3/11\n",
      "The correct answer is False\n",
      "-------------------------------------------------------------\n",
      "Q.12 A few ounces of chocolate can to kill a small dog.: True or False? true\n",
      "Your score is : 4/12\n",
      "The correct answer is True\n",
      "-------------------------------------------------------\n",
      "Your Final Score is : 4\n"
     ]
    }
   ],
   "source": [
    "quiz = QuizBrain(question_bank)\n",
    "while quiz.still_has_questions():\n",
    "    print(\"-------------------------------------------------------------\")\n",
    "    quiz.next_question()\n",
    "print(\"-------------------------------------------------------\")\n",
    "quiz.final_score()"
   ]
  }
 ],
 "metadata": {
  "kernelspec": {
   "display_name": "Python 3 (ipykernel)",
   "language": "python",
   "name": "python3"
  },
  "language_info": {
   "codemirror_mode": {
    "name": "ipython",
    "version": 3
   },
   "file_extension": ".py",
   "mimetype": "text/x-python",
   "name": "python",
   "nbconvert_exporter": "python",
   "pygments_lexer": "ipython3",
   "version": "3.10.13"
  }
 },
 "nbformat": 4,
 "nbformat_minor": 5
}
