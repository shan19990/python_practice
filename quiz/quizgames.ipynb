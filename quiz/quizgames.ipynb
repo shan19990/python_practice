{
 "cells": [
  {
   "cell_type": "code",
   "execution_count": 1,
   "id": "0980aaf0",
   "metadata": {},
   "outputs": [],
   "source": [
    "from question_model import Question\n",
    "from data import question_data\n",
    "import random\n",
    "from quiz_brain import QuizBrain\n"
   ]
  },
  {
   "cell_type": "code",
   "execution_count": 2,
   "id": "8b8e464b",
   "metadata": {
    "scrolled": false
   },
   "outputs": [],
   "source": [
    "question_bank = []\n",
    "for question in question_data:\n",
    "    question_text = question[\"question\"]\n",
    "    question_answer = question[\"correct_answer\"]\n",
    "    new_question = Question(question_text,question_answer)\n",
    "    question_bank.append(new_question)\n",
    "\n"
   ]
  },
  {
   "cell_type": "code",
   "execution_count": 7,
   "id": "73389b35",
   "metadata": {
    "scrolled": false
   },
   "outputs": [
    {
     "name": "stdout",
     "output_type": "stream",
     "text": [
      "-------------------------------------------------------------\n",
      "Q.1 The Axolotl is an amphibian that can spend its whole life in a larval state.: True or False? True\n",
      "Your score is : 1/1\n",
      "The correct answer is True\n",
      "-------------------------------------------------------------\n",
      "Q.2 The freshwater amphibian, the Axolotl, can regrow it&#039;s limbs.: True or False? False\n",
      "Your score is : 1/2\n",
      "The correct answer is True\n",
      "-------------------------------------------------------------\n",
      "Q.3 An Astronomical Unit is the distance between Earth and the Moon.: True or False? True\n",
      "Your score is : 1/3\n",
      "The correct answer is False\n",
      "-------------------------------------------------------------\n",
      "Q.4 The freshwater amphibian, the Axolotl, can regrow it&#039;s limbs.: True or False? false\n",
      "Your score is : 1/4\n",
      "The correct answer is True\n",
      "-------------------------------------------------------------\n",
      "Q.5 The song &quot;Megalovania&quot; by Toby Fox made its third appearence in the 2015 RPG &quot;Undertale&quot;.: True or False? false\n",
      "Your score is : 1/5\n",
      "The correct answer is True\n",
      "-------------------------------------------------------------\n",
      "Q.6 Ashley Frangipane performs under the stage name Halsey.: True or False? false\n",
      "Your score is : 1/6\n",
      "The correct answer is True\n",
      "-------------------------------------------------------------\n",
      "Q.7 The song &quot;Megalovania&quot; by Toby Fox made its third appearence in the 2015 RPG &quot;Undertale&quot;.: True or False? true\n",
      "Your score is : 2/7\n",
      "The correct answer is True\n",
      "-------------------------------------------------------------\n",
      "Q.8 Adolf Hitler was accepted into the Vienna Academy of Fine Arts.: True or False? false\n",
      "Your score is : 3/8\n",
      "The correct answer is False\n",
      "-------------------------------------------------------------\n",
      "Q.9 The Python programming language gets its name from the British comedy group &quot;Monty Python.&quot;: True or False? true\n",
      "Your score is : 4/9\n",
      "The correct answer is True\n",
      "-------------------------------------------------------------\n",
      "Q.10 Nickelodeon rejected the pilot to Adventure Time.: True or False? true\n",
      "Your score is : 5/10\n",
      "The correct answer is True\n",
      "-------------------------------------------------------------\n",
      "Q.11 The Klingon home planet is Qo&#039;noS.: True or False? false\n",
      "Your score is : 5/11\n",
      "The correct answer is True\n",
      "-------------------------------------------------------------\n",
      "Q.12 The Python programming language gets its name from the British comedy group &quot;Monty Python.&quot;: True or False? true\n",
      "Your score is : 6/12\n",
      "The correct answer is True\n",
      "-------------------------------------------------------------\n",
      "Q.13 Former president Theodore Roosevelt (1900-1908)  ran for another term under the Progressive Party in 1912.: True or False? true\n",
      "Your score is : 7/13\n",
      "The correct answer is True\n",
      "-------------------------------------------------------------\n",
      "Q.14 The programming language &quot;Python&quot; is based off a modified version of &quot;JavaScript&quot;.: True or False? true\n",
      "Your score is : 7/14\n",
      "The correct answer is False\n",
      "-------------------------------------------------------------\n",
      "Q.15 In &quot;Star Trek&quot;, Klaang is a typical Klingon male.: True or False? false\n",
      "Your score is : 7/15\n",
      "The correct answer is True\n",
      "-------------------------------------------------------------\n",
      "Q.16 The PlayStation was originally a joint project between Sega and Sony that was a Sega Genesis with a disc drive.: True or False? true\n",
      "Your score is : 7/16\n",
      "The correct answer is False\n",
      "-------------------------------------------------------------\n",
      "Q.17 The programming language &quot;Python&quot; is based off a modified version of &quot;JavaScript&quot;.: True or False? false\n",
      "Your score is : 8/17\n",
      "The correct answer is False\n",
      "-------------------------------------------------------------\n",
      "Q.18 The Python programming language gets its name from the British comedy group &quot;Monty Python.&quot;: True or False? false\n",
      "Your score is : 8/18\n",
      "The correct answer is True\n",
      "-------------------------------------------------------------\n",
      "Q.19 The Klingon home planet is Qo&#039;noS.: True or False? false\n",
      "Your score is : 8/19\n",
      "The correct answer is True\n",
      "-------------------------------------------------------------\n",
      "Q.20 The first computer bug was formed by faulty wires.: True or False? true\n",
      "Your score is : 8/20\n",
      "The correct answer is False\n",
      "-------------------------------------------------------\n",
      "Your Final Score is : 8\n"
     ]
    }
   ],
   "source": [
    "quiz = QuizBrain(question_bank)\n",
    "while quiz.still_has_questions() and quiz.question_number < 20:\n",
    "    print(\"-------------------------------------------------------------\")\n",
    "    quiz.next_question()\n",
    "print(\"-------------------------------------------------------\")\n",
    "quiz.final_score()"
   ]
  },
  {
   "cell_type": "code",
   "execution_count": null,
   "id": "6e19c657",
   "metadata": {},
   "outputs": [],
   "source": []
  }
 ],
 "metadata": {
  "kernelspec": {
   "display_name": "Python 3 (ipykernel)",
   "language": "python",
   "name": "python3"
  },
  "language_info": {
   "codemirror_mode": {
    "name": "ipython",
    "version": 3
   },
   "file_extension": ".py",
   "mimetype": "text/x-python",
   "name": "python",
   "nbconvert_exporter": "python",
   "pygments_lexer": "ipython3",
   "version": "3.10.13"
  }
 },
 "nbformat": 4,
 "nbformat_minor": 5
}
