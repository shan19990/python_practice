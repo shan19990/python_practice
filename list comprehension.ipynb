{
 "cells": [
  {
   "cell_type": "code",
   "execution_count": 23,
   "id": "1e157082",
   "metadata": {},
   "outputs": [],
   "source": [
    "import random"
   ]
  },
  {
   "cell_type": "code",
   "execution_count": 16,
   "id": "0df1345f",
   "metadata": {},
   "outputs": [],
   "source": [
    "number = [1,2,3,4,5,6,7,8,9,10]"
   ]
  },
  {
   "cell_type": "code",
   "execution_count": 7,
   "id": "81ee0c0d",
   "metadata": {},
   "outputs": [],
   "source": [
    "new_array = [item*2 for item in number]"
   ]
  },
  {
   "cell_type": "code",
   "execution_count": 8,
   "id": "a7b3d554",
   "metadata": {},
   "outputs": [
    {
     "data": {
      "text/plain": [
       "[2, 4, 6, 8, 10]"
      ]
     },
     "execution_count": 8,
     "metadata": {},
     "output_type": "execute_result"
    }
   ],
   "source": [
    "new_array"
   ]
  },
  {
   "cell_type": "code",
   "execution_count": 9,
   "id": "cd5d3f52",
   "metadata": {},
   "outputs": [
    {
     "data": {
      "text/plain": [
       "[2, 4, 6, 8]"
      ]
     },
     "execution_count": 9,
     "metadata": {},
     "output_type": "execute_result"
    }
   ],
   "source": [
    "array = [n*2 for n in range(1,5)]\n",
    "array"
   ]
  },
  {
   "cell_type": "code",
   "execution_count": 10,
   "id": "c742771c",
   "metadata": {},
   "outputs": [
    {
     "name": "stdout",
     "output_type": "stream",
     "text": [
      "['Alice', 'Bob', 'Charlie', 'David', 'Eva', 'Frank', 'Grace', 'Hank', 'Ivy', 'Jack', 'Katie', 'Leo', 'Mia', 'Nathan', 'Olivia', 'Paul', 'Quinn', 'Rachel', 'Sam', 'Tina']\n"
     ]
    }
   ],
   "source": [
    "names = [\n",
    "    \"Alice\",\n",
    "    \"Bob\",\n",
    "    \"Charlie\",\n",
    "    \"David\",\n",
    "    \"Eva\",\n",
    "    \"Frank\",\n",
    "    \"Grace\",\n",
    "    \"Hank\",\n",
    "    \"Ivy\",\n",
    "    \"Jack\",\n",
    "    \"Katie\",\n",
    "    \"Leo\",\n",
    "    \"Mia\",\n",
    "    \"Nathan\",\n",
    "    \"Olivia\",\n",
    "    \"Paul\",\n",
    "    \"Quinn\",\n",
    "    \"Rachel\",\n",
    "    \"Sam\",\n",
    "    \"Tina\"\n",
    "]\n",
    "\n",
    "print(names)\n"
   ]
  },
  {
   "cell_type": "code",
   "execution_count": 11,
   "id": "0a57c576",
   "metadata": {},
   "outputs": [],
   "source": [
    "list_names = [name for name in names if len(name) == 4]"
   ]
  },
  {
   "cell_type": "code",
   "execution_count": 12,
   "id": "0031e980",
   "metadata": {},
   "outputs": [
    {
     "data": {
      "text/plain": [
       "['Hank', 'Jack', 'Paul', 'Tina']"
      ]
     },
     "execution_count": 12,
     "metadata": {},
     "output_type": "execute_result"
    }
   ],
   "source": [
    "list_names"
   ]
  },
  {
   "cell_type": "code",
   "execution_count": 17,
   "id": "da5285aa",
   "metadata": {},
   "outputs": [
    {
     "data": {
      "text/plain": [
       "[1, 4, 9, 16, 25, 36, 49, 64, 81, 100]"
      ]
     },
     "execution_count": 17,
     "metadata": {},
     "output_type": "execute_result"
    }
   ],
   "source": [
    "squared_list = [n*n for n in number]\n",
    "squared_list"
   ]
  },
  {
   "cell_type": "code",
   "execution_count": 19,
   "id": "2d94d944",
   "metadata": {},
   "outputs": [
    {
     "data": {
      "text/plain": [
       "[2, 4, 6, 8, 10]"
      ]
     },
     "execution_count": 19,
     "metadata": {},
     "output_type": "execute_result"
    }
   ],
   "source": [
    "even_list = [n for n in number if n%2 == 0]\n",
    "even_list"
   ]
  },
  {
   "cell_type": "code",
   "execution_count": 20,
   "id": "60fca2a7",
   "metadata": {},
   "outputs": [],
   "source": [
    "f1 = [3,6,5,8,33,12,7,4,72,2,42,13]\n",
    "f2 = [3,6,13,5,7,89,12,3,33,34,1,344,42]"
   ]
  },
  {
   "cell_type": "code",
   "execution_count": 21,
   "id": "2bd652cf",
   "metadata": {},
   "outputs": [
    {
     "name": "stdout",
     "output_type": "stream",
     "text": [
      "[3, 6, 5, 33, 12, 7, 42, 13]\n"
     ]
    }
   ],
   "source": [
    "result = [f for f in f1 if f in f2]\n",
    "print(result)"
   ]
  },
  {
   "cell_type": "code",
   "execution_count": 24,
   "id": "88ef04a8",
   "metadata": {},
   "outputs": [],
   "source": [
    "new_dict = {name:random.randint(1,101) for name in names}"
   ]
  },
  {
   "cell_type": "code",
   "execution_count": 25,
   "id": "ebbd0113",
   "metadata": {},
   "outputs": [
    {
     "data": {
      "text/plain": [
       "{'Alice': 82,\n",
       " 'Bob': 14,\n",
       " 'Charlie': 23,\n",
       " 'David': 82,\n",
       " 'Eva': 99,\n",
       " 'Frank': 8,\n",
       " 'Grace': 38,\n",
       " 'Hank': 89,\n",
       " 'Ivy': 36,\n",
       " 'Jack': 27,\n",
       " 'Katie': 40,\n",
       " 'Leo': 22,\n",
       " 'Mia': 68,\n",
       " 'Nathan': 23,\n",
       " 'Olivia': 34,\n",
       " 'Paul': 52,\n",
       " 'Quinn': 97,\n",
       " 'Rachel': 4,\n",
       " 'Sam': 72,\n",
       " 'Tina': 6}"
      ]
     },
     "execution_count": 25,
     "metadata": {},
     "output_type": "execute_result"
    }
   ],
   "source": [
    "new_dict"
   ]
  },
  {
   "cell_type": "code",
   "execution_count": null,
   "id": "6c2a94d7",
   "metadata": {},
   "outputs": [],
   "source": []
  }
 ],
 "metadata": {
  "kernelspec": {
   "display_name": "Python 3 (ipykernel)",
   "language": "python",
   "name": "python3"
  },
  "language_info": {
   "codemirror_mode": {
    "name": "ipython",
    "version": 3
   },
   "file_extension": ".py",
   "mimetype": "text/x-python",
   "name": "python",
   "nbconvert_exporter": "python",
   "pygments_lexer": "ipython3",
   "version": "3.10.13"
  }
 },
 "nbformat": 4,
 "nbformat_minor": 5
}
