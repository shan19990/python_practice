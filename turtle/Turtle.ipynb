{
 "cells": [
  {
   "cell_type": "code",
   "execution_count": 1,
   "id": "795d136b",
   "metadata": {},
   "outputs": [],
   "source": [
    "import colorgram"
   ]
  },
  {
   "cell_type": "code",
   "execution_count": 2,
   "id": "5c583dd1",
   "metadata": {},
   "outputs": [],
   "source": [
    "colors = colorgram.extract('images.jpeg', 10)"
   ]
  },
  {
   "cell_type": "code",
   "execution_count": 3,
   "id": "b89d42ff",
   "metadata": {},
   "outputs": [
    {
     "name": "stdout",
     "output_type": "stream",
     "text": [
      "(247, 246, 242)\n",
      "(167, 171, 181)\n",
      "(179, 166, 176)\n",
      "(185, 167, 147)\n",
      "(158, 176, 168)\n",
      "(238, 246, 240)\n",
      "(246, 233, 240)\n",
      "(43, 100, 162)\n",
      "(232, 234, 241)\n",
      "(192, 165, 25)\n",
      "[(247, 246, 242), (167, 171, 181), (179, 166, 176), (185, 167, 147), (158, 176, 168), (238, 246, 240), (246, 233, 240), (43, 100, 162), (232, 234, 241), (192, 165, 25)]\n"
     ]
    }
   ],
   "source": [
    "colours = []\n",
    "for c in colors:\n",
    "    r = c.rgb.r\n",
    "    g = c.rgb.g\n",
    "    b = c.rgb.b\n",
    "    tup = (r,g,b)\n",
    "    print(tup)\n",
    "    colours.append(tup)\n",
    "print(colours)"
   ]
  },
  {
   "cell_type": "code",
   "execution_count": 4,
   "id": "a8644b06",
   "metadata": {},
   "outputs": [],
   "source": [
    "from turtle import Turtle,Screen\n",
    "import turtle as t\n",
    "import threading\n",
    "import random\n",
    "\n",
    "screen = Screen()\n",
    "timmy = Turtle()\n",
    "timmy.shape(\"turtle\")\n",
    "t.colormode(255)"
   ]
  },
  {
   "cell_type": "code",
   "execution_count": 6,
   "id": "68b04c89",
   "metadata": {},
   "outputs": [
    {
     "ename": "Terminator",
     "evalue": "",
     "output_type": "error",
     "traceback": [
      "\u001b[1;31m---------------------------------------------------------------------------\u001b[0m",
      "\u001b[1;31mTerminator\u001b[0m                                Traceback (most recent call last)",
      "Cell \u001b[1;32mIn[6], line 8\u001b[0m\n\u001b[0;32m      6\u001b[0m timmy\u001b[38;5;241m.\u001b[39mgoto(left_x, left_y)\n\u001b[0;32m      7\u001b[0m \u001b[38;5;28;01mfor\u001b[39;00m i \u001b[38;5;129;01min\u001b[39;00m \u001b[38;5;28mrange\u001b[39m(\u001b[38;5;241m10\u001b[39m):\n\u001b[1;32m----> 8\u001b[0m     timmy\u001b[38;5;241m.\u001b[39mpu(); timmy\u001b[38;5;241m.\u001b[39mfd(\u001b[38;5;241m50\u001b[39m); timmy\u001b[38;5;241m.\u001b[39mdot(\u001b[38;5;241m20\u001b[39m, random\u001b[38;5;241m.\u001b[39mchoice(colours)); timmy\u001b[38;5;241m.\u001b[39mfd(\u001b[38;5;241m50\u001b[39m); timmy\u001b[38;5;241m.\u001b[39mpu();\n\u001b[0;32m      9\u001b[0m left_y \u001b[38;5;241m-\u001b[39m\u001b[38;5;241m=\u001b[39m \u001b[38;5;241m50\u001b[39m\n",
      "File \u001b[1;32mD:\\Anaconda\\envs\\notebook\\lib\\turtle.py:1637\u001b[0m, in \u001b[0;36mTNavigator.forward\u001b[1;34m(self, distance)\u001b[0m\n\u001b[0;32m   1616\u001b[0m \u001b[38;5;28;01mdef\u001b[39;00m \u001b[38;5;21mforward\u001b[39m(\u001b[38;5;28mself\u001b[39m, distance):\n\u001b[0;32m   1617\u001b[0m \u001b[38;5;250m    \u001b[39m\u001b[38;5;124;03m\"\"\"Move the turtle forward by the specified distance.\u001b[39;00m\n\u001b[0;32m   1618\u001b[0m \n\u001b[0;32m   1619\u001b[0m \u001b[38;5;124;03m    Aliases: forward | fd\u001b[39;00m\n\u001b[1;32m   (...)\u001b[0m\n\u001b[0;32m   1635\u001b[0m \u001b[38;5;124;03m    (-50.00,0.00)\u001b[39;00m\n\u001b[0;32m   1636\u001b[0m \u001b[38;5;124;03m    \"\"\"\u001b[39;00m\n\u001b[1;32m-> 1637\u001b[0m     \u001b[38;5;28;43mself\u001b[39;49m\u001b[38;5;241;43m.\u001b[39;49m\u001b[43m_go\u001b[49m\u001b[43m(\u001b[49m\u001b[43mdistance\u001b[49m\u001b[43m)\u001b[49m\n",
      "File \u001b[1;32mD:\\Anaconda\\envs\\notebook\\lib\\turtle.py:1605\u001b[0m, in \u001b[0;36mTNavigator._go\u001b[1;34m(self, distance)\u001b[0m\n\u001b[0;32m   1603\u001b[0m \u001b[38;5;250m\u001b[39m\u001b[38;5;124;03m\"\"\"move turtle forward by specified distance\"\"\"\u001b[39;00m\n\u001b[0;32m   1604\u001b[0m ende \u001b[38;5;241m=\u001b[39m \u001b[38;5;28mself\u001b[39m\u001b[38;5;241m.\u001b[39m_position \u001b[38;5;241m+\u001b[39m \u001b[38;5;28mself\u001b[39m\u001b[38;5;241m.\u001b[39m_orient \u001b[38;5;241m*\u001b[39m distance\n\u001b[1;32m-> 1605\u001b[0m \u001b[38;5;28;43mself\u001b[39;49m\u001b[38;5;241;43m.\u001b[39;49m\u001b[43m_goto\u001b[49m\u001b[43m(\u001b[49m\u001b[43mende\u001b[49m\u001b[43m)\u001b[49m\n",
      "File \u001b[1;32mD:\\Anaconda\\envs\\notebook\\lib\\turtle.py:3196\u001b[0m, in \u001b[0;36mRawTurtle._goto\u001b[1;34m(self, end)\u001b[0m\n\u001b[0;32m   3193\u001b[0m \u001b[38;5;28;01mif\u001b[39;00m \u001b[38;5;28mlen\u001b[39m(\u001b[38;5;28mself\u001b[39m\u001b[38;5;241m.\u001b[39mcurrentLine) \u001b[38;5;241m>\u001b[39m \u001b[38;5;241m42\u001b[39m: \u001b[38;5;66;03m# 42! answer to the ultimate question\u001b[39;00m\n\u001b[0;32m   3194\u001b[0m                                \u001b[38;5;66;03m# of life, the universe and everything\u001b[39;00m\n\u001b[0;32m   3195\u001b[0m     \u001b[38;5;28mself\u001b[39m\u001b[38;5;241m.\u001b[39m_newLine()\n\u001b[1;32m-> 3196\u001b[0m \u001b[38;5;28;43mself\u001b[39;49m\u001b[38;5;241;43m.\u001b[39;49m\u001b[43m_update\u001b[49m\u001b[43m(\u001b[49m\u001b[43m)\u001b[49m\n",
      "File \u001b[1;32mD:\\Anaconda\\envs\\notebook\\lib\\turtle.py:2660\u001b[0m, in \u001b[0;36mRawTurtle._update\u001b[1;34m(self)\u001b[0m\n\u001b[0;32m   2658\u001b[0m     \u001b[38;5;28;01mreturn\u001b[39;00m\n\u001b[0;32m   2659\u001b[0m \u001b[38;5;28;01melif\u001b[39;00m screen\u001b[38;5;241m.\u001b[39m_tracing \u001b[38;5;241m==\u001b[39m \u001b[38;5;241m1\u001b[39m:\n\u001b[1;32m-> 2660\u001b[0m     \u001b[38;5;28;43mself\u001b[39;49m\u001b[38;5;241;43m.\u001b[39;49m\u001b[43m_update_data\u001b[49m\u001b[43m(\u001b[49m\u001b[43m)\u001b[49m\n\u001b[0;32m   2661\u001b[0m     \u001b[38;5;28mself\u001b[39m\u001b[38;5;241m.\u001b[39m_drawturtle()\n\u001b[0;32m   2662\u001b[0m     screen\u001b[38;5;241m.\u001b[39m_update()                  \u001b[38;5;66;03m# TurtleScreenBase\u001b[39;00m\n",
      "File \u001b[1;32mD:\\Anaconda\\envs\\notebook\\lib\\turtle.py:2646\u001b[0m, in \u001b[0;36mRawTurtle._update_data\u001b[1;34m(self)\u001b[0m\n\u001b[0;32m   2645\u001b[0m \u001b[38;5;28;01mdef\u001b[39;00m \u001b[38;5;21m_update_data\u001b[39m(\u001b[38;5;28mself\u001b[39m):\n\u001b[1;32m-> 2646\u001b[0m     \u001b[38;5;28;43mself\u001b[39;49m\u001b[38;5;241;43m.\u001b[39;49m\u001b[43mscreen\u001b[49m\u001b[38;5;241;43m.\u001b[39;49m\u001b[43m_incrementudc\u001b[49m\u001b[43m(\u001b[49m\u001b[43m)\u001b[49m\n\u001b[0;32m   2647\u001b[0m     \u001b[38;5;28;01mif\u001b[39;00m \u001b[38;5;28mself\u001b[39m\u001b[38;5;241m.\u001b[39mscreen\u001b[38;5;241m.\u001b[39m_updatecounter \u001b[38;5;241m!=\u001b[39m \u001b[38;5;241m0\u001b[39m:\n\u001b[0;32m   2648\u001b[0m         \u001b[38;5;28;01mreturn\u001b[39;00m\n",
      "File \u001b[1;32mD:\\Anaconda\\envs\\notebook\\lib\\turtle.py:1292\u001b[0m, in \u001b[0;36mTurtleScreen._incrementudc\u001b[1;34m(self)\u001b[0m\n\u001b[0;32m   1290\u001b[0m \u001b[38;5;28;01mif\u001b[39;00m \u001b[38;5;129;01mnot\u001b[39;00m TurtleScreen\u001b[38;5;241m.\u001b[39m_RUNNING:\n\u001b[0;32m   1291\u001b[0m     TurtleScreen\u001b[38;5;241m.\u001b[39m_RUNNING \u001b[38;5;241m=\u001b[39m \u001b[38;5;28;01mTrue\u001b[39;00m\n\u001b[1;32m-> 1292\u001b[0m     \u001b[38;5;28;01mraise\u001b[39;00m Terminator\n\u001b[0;32m   1293\u001b[0m \u001b[38;5;28;01mif\u001b[39;00m \u001b[38;5;28mself\u001b[39m\u001b[38;5;241m.\u001b[39m_tracing \u001b[38;5;241m>\u001b[39m \u001b[38;5;241m0\u001b[39m:\n\u001b[0;32m   1294\u001b[0m     \u001b[38;5;28mself\u001b[39m\u001b[38;5;241m.\u001b[39m_updatecounter \u001b[38;5;241m+\u001b[39m\u001b[38;5;241m=\u001b[39m \u001b[38;5;241m1\u001b[39m\n",
      "\u001b[1;31mTerminator\u001b[0m: "
     ]
    }
   ],
   "source": [
    "left_x = -screen.window_width() / 2 + timmy.width() / 2\n",
    "left_y = 400  # You can adjust this value based on your desired vertical position\n",
    "\n",
    "for j in range(25):\n",
    "    timmy.penup()  # Lift the pen to move without drawing\n",
    "    timmy.goto(left_x, left_y)\n",
    "    for i in range(10):\n",
    "        timmy.pu(); timmy.fd(50); timmy.dot(20, random.choice(colours)); timmy.fd(50); timmy.pu();\n",
    "    left_y -= 50"
   ]
  },
  {
   "cell_type": "code",
   "execution_count": null,
   "id": "e0c249f8",
   "metadata": {},
   "outputs": [],
   "source": []
  }
 ],
 "metadata": {
  "kernelspec": {
   "display_name": "Python 3 (ipykernel)",
   "language": "python",
   "name": "python3"
  },
  "language_info": {
   "codemirror_mode": {
    "name": "ipython",
    "version": 3
   },
   "file_extension": ".py",
   "mimetype": "text/x-python",
   "name": "python",
   "nbconvert_exporter": "python",
   "pygments_lexer": "ipython3",
   "version": "3.10.13"
  }
 },
 "nbformat": 4,
 "nbformat_minor": 5
}
