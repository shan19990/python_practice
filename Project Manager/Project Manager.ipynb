{
 "cells": [
  {
   "cell_type": "code",
   "execution_count": 1,
   "id": "22af2f48",
   "metadata": {},
   "outputs": [],
   "source": [
    "from project_manager import *"
   ]
  },
  {
   "cell_type": "code",
   "execution_count": 2,
   "id": "5f3243ba",
   "metadata": {},
   "outputs": [],
   "source": [
    "def main():\n",
    "    while True:\n",
    "        Man = Manager()\n",
    "        login_method = input(\"Login as a 1.Manager 2.User 3.quit: \")\n",
    "        match login_method:\n",
    "            case \"1\":\n",
    "                while True:\n",
    "                    manager_option = input(\"1.Create a new job  \\n2.Create a new User  \\n3.Show all Jobs  \\n4.Show all Users \\n5.Show all Unassigned Jobs \\n6.Logout \\nWhich option do you want to choose: \")\n",
    "                    if manager_option == \"6\":\n",
    "                        break\n",
    "                    else:\n",
    "                        while True:\n",
    "                            match manager_option:\n",
    "                                case \"1\":\n",
    "                                    Man.add_job()\n",
    "                                    break\n",
    "                                case \"2\":\n",
    "                                    Man.add_user()\n",
    "                                    break\n",
    "                                case \"3\":\n",
    "                                    Manager.show_all_jobs()\n",
    "                                    break\n",
    "                                case \"4\":\n",
    "                                    Manager.show_all_user()\n",
    "                                    break\n",
    "                                case \"5\":\n",
    "                                    Manager.show_all_unassigned_job()\n",
    "                                    break\n",
    "\n",
    "\n",
    "            case \"2\":\n",
    "                while True:\n",
    "                    option = input(\"1.Login  2.Logout\")\n",
    "                    if option == \"1\":\n",
    "                        match option:\n",
    "                            case \"1\":\n",
    "                                user = User.login()\n",
    "                                if user is None:\n",
    "                                    print(\"No user found. Create a new user or login with correct value\")\n",
    "                                    break\n",
    "                                else:\n",
    "                                    while True:\n",
    "                                        user_option = input(\"1.Show all Jobs  \\n2.Assign Task \\n3.Logout \\nWhich option do you want to choose: \")\n",
    "                                        match user_option:\n",
    "                                            case \"1\":\n",
    "                                                Manager.show_all_unassigned_job()\n",
    "                                            case \"2\":\n",
    "                                                Job.assign_job(user)\n",
    "                                            case \"3\":\n",
    "                                                break\n",
    "                    elif option == \"2\":\n",
    "                        break\n",
    "            case \"3\":\n",
    "                break\n"
   ]
  },
  {
   "cell_type": "code",
   "execution_count": 3,
   "id": "75009298",
   "metadata": {},
   "outputs": [
    {
     "name": "stdout",
     "output_type": "stream",
     "text": [
      "Login as a 1.Manager 2.User 3.quit: 1\n",
      "1.Create a new job  \n",
      "2.Create a new User  \n",
      "3.Show all Jobs  \n",
      "4.Show all Users \n",
      "5.Show all Unassigned Jobs \n",
      "6.Logout \n",
      "Which option do you want to choose: 2\n",
      "What is the User ID: shan\n",
      "1.Create a new job  \n",
      "2.Create a new User  \n",
      "3.Show all Jobs  \n",
      "4.Show all Users \n",
      "5.Show all Unassigned Jobs \n",
      "6.Logout \n",
      "Which option do you want to choose: 6\n",
      "Login as a 1.Manager 2.User 3.quit: 2\n",
      "1.Login  2.Logout2\n",
      "Login as a 1.Manager 2.User 3.quit: 2\n",
      "1.Login  2.Logout1\n",
      "Enter User ID you want to login as: shan\n",
      "found user\n",
      "1.Show all Jobs  \n",
      "2.Assign Task \n",
      "3.Logout \n",
      "Which option do you want to choose: 3\n",
      "1.Login  2.Logout2\n",
      "Login as a 1.Manager 2.User 3.quit: 3\n"
     ]
    }
   ],
   "source": [
    "if __name__ == \"__main__\":\n",
    "    main()"
   ]
  },
  {
   "cell_type": "code",
   "execution_count": null,
   "id": "69efdffa",
   "metadata": {},
   "outputs": [],
   "source": []
  }
 ],
 "metadata": {
  "kernelspec": {
   "display_name": "Python 3 (ipykernel)",
   "language": "python",
   "name": "python3"
  },
  "language_info": {
   "codemirror_mode": {
    "name": "ipython",
    "version": 3
   },
   "file_extension": ".py",
   "mimetype": "text/x-python",
   "name": "python",
   "nbconvert_exporter": "python",
   "pygments_lexer": "ipython3",
   "version": "3.11.5"
  }
 },
 "nbformat": 4,
 "nbformat_minor": 5
}
