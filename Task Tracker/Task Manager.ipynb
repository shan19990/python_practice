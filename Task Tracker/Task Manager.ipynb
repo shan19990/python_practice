{
 "cells": [
  {
   "cell_type": "code",
   "execution_count": 1,
   "id": "edbe9b4e",
   "metadata": {},
   "outputs": [],
   "source": [
    "from tasks import Task\n",
    "import pandas as pd"
   ]
  },
  {
   "cell_type": "code",
   "execution_count": 2,
   "id": "62755333",
   "metadata": {},
   "outputs": [],
   "source": [
    "def view_all_tasks():\n",
    "    list = Task.view_all_tasks()\n",
    "    arr_task = []\n",
    "    arr = []\n",
    "    for l in list:\n",
    "        arr.append(l.title)\n",
    "        arr.append(l.description)\n",
    "        arr.append(l.status)\n",
    "        arr_task.append(arr)\n",
    "        arr = []\n",
    "    df = pd.DataFrame(arr_task, columns=['Title','Description','Status'])\n",
    "    print(df)"
   ]
  },
  {
   "cell_type": "code",
   "execution_count": 3,
   "id": "9ff3c52e",
   "metadata": {},
   "outputs": [],
   "source": [
    "def menu():\n",
    "    task_list = []\n",
    "    #choice = input(\"Hi User, \\n1.Add Task \\n2.Show all Task \\n3.Clear completed Task \\n4. Delete Task \\n5. Complete Task\\n6.quit\\n\")\n",
    "    while True:\n",
    "        print(\"=====================================================================================================================\")\n",
    "        choice = input(\"Hi User, \\n1.Add Task \\n2.Show all Task \\n3.Clear completed Task \\n4. Delete Task \\n5. Complete Task\\n6.quit\\n\")\n",
    "        match choice:\n",
    "            case \"1\":\n",
    "                title = input(\"Enter the Title of the task: \")\n",
    "                desc = input(\"Enter the Description of the task: \")\n",
    "                task_list.append(Task(title,desc))\n",
    "                \n",
    "            case \"2\":\n",
    "                view_all_tasks()\n",
    "            case \"3\":\n",
    "                Task.remove_completed()\n",
    "            case \"4\":\n",
    "                title = input(\"Enter the Title you want to delete: \")\n",
    "                Task.delete_task(title)\n",
    "            case \"5\":\n",
    "                title = input(\"Enter the Title of the task you have completed: \")\n",
    "                Task.complete_task(title)\n",
    "            case \"6\":\n",
    "                print(\"BYE\")\n",
    "                break"
   ]
  },
  {
   "cell_type": "code",
   "execution_count": 4,
   "id": "274f5937",
   "metadata": {},
   "outputs": [
    {
     "name": "stdout",
     "output_type": "stream",
     "text": [
      "=====================================================================================================================\n",
      "Hi User, \n",
      "1.Add Task \n",
      "2.Show all Task \n",
      "3.Clear completed Task \n",
      "4. Delete Task \n",
      "5. Complete Task\n",
      "6.quit\n",
      "6\n",
      "BYE\n"
     ]
    }
   ],
   "source": [
    "menu()"
   ]
  },
  {
   "cell_type": "code",
   "execution_count": null,
   "id": "039aaa66",
   "metadata": {},
   "outputs": [],
   "source": []
  }
 ],
 "metadata": {
  "kernelspec": {
   "display_name": "Python 3 (ipykernel)",
   "language": "python",
   "name": "python3"
  },
  "language_info": {
   "codemirror_mode": {
    "name": "ipython",
    "version": 3
   },
   "file_extension": ".py",
   "mimetype": "text/x-python",
   "name": "python",
   "nbconvert_exporter": "python",
   "pygments_lexer": "ipython3",
   "version": "3.11.5"
  }
 },
 "nbformat": 4,
 "nbformat_minor": 5
}
