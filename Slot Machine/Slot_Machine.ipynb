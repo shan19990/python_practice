{
 "cells": [
  {
   "cell_type": "code",
   "execution_count": 1,
   "id": "23e55669",
   "metadata": {},
   "outputs": [],
   "source": [
    "from user import User\n",
    "from slot import Slot\n",
    "from session import Session\n",
    "import sys"
   ]
  },
  {
   "cell_type": "code",
   "execution_count": 2,
   "id": "d780d011",
   "metadata": {},
   "outputs": [],
   "source": [
    "def input_players():\n",
    "    global number_of_user\n",
    "    global name_list\n",
    "    number_of_user = int(input(\"Enter the number of Users you want to play with: \"))\n",
    "    name_list = []\n",
    "    for _ in range(number_of_user):\n",
    "        name = input(\"Enter your name: \")\n",
    "        name_list.append(User(name))"
   ]
  },
  {
   "cell_type": "code",
   "execution_count": 3,
   "id": "8da80a76",
   "metadata": {},
   "outputs": [],
   "source": [
    "def login():\n",
    "    global player\n",
    "    player_found = False\n",
    "    while player_found == False:\n",
    "        user = input(\"Enter the player you want to login as or quit: \")\n",
    "        if user.lower() == 'quit':\n",
    "            sys.exit()\n",
    "        for i in range(number_of_user):\n",
    "            if user == name_list[i].name:\n",
    "                print(\"Player found Logging In...\")\n",
    "                player = name_list[i]\n",
    "                player_found = True\n",
    "                break\n",
    "        if player_found == False:\n",
    "            print(f\"No name {user}\")"
   ]
  },
  {
   "cell_type": "code",
   "execution_count": 4,
   "id": "718b107f",
   "metadata": {},
   "outputs": [],
   "source": [
    "def main_menu():\n",
    "    global player\n",
    "    choice = input(f\"Hi {player.name} Enter your choice : (deposit/balance/play/logout/exit)\")\n",
    "    match choice.lower():\n",
    "        case \"deposit\":\n",
    "            player.deposit()\n",
    "        case \"balance\":\n",
    "            player.show_balance()\n",
    "        case \"play\":\n",
    "            player.pick_lines()\n",
    "            player.bet_amount()\n",
    "            player.spin_slot()\n",
    "        case \"logout\":\n",
    "            player = \"\"\n",
    "            login()\n",
    "        case \"exit\":\n",
    "            sys.exit()"
   ]
  },
  {
   "cell_type": "code",
   "execution_count": 5,
   "id": "10601312",
   "metadata": {},
   "outputs": [],
   "source": [
    "def start_slot_machine():\n",
    "    if 'name_list' not in globals():\n",
    "        input_players()     \n",
    "    if 'player' not in globals():\n",
    "        login()\n",
    "    if player == \"\":\n",
    "        login()\n",
    "        while player != \"\":\n",
    "            main_menu()\n",
    "    else:\n",
    "        while player != \"\":\n",
    "            main_menu()"
   ]
  },
  {
   "cell_type": "code",
   "execution_count": null,
   "id": "9711abc8",
   "metadata": {},
   "outputs": [
    {
     "name": "stdout",
     "output_type": "stream",
     "text": [
      "Hi duke Enter your choice : (deposit/balance/play/logout/exit)balance\n",
      "Your Current balance is: $1000\n",
      "Hi duke Enter your choice : (deposit/balance/play/logout/exit)logout\n"
     ]
    }
   ],
   "source": [
    "start_slot_machine()"
   ]
  },
  {
   "cell_type": "code",
   "execution_count": null,
   "id": "62a13540",
   "metadata": {},
   "outputs": [],
   "source": []
  }
 ],
 "metadata": {
  "kernelspec": {
   "display_name": "Python 3 (ipykernel)",
   "language": "python",
   "name": "python3"
  },
  "language_info": {
   "codemirror_mode": {
    "name": "ipython",
    "version": 3
   },
   "file_extension": ".py",
   "mimetype": "text/x-python",
   "name": "python",
   "nbconvert_exporter": "python",
   "pygments_lexer": "ipython3",
   "version": "3.11.5"
  }
 },
 "nbformat": 4,
 "nbformat_minor": 5
}
