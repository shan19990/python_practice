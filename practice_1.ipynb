{
 "cells": [
  {
   "cell_type": "code",
   "execution_count": null,
   "id": "cab61e90",
   "metadata": {},
   "outputs": [],
   "source": [
    "n = int(input(\"nummber: \"))\n",
    "temp = 1\n",
    "for i in range(n,0,-1):\n",
    "    temp *= i\n",
    "print(temp)"
   ]
  },
  {
   "cell_type": "code",
   "execution_count": 1,
   "id": "335ebf47",
   "metadata": {},
   "outputs": [
    {
     "name": "stdout",
     "output_type": "stream",
     "text": [
      "i\n"
     ]
    }
   ],
   "source": [
    "print(\"i\")"
   ]
  },
  {
   "cell_type": "code",
   "execution_count": 1,
   "id": "a4d8db6f",
   "metadata": {},
   "outputs": [
    {
     "name": "stdout",
     "output_type": "stream",
     "text": [
      "Input the first command end\n",
      "your command is : end\n",
      "Next Command qwe\n",
      "your command is : qwe\n",
      "Next Command quit\n",
      "quit game\n"
     ]
    }
   ],
   "source": [
    "cmd = input(\"Input the first command \")\n",
    "while cmd != 'quit' and cmd != 'exit':\n",
    "    print(\"your command is :\", cmd)\n",
    "    cmd = input(\"Next Command \")\n",
    "print(\"quit game\")"
   ]
  },
  {
   "cell_type": "code",
   "execution_count": 16,
   "id": "fcfdcbe1",
   "metadata": {},
   "outputs": [
    {
     "name": "stdout",
     "output_type": "stream",
     "text": [
      "Number: 5\n",
      "\n",
      "X\n",
      "XX\n",
      "XXX\n",
      "XXXX\n",
      "XXXXX"
     ]
    }
   ],
   "source": [
    "n = int(input(\"Number: \"))\n",
    "for i in range(1,n+1):\n",
    "    print(end=\"\\n\")\n",
    "    for j in range(i):\n",
    "        print(\"X\", end=\"\")\n",
    "\n",
    "        \n",
    "   "
   ]
  },
  {
   "cell_type": "code",
   "execution_count": 15,
   "id": "c7cf3c6a",
   "metadata": {},
   "outputs": [
    {
     "name": "stdout",
     "output_type": "stream",
     "text": [
      "1\n",
      "2\n"
     ]
    }
   ],
   "source": [
    "print(1)\n",
    "print(2)"
   ]
  },
  {
   "cell_type": "code",
   "execution_count": 52,
   "id": "07169d8e",
   "metadata": {},
   "outputs": [
    {
     "name": "stdout",
     "output_type": "stream",
     "text": [
      "    X\n",
      "   XXX\n",
      "  XXXXX\n",
      " XXXXXXX\n",
      "XXXXXXXXX\n"
     ]
    }
   ],
   "source": [
    "n = 5\n",
    "star = 1\n",
    "space = 4\n",
    "for i in range(1,n+1):\n",
    "    print(\" \"*space + \"X\"*star)\n",
    "    space-=1\n",
    "    star+=2\n",
    "    \n",
    "    "
   ]
  },
  {
   "cell_type": "markdown",
   "id": "9dca5de3",
   "metadata": {},
   "source": [
    "n = 10\n",
    "def isprime(n):\n",
    "    for i in range(1,n+1):\n",
    "        count = 0\n",
    "         for j in range(1,i+1):\n",
    "             if(j%i != 0):\n",
    "                 count += 1\n",
    "        if count > 2:\n",
    "        print(i)\n",
    "isprime(10)"
   ]
  },
  {
   "cell_type": "code",
   "execution_count": 38,
   "id": "58da7444",
   "metadata": {},
   "outputs": [
    {
     "name": "stdout",
     "output_type": "stream",
     "text": [
      "1\n",
      "2\n",
      "3\n",
      "5\n",
      "7\n"
     ]
    }
   ],
   "source": [
    "num = 10\n",
    "\n",
    "def isprime(n):\n",
    "    for i in range(1, n + 1):\n",
    "        count = 0\n",
    "        for j in range(1, int(i**0.5) + 1):\n",
    "            if i % j == 0:\n",
    "                count += 1\n",
    "        if count < 2:\n",
    "            print(i)\n",
    "\n",
    "isprime(num)\n"
   ]
  },
  {
   "cell_type": "code",
   "execution_count": 2,
   "id": "faa7f3ab",
   "metadata": {},
   "outputs": [
    {
     "name": "stdout",
     "output_type": "stream",
     "text": [
      "Number: 5\n",
      "10\n",
      "20\n",
      "30\n",
      "40\n",
      "50\n",
      "max is  50\n",
      "2nd max is  40\n"
     ]
    }
   ],
   "source": [
    "n = int(input(\"Number: \"))\n",
    "arr = []\n",
    "for i in range(n):\n",
    "    arr.append(int(input()))\n",
    "max = 1\n",
    "max_2 = 1\n",
    "for i in range(n):\n",
    "    if max < arr[i]:\n",
    "        max = arr[i]\n",
    "print(\"max is \", max)\n",
    "\n",
    "for i in range(n):\n",
    "    if max_2 < arr[i] and arr[i] < max:\n",
    "        max_2 = arr[i]\n",
    "print(\"2nd max is \", max_2)"
   ]
  },
  {
   "cell_type": "markdown",
   "id": "6e1e214c",
   "metadata": {},
   "source": [
    "import maths"
   ]
  },
  {
   "cell_type": "code",
   "execution_count": 7,
   "id": "fbc3a393",
   "metadata": {},
   "outputs": [],
   "source": [
    "import math"
   ]
  },
  {
   "cell_type": "code",
   "execution_count": 75,
   "id": "3478e9d1",
   "metadata": {},
   "outputs": [
    {
     "name": "stdout",
     "output_type": "stream",
     "text": [
      "4321\n"
     ]
    }
   ],
   "source": [
    "n = 1234\n",
    "s = 0\n",
    "while(n>0):\n",
    "    #print(n)\n",
    "    t = (n%10)\n",
    "    #print(t)\n",
    "    s = s*10 + t\n",
    "    #print(s)\n",
    "    n = n//10\n",
    "print(s)"
   ]
  },
  {
   "cell_type": "code",
   "execution_count": 94,
   "id": "395a6335",
   "metadata": {},
   "outputs": [
    {
     "name": "stdout",
     "output_type": "stream",
     "text": [
      "0\n",
      "1\n",
      "1\n",
      "2\n",
      "3\n",
      "5\n",
      "8\n",
      "13\n",
      "21\n",
      "34\n"
     ]
    }
   ],
   "source": [
    "n = 10\n",
    "f = 0\n",
    "s = 1\n",
    "print(f)\n",
    "print(s)\n",
    "\n",
    "for i in range(2, n):\n",
    "    nextT = f + s\n",
    "    print(nextT)\n",
    "    f = s\n",
    "    s = nextT\n",
    "    \n"
   ]
  },
  {
   "cell_type": "code",
   "execution_count": null,
   "id": "0caf0cb9",
   "metadata": {},
   "outputs": [],
   "source": []
  }
 ],
 "metadata": {
  "kernelspec": {
   "display_name": "Python 3 (ipykernel)",
   "language": "python",
   "name": "python3"
  },
  "language_info": {
   "codemirror_mode": {
    "name": "ipython",
    "version": 3
   },
   "file_extension": ".py",
   "mimetype": "text/x-python",
   "name": "python",
   "nbconvert_exporter": "python",
   "pygments_lexer": "ipython3",
   "version": "3.11.5"
  }
 },
 "nbformat": 4,
 "nbformat_minor": 5
}
