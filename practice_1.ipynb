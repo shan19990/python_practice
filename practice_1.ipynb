{
 "cells": [
  {
   "cell_type": "code",
   "execution_count": 18,
   "id": "e1aa2a20",
   "metadata": {},
   "outputs": [],
   "source": [
    "import numpy as np"
   ]
  },
  {
   "cell_type": "code",
   "execution_count": null,
   "id": "cab61e90",
   "metadata": {},
   "outputs": [],
   "source": [
    "n = int(input(\"nummber: \"))\n",
    "temp = 1\n",
    "for i in range(n,0,-1):\n",
    "    temp *= i\n",
    "print(temp)"
   ]
  },
  {
   "cell_type": "code",
   "execution_count": 1,
   "id": "335ebf47",
   "metadata": {},
   "outputs": [
    {
     "name": "stdout",
     "output_type": "stream",
     "text": [
      "i\n"
     ]
    }
   ],
   "source": [
    "print(\"i\")"
   ]
  },
  {
   "cell_type": "code",
   "execution_count": 1,
   "id": "a4d8db6f",
   "metadata": {},
   "outputs": [
    {
     "name": "stdout",
     "output_type": "stream",
     "text": [
      "Input the first command end\n",
      "your command is : end\n",
      "Next Command qwe\n",
      "your command is : qwe\n",
      "Next Command quit\n",
      "quit game\n"
     ]
    }
   ],
   "source": [
    "cmd = input(\"Input the first command \")\n",
    "while cmd != 'quit' and cmd != 'exit':\n",
    "    print(\"your command is :\", cmd)\n",
    "    cmd = input(\"Next Command \")\n",
    "print(\"quit game\")"
   ]
  },
  {
   "cell_type": "code",
   "execution_count": 16,
   "id": "fcfdcbe1",
   "metadata": {},
   "outputs": [
    {
     "name": "stdout",
     "output_type": "stream",
     "text": [
      "Number: 5\n",
      "\n",
      "X\n",
      "XX\n",
      "XXX\n",
      "XXXX\n",
      "XXXXX"
     ]
    }
   ],
   "source": [
    "n = int(input(\"Number: \"))\n",
    "for i in range(1,n+1):\n",
    "    print(end=\"\\n\")\n",
    "    for j in range(i):\n",
    "        print(\"X\", end=\"\")\n",
    "\n",
    "        \n",
    "   "
   ]
  },
  {
   "cell_type": "code",
   "execution_count": 15,
   "id": "c7cf3c6a",
   "metadata": {},
   "outputs": [
    {
     "name": "stdout",
     "output_type": "stream",
     "text": [
      "1\n",
      "2\n"
     ]
    }
   ],
   "source": [
    "print(1)\n",
    "print(2)"
   ]
  },
  {
   "cell_type": "code",
   "execution_count": 52,
   "id": "07169d8e",
   "metadata": {},
   "outputs": [
    {
     "name": "stdout",
     "output_type": "stream",
     "text": [
      "    X\n",
      "   XXX\n",
      "  XXXXX\n",
      " XXXXXXX\n",
      "XXXXXXXXX\n"
     ]
    }
   ],
   "source": [
    "n = 5\n",
    "star = 1\n",
    "space = 4\n",
    "for i in range(1,n+1):\n",
    "    print(\" \"*space + \"X\"*star)\n",
    "    space-=1\n",
    "    star+=2\n",
    "    \n",
    "    "
   ]
  },
  {
   "cell_type": "markdown",
   "id": "9dca5de3",
   "metadata": {},
   "source": [
    "n = 10\n",
    "def isprime(n):\n",
    "    for i in range(1,n+1):\n",
    "        count = 0\n",
    "         for j in range(1,i+1):\n",
    "             if(j%i != 0):\n",
    "                 count += 1\n",
    "        if count > 2:\n",
    "        print(i)\n",
    "isprime(10)"
   ]
  },
  {
   "cell_type": "code",
   "execution_count": 38,
   "id": "58da7444",
   "metadata": {},
   "outputs": [
    {
     "name": "stdout",
     "output_type": "stream",
     "text": [
      "1\n",
      "2\n",
      "3\n",
      "5\n",
      "7\n"
     ]
    }
   ],
   "source": [
    "num = 10\n",
    "\n",
    "def isprime(n):\n",
    "    for i in range(1, n + 1):\n",
    "        count = 0\n",
    "        for j in range(1, int(i**0.5) + 1):\n",
    "            if i % j == 0:\n",
    "                count += 1\n",
    "        if count < 2:\n",
    "            print(i)\n",
    "\n",
    "isprime(num)\n"
   ]
  },
  {
   "cell_type": "code",
   "execution_count": 2,
   "id": "faa7f3ab",
   "metadata": {},
   "outputs": [
    {
     "name": "stdout",
     "output_type": "stream",
     "text": [
      "Number: 5\n",
      "10\n",
      "20\n",
      "30\n",
      "40\n",
      "50\n",
      "max is  50\n",
      "2nd max is  40\n"
     ]
    }
   ],
   "source": [
    "n = int(input(\"Number: \"))\n",
    "arr = []\n",
    "for i in range(n):\n",
    "    arr.append(int(input()))\n",
    "max = 1\n",
    "max_2 = 1\n",
    "for i in range(n):\n",
    "    if max < arr[i]:\n",
    "        max = arr[i]\n",
    "print(\"max is \", max)\n",
    "\n",
    "for i in range(n):\n",
    "    if max_2 < arr[i] and arr[i] < max:\n",
    "        max_2 = arr[i]\n",
    "print(\"2nd max is \", max_2)"
   ]
  },
  {
   "cell_type": "markdown",
   "id": "6e1e214c",
   "metadata": {},
   "source": [
    "import maths"
   ]
  },
  {
   "cell_type": "code",
   "execution_count": 7,
   "id": "fbc3a393",
   "metadata": {},
   "outputs": [],
   "source": [
    "import math"
   ]
  },
  {
   "cell_type": "code",
   "execution_count": 75,
   "id": "3478e9d1",
   "metadata": {},
   "outputs": [
    {
     "name": "stdout",
     "output_type": "stream",
     "text": [
      "4321\n"
     ]
    }
   ],
   "source": [
    "#reverse \n",
    "n = 1234\n",
    "s = 0\n",
    "while(n>0):\n",
    "    #print(n)\n",
    "    t = (n%10)\n",
    "    #print(t)\n",
    "    s = s*10 + t\n",
    "    #print(s)\n",
    "    n = n//10\n",
    "print(s)"
   ]
  },
  {
   "cell_type": "code",
   "execution_count": 94,
   "id": "395a6335",
   "metadata": {},
   "outputs": [
    {
     "name": "stdout",
     "output_type": "stream",
     "text": [
      "0\n",
      "1\n",
      "1\n",
      "2\n",
      "3\n",
      "5\n",
      "8\n",
      "13\n",
      "21\n",
      "34\n"
     ]
    }
   ],
   "source": [
    "#fibonacci\n",
    "n = 10\n",
    "f = 0\n",
    "s = 1\n",
    "print(f)\n",
    "print(s)\n",
    "\n",
    "for i in range(2, n):\n",
    "    nextT = f + s\n",
    "    print(nextT)\n",
    "    f = s\n",
    "    s = nextT\n",
    "    \n"
   ]
  },
  {
   "cell_type": "code",
   "execution_count": 1,
   "id": "0caf0cb9",
   "metadata": {},
   "outputs": [],
   "source": [
    "def area(x,y):\n",
    "    return x*y\n"
   ]
  },
  {
   "cell_type": "code",
   "execution_count": 4,
   "id": "297feab2",
   "metadata": {},
   "outputs": [],
   "source": [
    "def checkenoughspace(a,b,c):\n",
    "    if c > a+b:\n",
    "        return \"enough space\"\n",
    "    else:\n",
    "        return \"not enough space\""
   ]
  },
  {
   "cell_type": "code",
   "execution_count": 7,
   "id": "163ef6f2",
   "metadata": {},
   "outputs": [
    {
     "name": "stdout",
     "output_type": "stream",
     "text": [
      "not enough space\n"
     ]
    }
   ],
   "source": [
    "print(checkenoughspace(area(5,2), area(10,5), area(10,5)))"
   ]
  },
  {
   "cell_type": "code",
   "execution_count": 4,
   "id": "cd9f63b6",
   "metadata": {},
   "outputs": [
    {
     "name": "stdout",
     "output_type": "stream",
     "text": [
      "first: 120\n",
      "second: 12\n",
      "12\n"
     ]
    }
   ],
   "source": [
    "#HCF:\n",
    "a= int(input(\"first: \"))\n",
    "b= int(input(\"second: \"))\n",
    "HCF = 1\n",
    "\n",
    "if(a<b):\n",
    "    min = a\n",
    "else:\n",
    "    min = b\n",
    "    \n",
    "for i in range(1,min+1):\n",
    "    if a%i==0 and b%i==0:\n",
    "        if HCF<i:\n",
    "            HCF = i\n",
    "print(HCF)"
   ]
  },
  {
   "cell_type": "code",
   "execution_count": 1,
   "id": "48bd9a5c",
   "metadata": {},
   "outputs": [
    {
     "name": "stdout",
     "output_type": "stream",
     "text": [
      "first: 10\n",
      "second: 200\n",
      "The HFC is :  10\n"
     ]
    }
   ],
   "source": [
    "#HCF\n",
    "a= int(input(\"first: \"))\n",
    "b= int(input(\"second: \"))\n",
    "\n",
    "def hcf(a,b):\n",
    "    while a!=0 and b!=0:\n",
    "        if a>b:\n",
    "            a = a%b\n",
    "        else:\n",
    "            b= b%a\n",
    "    return a+b\n",
    "print(\"The HFC is : \", hcf(a,b))"
   ]
  },
  {
   "cell_type": "code",
   "execution_count": 2,
   "id": "d910f36c",
   "metadata": {},
   "outputs": [
    {
     "name": "stdout",
     "output_type": "stream",
     "text": [
      "first: 12\n",
      "second: 15\n",
      "The LCM is :  60.0\n"
     ]
    }
   ],
   "source": [
    "#LCM\n",
    "a= int(input(\"first: \"))\n",
    "b= int(input(\"second: \"))\n",
    "\n",
    "def lcm(a,b):\n",
    "    lcm_val = (a*b) / hcf(a,b)\n",
    "    return lcm_val\n",
    "print(\"The LCM is : \", lcm(a,b))"
   ]
  },
  {
   "cell_type": "code",
   "execution_count": 9,
   "id": "cc6a61dc",
   "metadata": {},
   "outputs": [
    {
     "name": "stdout",
     "output_type": "stream",
     "text": [
      "Find Square root for : 225\n",
      "15\n"
     ]
    }
   ],
   "source": [
    "# square root without math function\n",
    "a = int(input(\"Find Square root for : \"))\n",
    "val = 1\n",
    "while(val ** 2 < a):\n",
    "    val = val + 1\n",
    "print(val)"
   ]
  },
  {
   "cell_type": "code",
   "execution_count": 52,
   "id": "c243d162",
   "metadata": {},
   "outputs": [
    {
     "name": "stdout",
     "output_type": "stream",
     "text": [
      "Find Square root for : 100\n",
      "10\n"
     ]
    }
   ],
   "source": [
    "# square root without math function\n",
    "a = int(input(\"Find Square root for : \"))\n",
    "for i in range(1,a//2):\n",
    "    if (i)**2 == a:\n",
    "        print(i)\n",
    "        "
   ]
  },
  {
   "cell_type": "code",
   "execution_count": 76,
   "id": "05193467",
   "metadata": {},
   "outputs": [
    {
     "name": "stdout",
     "output_type": "stream",
     "text": [
      "1\n",
      "153\n",
      "370\n",
      "371\n",
      "407\n"
     ]
    }
   ],
   "source": [
    "# armstrong number\n",
    "def isarmstrong(n):\n",
    "    copy = n\n",
    "    sum = 0\n",
    "    while n>0:\n",
    "        sum += (n%10)**3\n",
    "        n = n//10\n",
    "    return sum == copy\n",
    "\n",
    "def findarmstrong(from_val,to_val):\n",
    "    for i in range(from_val,to_val):\n",
    "        if isarmstrong(i):\n",
    "            print(i)\n",
    "findarmstrong(1,1000)"
   ]
  },
  {
   "cell_type": "markdown",
   "id": "833b0c45",
   "metadata": {},
   "source": [
    "#### lambda function"
   ]
  },
  {
   "cell_type": "code",
   "execution_count": 77,
   "id": "5e990a2a",
   "metadata": {},
   "outputs": [
    {
     "data": {
      "text/plain": [
       "4"
      ]
     },
     "execution_count": 77,
     "metadata": {},
     "output_type": "execute_result"
    }
   ],
   "source": [
    "double = lambda x:x*2\n",
    "double(2)"
   ]
  },
  {
   "cell_type": "code",
   "execution_count": 78,
   "id": "dd9d06ed",
   "metadata": {},
   "outputs": [
    {
     "data": {
      "text/plain": [
       "100"
      ]
     },
     "execution_count": 78,
     "metadata": {},
     "output_type": "execute_result"
    }
   ],
   "source": [
    "square = lambda x:x*x\n",
    "square(10)"
   ]
  },
  {
   "cell_type": "code",
   "execution_count": 82,
   "id": "57aec8f9",
   "metadata": {},
   "outputs": [
    {
     "data": {
      "text/plain": [
       "50"
      ]
     },
     "execution_count": 82,
     "metadata": {},
     "output_type": "execute_result"
    }
   ],
   "source": [
    "multiply = lambda x,y:x*y\n",
    "multiply(5,10)\n"
   ]
  },
  {
   "cell_type": "code",
   "execution_count": 81,
   "id": "1b71e0a1",
   "metadata": {},
   "outputs": [
    {
     "data": {
      "text/plain": [
       "100"
      ]
     },
     "execution_count": 81,
     "metadata": {},
     "output_type": "execute_result"
    }
   ],
   "source": [
    "multiply(2,multiply(5,10))"
   ]
  },
  {
   "cell_type": "code",
   "execution_count": 108,
   "id": "241daa25",
   "metadata": {},
   "outputs": [
    {
     "name": "stdout",
     "output_type": "stream",
     "text": [
      "Input Number : 10\n",
      "1010\n"
     ]
    }
   ],
   "source": [
    "# decimal to binary\n",
    "a = int(input(\"Input Number : \"))\n",
    "binary = 0\n",
    "position = 1\n",
    "while a>0:\n",
    "    remainer = a%2\n",
    "    binary = binary + remainer*position\n",
    "    #print(binary)\n",
    "    a = a//2\n",
    "    position *= 10\n",
    "print(binary)"
   ]
  },
  {
   "cell_type": "code",
   "execution_count": 6,
   "id": "f2cd2e2e",
   "metadata": {},
   "outputs": [
    {
     "name": "stdout",
     "output_type": "stream",
     "text": [
      "Number: 5\n",
      "1\n",
      "2\n",
      "3\n",
      "4\n",
      "5\n",
      "The 2nd highest score is : 4\n"
     ]
    }
   ],
   "source": [
    "n = int(input(\"Number: \"))\n",
    "arr = []\n",
    "for i in range(n):\n",
    "    arr.append(int(input()))\n",
    "max = 0\n",
    "max_2 = 0\n",
    "for i in range(n):\n",
    "    if max < arr[i]:\n",
    "        max_2 = max \n",
    "        max = arr[i]\n",
    "    elif max_2 < arr[i] < max:\n",
    "        max_2 = arr[i]\n",
    "print(\"The 2nd highest score is : {}\".format(max_2))"
   ]
  },
  {
   "cell_type": "code",
   "execution_count": 27,
   "id": "eff9cb34",
   "metadata": {},
   "outputs": [],
   "source": [
    "import random\n",
    "import operator"
   ]
  },
  {
   "cell_type": "code",
   "execution_count": 98,
   "id": "612789c8",
   "metadata": {},
   "outputs": [
    {
     "name": "stdout",
     "output_type": "stream",
     "text": [
      "THE WORD IS ON THE TOPIC OF Colors \n",
      "['_', '_', '_', '_']\n",
      "Give a guess: b\n",
      "['b', '_', '_', '_']\n",
      "Give a guess: l\n",
      "['b', 'l', '_', '_']\n",
      "Give a guess: u\n",
      "['b', 'l', 'u', '_']\n",
      "Give a guess: e\n",
      "['b', 'l', 'u', 'e']\n",
      "Correct Guess\n"
     ]
    }
   ],
   "source": [
    "#Hangman\n",
    "topics_dictionary = {\n",
    "    \"Animals\": [\"dog\", \"cat\", \"elephant\", \"bird\", \"tiger\"],\n",
    "    \"Fruits\": [\"apple\", \"banana\", \"orange\", \"grape\", \"kiwi\"],\n",
    "    \"Colors\": [\"red\", \"blue\", \"green\", \"yellow\", \"purple\"],\n",
    "    \"Countries\": [\"USA\", \"Japan\", \"India\", \"Brazil\", \"Australia\"],\n",
    "    \"Programming Languages\": [\"Python\", \"Java\", \"JavaScript\", \"C++\", \"Ruby\"]\n",
    "}\n",
    "\n",
    "\n",
    "random_topic = random.choice(list(topics_dictionary.keys()))\n",
    "random_word = random.choice(topics_dictionary[random_topic])\n",
    "\n",
    "combined_string = ''\n",
    "\n",
    "guess = [\"_\"] * len(random_word)\n",
    "tries = 0\n",
    "print(\"THE WORD IS ON THE TOPIC OF {} \".format(random_topic))\n",
    "while random_word != combined_string and tries<6:\n",
    "    print(guess)\n",
    "    char = input(\"Give a guess: \")\n",
    "    indices = [index for index, letter in enumerate(random_word) if letter == char]\n",
    "    #print(indices)\n",
    "    if len(indices) == 0:\n",
    "        tries +=1 \n",
    "    for i in range(len(indices)):\n",
    "        guess[indices[i]] = char\n",
    "    combined_string = ''.join(guess)\n",
    "if tries == 6:\n",
    "    print(\"Failed, The correct guess is {}\".format(random_word))\n",
    "else:\n",
    "    print(guess)\n",
    "    print(\"Correct Guess\")"
   ]
  },
  {
   "cell_type": "code",
   "execution_count": 117,
   "id": "8456fb15",
   "metadata": {},
   "outputs": [
    {
     "name": "stdout",
     "output_type": "stream",
     "text": [
      "Enter your secret message : abcdef\n",
      "Enter your key : 5\n",
      "Your Secret code is : fghijk\n"
     ]
    }
   ],
   "source": [
    "def encode(msg):\n",
    "    secret = \"\"\n",
    "    arr = []\n",
    "    key = int(input(\"Enter your key : \"))\n",
    "    for i in msg:\n",
    "        arr.append(chr(ord(i)+key))\n",
    "        secret = \"\".join(arr)\n",
    "    print(\"Your Secret code is : {}\".format(secret))\n",
    "msg = input(\"Enter your secret message : \")\n",
    "encode(msg)"
   ]
  },
  {
   "cell_type": "code",
   "execution_count": 119,
   "id": "8250cfaf",
   "metadata": {},
   "outputs": [
    {
     "name": "stdout",
     "output_type": "stream",
     "text": [
      "Enter your secret message : fghijk\n",
      "Enter your key : 5\n",
      "Your Secret code is : abcdef\n"
     ]
    }
   ],
   "source": [
    "def decode(msg):\n",
    "    message = \"\"\n",
    "    arr = []\n",
    "    key = int(input(\"Enter your key : \"))\n",
    "    for i in msg:\n",
    "        arr.append(chr(ord(i)-key))\n",
    "        message = \"\".join(arr)\n",
    "    print(\"Your Secret code is : {}\".format(message))\n",
    "msg = input(\"Enter your secret message : \")\n",
    "decode(msg)"
   ]
  },
  {
   "cell_type": "code",
   "execution_count": null,
   "id": "4dfdd820",
   "metadata": {},
   "outputs": [],
   "source": []
  }
 ],
 "metadata": {
  "kernelspec": {
   "display_name": "Python 3 (ipykernel)",
   "language": "python",
   "name": "python3"
  },
  "language_info": {
   "codemirror_mode": {
    "name": "ipython",
    "version": 3
   },
   "file_extension": ".py",
   "mimetype": "text/x-python",
   "name": "python",
   "nbconvert_exporter": "python",
   "pygments_lexer": "ipython3",
   "version": "3.11.5"
  }
 },
 "nbformat": 4,
 "nbformat_minor": 5
}
