{
 "cells": [
  {
   "cell_type": "code",
   "execution_count": 18,
   "id": "e1aa2a20",
   "metadata": {},
   "outputs": [],
   "source": [
    "import numpy as np"
   ]
  },
  {
   "cell_type": "code",
   "execution_count": null,
   "id": "cab61e90",
   "metadata": {},
   "outputs": [],
   "source": [
    "n = int(input(\"nummber: \"))\n",
    "temp = 1\n",
    "for i in range(n,0,-1):\n",
    "    temp *= i\n",
    "print(temp)"
   ]
  },
  {
   "cell_type": "code",
   "execution_count": 1,
   "id": "335ebf47",
   "metadata": {},
   "outputs": [
    {
     "name": "stdout",
     "output_type": "stream",
     "text": [
      "i\n"
     ]
    }
   ],
   "source": [
    "print(\"i\")"
   ]
  },
  {
   "cell_type": "code",
   "execution_count": 1,
   "id": "a4d8db6f",
   "metadata": {},
   "outputs": [
    {
     "name": "stdout",
     "output_type": "stream",
     "text": [
      "Input the first command end\n",
      "your command is : end\n",
      "Next Command qwe\n",
      "your command is : qwe\n",
      "Next Command quit\n",
      "quit game\n"
     ]
    }
   ],
   "source": [
    "cmd = input(\"Input the first command \")\n",
    "while cmd != 'quit' and cmd != 'exit':\n",
    "    print(\"your command is :\", cmd)\n",
    "    cmd = input(\"Next Command \")\n",
    "print(\"quit game\")"
   ]
  },
  {
   "cell_type": "code",
   "execution_count": 16,
   "id": "fcfdcbe1",
   "metadata": {},
   "outputs": [
    {
     "name": "stdout",
     "output_type": "stream",
     "text": [
      "Number: 5\n",
      "\n",
      "X\n",
      "XX\n",
      "XXX\n",
      "XXXX\n",
      "XXXXX"
     ]
    }
   ],
   "source": [
    "n = int(input(\"Number: \"))\n",
    "for i in range(1,n+1):\n",
    "    print(end=\"\\n\")\n",
    "    for j in range(i):\n",
    "        print(\"X\", end=\"\")\n",
    "\n",
    "        \n",
    "   "
   ]
  },
  {
   "cell_type": "code",
   "execution_count": 15,
   "id": "c7cf3c6a",
   "metadata": {},
   "outputs": [
    {
     "name": "stdout",
     "output_type": "stream",
     "text": [
      "1\n",
      "2\n"
     ]
    }
   ],
   "source": [
    "print(1)\n",
    "print(2)"
   ]
  },
  {
   "cell_type": "code",
   "execution_count": 52,
   "id": "07169d8e",
   "metadata": {},
   "outputs": [
    {
     "name": "stdout",
     "output_type": "stream",
     "text": [
      "    X\n",
      "   XXX\n",
      "  XXXXX\n",
      " XXXXXXX\n",
      "XXXXXXXXX\n"
     ]
    }
   ],
   "source": [
    "n = 5\n",
    "star = 1\n",
    "space = 4\n",
    "for i in range(1,n+1):\n",
    "    print(\" \"*space + \"X\"*star)\n",
    "    space-=1\n",
    "    star+=2\n",
    "    \n",
    "    "
   ]
  },
  {
   "cell_type": "markdown",
   "id": "9dca5de3",
   "metadata": {},
   "source": [
    "n = 10\n",
    "def isprime(n):\n",
    "    for i in range(1,n+1):\n",
    "        count = 0\n",
    "         for j in range(1,i+1):\n",
    "             if(j%i != 0):\n",
    "                 count += 1\n",
    "        if count > 2:\n",
    "        print(i)\n",
    "isprime(10)"
   ]
  },
  {
   "cell_type": "code",
   "execution_count": 38,
   "id": "58da7444",
   "metadata": {},
   "outputs": [
    {
     "name": "stdout",
     "output_type": "stream",
     "text": [
      "1\n",
      "2\n",
      "3\n",
      "5\n",
      "7\n"
     ]
    }
   ],
   "source": [
    "num = 10\n",
    "\n",
    "def isprime(n):\n",
    "    for i in range(1, n + 1):\n",
    "        count = 0\n",
    "        for j in range(1, int(i**0.5) + 1):\n",
    "            if i % j == 0:\n",
    "                count += 1\n",
    "        if count < 2:\n",
    "            print(i)\n",
    "\n",
    "isprime(num)\n"
   ]
  },
  {
   "cell_type": "code",
   "execution_count": 2,
   "id": "faa7f3ab",
   "metadata": {},
   "outputs": [
    {
     "name": "stdout",
     "output_type": "stream",
     "text": [
      "Number: 5\n",
      "10\n",
      "20\n",
      "30\n",
      "40\n",
      "50\n",
      "max is  50\n",
      "2nd max is  40\n"
     ]
    }
   ],
   "source": [
    "n = int(input(\"Number: \"))\n",
    "arr = []\n",
    "for i in range(n):\n",
    "    arr.append(int(input()))\n",
    "max = 1\n",
    "max_2 = 1\n",
    "for i in range(n):\n",
    "    if max < arr[i]:\n",
    "        max = arr[i]\n",
    "print(\"max is \", max)\n",
    "\n",
    "for i in range(n):\n",
    "    if max_2 < arr[i] and arr[i] < max:\n",
    "        max_2 = arr[i]\n",
    "print(\"2nd max is \", max_2)"
   ]
  },
  {
   "cell_type": "markdown",
   "id": "6e1e214c",
   "metadata": {},
   "source": [
    "import maths"
   ]
  },
  {
   "cell_type": "code",
   "execution_count": 7,
   "id": "fbc3a393",
   "metadata": {},
   "outputs": [],
   "source": [
    "import math"
   ]
  },
  {
   "cell_type": "code",
   "execution_count": 75,
   "id": "3478e9d1",
   "metadata": {},
   "outputs": [
    {
     "name": "stdout",
     "output_type": "stream",
     "text": [
      "4321\n"
     ]
    }
   ],
   "source": [
    "#reverse \n",
    "n = 1234\n",
    "s = 0\n",
    "while(n>0):\n",
    "    #print(n)\n",
    "    t = (n%10)\n",
    "    #print(t)\n",
    "    s = s*10 + t\n",
    "    #print(s)\n",
    "    n = n//10\n",
    "print(s)"
   ]
  },
  {
   "cell_type": "code",
   "execution_count": 94,
   "id": "395a6335",
   "metadata": {},
   "outputs": [
    {
     "name": "stdout",
     "output_type": "stream",
     "text": [
      "0\n",
      "1\n",
      "1\n",
      "2\n",
      "3\n",
      "5\n",
      "8\n",
      "13\n",
      "21\n",
      "34\n"
     ]
    }
   ],
   "source": [
    "#fibonacci\n",
    "n = 10\n",
    "f = 0\n",
    "s = 1\n",
    "print(f)\n",
    "print(s)\n",
    "\n",
    "for i in range(2, n):\n",
    "    nextT = f + s\n",
    "    print(nextT)\n",
    "    f = s\n",
    "    s = nextT\n",
    "    \n"
   ]
  },
  {
   "cell_type": "code",
   "execution_count": 1,
   "id": "0caf0cb9",
   "metadata": {},
   "outputs": [],
   "source": [
    "def area(x,y):\n",
    "    return x*y\n"
   ]
  },
  {
   "cell_type": "code",
   "execution_count": 4,
   "id": "297feab2",
   "metadata": {},
   "outputs": [],
   "source": [
    "def checkenoughspace(a,b,c):\n",
    "    if c > a+b:\n",
    "        return \"enough space\"\n",
    "    else:\n",
    "        return \"not enough space\""
   ]
  },
  {
   "cell_type": "code",
   "execution_count": 7,
   "id": "163ef6f2",
   "metadata": {},
   "outputs": [
    {
     "name": "stdout",
     "output_type": "stream",
     "text": [
      "not enough space\n"
     ]
    }
   ],
   "source": [
    "print(checkenoughspace(area(5,2), area(10,5), area(10,5)))"
   ]
  },
  {
   "cell_type": "code",
   "execution_count": 4,
   "id": "cd9f63b6",
   "metadata": {},
   "outputs": [
    {
     "name": "stdout",
     "output_type": "stream",
     "text": [
      "first: 120\n",
      "second: 12\n",
      "12\n"
     ]
    }
   ],
   "source": [
    "#HCF:\n",
    "a= int(input(\"first: \"))\n",
    "b= int(input(\"second: \"))\n",
    "HCF = 1\n",
    "\n",
    "if(a<b):\n",
    "    min = a\n",
    "else:\n",
    "    min = b\n",
    "    \n",
    "for i in range(1,min+1):\n",
    "    if a%i==0 and b%i==0:\n",
    "        if HCF<i:\n",
    "            HCF = i\n",
    "print(HCF)"
   ]
  },
  {
   "cell_type": "code",
   "execution_count": 1,
   "id": "48bd9a5c",
   "metadata": {},
   "outputs": [
    {
     "name": "stdout",
     "output_type": "stream",
     "text": [
      "first: 10\n",
      "second: 200\n",
      "The HFC is :  10\n"
     ]
    }
   ],
   "source": [
    "#HCF\n",
    "a= int(input(\"first: \"))\n",
    "b= int(input(\"second: \"))\n",
    "\n",
    "def hcf(a,b):\n",
    "    while a!=0 and b!=0:\n",
    "        if a>b:\n",
    "            a = a%b\n",
    "        else:\n",
    "            b= b%a\n",
    "    return a+b\n",
    "print(\"The HFC is : \", hcf(a,b))"
   ]
  },
  {
   "cell_type": "code",
   "execution_count": 2,
   "id": "d910f36c",
   "metadata": {},
   "outputs": [
    {
     "name": "stdout",
     "output_type": "stream",
     "text": [
      "first: 12\n",
      "second: 15\n",
      "The LCM is :  60.0\n"
     ]
    }
   ],
   "source": [
    "#LCM\n",
    "a= int(input(\"first: \"))\n",
    "b= int(input(\"second: \"))\n",
    "\n",
    "def lcm(a,b):\n",
    "    lcm_val = (a*b) / hcf(a,b)\n",
    "    return lcm_val\n",
    "print(\"The LCM is : \", lcm(a,b))"
   ]
  },
  {
   "cell_type": "code",
   "execution_count": 9,
   "id": "cc6a61dc",
   "metadata": {},
   "outputs": [
    {
     "name": "stdout",
     "output_type": "stream",
     "text": [
      "Find Square root for : 225\n",
      "15\n"
     ]
    }
   ],
   "source": [
    "# square root without math function\n",
    "a = int(input(\"Find Square root for : \"))\n",
    "val = 1\n",
    "while(val ** 2 < a):\n",
    "    val = val + 1\n",
    "print(val)"
   ]
  },
  {
   "cell_type": "code",
   "execution_count": 52,
   "id": "c243d162",
   "metadata": {},
   "outputs": [
    {
     "name": "stdout",
     "output_type": "stream",
     "text": [
      "Find Square root for : 100\n",
      "10\n"
     ]
    }
   ],
   "source": [
    "# square root without math function\n",
    "a = int(input(\"Find Square root for : \"))\n",
    "for i in range(1,a//2):\n",
    "    if (i)**2 == a:\n",
    "        print(i)\n",
    "        "
   ]
  },
  {
   "cell_type": "code",
   "execution_count": 76,
   "id": "05193467",
   "metadata": {},
   "outputs": [
    {
     "name": "stdout",
     "output_type": "stream",
     "text": [
      "1\n",
      "153\n",
      "370\n",
      "371\n",
      "407\n"
     ]
    }
   ],
   "source": [
    "# armstrong number\n",
    "def isarmstrong(n):\n",
    "    copy = n\n",
    "    sum = 0\n",
    "    while n>0:\n",
    "        sum += (n%10)**3\n",
    "        n = n//10\n",
    "    return sum == copy\n",
    "\n",
    "def findarmstrong(from_val,to_val):\n",
    "    for i in range(from_val,to_val):\n",
    "        if isarmstrong(i):\n",
    "            print(i)\n",
    "findarmstrong(1,1000)"
   ]
  },
  {
   "cell_type": "markdown",
   "id": "833b0c45",
   "metadata": {},
   "source": [
    "#### lambda function"
   ]
  },
  {
   "cell_type": "code",
   "execution_count": 77,
   "id": "5e990a2a",
   "metadata": {},
   "outputs": [
    {
     "data": {
      "text/plain": [
       "4"
      ]
     },
     "execution_count": 77,
     "metadata": {},
     "output_type": "execute_result"
    }
   ],
   "source": [
    "double = lambda x:x*2\n",
    "double(2)"
   ]
  },
  {
   "cell_type": "code",
   "execution_count": 78,
   "id": "dd9d06ed",
   "metadata": {},
   "outputs": [
    {
     "data": {
      "text/plain": [
       "100"
      ]
     },
     "execution_count": 78,
     "metadata": {},
     "output_type": "execute_result"
    }
   ],
   "source": [
    "square = lambda x:x*x\n",
    "square(10)"
   ]
  },
  {
   "cell_type": "code",
   "execution_count": 82,
   "id": "57aec8f9",
   "metadata": {},
   "outputs": [
    {
     "data": {
      "text/plain": [
       "50"
      ]
     },
     "execution_count": 82,
     "metadata": {},
     "output_type": "execute_result"
    }
   ],
   "source": [
    "multiply = lambda x,y:x*y\n",
    "multiply(5,10)\n"
   ]
  },
  {
   "cell_type": "code",
   "execution_count": 81,
   "id": "1b71e0a1",
   "metadata": {},
   "outputs": [
    {
     "data": {
      "text/plain": [
       "100"
      ]
     },
     "execution_count": 81,
     "metadata": {},
     "output_type": "execute_result"
    }
   ],
   "source": [
    "multiply(2,multiply(5,10))"
   ]
  },
  {
   "cell_type": "code",
   "execution_count": 108,
   "id": "241daa25",
   "metadata": {},
   "outputs": [
    {
     "name": "stdout",
     "output_type": "stream",
     "text": [
      "Input Number : 10\n",
      "1010\n"
     ]
    }
   ],
   "source": [
    "# decimal to binary\n",
    "a = int(input(\"Input Number : \"))\n",
    "binary = 0\n",
    "position = 1\n",
    "while a>0:\n",
    "    remainer = a%2\n",
    "    binary = binary + remainer*position\n",
    "    #print(binary)\n",
    "    a = a//2\n",
    "    position *= 10\n",
    "print(binary)"
   ]
  },
  {
   "cell_type": "code",
   "execution_count": 6,
   "id": "f2cd2e2e",
   "metadata": {},
   "outputs": [
    {
     "name": "stdout",
     "output_type": "stream",
     "text": [
      "Number: 5\n",
      "1\n",
      "2\n",
      "3\n",
      "4\n",
      "5\n",
      "The 2nd highest score is : 4\n"
     ]
    }
   ],
   "source": [
    "n = int(input(\"Number: \"))\n",
    "arr = []\n",
    "for i in range(n):\n",
    "    arr.append(int(input()))\n",
    "max = 0\n",
    "max_2 = 0\n",
    "for i in range(n):\n",
    "    if max < arr[i]:\n",
    "        max_2 = max \n",
    "        max = arr[i]\n",
    "    elif max_2 < arr[i] < max:\n",
    "        max_2 = arr[i]\n",
    "print(\"The 2nd highest score is : {}\".format(max_2))"
   ]
  },
  {
   "cell_type": "code",
   "execution_count": 27,
   "id": "eff9cb34",
   "metadata": {},
   "outputs": [],
   "source": [
    "import random\n",
    "import operator"
   ]
  },
  {
   "cell_type": "code",
   "execution_count": 98,
   "id": "612789c8",
   "metadata": {},
   "outputs": [
    {
     "name": "stdout",
     "output_type": "stream",
     "text": [
      "THE WORD IS ON THE TOPIC OF Colors \n",
      "['_', '_', '_', '_']\n",
      "Give a guess: b\n",
      "['b', '_', '_', '_']\n",
      "Give a guess: l\n",
      "['b', 'l', '_', '_']\n",
      "Give a guess: u\n",
      "['b', 'l', 'u', '_']\n",
      "Give a guess: e\n",
      "['b', 'l', 'u', 'e']\n",
      "Correct Guess\n"
     ]
    }
   ],
   "source": [
    "#Hangman\n",
    "topics_dictionary = {\n",
    "    \"Animals\": [\"dog\", \"cat\", \"elephant\", \"bird\", \"tiger\"],\n",
    "    \"Fruits\": [\"apple\", \"banana\", \"orange\", \"grape\", \"kiwi\"],\n",
    "    \"Colors\": [\"red\", \"blue\", \"green\", \"yellow\", \"purple\"],\n",
    "    \"Countries\": [\"USA\", \"Japan\", \"India\", \"Brazil\", \"Australia\"],\n",
    "    \"Programming Languages\": [\"Python\", \"Java\", \"JavaScript\", \"C++\", \"Ruby\"]\n",
    "}\n",
    "\n",
    "\n",
    "random_topic = random.choice(list(topics_dictionary.keys()))\n",
    "random_word = random.choice(topics_dictionary[random_topic])\n",
    "\n",
    "combined_string = ''\n",
    "\n",
    "guess = [\"_\"] * len(random_word)\n",
    "tries = 0\n",
    "print(\"THE WORD IS ON THE TOPIC OF {} \".format(random_topic))\n",
    "while random_word != combined_string and tries<6:\n",
    "    print(guess)\n",
    "    char = input(\"Give a guess: \")\n",
    "    indices = [index for index, letter in enumerate(random_word) if letter == char]\n",
    "    #print(indices)\n",
    "    if len(indices) == 0:\n",
    "        tries +=1 \n",
    "    for i in range(len(indices)):\n",
    "        guess[indices[i]] = char\n",
    "    combined_string = ''.join(guess)\n",
    "if tries == 6:\n",
    "    print(\"Failed, The correct guess is {}\".format(random_word))\n",
    "else:\n",
    "    print(guess)\n",
    "    print(\"Correct Guess\")"
   ]
  },
  {
   "cell_type": "code",
   "execution_count": 117,
   "id": "8456fb15",
   "metadata": {},
   "outputs": [
    {
     "name": "stdout",
     "output_type": "stream",
     "text": [
      "Enter your secret message : abcdef\n",
      "Enter your key : 5\n",
      "Your Secret code is : fghijk\n"
     ]
    }
   ],
   "source": [
    "def encode(msg):\n",
    "    secret = \"\"\n",
    "    arr = []\n",
    "    key = int(input(\"Enter your key : \"))\n",
    "    for i in msg:\n",
    "        arr.append(chr(ord(i)+key))\n",
    "        secret = \"\".join(arr)\n",
    "    print(\"Your Secret code is : {}\".format(secret))\n",
    "msg = input(\"Enter your secret message : \")\n",
    "encode(msg)"
   ]
  },
  {
   "cell_type": "code",
   "execution_count": 119,
   "id": "8250cfaf",
   "metadata": {},
   "outputs": [
    {
     "name": "stdout",
     "output_type": "stream",
     "text": [
      "Enter your secret message : fghijk\n",
      "Enter your key : 5\n",
      "Your Secret code is : abcdef\n"
     ]
    }
   ],
   "source": [
    "def decode(msg):\n",
    "    message = \"\"\n",
    "    arr = []\n",
    "    key = int(input(\"Enter your key : \"))\n",
    "    for i in msg:\n",
    "        arr.append(chr(ord(i)-key))\n",
    "        message = \"\".join(arr)\n",
    "    print(\"Your Secret code is : {}\".format(message))\n",
    "msg = input(\"Enter your secret message : \")\n",
    "decode(msg)"
   ]
  },
  {
   "cell_type": "code",
   "execution_count": 1,
   "id": "4dfdd820",
   "metadata": {},
   "outputs": [
    {
     "name": "stdout",
     "output_type": "stream",
     "text": [
      "{'Harry': 'Exceeds Expectations', 'Ron': 'Acceptable', 'Hermione': 'Outstanding', 'Draco': 'Acceptable', 'Neville': 'Fail'}\n"
     ]
    }
   ],
   "source": [
    "student_scores = {\n",
    "  \"Harry\": 81,\n",
    "  \"Ron\": 78,\n",
    "  \"Hermione\": 99, \n",
    "  \"Draco\": 74,\n",
    "  \"Neville\": 62,\n",
    "}\n",
    "# 🚨 Don't change the code above 👆\n",
    "# TODO-1: Create an empty dictionary called student_grades.\n",
    "student_grades = {}\n",
    "\n",
    "# TODO-2: Write your code below to add the grades to student_grades.👇\n",
    "for key in student_scores:\n",
    "  score = student_scores[key]\n",
    "  if score > 90 and score <=100:\n",
    "    student_grades[key] = \"Outstanding\"\n",
    "  if score > 80 and score <=90:\n",
    "    student_grades[key] = \"Exceeds Expectations\"\n",
    "  if score > 70 and score <=80:\n",
    "    student_grades[key] = \"Acceptable\"\n",
    "  if score <=70:\n",
    "    student_grades[key] = \"Fail\"\n",
    "\n",
    "# 🚨 Don't change the code below 👇\n",
    "print(student_grades)"
   ]
  },
  {
   "cell_type": "code",
   "execution_count": 3,
   "id": "1ea683a6",
   "metadata": {},
   "outputs": [
    {
     "name": "stdout",
     "output_type": "stream",
     "text": [
      "Brazil\n",
      "2\n",
      "[\"Sao Paulo\", \"Rio de Janeiro\"]\n",
      "I've been to Brazil 2 times.\n",
      "My favourite city was Sao Paulo.\n"
     ]
    }
   ],
   "source": [
    "country = input() # Add country name\n",
    "visits = int(input()) # Number of visits\n",
    "list_of_cities = eval(input()) # create list from formatted string\n",
    "\n",
    "travel_log = [\n",
    "  {\n",
    "    \"country\": \"France\",\n",
    "    \"visits\": 12,\n",
    "    \"cities\": [\"Paris\", \"Lille\", \"Dijon\"]\n",
    "  },\n",
    "  {\n",
    "    \"country\": \"Germany\",\n",
    "    \"visits\": 5,\n",
    "    \"cities\": [\"Berlin\", \"Hamburg\", \"Stuttgart\"]\n",
    "  },\n",
    "]\n",
    "# Do NOT change the code above 👆\n",
    "\n",
    "# TODO: Write the function that will allow new countries\n",
    "# to be added to the travel_log. \n",
    "def add_new_country(c,v,l):\n",
    "  new_country = {\"country\": c,\n",
    "                \"visits\": v,\n",
    "                \"cities\": l}\n",
    "  travel_log.append(new_country)\n",
    "  \n",
    "\n",
    "# Do not change the code below 👇\n",
    "add_new_country(country, visits, list_of_cities)\n",
    "print(f\"I've been to {travel_log[2]['country']} {travel_log[2]['visits']} times.\")\n",
    "print(f\"My favourite city was {travel_log[2]['cities'][0]}.\")"
   ]
  },
  {
   "cell_type": "code",
   "execution_count": 9,
   "id": "d4e60ce2",
   "metadata": {},
   "outputs": [
    {
     "name": "stdout",
     "output_type": "stream",
     "text": [
      "Enter your name: duke\n",
      "Enter your bid: 150\n",
      "Are there more bidders(Y/N): Y\n",
      "Enter your name: rocky\n",
      "Enter your bid: 100\n",
      "Are there more bidders(Y/N): Y\n",
      "Enter your name: sampa\n",
      "Enter your bid: 200\n",
      "Are there more bidders(Y/N): Y\n",
      "Enter your name: subhankar\n",
      "Enter your bid: 250\n",
      "Are there more bidders(Y/N): N\n",
      "THE MAX BID IS GIVEN BY subhankar WITH A BID OF 250\n"
     ]
    }
   ],
   "source": [
    "# blind auction\n",
    "def add_bid():\n",
    "    next_bid = \"Y\"\n",
    "    auction_list = {}\n",
    "    while next_bid == \"Y\":\n",
    "        name = input(\"Enter your name: \")\n",
    "        bid = int(input(\"Enter your bid: \"))\n",
    "        auction_list[name] = bid\n",
    "        next_bid = input(\"Are there more bidders(Y/N): \")\n",
    "    highest_bid(auction_list)\n",
    "def highest_bid(auction_list):\n",
    "    max = 0\n",
    "    for key in auction_list:\n",
    "        if max<auction_list[key]:\n",
    "            max = auction_list[key]\n",
    "            max_key = key\n",
    "    print(\"THE MAX BID IS GIVEN BY {} WITH A BID OF {}\".format(max_key,auction_list[max_key]))\n",
    "add_bid()        \n"
   ]
  },
  {
   "cell_type": "code",
   "execution_count": 16,
   "id": "8b63a09f",
   "metadata": {},
   "outputs": [
    {
     "name": "stdout",
     "output_type": "stream",
     "text": [
      "Enter the first number: 100\n",
      "+\n",
      "-\n",
      "*\n",
      "/\n",
      "Enter operation you want to perform: /\n",
      "Enter the second number: 24\n",
      "4.17\n"
     ]
    }
   ],
   "source": [
    "#calculator\n",
    "def addition(f):\n",
    "    s = int(input(\"Enter the second number: \"))\n",
    "    return f + s\n",
    "def subtract(f):\n",
    "    s = int(input(\"Enter the second number: \"))\n",
    "    return f - s\n",
    "def multiply(f):\n",
    "    s = int(input(\"Enter the second number: \"))\n",
    "    return f * s\n",
    "def division(f):\n",
    "    s = int(input(\"Enter the second number: \"))\n",
    "    return round(f/s ,2)\n",
    "a = int(input(\"Enter the first number: \"))\n",
    "print(\"+\\n-\\n*\\n/\")\n",
    "operation = input(\"Enter operation you want to perform: \")\n",
    "match operation:\n",
    "    case \"+\": print(addition(a))\n",
    "    case \"-\": print(subtract(a))\n",
    "    case \"*\": print(multiply(a))\n",
    "    case \"/\": print(division(a))"
   ]
  },
  {
   "cell_type": "code",
   "execution_count": 18,
   "id": "6ecd1125",
   "metadata": {},
   "outputs": [
    {
     "name": "stdout",
     "output_type": "stream",
     "text": [
      "Enter First number: 100\n",
      "Enter Operator(+,-,/,*): /\n",
      "Enter Second number: 24\n",
      "100 / 24 = 4.17\n"
     ]
    }
   ],
   "source": [
    "#calculator\n",
    "def calculation(f,o,s):\n",
    "    match o:\n",
    "        case \"+\": return(f+s)\n",
    "        case \"-\": return(f-s)\n",
    "        case \"*\": return(f*s)\n",
    "        case \"/\": return(round(f/s ,2))\n",
    "first = int(input(\"Enter First number: \"))\n",
    "operator = input(\"Enter Operator(+,-,/,*): \")\n",
    "second = int(input(\"Enter Second number: \"))\n",
    "result = calculation(f=first,o=operator,s=second)\n",
    "print(first,operator,second,\"=\",result)"
   ]
  },
  {
   "cell_type": "code",
   "execution_count": 25,
   "id": "7003edb7",
   "metadata": {},
   "outputs": [
    {
     "name": "stdout",
     "output_type": "stream",
     "text": [
      "Enter year: 1904\n",
      "lear year\n"
     ]
    }
   ],
   "source": [
    "#leap year\n",
    "year = int(input(\"Enter year: \"))\n",
    "def check_leap(year):\n",
    "    if year%4 == 0 and (year%100!= 0 or year%400==0):\n",
    "        return \"lear year\"\n",
    "    else:\n",
    "        return \"not a leap year\"\n",
    "print(check_leap(year))"
   ]
  },
  {
   "cell_type": "code",
   "execution_count": 29,
   "id": "fc523b00",
   "metadata": {},
   "outputs": [
    {
     "name": "stdout",
     "output_type": "stream",
     "text": [
      "2000\n",
      "2004\n",
      "2008\n",
      "2012\n",
      "2016\n",
      "2020\n",
      "2024\n"
     ]
    }
   ],
   "source": [
    "#leap year between years\n",
    "def check_leap(year):\n",
    "    if year%4 == 0 and (year%100!= 0 or year%400==0):\n",
    "        return 1\n",
    "def check_between_years(first_year,last_year):\n",
    "    for year in range(first_year,last_year+1):\n",
    "        if check_leap(year):\n",
    "            print(year)\n",
    "check_between_years(2000,2024)"
   ]
  },
  {
   "cell_type": "code",
   "execution_count": 30,
   "id": "2836999b",
   "metadata": {},
   "outputs": [
    {
     "name": "stdout",
     "output_type": "stream",
     "text": [
      "[1, 1, 4, 9, 25, 64, 169, 441, 1156, 3025]\n"
     ]
    }
   ],
   "source": [
    "numbers = [1, 1, 2, 3, 5, 8, 13, 21, 34, 55]\n",
    "# 🚨 Do Not Change the code above 👆\n",
    "# Write your 1 line code 👇 below:\n",
    "squared_numbers = [num*num for num in numbers]\n",
    "# Write your code 👆 above:\n",
    "print(squared_numbers)"
   ]
  },
  {
   "cell_type": "code",
   "execution_count": 32,
   "id": "ba4d8f76",
   "metadata": {},
   "outputs": [
    {
     "name": "stdout",
     "output_type": "stream",
     "text": [
      "1, 1, 2, 3, 5, 8, 13, 21, 34, 55\n",
      "[2, 8, 34]\n"
     ]
    }
   ],
   "source": [
    "#list comprehension\n",
    "list_of_strings = input().split(',')\n",
    "# 🚨 Do  not change the code above\n",
    "# TODO: Use list comprehension to convert the strings to integers 👇:\n",
    "result = [int(num) for num in list_of_strings if int(num)%2==0]\n",
    "# TODO: Use list comprehension to filter out the odd numbers\n",
    "# and store the even numbers in a list called \"result\"\n",
    "# Write your code 👆 above:\n",
    "print(result)"
   ]
  },
  {
   "cell_type": "code",
   "execution_count": 41,
   "id": "395c2eee",
   "metadata": {},
   "outputs": [
    {
     "name": "stdout",
     "output_type": "stream",
     "text": [
      "Enter string :abbaabba\n",
      "Is pallindrome\n"
     ]
    }
   ],
   "source": [
    "# Write a Python program that takes a string as input from the user and checks whether it is a palindrome or not. A palindrome is a word, phrase, or sequence of characters that reads the same backward as forward.\n",
    "str = input(\"Enter string :\")\n",
    "flag = False\n",
    "for i in range(len(str)):\n",
    "    if str[i] == str[len(str)-i-1]:\n",
    "        flag = True\n",
    "    else:\n",
    "        flag = False\n",
    "        break\n",
    "if flag == False:\n",
    "    print(\"Is not pallindrome\")\n",
    "else:\n",
    "    print(\"Is pallindrome\")"
   ]
  },
  {
   "cell_type": "code",
   "execution_count": 47,
   "id": "9014beae",
   "metadata": {},
   "outputs": [
    {
     "name": "stdout",
     "output_type": "stream",
     "text": [
      "Enter string :shankhanil ghosh\n",
      "Number of vowels is 4\n"
     ]
    }
   ],
   "source": [
    "#Vowel Counter\n",
    "vowels = 'aeiou'\n",
    "str = input(\"Enter string :\")\n",
    "count = sum(1 for char in str if char.lower() in vowels)\n",
    "print(\"Number of vowels is {}\".format(count))"
   ]
  },
  {
   "cell_type": "code",
   "execution_count": 50,
   "id": "d66c9c2b",
   "metadata": {},
   "outputs": [
    {
     "name": "stdout",
     "output_type": "stream",
     "text": [
      "Enter a list of numbers separated by spaces: 10 20 30 40 50\n",
      "Reversed list: [50, 40, 30, 20, 10]\n"
     ]
    }
   ],
   "source": [
    "# List Reversal\n",
    "input_str = input(\"Enter a list of numbers separated by spaces: \")\n",
    "\n",
    "numbers = [int(x) for x in input_str.split()]\n",
    "\n",
    "def reversed(n):\n",
    "    reverse = []\n",
    "    for i in range(len(n)-1,-1,-1):\n",
    "        reverse.append(n[i])\n",
    "    return reverse\n",
    "reversed_list = reversed(n=numbers)\n",
    "print(\"Reversed list:\", list(reversed_list))\n"
   ]
  },
  {
   "cell_type": "code",
   "execution_count": 55,
   "id": "b271b98b",
   "metadata": {},
   "outputs": [
    {
     "name": "stdout",
     "output_type": "stream",
     "text": [
      "Enter a list of numbers separated by spaces: 10 20 30 40 50\n",
      "Enter a list of numbers separated by spaces: 11 12 13 15 50 16 17\n",
      "50\n"
     ]
    }
   ],
   "source": [
    "#Common Elements\n",
    "input_str1 = input(\"Enter a list of numbers separated by spaces: \")\n",
    "input_str2 = input(\"Enter a list of numbers separated by spaces: \")\n",
    "\n",
    "array_str1 = [num for num in input_str1.split()]\n",
    "array_str2 = [num for num in input_str2.split()]\n",
    "\n",
    "for num1 in array_str1:\n",
    "    for num2 in array_str2:\n",
    "        if num1 == num2:\n",
    "            print(num1)\n",
    "            break"
   ]
  },
  {
   "cell_type": "code",
   "execution_count": 4,
   "id": "a6fa7d65",
   "metadata": {},
   "outputs": [
    {
     "name": "stdout",
     "output_type": "stream",
     "text": [
      "Enter sentence : hello world\n",
      "Enter the word you want to search : o\n",
      "2\n"
     ]
    }
   ],
   "source": [
    "# Word Frequency Counter\n",
    "input_str = input(\"Enter sentence : \")\n",
    "char = input(\"Enter the word you want to search : \")\n",
    "count = sum(1 for c in input_str if c == char)\n",
    "print(count)"
   ]
  },
  {
   "cell_type": "code",
   "execution_count": 13,
   "id": "d5eaa0bb",
   "metadata": {},
   "outputs": [
    {
     "name": "stdout",
     "output_type": "stream",
     "text": [
      "Enter first sentence: aadaa\n",
      "Enter second sentence: addaa\n",
      "The letter a is present 4 times in str1 and 3 in str2\n",
      "it is not anagram\n"
     ]
    }
   ],
   "source": [
    "# Anagram Checker\n",
    "input_str1 = input(\"Enter first sentence: \")\n",
    "input_str2 = input(\"Enter second sentence: \")\n",
    "def is_anagram(input_str1,input_str2):\n",
    "    for i in input_str1:\n",
    "        count1 = sum(1 for num in input_str1 if i == num)\n",
    "        count2 = sum(1 for num in input_str2 if i == num)\n",
    "        print(\"The letter {} is present {} times in str1 and {} in str2\".format(i,count1,count2))\n",
    "        if count1!=count2:\n",
    "            return False\n",
    "    return True\n",
    "        \n",
    "if is_anagram(input_str1,input_str2):   \n",
    "    print(\"it is anagram\")\n",
    "else:\n",
    "    print(\"it is not anagram\")\n",
    "    "
   ]
  },
  {
   "cell_type": "code",
   "execution_count": 17,
   "id": "82f659c8",
   "metadata": {},
   "outputs": [
    {
     "name": "stdout",
     "output_type": "stream",
     "text": [
      "[[ 7 10 12]\n",
      " [11 16 19]\n",
      " [19 28 33]]\n"
     ]
    }
   ],
   "source": [
    "# Matrix Multiplication\n",
    "import numpy as np\n",
    "array_1 = np.array([[1,2],[2,3],[4,5]])\n",
    "array_2 = np.array([[1,2,2],[3,4,5]])\n",
    "result = np.dot(array_1,array_2)\n",
    "print(result)"
   ]
  },
  {
   "cell_type": "code",
   "execution_count": 34,
   "id": "c81ea94b",
   "metadata": {},
   "outputs": [
    {
     "name": "stdout",
     "output_type": "stream",
     "text": [
      "{'\"': 2, 'a': 11, 's': 8, 'd': 9, 'w': 3, 'c': 1, 'b': 1, 'v': 1, 'n': 4, 'i': 1, 'u': 1, 'k': 4, 'l': 4, 'j': 1, '\\n': 1}\n"
     ]
    }
   ],
   "source": [
    "#File Word Counter\n",
    "filename = \"textfile.txt\"\n",
    "letters = {}\n",
    "with open(filename, 'r') as file\"\n",
    "    file_content = file.read()\n",
    "for char in file_content :\n",
    "    count = sum(1 for c in file_content if c==char)\n",
    "    #print(char)\n",
    "    #print(count)\n",
    "    if char not in letters:\n",
    "            letters[char] = count\n",
    "print(letters)"
   ]
  },
  {
   "cell_type": "code",
   "execution_count": 37,
   "id": "3a355541",
   "metadata": {},
   "outputs": [
    {
     "name": "stdout",
     "output_type": "stream",
     "text": [
      "{'The': 2, 'quick': 2, 'brown': 2, 'fox': 2, 'jumps': 1, 'over': 1, 'the': 2, 'lazy': 2, 'dog': 2, 'however': 1, 'ignores': 1, 'and': 1, 'takes': 1, 'a': 1, 'nap': 1}\n"
     ]
    }
   ],
   "source": [
    "# Unique Words Counter\n",
    "filename = \"textfile.txt\"\n",
    "result = {}\n",
    "with open(filename, 'r') as file:\n",
    "    file_content = file.read()\n",
    "data = file_content.split()\n",
    "for word in data:\n",
    "    count = sum(1 for c in data if c == word)\n",
    "    if word not in result:\n",
    "        result[word] = count\n",
    "print(result)"
   ]
  },
  {
   "cell_type": "code",
   "execution_count": null,
   "id": "a738c3d5",
   "metadata": {},
   "outputs": [],
   "source": [
    "#calculator\n",
    "def calculation(f,o,s):\n",
    "    match o:\n",
    "        case \"+\": return(f+s)\n",
    "        case \"-\": return(f-s)\n",
    "        case \"*\": return(f*s)\n",
    "        case \"/\": return(round(f/s ,2))\n",
    "first = int(input(\"Enter First number: \"))\n",
    "operator = input(\"Enter Operator(+,-,/,*): \")\n",
    "second = int(input(\"Enter Second number: \"))\n",
    "result = calculation(f=first,o=operator,s=second)\n",
    "print(first,operator,second,\"=\",result)"
   ]
  },
  {
   "cell_type": "code",
   "execution_count": 7,
   "id": "bf0a441d",
   "metadata": {},
   "outputs": [
    {
     "name": "stdout",
     "output_type": "stream",
     "text": [
      "Enter First number: 10\n",
      "Enter Operator(+,-,/,*): /\n",
      "Enter Second number: 2\n",
      "5.0\n"
     ]
    }
   ],
   "source": [
    "def add(a,b):\n",
    "    return a+b\n",
    "def sub(a,b):\n",
    "    return a-b\n",
    "def mul(a,b):\n",
    "    return a*b\n",
    "def div(a,b):\n",
    "    return a/b\n",
    "\n",
    "operations ={\"+\":add,\"-\":sub,\"*\":mul,\"/\":div}\n",
    "a = int(input(\"Enter First number: \"))\n",
    "operator = input(\"Enter Operator(+,-,/,*): \")\n",
    "b = int(input(\"Enter Second number: \"))\n",
    "func = operations[operator] \n",
    "print(func(a,b))"
   ]
  },
  {
   "cell_type": "code",
   "execution_count": 8,
   "id": "b4281db9",
   "metadata": {},
   "outputs": [],
   "source": [
    "import random"
   ]
  },
  {
   "cell_type": "code",
   "execution_count": 43,
   "id": "66da9202",
   "metadata": {},
   "outputs": [
    {
     "name": "stdout",
     "output_type": "stream",
     "text": [
      "STARTING GAME ----------------- FIRST CARD SERVED\n",
      "Dealer has :  6 X \n",
      "Player has : [8]\n",
      "Player total: 8\n",
      "------------------------------------------------------------------------------------------\n",
      "Do you want to hit for another card (Y/N): Y\n",
      "------------------------------------------------------------------------------------------\n",
      "Dealer has :  6 X \n",
      "Player has : [8, 3]\n",
      "Player total: 11\n",
      "------------------------------------------------------------------------------------------\n",
      "Do you want to hit for another card (Y/N): Y\n",
      "------------------------------------------------------------------------------------------\n",
      "Dealer has :  6 X \n",
      "Player has : [8, 3, 10]\n",
      "Player total: 21\n",
      "------------------------------------------------------------------------------------------\n",
      "Do you want to hit for another card (Y/N): N\n",
      "------------------------------------------------------------------------------------------\n",
      "Dealer cards [6, 10]\n",
      "Your cards [8, 3, 10]\n",
      "Your score = 21  Dealer score = 16\n",
      "You WIN!!!!!\n"
     ]
    }
   ],
   "source": [
    "#Blackjack\n",
    "cards = [11,2,3,4,5,6,7,8,9,10,10,10,10]\n",
    "player_total = 0\n",
    "player_cards = []\n",
    "dealer_total = 0\n",
    "dealer_cards = []\n",
    "def dealer_hit():\n",
    "    global dealer_total\n",
    "    hit = random.choice(cards)\n",
    "    dealer_total += hit\n",
    "    dealer_cards.append(hit)\n",
    "def player_hit():\n",
    "    global player_total\n",
    "    hit = random.choice(cards)\n",
    "    player_total += hit\n",
    "    player_cards.append(hit)\n",
    "dealer_hit()\n",
    "dealer_hit()\n",
    "ask_hit = \"Y\"\n",
    "print(\"STARTING GAME ----------------- FIRST CARD SERVED\")\n",
    "while ask_hit == \"Y\":\n",
    "    player_hit()\n",
    "    print(\"Dealer has : \",dealer_cards[0] , \"X \"*(len(dealer_cards)-1))\n",
    "    print(\"Player has :\",player_cards)\n",
    "    print(\"Player total:\",player_total)\n",
    "    while dealer_total < 16:\n",
    "        dealer_hit()\n",
    "    print(\"------------------------------------------------------------------------------------------\")\n",
    "    if player_total > 21:\n",
    "        break\n",
    "    ask_hit = input(\"Do you want to hit for another card (Y/N): \")\n",
    "    print(\"------------------------------------------------------------------------------------------\")\n",
    "\n",
    "print(\"Dealer cards\",dealer_cards)  \n",
    "print(\"Your cards\",player_cards)    \n",
    "print(\"Your score = {}  Dealer score = {}\".format(player_total,dealer_total))\n",
    "\n",
    "if player_total > 21 and dealer_total > 21:\n",
    "    print(\"Both Bust!!!!! DRAW\")\n",
    "elif player_total == dealer_total:\n",
    "    print(\"DRAWWWWWWWW\")\n",
    "elif player_total > 21:\n",
    "    print(\"You Bust!!!!! Dealer wins\")\n",
    "elif dealer_total > 21:\n",
    "    print(\"You Win!!!!! Dealer Bust\")\n",
    "elif player_total>dealer_total:\n",
    "    print(\"You WIN!!!!!\")\n",
    "elif player_total<dealer_total:\n",
    "    print(\"You Looose!!!!!\")\n",
    "\n"
   ]
  },
  {
   "cell_type": "code",
   "execution_count": 44,
   "id": "7adb5dcd",
   "metadata": {},
   "outputs": [],
   "source": [
    "import random"
   ]
  },
  {
   "cell_type": "code",
   "execution_count": 65,
   "id": "f83928fb",
   "metadata": {},
   "outputs": [
    {
     "name": "stdout",
     "output_type": "stream",
     "text": [
      "I am thinking of a number between 1 and 100\n",
      "Enter the difficulty you want to play this game. Easy or Hard? Hard\n",
      "You have 5 tries left\n",
      "Enter your guess: 50\n",
      "Hot\n",
      "You have 4 tries left\n",
      "Enter your guess: 45\n",
      "Correct\n",
      "The number is  45\n"
     ]
    }
   ],
   "source": [
    "#guessing game:\n",
    "print(\"I am thinking of a number between 1 and 100\")\n",
    "think = random.randint(1,100)\n",
    "diff = input(\"Enter the difficulty you want to play this game. Easy or Hard? \")\n",
    "if diff == \"Easy\": \n",
    "    tries = 10 \n",
    "elif diff == \"Hard\": \n",
    "    tries = 5\n",
    "while tries > 0:\n",
    "    print(\"You have {} tries left\".format(tries))\n",
    "    guess = int(input(\"Enter your guess: \"))\n",
    "    if abs(guess - think) == 1:\n",
    "        print(\"Red Hot\")\n",
    "        tries -= 1\n",
    "    elif abs(guess - think) > 1 and abs(guess - think) <=5:\n",
    "        print(\"Hot\")\n",
    "        tries -= 1\n",
    "    elif abs(guess - think) >5 and abs(guess - think) <=10:\n",
    "        print(\"Warmer\")\n",
    "        tries -= 1\n",
    "    elif abs(guess - think) >10 and abs(guess - think) <=15:\n",
    "        print(\"Warm\")\n",
    "        tries -= 1\n",
    "    elif abs(guess - think) >15:\n",
    "        print(\"Cold\")\n",
    "        tries -= 1\n",
    "    elif abs(guess - think) == 0:\n",
    "        print(\"Correct\")\n",
    "        break\n",
    "print(\"The number is \",format(think))"
   ]
  },
  {
   "cell_type": "code",
   "execution_count": 94,
   "id": "04b98375",
   "metadata": {},
   "outputs": [
    {
     "name": "stdout",
     "output_type": "stream",
     "text": [
      "Kim Kardashian's networth is 780000000 : is Tom Cruise's networth higher/lower : lower\n",
      "CORRECT\n",
      "Cristiano Ronaldo's networth is 500000000 : is Tom Cruise's networth higher/lower : lower\n",
      "INCORRECT\n",
      "Your final score is : 1\n"
     ]
    }
   ],
   "source": [
    "# guess higher or lower\n",
    "celebrity_net_worth = {\n",
    "    \"Jeff Bezos\": 177000000000,  # 177 billion USD\n",
    "    \"Elon Musk\": 199000000000,  # 199 billion USD\n",
    "    \"Bill Gates\": 150000000000,  # 150 billion USD\n",
    "    \"Warren Buffett\": 101000000000,  # 101 billion USD\n",
    "    \"Mark Zuckerberg\": 98000000000,  # 98 billio|n USD\n",
    "    \"Oprah Winfrey\": 3500000000,  # 3.5 billion USD\n",
    "    \"Kylie Jenner\": 900000000,  # 900 million USD\n",
    "    \"Dwayne 'The Rock' Johnson\": 410000000,  # 400 million USD\n",
    "    \"Taylor Swift\": 400000000,  # 400 million USD\n",
    "    \"LeBron James\": 500000000,  # 500 million USD\n",
    "    \"Donald Trump\": 2400000000,  # 2.4 billion USD\n",
    "    \"Jay-Z\": 1200000000,  # 1 billion USD\n",
    "    \"Beyoncé\": 530000000,  # 500 million USD\n",
    "    \"Kim Kardashian\": 780000000,  # 780 million USD\n",
    "    \"Cristiano Ronaldo\": 500000000,  # 500 million USD\n",
    "    \"Lionel Messi\": 420000000,  # 400 million USD\n",
    "    \"Ellen DeGeneres\": 556000000,  # 500 million USD\n",
    "    \"Tom Cruise\": 570000000,  # 570 million USD\n",
    "    \"George Clooney\": 570000000,  # 500 million USD\n",
    "    \"J.K. Rowling\": 180000000,\n",
    "}\n",
    "\n",
    "player_score = 0\n",
    "flag = True\n",
    "while flag == True:\n",
    "    celebrity_net_worth_array = [i for i in celebrity_net_worth]\n",
    "    celeb_question = random.choice(celebrity_net_worth_array)\n",
    "    player_answer_demo = random.choice(celebrity_net_worth_array)\n",
    "    if player_answer_demo != celeb_question:\n",
    "        player_answer = player_answer_demo\n",
    "    player_guess = input(f\"{celeb_question}'s networth is {celebrity_net_worth[celeb_question]} : is {player_answer}'s networth higher/lower : \")\n",
    "    if celebrity_net_worth[celeb_question] > celebrity_net_worth[player_answer] and player_guess == \"lower\":\n",
    "        player_score += 1\n",
    "        print(\"CORRECT\")\n",
    "        flag = True\n",
    "    elif celebrity_net_worth[celeb_question] < celebrity_net_worth[player_answer] and player_guess == \"higher\":\n",
    "        player_score += 1\n",
    "        print(\"CORRECT\")\n",
    "        flag = True\n",
    "    elif celebrity_net_worth[celeb_question] > celebrity_net_worth[player_answer] and player_guess == \"higher\":\n",
    "        print(\"INCORRECT\")\n",
    "        flag = False\n",
    "    elif celebrity_net_worth[celeb_question] < celebrity_net_worth[player_answer] and player_guess == \"lower\":\n",
    "        print(\"INCORRECT\")\n",
    "        flag = False\n",
    "print(\"Your final score is :\",player_score)"
   ]
  },
  {
   "cell_type": "code",
   "execution_count": 2,
   "id": "2ac19773",
   "metadata": {},
   "outputs": [
    {
     "data": {
      "text/plain": [
       "[{'name': 'Instagram',\n",
       "  'follower_count': 346,\n",
       "  'description': 'Social media platform',\n",
       "  'country': 'United States'},\n",
       " {'name': 'Cristiano Ronaldo',\n",
       "  'follower_count': 215,\n",
       "  'description': 'Footballer',\n",
       "  'country': 'Portugal'},\n",
       " {'name': 'Ariana Grande',\n",
       "  'follower_count': 183,\n",
       "  'description': 'Musician and actress',\n",
       "  'country': 'United States'},\n",
       " {'name': 'Dwayne Johnson',\n",
       "  'follower_count': 181,\n",
       "  'description': 'Actor and professional wrestler',\n",
       "  'country': 'United States'},\n",
       " {'name': 'Selena Gomez',\n",
       "  'follower_count': 174,\n",
       "  'description': 'Musician and actress',\n",
       "  'country': 'United States'},\n",
       " {'name': 'Kylie Jenner',\n",
       "  'follower_count': 172,\n",
       "  'description': 'Reality TV personality and businesswoman and Self-Made Billionaire',\n",
       "  'country': 'United States'},\n",
       " {'name': 'Kim Kardashian',\n",
       "  'follower_count': 167,\n",
       "  'description': 'Reality TV personality and businesswoman',\n",
       "  'country': 'United States'},\n",
       " {'name': 'Lionel Messi',\n",
       "  'follower_count': 149,\n",
       "  'description': 'Footballer',\n",
       "  'country': 'Argentina'},\n",
       " {'name': 'Beyoncé',\n",
       "  'follower_count': 145,\n",
       "  'description': 'Musician',\n",
       "  'country': 'United States'},\n",
       " {'name': 'Neymar',\n",
       "  'follower_count': 138,\n",
       "  'description': 'Footballer',\n",
       "  'country': 'Brasil'},\n",
       " {'name': 'National Geographic',\n",
       "  'follower_count': 135,\n",
       "  'description': 'Magazine',\n",
       "  'country': 'United States'},\n",
       " {'name': 'Justin Bieber',\n",
       "  'follower_count': 133,\n",
       "  'description': 'Musician',\n",
       "  'country': 'Canada'},\n",
       " {'name': 'Taylor Swift',\n",
       "  'follower_count': 131,\n",
       "  'description': 'Musician',\n",
       "  'country': 'United States'},\n",
       " {'name': 'Kendall Jenner',\n",
       "  'follower_count': 127,\n",
       "  'description': 'Reality TV personality and Model',\n",
       "  'country': 'United States'},\n",
       " {'name': 'Jennifer Lopez',\n",
       "  'follower_count': 119,\n",
       "  'description': 'Musician and actress',\n",
       "  'country': 'United States'},\n",
       " {'name': 'Nicki Minaj',\n",
       "  'follower_count': 113,\n",
       "  'description': 'Musician',\n",
       "  'country': 'Trinidad and Tobago'},\n",
       " {'name': 'Nike',\n",
       "  'follower_count': 109,\n",
       "  'description': 'Sportswear multinational',\n",
       "  'country': 'United States'},\n",
       " {'name': 'Khloé Kardashian',\n",
       "  'follower_count': 108,\n",
       "  'description': 'Reality TV personality and businesswoman',\n",
       "  'country': 'United States'},\n",
       " {'name': 'Miley Cyrus',\n",
       "  'follower_count': 107,\n",
       "  'description': 'Musician and actress',\n",
       "  'country': 'United States'},\n",
       " {'name': 'Katy Perry',\n",
       "  'follower_count': 94,\n",
       "  'description': 'Musician',\n",
       "  'country': 'United States'},\n",
       " {'name': 'Kourtney Kardashian',\n",
       "  'follower_count': 90,\n",
       "  'description': 'Reality TV personality',\n",
       "  'country': 'United States'},\n",
       " {'name': 'Kevin Hart',\n",
       "  'follower_count': 89,\n",
       "  'description': 'Comedian and actor',\n",
       "  'country': 'United States'},\n",
       " {'name': 'Ellen DeGeneres',\n",
       "  'follower_count': 87,\n",
       "  'description': 'Comedian',\n",
       "  'country': 'United States'},\n",
       " {'name': 'Real Madrid CF',\n",
       "  'follower_count': 86,\n",
       "  'description': 'Football club',\n",
       "  'country': 'Spain'},\n",
       " {'name': 'FC Barcelona',\n",
       "  'follower_count': 85,\n",
       "  'description': 'Football club',\n",
       "  'country': 'Spain'},\n",
       " {'name': 'Rihanna',\n",
       "  'follower_count': 81,\n",
       "  'description': 'Musician and businesswoman',\n",
       "  'country': 'Barbados'},\n",
       " {'name': 'Demi Lovato',\n",
       "  'follower_count': 80,\n",
       "  'description': 'Musician and actress',\n",
       "  'country': 'United States'},\n",
       " {'name': \"Victoria's Secret\",\n",
       "  'follower_count': 69,\n",
       "  'description': 'Lingerie brand',\n",
       "  'country': 'United States'},\n",
       " {'name': 'Zendaya',\n",
       "  'follower_count': 68,\n",
       "  'description': 'Actress and musician',\n",
       "  'country': 'United States'},\n",
       " {'name': 'Shakira',\n",
       "  'follower_count': 66,\n",
       "  'description': 'Musician',\n",
       "  'country': 'Colombia'},\n",
       " {'name': 'Drake',\n",
       "  'follower_count': 65,\n",
       "  'description': 'Musician',\n",
       "  'country': 'Canada'},\n",
       " {'name': 'Chris Brown',\n",
       "  'follower_count': 64,\n",
       "  'description': 'Musician',\n",
       "  'country': 'United States'},\n",
       " {'name': 'LeBron James',\n",
       "  'follower_count': 63,\n",
       "  'description': 'Basketball player',\n",
       "  'country': 'United States'},\n",
       " {'name': 'Vin Diesel',\n",
       "  'follower_count': 62,\n",
       "  'description': 'Actor',\n",
       "  'country': 'United States'},\n",
       " {'name': 'Cardi B',\n",
       "  'follower_count': 67,\n",
       "  'description': 'Musician',\n",
       "  'country': 'United States'},\n",
       " {'name': 'David Beckham',\n",
       "  'follower_count': 82,\n",
       "  'description': 'Footballer',\n",
       "  'country': 'United Kingdom'},\n",
       " {'name': 'Billie Eilish',\n",
       "  'follower_count': 61,\n",
       "  'description': 'Musician',\n",
       "  'country': 'United States'},\n",
       " {'name': 'Justin Timberlake',\n",
       "  'follower_count': 59,\n",
       "  'description': 'Musician and actor',\n",
       "  'country': 'United States'},\n",
       " {'name': 'UEFA Champions League',\n",
       "  'follower_count': 58,\n",
       "  'description': 'Club football competition',\n",
       "  'country': 'Europe'},\n",
       " {'name': 'NASA',\n",
       "  'follower_count': 56,\n",
       "  'description': 'Space agency',\n",
       "  'country': 'United States'},\n",
       " {'name': 'Emma Watson',\n",
       "  'follower_count': 56,\n",
       "  'description': 'Actress',\n",
       "  'country': 'United Kingdom'},\n",
       " {'name': 'Shawn Mendes',\n",
       "  'follower_count': 57,\n",
       "  'description': 'Musician',\n",
       "  'country': 'Canada'},\n",
       " {'name': 'Virat Kohli',\n",
       "  'follower_count': 55,\n",
       "  'description': 'Cricketer',\n",
       "  'country': 'India'},\n",
       " {'name': 'Gigi Hadid',\n",
       "  'follower_count': 54,\n",
       "  'description': 'Model',\n",
       "  'country': 'United States'},\n",
       " {'name': 'Priyanka Chopra Jonas',\n",
       "  'follower_count': 53,\n",
       "  'description': 'Actress and musician',\n",
       "  'country': 'India'},\n",
       " {'name': '9GAG',\n",
       "  'follower_count': 52,\n",
       "  'description': 'Social media platform',\n",
       "  'country': 'China'},\n",
       " {'name': 'Ronaldinho',\n",
       "  'follower_count': 51,\n",
       "  'description': 'Footballer',\n",
       "  'country': 'Brasil'},\n",
       " {'name': 'Maluma',\n",
       "  'follower_count': 50,\n",
       "  'description': 'Musician',\n",
       "  'country': 'Colombia'},\n",
       " {'name': 'Camila Cabello',\n",
       "  'follower_count': 49,\n",
       "  'description': 'Musician',\n",
       "  'country': 'Cuba'},\n",
       " {'name': 'NBA',\n",
       "  'follower_count': 47,\n",
       "  'description': 'Club Basketball Competition',\n",
       "  'country': 'United States'}]"
      ]
     },
     "execution_count": 2,
     "metadata": {},
     "output_type": "execute_result"
    }
   ],
   "source": [
    "data = read."
   ]
  },
  {
   "cell_type": "code",
   "execution_count": null,
   "id": "be78d039",
   "metadata": {},
   "outputs": [],
   "source": []
  }
 ],
 "metadata": {
  "kernelspec": {
   "display_name": "Python 3 (ipykernel)",
   "language": "python",
   "name": "python3"
  },
  "language_info": {
   "codemirror_mode": {
    "name": "ipython",
    "version": 3
   },
   "file_extension": ".py",
   "mimetype": "text/x-python",
   "name": "python",
   "nbconvert_exporter": "python",
   "pygments_lexer": "ipython3",
   "version": "3.11.5"
  }
 },
 "nbformat": 4,
 "nbformat_minor": 5
}
