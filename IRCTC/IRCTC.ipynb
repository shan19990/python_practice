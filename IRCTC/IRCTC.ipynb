{
 "cells": [
  {
   "cell_type": "code",
   "execution_count": 15,
   "id": "9a168cc4",
   "metadata": {},
   "outputs": [],
   "source": [
    "import json\n",
    "import pandas as pd"
   ]
  },
  {
   "cell_type": "code",
   "execution_count": 10,
   "id": "d78f3ae7",
   "metadata": {},
   "outputs": [],
   "source": [
    "train = \"trains.json\"\n",
    "with open(train, 'r') as file:\n",
    "    data_train = json.load(file)"
   ]
  },
  {
   "cell_type": "code",
   "execution_count": 11,
   "id": "d969e84c",
   "metadata": {},
   "outputs": [
    {
     "data": {
      "text/plain": [
       "{'Train No': {'': \"'00851'\"},\n",
       " 'train Name': 'BNC SUVIDHA SPL',\n",
       " 'islno': 1,\n",
       " 'station Code': 'BBS',\n",
       " 'Station Name': 'BHUBANESWAR',\n",
       " 'Arrival time': \"'00:00:00'\",\n",
       " 'Departure time': \"'22:50:00'\",\n",
       " 'Distance': 0,\n",
       " 'Source Station Code': 'BBS',\n",
       " 'source Station Name': 'BHUBANESWAR',\n",
       " 'Destination station Code': 'BNC',\n",
       " 'Destination Station Name': 'BANGALORE CANT'}"
      ]
     },
     "execution_count": 11,
     "metadata": {},
     "output_type": "execute_result"
    }
   ],
   "source": [
    "data_train[0]"
   ]
  },
  {
   "cell_type": "code",
   "execution_count": 12,
   "id": "076f3194",
   "metadata": {},
   "outputs": [],
   "source": [
    "station = \"station_list.json\"\n",
    "with open(station, 'r') as file:\n",
    "    data_station = json.load(file)"
   ]
  },
  {
   "cell_type": "code",
   "execution_count": 13,
   "id": "b354480b",
   "metadata": {},
   "outputs": [
    {
     "data": {
      "text/plain": [
       "{'station': 'Abada',\n",
       " 'station_code': 'ABB',\n",
       " 'state': 'West Bengal',\n",
       " 'railway_zone': 'SER'}"
      ]
     },
     "execution_count": 13,
     "metadata": {},
     "output_type": "execute_result"
    }
   ],
   "source": [
    "data_station[0]"
   ]
  },
  {
   "cell_type": "code",
   "execution_count": 26,
   "id": "e0954b5d",
   "metadata": {},
   "outputs": [
    {
     "name": "stdout",
     "output_type": "stream",
     "text": [
      "Enter station: bbs\n",
      "Destination station: bnc\n"
     ]
    },
    {
     "data": {
      "text/html": [
       "<div>\n",
       "<style scoped>\n",
       "    .dataframe tbody tr th:only-of-type {\n",
       "        vertical-align: middle;\n",
       "    }\n",
       "\n",
       "    .dataframe tbody tr th {\n",
       "        vertical-align: top;\n",
       "    }\n",
       "\n",
       "    .dataframe thead th {\n",
       "        text-align: right;\n",
       "    }\n",
       "</style>\n",
       "<table border=\"1\" class=\"dataframe\">\n",
       "  <thead>\n",
       "    <tr style=\"text-align: right;\">\n",
       "      <th></th>\n",
       "      <th>Train No,</th>\n",
       "      <th>Train Name</th>\n",
       "      <th>Source Station</th>\n",
       "      <th>Departure Time</th>\n",
       "      <th>Destination Station</th>\n",
       "      <th>Arrival Time</th>\n",
       "    </tr>\n",
       "  </thead>\n",
       "  <tbody>\n",
       "    <tr>\n",
       "      <th>0</th>\n",
       "      <td>'00851'</td>\n",
       "      <td>BNC SUVIDHA SPL</td>\n",
       "      <td>BHUBANESWAR</td>\n",
       "      <td>'00:00:00'</td>\n",
       "      <td>BANGALORE CANT</td>\n",
       "      <td>'22:50:00'</td>\n",
       "    </tr>\n",
       "    <tr>\n",
       "      <th>1</th>\n",
       "      <td>'02510'</td>\n",
       "      <td>KYQ BNC SUVIDHA</td>\n",
       "      <td>BHUBANESWAR</td>\n",
       "      <td>'19:10:00'</td>\n",
       "      <td>BANGALORE CANT</td>\n",
       "      <td>'19:15:00'</td>\n",
       "    </tr>\n",
       "  </tbody>\n",
       "</table>\n",
       "</div>"
      ],
      "text/plain": [
       "  Train No,       Train Name Source Station Departure Time  \\\n",
       "0   '00851'  BNC SUVIDHA SPL    BHUBANESWAR     '00:00:00'   \n",
       "1   '02510'  KYQ BNC SUVIDHA    BHUBANESWAR     '19:10:00'   \n",
       "\n",
       "  Destination Station Arrival Time  \n",
       "0      BANGALORE CANT   '22:50:00'  \n",
       "1      BANGALORE CANT   '19:15:00'  "
      ]
     },
     "execution_count": 26,
     "metadata": {},
     "output_type": "execute_result"
    }
   ],
   "source": [
    "from_station = input(\"Enter station: \").upper()\n",
    "to_station = input(\"Destination station: \").upper()\n",
    "train_list = []\n",
    "train = []\n",
    "for data in data_train:\n",
    "    train_no = data['Train No']['']\n",
    "    train_name = data['train Name']\n",
    "    \n",
    "    Source_Station_Code = data['station Code']\n",
    "    Destination_Station_Code = data['Destination station Code']\n",
    "    \n",
    "    Arrival_station_name = data['Station Name']\n",
    "    Destination_station_name = data['Destination Station Name']\n",
    "    \n",
    "    Arrival_time = data['Arrival time']\n",
    "    Destination_station_time = data['Departure time']\n",
    "    train = [train_no,train_name,Arrival_station_name,Arrival_time,Destination_station_name,Destination_station_time]\n",
    "    if from_station == Source_Station_Code and to_station == Destination_Station_Code:\n",
    "        train_list.append(train)\n",
    "    train = []\n",
    "df = pd.DataFrame(train_list,columns=['Train No,','Train Name','Source Station','Departure Time','Destination Station','Arrival Time'])\n",
    "df"
   ]
  },
  {
   "cell_type": "code",
   "execution_count": null,
   "id": "af9f572d",
   "metadata": {},
   "outputs": [],
   "source": []
  }
 ],
 "metadata": {
  "kernelspec": {
   "display_name": "Python 3 (ipykernel)",
   "language": "python",
   "name": "python3"
  },
  "language_info": {
   "codemirror_mode": {
    "name": "ipython",
    "version": 3
   },
   "file_extension": ".py",
   "mimetype": "text/x-python",
   "name": "python",
   "nbconvert_exporter": "python",
   "pygments_lexer": "ipython3",
   "version": "3.11.5"
  }
 },
 "nbformat": 4,
 "nbformat_minor": 5
}
